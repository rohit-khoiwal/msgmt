{
  "cells": [
    {
      "cell_type": "code",
      "source": [
        "from google.colab import drive\n",
        "drive.mount('/content/drive')"
      ],
      "metadata": {
        "id": "ZS39YrCcAjGD",
        "outputId": "0f880f51-e0c7-47bd-9bd5-2815c8781749",
        "colab": {
          "base_uri": "https://localhost:8080/"
        }
      },
      "id": "ZS39YrCcAjGD",
      "execution_count": 1,
      "outputs": [
        {
          "output_type": "stream",
          "name": "stdout",
          "text": [
            "Drive already mounted at /content/drive; to attempt to forcibly remount, call drive.mount(\"/content/drive\", force_remount=True).\n"
          ]
        }
      ]
    },
    {
      "cell_type": "code",
      "source": [
        "%cd /content/drive/MyDrive/Github/"
      ],
      "metadata": {
        "id": "uwcI-TsBAh_I",
        "outputId": "4f9149f9-78cc-46d4-d74b-51bddcc22ea3",
        "colab": {
          "base_uri": "https://localhost:8080/"
        }
      },
      "id": "uwcI-TsBAh_I",
      "execution_count": 2,
      "outputs": [
        {
          "output_type": "stream",
          "name": "stdout",
          "text": [
            "/content/drive/MyDrive/Github\n"
          ]
        }
      ]
    },
    {
      "cell_type": "code",
      "source": [
        "!git pull https://github.com/rohit-khoiwal-30/msgmt.git"
      ],
      "metadata": {
        "id": "Jbsk8f1DBIY_",
        "outputId": "c6637836-00c6-4070-d6db-17b4b6deea9a",
        "colab": {
          "base_uri": "https://localhost:8080/"
        }
      },
      "id": "Jbsk8f1DBIY_",
      "execution_count": 3,
      "outputs": [
        {
          "output_type": "stream",
          "name": "stdout",
          "text": [
            "From https://github.com/rohit-khoiwal-30/msgmt\n",
            " * branch            HEAD       -> FETCH_HEAD\n",
            "Already up to date.\n"
          ]
        }
      ]
    },
    {
      "cell_type": "code",
      "execution_count": 4,
      "id": "31f1d5b5",
      "metadata": {
        "id": "31f1d5b5"
      },
      "outputs": [],
      "source": [
        "import pandas as pd"
      ]
    },
    {
      "cell_type": "code",
      "execution_count": 5,
      "id": "a32b3efc",
      "metadata": {
        "id": "a32b3efc"
      },
      "outputs": [],
      "source": [
        "df = pd.read_csv(\"augment_train.csv\")\n",
        "df_test = pd.read_csv(\"evaluation.csv\")"
      ]
    },
    {
      "cell_type": "code",
      "execution_count": 6,
      "id": "60970f05",
      "metadata": {
        "id": "60970f05"
      },
      "outputs": [],
      "source": [
        "import tensorflow as tf\n",
        "import tensorflow.keras.backend as K\n",
        "import tensorflow.keras.layers as tfl\n",
        "from tensorflow.keras.models import Model\n",
        "from tensorflow.keras.callbacks import ModelCheckpoint\n",
        "from tensorflow.keras import Input\n",
        "from tensorflow.keras.regularizers import l2\n",
        "\n",
        "try:\n",
        "    import tensorflow_hub as hub\n",
        "except ModuleNotFoundError:\n",
        "    %pip install tensorflow_hub\n",
        "    import tensorflow_hub as hub\n",
        "\n",
        "try:\n",
        "    import tensorflow_text as text\n",
        "except ModuleNotFoundError:\n",
        "    %pip install -q -U \"tensorflow-text==2.8.*\"\n",
        "    %pip install -q tf-models-official==2.7.0\n",
        "    import tensorflow_text as text\n",
        "\n",
        "try:\n",
        "    from keras_self_attention import SeqSelfAttention\n",
        "except ModuleNotFoundError:\n",
        "    %pip install keras-self-attention\n",
        "    from keras_self_attention import SeqSelfAttention\n",
        "\n",
        "import numpy as np\n",
        "import math as m"
      ]
    },
    {
      "cell_type": "code",
      "execution_count": 8,
      "id": "39e6d422",
      "metadata": {
        "id": "39e6d422"
      },
      "outputs": [],
      "source": [
        "tfhub_handle_preprocess = \"https://tfhub.dev/tensorflow/bert_en_uncased_preprocess/3\"\n",
        "tfhub_handle_encoder = \"https://tfhub.dev/tensorflow/small_bert/bert_en_uncased_L-8_H-256_A-4/2\""
      ]
    },
    {
      "cell_type": "code",
      "execution_count": 47,
      "id": "722fb270",
      "metadata": {
        "id": "722fb270"
      },
      "outputs": [],
      "source": [
        "def gen_random_batch(in_groups, batch_halfsize = 8):\n",
        "    text_batch, reason_batch, y_hat = [], [], []\n",
        "    all_groups = list(range(in_groups[0].shape[0]))\n",
        "    for match_group in [True, False]:\n",
        "        group_idx = np.random.choice(all_groups, size = batch_halfsize)\n",
        "        text_batch += [in_groups[0][c_idx] for c_idx in group_idx]\n",
        "        if match_group:\n",
        "            b_group_idx = group_idx\n",
        "            y_hat += [1]*batch_halfsize\n",
        "        else:\n",
        "            # anything but the same group\n",
        "            non_group_idx = [np.random.choice([i for i in all_groups if i!=c_idx]) for c_idx in group_idx] \n",
        "            b_group_idx = non_group_idx\n",
        "            y_hat += [0]*batch_halfsize\n",
        "            \n",
        "        reason_batch += [in_groups[1][c_idx] for c_idx in b_group_idx]\n",
        "            \n",
        "    return np.stack(text_batch, 0), np.stack(reason_batch, 0), np.stack(y_hat, 0)\n",
        "\n",
        "def siam_gen(in_groups, batch_size = 32):\n",
        "    while True:\n",
        "        text_stack, reason_stack, y_hatstack = gen_random_batch(in_groups, batch_size//2)\n",
        "        yield [preprocessing_layer(text_stack), preprocessing_layer(reason_stack)], y_hatstack"
      ]
    },
    {
      "cell_type": "code",
      "execution_count": 10,
      "id": "90747622",
      "metadata": {
        "id": "90747622"
      },
      "outputs": [],
      "source": [
        "def accuracy(y_true, y_pred):\n",
        "    results = (y_pred >= 0.5).astype(int).squeeze()\n",
        "    return np.mean([y_true == results])"
      ]
    },
    {
      "cell_type": "code",
      "execution_count": 99,
      "id": "8010b51c",
      "metadata": {
        "id": "8010b51c"
      },
      "outputs": [],
      "source": [
        "preprocessing_layer = hub.KerasLayer(tfhub_handle_preprocess, name='preprocessing')\n",
        "def encoder1(name):\n",
        "    input_word_ids = tf.keras.layers.Input(shape=(128,), dtype=tf.int32, name=\"input_word_ids1\")\n",
        "    input_mask = tf.keras.layers.Input(shape=(128, ), dtype=tf.int32, name=\"input_mask1\")\n",
        "    input_type_ids = tf.keras.layers.Input(shape=(128, ), dtype=tf.int32, name=\"input_type_ids1\")\n",
        "\n",
        "    bert_layer = hub.KerasLayer(tfhub_handle_encoder, trainable=True, name=name)\n",
        "\n",
        "    outputs = bert_layer({'input_word_ids': input_word_ids, 'input_mask': input_mask, 'input_type_ids': input_type_ids})\n",
        "    net = outputs['pooled_output']\n",
        "    a = tfl.Dropout(0.3)(net)\n",
        "    a = tfl.Dense(128, activation=\"linear\", kernel_regularizer=l2(1e-3))(a)\n",
        "    a = tfl.BatchNormalization()(a)\n",
        "    a = tfl.Activation('relu')(a)\n",
        "    a = tfl.Dense(64, activation=\"linear\", kernel_regularizer=l2(1e-3))(a)\n",
        "    a = tfl.BatchNormalization()(a)\n",
        "    a = tfl.Activation('relu')(a)\n",
        "    a = tfl.Dense(32, activation=\"linear\", kernel_regularizer=l2(1e-3))(a)\n",
        "    a = tfl.BatchNormalization()(a)\n",
        "    outputs = tfl.Activation('relu')(a)\n",
        "    \n",
        "    model = Model(inputs={'input_word_ids': input_word_ids,\n",
        "                          'input_mask': input_mask,\n",
        "                          'input_type_ids': input_type_ids}, \n",
        "                outputs=outputs)\n",
        "    return model\n",
        "\n",
        "def encoder2(name):\n",
        "    input_word_ids = tf.keras.layers.Input(shape=(128, ), dtype=tf.int32, name=\"input_word_ids2\")\n",
        "    input_mask = tf.keras.layers.Input(shape=(128, ), dtype=tf.int32, name=\"input_mask2\")\n",
        "    input_type_ids = tf.keras.layers.Input(shape=(128, ), dtype=tf.int32, name=\"input_type_ids2\")\n",
        "\n",
        "    bert_layer = hub.KerasLayer(tfhub_handle_encoder, trainable=True, name=name)\n",
        "\n",
        "    outputs = bert_layer({'input_word_ids': input_word_ids, 'input_mask': input_mask, 'input_type_ids': input_type_ids})\n",
        "    net = outputs[\"pooled_output\"]\n",
        "    a = tfl.Dropout(0.3)(net)\n",
        "    a = tfl.Dense(64, activation=\"linear\", kernel_regularizer=l2(1e-3))(a)\n",
        "    a = tfl.BatchNormalization()(a)\n",
        "    a = tfl.Activation('relu')(a)\n",
        "    a = tfl.Dense(32, activation=\"linear\", kernel_regularizer=l2(1e-3))(a)\n",
        "    a = tfl.BatchNormalization()(a)\n",
        "    outputs = tfl.Activation('relu')(a)\n",
        "    \n",
        "    model = Model(inputs={'input_word_ids': input_word_ids,\n",
        "                          'input_mask': input_mask,\n",
        "                          'input_type_ids': input_type_ids}, \n",
        "                outputs=outputs)\n",
        "    return model"
      ]
    },
    {
      "cell_type": "code",
      "execution_count": 102,
      "id": "05b1e776",
      "metadata": {
        "id": "05b1e776"
      },
      "outputs": [],
      "source": [
        "def get_model():\n",
        "    #textEncoder\n",
        "    input_word_ids1 = tf.keras.layers.Input(shape=(128,), dtype=tf.int32, name=\"input_word_ids1\")\n",
        "    input_mask1 = tf.keras.layers.Input(shape=(128, ), dtype=tf.int32, name=\"input_mask1\")\n",
        "    input_type_ids1 = tf.keras.layers.Input(shape=(128, ), dtype=tf.int32, name=\"input_type_ids1\")\n",
        "    inputText = {'input_word_ids': input_word_ids1, 'input_mask': input_mask1, 'input_type_ids': input_type_ids1}\n",
        "    text_embedd = encoder1(\"textBertEncoder\")(inputText)\n",
        "\n",
        "    #reasonEncoder\n",
        "    input_word_ids2 = tf.keras.layers.Input(shape=(128,), dtype=tf.int32, name=\"input_word_ids2\")\n",
        "    input_mask2 = tf.keras.layers.Input(shape=(128, ), dtype=tf.int32, name=\"input_mask2\")\n",
        "    input_type_ids2 = tf.keras.layers.Input(shape=(128, ), dtype=tf.int32, name=\"input_type_ids2\")\n",
        "    inputReason = {'input_word_ids': input_word_ids2, 'input_mask': input_mask2, 'input_type_ids': input_type_ids2}\n",
        "    reason_embedd = encoder2(\"reasonBertEncoder\")(inputReason)\n",
        "\n",
        "    combined_features = tfl.concatenate([text_embedd, reason_embedd], name = 'merge_features')\n",
        "    print(combined_features.shape)\n",
        "    combined_features = tfl.Dropout(0.2)(combined_features)\n",
        "    combined_features = tfl.Dense(16, activation = 'linear', kernel_regularizer=l2(1e-3))(combined_features)\n",
        "    combined_features = tfl.BatchNormalization()(combined_features)\n",
        "    combined_features = tfl.Activation('relu')(combined_features)\n",
        "    combined_features = tfl.Dense(4, activation = 'linear', kernel_regularizer=l2(1e-3))(combined_features)\n",
        "    combined_features = tfl.BatchNormalization()(combined_features)\n",
        "    combined_features = tfl.Activation('relu')(combined_features)\n",
        "    combined_features = tfl.Dense(1, activation = 'sigmoid')(combined_features)\n",
        "    \n",
        "    model = Model(inputs = [inputText, inputReason], outputs = [combined_features], name=\"BertModel\")\n",
        "    return model"
      ]
    },
    {
      "cell_type": "code",
      "execution_count": 103,
      "id": "aa8fbcab",
      "metadata": {
        "id": "aa8fbcab",
        "outputId": "a22cf479-e606-4687-ae79-1515551ddc00",
        "colab": {
          "base_uri": "https://localhost:8080/"
        }
      },
      "outputs": [
        {
          "output_type": "stream",
          "name": "stdout",
          "text": [
            "(None, 64)\n"
          ]
        }
      ],
      "source": [
        "model = get_model()"
      ]
    },
    {
      "cell_type": "code",
      "execution_count": 104,
      "id": "5f2012db",
      "metadata": {
        "id": "5f2012db",
        "outputId": "c3f3f6a7-8b98-4f0c-c3d2-43ced4ecf84c",
        "colab": {
          "base_uri": "https://localhost:8080/"
        }
      },
      "outputs": [
        {
          "output_type": "stream",
          "name": "stdout",
          "text": [
            "Model: \"BertModel\"\n",
            "__________________________________________________________________________________________________\n",
            " Layer (type)                   Output Shape         Param #     Connected to                     \n",
            "==================================================================================================\n",
            " input_mask1 (InputLayer)       [(None, 128)]        0           []                               \n",
            "                                                                                                  \n",
            " input_type_ids1 (InputLayer)   [(None, 128)]        0           []                               \n",
            "                                                                                                  \n",
            " input_word_ids1 (InputLayer)   [(None, 128)]        0           []                               \n",
            "                                                                                                  \n",
            " input_mask2 (InputLayer)       [(None, 128)]        0           []                               \n",
            "                                                                                                  \n",
            " input_type_ids2 (InputLayer)   [(None, 128)]        0           []                               \n",
            "                                                                                                  \n",
            " input_word_ids2 (InputLayer)   [(None, 128)]        0           []                               \n",
            "                                                                                                  \n",
            " model_12 (Functional)          (None, 32)           14373729    ['input_mask1[0][0]',            \n",
            "                                                                  'input_type_ids1[0][0]',        \n",
            "                                                                  'input_word_ids1[0][0]']        \n",
            "                                                                                                  \n",
            " model_13 (Functional)          (None, 32)           14348513    ['input_mask2[0][0]',            \n",
            "                                                                  'input_type_ids2[0][0]',        \n",
            "                                                                  'input_word_ids2[0][0]']        \n",
            "                                                                                                  \n",
            " merge_features (Concatenate)   (None, 64)           0           ['model_12[0][0]',               \n",
            "                                                                  'model_13[0][0]']               \n",
            "                                                                                                  \n",
            " dropout_20 (Dropout)           (None, 64)           0           ['merge_features[0][0]']         \n",
            "                                                                                                  \n",
            " dense_49 (Dense)               (None, 16)           1040        ['dropout_20[0][0]']             \n",
            "                                                                                                  \n",
            " batch_normalization_45 (BatchN  (None, 16)          64          ['dense_49[0][0]']               \n",
            " ormalization)                                                                                    \n",
            "                                                                                                  \n",
            " activation_45 (Activation)     (None, 16)           0           ['batch_normalization_45[0][0]'] \n",
            "                                                                                                  \n",
            " dense_50 (Dense)               (None, 4)            68          ['activation_45[0][0]']          \n",
            "                                                                                                  \n",
            " batch_normalization_46 (BatchN  (None, 4)           16          ['dense_50[0][0]']               \n",
            " ormalization)                                                                                    \n",
            "                                                                                                  \n",
            " activation_46 (Activation)     (None, 4)            0           ['batch_normalization_46[0][0]'] \n",
            "                                                                                                  \n",
            " dense_51 (Dense)               (None, 1)            5           ['activation_46[0][0]']          \n",
            "                                                                                                  \n",
            "==================================================================================================\n",
            "Total params: 28,723,435\n",
            "Trainable params: 28,722,753\n",
            "Non-trainable params: 682\n",
            "__________________________________________________________________________________________________\n"
          ]
        }
      ],
      "source": [
        "model.summary()"
      ]
    },
    {
      "cell_type": "code",
      "execution_count": 105,
      "id": "1f08cb06",
      "metadata": {
        "id": "1f08cb06"
      },
      "outputs": [],
      "source": [
        "model.compile(optimizer=tf.keras.optimizers.Adam(), loss = \"binary_crossentropy\", metrics = [tf.metrics.BinaryAccuracy()])"
      ]
    },
    {
      "cell_type": "code",
      "execution_count": null,
      "id": "e31e0c4e",
      "metadata": {
        "id": "e31e0c4e",
        "outputId": "8f1bba66-91b4-4cea-ec47-204f1a1fe2a1",
        "colab": {
          "base_uri": "https://localhost:8080/"
        }
      },
      "outputs": [
        {
          "output_type": "stream",
          "name": "stdout",
          "text": [
            "Epoch 1/50\n"
          ]
        }
      ],
      "source": [
        "loss_history = model.fit(siam_gen([df[\"clean_text\"], df[\"reason\"]], 128),\n",
        "                         steps_per_epoch=50, validation_steps=10, epochs = 50, \n",
        "                         verbose = True, use_multiprocessing=True)"
      ]
    },
    {
      "cell_type": "code",
      "source": [
        "from sklearn.metrics import brier_score_loss as brier_loss\n",
        "from sklearn.metrics import precision_score\n",
        "from sklearn.metrics import recall_score\n",
        "from sklearn.metrics import f1_score\n",
        "from sklearn.metrics import roc_auc_score\n",
        "from sklearn.metrics import log_loss"
      ],
      "metadata": {
        "id": "8fPl34AJAT9F"
      },
      "id": "8fPl34AJAT9F",
      "execution_count": null,
      "outputs": []
    },
    {
      "cell_type": "code",
      "execution_count": null,
      "id": "4e5cf29b",
      "metadata": {
        "id": "4e5cf29b",
        "outputId": "ef364f36-cabb-436e-fae0-3aabed9dbfad",
        "colab": {
          "base_uri": "https://localhost:8080/"
        }
      },
      "outputs": [
        {
          "output_type": "execute_result",
          "data": {
            "text/plain": [
              "1.0"
            ]
          },
          "metadata": {},
          "execution_count": 49
        }
      ],
      "source": [
        "y_preds = model.predict([df['clean_text'], df['reason']])\n",
        "accuracy(df['label'], y_preds)\n",
        "\n"
      ]
    },
    {
      "cell_type": "code",
      "source": [
        "y_hat = (y_preds >= 0.5).astype(int)"
      ],
      "metadata": {
        "id": "U_OvDuBLAdY-"
      },
      "id": "U_OvDuBLAdY-",
      "execution_count": null,
      "outputs": []
    },
    {
      "cell_type": "code",
      "source": [
        "print(\"Brier Loss                       : \", brier_loss(df['label'], y_preds))\n",
        "print(\"Precision Score                  : \", precision_score(df['label'], y_hat))\n",
        "print(\"Recall Score                     : \", recall_score(df['label'], y_hat))\n",
        "print(\"F1 Score                         : \", f1_score(df['label'], y_hat))"
      ],
      "metadata": {
        "id": "6VsBCfvdAdVn"
      },
      "id": "6VsBCfvdAdVn",
      "execution_count": null,
      "outputs": []
    },
    {
      "cell_type": "code",
      "source": [
        ""
      ],
      "metadata": {
        "id": "HOwjSt8mAdTN"
      },
      "id": "HOwjSt8mAdTN",
      "execution_count": null,
      "outputs": []
    },
    {
      "cell_type": "code",
      "execution_count": null,
      "id": "b0dd41b8",
      "metadata": {
        "id": "b0dd41b8",
        "outputId": "c3c77b5a-9abc-407d-8d68-601829611cdb",
        "colab": {
          "base_uri": "https://localhost:8080/"
        }
      },
      "outputs": [
        {
          "output_type": "execute_result",
          "data": {
            "text/plain": [
              "0.513"
            ]
          },
          "metadata": {},
          "execution_count": 50
        }
      ],
      "source": [
        "y_preds = model.predict([df_test['clean_text'], df_test['reason']])\n",
        "accuracy(df_test['label'], y_preds)"
      ]
    },
    {
      "cell_type": "code",
      "execution_count": null,
      "id": "20d2fa6b",
      "metadata": {
        "id": "20d2fa6b"
      },
      "outputs": [],
      "source": [
        "y_hat = (y_preds >= 0.5).astype(int)"
      ]
    },
    {
      "cell_type": "code",
      "execution_count": null,
      "id": "d1fed3c5",
      "metadata": {
        "id": "d1fed3c5"
      },
      "outputs": [],
      "source": [
        "print(\"Brier Loss                       : \", brier_loss(df_test['label'], y_preds))\n",
        "print(\"Precision Score                  : \", precision_score(df_test['label'], y_hat))\n",
        "print(\"Recall Score                     : \", recall_score(df_test['label'], y_hat))\n",
        "print(\"F1 Score                         : \", f1_score(df_test['label'], y_hat))\n",
        "print(\"Roc AUC Score                    : \", roc_auc_score(df_test['label'], y_preds))\n",
        "print(\"BCE Loss                         : \", log_loss(df_test['label'], y_preds))"
      ]
    },
    {
      "cell_type": "code",
      "execution_count": null,
      "id": "816cf323",
      "metadata": {
        "id": "816cf323"
      },
      "outputs": [],
      "source": [
        "from sklearn.metrics import roc_curve, auc\n",
        "fpr, tpr, _ = roc_curve(df_test['label'], y_preds)\n",
        "roc_auc = auc(fpr, tpr)"
      ]
    },
    {
      "cell_type": "code",
      "execution_count": null,
      "id": "2e3e2d20",
      "metadata": {
        "id": "2e3e2d20"
      },
      "outputs": [],
      "source": [
        "plt.figure()\n",
        "lw = 2\n",
        "plt.plot(\n",
        "    fpr,\n",
        "    tpr,\n",
        "    color=\"darkorange\",\n",
        "    lw=lw,\n",
        "    label=\"ROC curve (area = %0.2f)\" % roc_auc[2],\n",
        ")\n",
        "plt.plot([0, 1], [0, 1], color=\"navy\", lw=lw, linestyle=\"--\")\n",
        "plt.xlim([0.0, 1.0])\n",
        "plt.ylim([0.0, 1.05])\n",
        "plt.xlabel(\"False Positive Rate\")\n",
        "plt.ylabel(\"True Positive Rate\")\n",
        "plt.title(\"Receiver operating characteristic example\")\n",
        "plt.legend(loc=\"lower right\")\n",
        "plt.show()"
      ]
    },
    {
      "cell_type": "code",
      "execution_count": null,
      "id": "65d02e67",
      "metadata": {
        "id": "65d02e67"
      },
      "outputs": [],
      "source": [
        ""
      ]
    }
  ],
  "metadata": {
    "kernelspec": {
      "display_name": "mlAsgmt",
      "language": "python",
      "name": "mlasgmt"
    },
    "language_info": {
      "codemirror_mode": {
        "name": "ipython",
        "version": 3
      },
      "file_extension": ".py",
      "mimetype": "text/x-python",
      "name": "python",
      "nbconvert_exporter": "python",
      "pygments_lexer": "ipython3",
      "version": "3.7.9"
    },
    "colab": {
      "name": "useCONCT -.ipynb",
      "provenance": []
    },
    "accelerator": "GPU",
    "gpuClass": "standard"
  },
  "nbformat": 4,
  "nbformat_minor": 5
}