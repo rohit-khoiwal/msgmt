{
  "cells": [
    {
      "cell_type": "code",
      "execution_count": 1,
      "id": "781b5eb8",
      "metadata": {
        "id": "781b5eb8"
      },
      "outputs": [],
      "source": [
        "import pandas as pd\n",
        "import nltk\n",
        "from collections import defaultdict, Counter\n",
        "import matplotlib.pyplot as plt\n",
        "import seaborn as sns"
      ]
    },
    {
      "cell_type": "code",
      "execution_count": 2,
      "id": "MGaGgUkPlPwf",
      "metadata": {
        "colab": {
          "base_uri": "https://localhost:8080/"
        },
        "id": "MGaGgUkPlPwf",
        "outputId": "e478c142-269f-449b-a89f-d38ebeddedcd"
      },
      "outputs": [
        {
          "output_type": "stream",
          "name": "stdout",
          "text": [
            "Mounted at /content/drive\n"
          ]
        }
      ],
      "source": [
        "from google.colab import drive\n",
        "drive.mount('/content/drive')"
      ]
    },
    {
      "cell_type": "code",
      "execution_count": 3,
      "id": "hE-xnJZtlV8U",
      "metadata": {
        "id": "hE-xnJZtlV8U"
      },
      "outputs": [],
      "source": [
        "import os"
      ]
    },
    {
      "cell_type": "code",
      "execution_count": null,
      "id": "aZnCPNc7lqJX",
      "metadata": {
        "id": "aZnCPNc7lqJX"
      },
      "outputs": [],
      "source": [
        "os.chdir(\"/content/drive/MyDrive/mlasgmt\")\n",
        "os.getcwd()"
      ]
    },
    {
      "cell_type": "code",
      "execution_count": null,
      "id": "79ead4b3",
      "metadata": {
        "id": "79ead4b3",
        "outputId": "950be89f-9ab8-4445-8b65-ebf695ee1072"
      },
      "outputs": [
        {
          "ename": "FileNotFoundError",
          "evalue": "[Errno 2] No such file or directory: 'train.xlsx'",
          "output_type": "error",
          "traceback": [
            "\u001b[1;31m---------------------------------------------------------------------------\u001b[0m",
            "\u001b[1;31mFileNotFoundError\u001b[0m                         Traceback (most recent call last)",
            "\u001b[1;32m~\\AppData\\Local\\Temp\\ipykernel_35704\\1726744628.py\u001b[0m in \u001b[0;36m<module>\u001b[1;34m\u001b[0m\n\u001b[1;32m----> 1\u001b[1;33m \u001b[0mdf\u001b[0m \u001b[1;33m=\u001b[0m \u001b[0mpd\u001b[0m\u001b[1;33m.\u001b[0m\u001b[0mread_excel\u001b[0m\u001b[1;33m(\u001b[0m\u001b[1;34m\"train.xlsx\"\u001b[0m\u001b[1;33m)\u001b[0m\u001b[1;33m\u001b[0m\u001b[1;33m\u001b[0m\u001b[0m\n\u001b[0m",
            "\u001b[1;32mc:\\users\\rohit khoiwal\\appdata\\local\\programs\\python\\python37\\lib\\site-packages\\pandas\\util\\_decorators.py\u001b[0m in \u001b[0;36mwrapper\u001b[1;34m(*args, **kwargs)\u001b[0m\n\u001b[0;32m    309\u001b[0m                     \u001b[0mstacklevel\u001b[0m\u001b[1;33m=\u001b[0m\u001b[0mstacklevel\u001b[0m\u001b[1;33m,\u001b[0m\u001b[1;33m\u001b[0m\u001b[1;33m\u001b[0m\u001b[0m\n\u001b[0;32m    310\u001b[0m                 )\n\u001b[1;32m--> 311\u001b[1;33m             \u001b[1;32mreturn\u001b[0m \u001b[0mfunc\u001b[0m\u001b[1;33m(\u001b[0m\u001b[1;33m*\u001b[0m\u001b[0margs\u001b[0m\u001b[1;33m,\u001b[0m \u001b[1;33m**\u001b[0m\u001b[0mkwargs\u001b[0m\u001b[1;33m)\u001b[0m\u001b[1;33m\u001b[0m\u001b[1;33m\u001b[0m\u001b[0m\n\u001b[0m\u001b[0;32m    312\u001b[0m \u001b[1;33m\u001b[0m\u001b[0m\n\u001b[0;32m    313\u001b[0m         \u001b[1;32mreturn\u001b[0m \u001b[0mwrapper\u001b[0m\u001b[1;33m\u001b[0m\u001b[1;33m\u001b[0m\u001b[0m\n",
            "\u001b[1;32mc:\\users\\rohit khoiwal\\appdata\\local\\programs\\python\\python37\\lib\\site-packages\\pandas\\io\\excel\\_base.py\u001b[0m in \u001b[0;36mread_excel\u001b[1;34m(io, sheet_name, header, names, index_col, usecols, squeeze, dtype, engine, converters, true_values, false_values, skiprows, nrows, na_values, keep_default_na, na_filter, verbose, parse_dates, date_parser, thousands, comment, skipfooter, convert_float, mangle_dupe_cols, storage_options)\u001b[0m\n\u001b[0;32m    362\u001b[0m     \u001b[1;32mif\u001b[0m \u001b[1;32mnot\u001b[0m \u001b[0misinstance\u001b[0m\u001b[1;33m(\u001b[0m\u001b[0mio\u001b[0m\u001b[1;33m,\u001b[0m \u001b[0mExcelFile\u001b[0m\u001b[1;33m)\u001b[0m\u001b[1;33m:\u001b[0m\u001b[1;33m\u001b[0m\u001b[1;33m\u001b[0m\u001b[0m\n\u001b[0;32m    363\u001b[0m         \u001b[0mshould_close\u001b[0m \u001b[1;33m=\u001b[0m \u001b[1;32mTrue\u001b[0m\u001b[1;33m\u001b[0m\u001b[1;33m\u001b[0m\u001b[0m\n\u001b[1;32m--> 364\u001b[1;33m         \u001b[0mio\u001b[0m \u001b[1;33m=\u001b[0m \u001b[0mExcelFile\u001b[0m\u001b[1;33m(\u001b[0m\u001b[0mio\u001b[0m\u001b[1;33m,\u001b[0m \u001b[0mstorage_options\u001b[0m\u001b[1;33m=\u001b[0m\u001b[0mstorage_options\u001b[0m\u001b[1;33m,\u001b[0m \u001b[0mengine\u001b[0m\u001b[1;33m=\u001b[0m\u001b[0mengine\u001b[0m\u001b[1;33m)\u001b[0m\u001b[1;33m\u001b[0m\u001b[1;33m\u001b[0m\u001b[0m\n\u001b[0m\u001b[0;32m    365\u001b[0m     \u001b[1;32melif\u001b[0m \u001b[0mengine\u001b[0m \u001b[1;32mand\u001b[0m \u001b[0mengine\u001b[0m \u001b[1;33m!=\u001b[0m \u001b[0mio\u001b[0m\u001b[1;33m.\u001b[0m\u001b[0mengine\u001b[0m\u001b[1;33m:\u001b[0m\u001b[1;33m\u001b[0m\u001b[1;33m\u001b[0m\u001b[0m\n\u001b[0;32m    366\u001b[0m         raise ValueError(\n",
            "\u001b[1;32mc:\\users\\rohit khoiwal\\appdata\\local\\programs\\python\\python37\\lib\\site-packages\\pandas\\io\\excel\\_base.py\u001b[0m in \u001b[0;36m__init__\u001b[1;34m(self, path_or_buffer, engine, storage_options)\u001b[0m\n\u001b[0;32m   1190\u001b[0m             \u001b[1;32melse\u001b[0m\u001b[1;33m:\u001b[0m\u001b[1;33m\u001b[0m\u001b[1;33m\u001b[0m\u001b[0m\n\u001b[0;32m   1191\u001b[0m                 ext = inspect_excel_format(\n\u001b[1;32m-> 1192\u001b[1;33m                     \u001b[0mcontent_or_path\u001b[0m\u001b[1;33m=\u001b[0m\u001b[0mpath_or_buffer\u001b[0m\u001b[1;33m,\u001b[0m \u001b[0mstorage_options\u001b[0m\u001b[1;33m=\u001b[0m\u001b[0mstorage_options\u001b[0m\u001b[1;33m\u001b[0m\u001b[1;33m\u001b[0m\u001b[0m\n\u001b[0m\u001b[0;32m   1193\u001b[0m                 )\n\u001b[0;32m   1194\u001b[0m                 \u001b[1;32mif\u001b[0m \u001b[0mext\u001b[0m \u001b[1;32mis\u001b[0m \u001b[1;32mNone\u001b[0m\u001b[1;33m:\u001b[0m\u001b[1;33m\u001b[0m\u001b[1;33m\u001b[0m\u001b[0m\n",
            "\u001b[1;32mc:\\users\\rohit khoiwal\\appdata\\local\\programs\\python\\python37\\lib\\site-packages\\pandas\\io\\excel\\_base.py\u001b[0m in \u001b[0;36minspect_excel_format\u001b[1;34m(content_or_path, storage_options)\u001b[0m\n\u001b[0;32m   1069\u001b[0m \u001b[1;33m\u001b[0m\u001b[0m\n\u001b[0;32m   1070\u001b[0m     with get_handle(\n\u001b[1;32m-> 1071\u001b[1;33m         \u001b[0mcontent_or_path\u001b[0m\u001b[1;33m,\u001b[0m \u001b[1;34m\"rb\"\u001b[0m\u001b[1;33m,\u001b[0m \u001b[0mstorage_options\u001b[0m\u001b[1;33m=\u001b[0m\u001b[0mstorage_options\u001b[0m\u001b[1;33m,\u001b[0m \u001b[0mis_text\u001b[0m\u001b[1;33m=\u001b[0m\u001b[1;32mFalse\u001b[0m\u001b[1;33m\u001b[0m\u001b[1;33m\u001b[0m\u001b[0m\n\u001b[0m\u001b[0;32m   1072\u001b[0m     ) as handle:\n\u001b[0;32m   1073\u001b[0m         \u001b[0mstream\u001b[0m \u001b[1;33m=\u001b[0m \u001b[0mhandle\u001b[0m\u001b[1;33m.\u001b[0m\u001b[0mhandle\u001b[0m\u001b[1;33m\u001b[0m\u001b[1;33m\u001b[0m\u001b[0m\n",
            "\u001b[1;32mc:\\users\\rohit khoiwal\\appdata\\local\\programs\\python\\python37\\lib\\site-packages\\pandas\\io\\common.py\u001b[0m in \u001b[0;36mget_handle\u001b[1;34m(path_or_buf, mode, encoding, compression, memory_map, is_text, errors, storage_options)\u001b[0m\n\u001b[0;32m    709\u001b[0m         \u001b[1;32melse\u001b[0m\u001b[1;33m:\u001b[0m\u001b[1;33m\u001b[0m\u001b[1;33m\u001b[0m\u001b[0m\n\u001b[0;32m    710\u001b[0m             \u001b[1;31m# Binary mode\u001b[0m\u001b[1;33m\u001b[0m\u001b[1;33m\u001b[0m\u001b[1;33m\u001b[0m\u001b[0m\n\u001b[1;32m--> 711\u001b[1;33m             \u001b[0mhandle\u001b[0m \u001b[1;33m=\u001b[0m \u001b[0mopen\u001b[0m\u001b[1;33m(\u001b[0m\u001b[0mhandle\u001b[0m\u001b[1;33m,\u001b[0m \u001b[0mioargs\u001b[0m\u001b[1;33m.\u001b[0m\u001b[0mmode\u001b[0m\u001b[1;33m)\u001b[0m\u001b[1;33m\u001b[0m\u001b[1;33m\u001b[0m\u001b[0m\n\u001b[0m\u001b[0;32m    712\u001b[0m         \u001b[0mhandles\u001b[0m\u001b[1;33m.\u001b[0m\u001b[0mappend\u001b[0m\u001b[1;33m(\u001b[0m\u001b[0mhandle\u001b[0m\u001b[1;33m)\u001b[0m\u001b[1;33m\u001b[0m\u001b[1;33m\u001b[0m\u001b[0m\n\u001b[0;32m    713\u001b[0m \u001b[1;33m\u001b[0m\u001b[0m\n",
            "\u001b[1;31mFileNotFoundError\u001b[0m: [Errno 2] No such file or directory: 'train.xlsx'"
          ]
        }
      ],
      "source": [
        "df = pd.read_excel(\"train.xlsx\")"
      ]
    },
    {
      "cell_type": "code",
      "execution_count": null,
      "id": "f8a95071",
      "metadata": {
        "colab": {
          "base_uri": "https://localhost:8080/",
          "height": 206
        },
        "id": "f8a95071",
        "outputId": "63349bd4-524b-4ced-adcf-9de6a3c35bda"
      },
      "outputs": [
        {
          "ename": "NameError",
          "evalue": "name 'df' is not defined",
          "output_type": "error",
          "traceback": [
            "\u001b[1;31m---------------------------------------------------------------------------\u001b[0m",
            "\u001b[1;31mNameError\u001b[0m                                 Traceback (most recent call last)",
            "\u001b[1;32m~\\AppData\\Local\\Temp\\ipykernel_35704\\964094849.py\u001b[0m in \u001b[0;36m<module>\u001b[1;34m\u001b[0m\n\u001b[1;32m----> 1\u001b[1;33m \u001b[0mdf\u001b[0m\u001b[1;33m.\u001b[0m\u001b[0mhead\u001b[0m\u001b[1;33m(\u001b[0m\u001b[1;33m)\u001b[0m\u001b[1;33m\u001b[0m\u001b[1;33m\u001b[0m\u001b[0m\n\u001b[0m",
            "\u001b[1;31mNameError\u001b[0m: name 'df' is not defined"
          ]
        }
      ],
      "source": [
        "df.head()"
      ]
    },
    {
      "cell_type": "code",
      "execution_count": null,
      "id": "eb98ac95",
      "metadata": {
        "colab": {
          "base_uri": "https://localhost:8080/"
        },
        "id": "eb98ac95",
        "outputId": "3318ee1b-2f10-4266-d5c8-3f1e164cd698"
      },
      "outputs": [
        {
          "data": {
            "text/plain": [
              "(2061, 3)"
            ]
          },
          "execution_count": 4,
          "metadata": {},
          "output_type": "execute_result"
        }
      ],
      "source": [
        "df.shape"
      ]
    },
    {
      "cell_type": "markdown",
      "id": "87965a6d",
      "metadata": {
        "id": "87965a6d"
      },
      "source": [
        "## Exploratory data analysis"
      ]
    },
    {
      "cell_type": "code",
      "execution_count": null,
      "id": "5f68b2a4",
      "metadata": {
        "id": "5f68b2a4"
      },
      "outputs": [],
      "source": [
        "textLen = df['text'].str.len()\n",
        "reasonLen = df['reason'].str.len()"
      ]
    },
    {
      "cell_type": "code",
      "execution_count": null,
      "id": "68bfff70",
      "metadata": {
        "colab": {
          "base_uri": "https://localhost:8080/",
          "height": 397
        },
        "id": "68bfff70",
        "outputId": "389a12d7-b023-431c-fd57-1b2ff66ea085"
      },
      "outputs": [
        {
          "data": {
            "image/png": "[encoded data removed]",
            "text/plain": [
              "<Figure size 1080x432 with 2 Axes>"
            ]
          },
          "metadata": {
            "needs_background": "light"
          },
          "output_type": "display_data"
        }
      ],
      "source": [
        "fig, ax = plt.subplots(1,2, figsize=(15,6), sharey=True)\n",
        "_ = ax[0].hist(textLen)\n",
        "_ = ax[1].hist(reasonLen)\n",
        "ax[0].set_xlabel(\"Length of Text\", fontsize=20)\n",
        "# ax[0].set_ylabel(\"Count\", fontsize=20)\n",
        "ax[1].set_xlabel(\"Length of Reason\", fontsize=20)\n",
        "sns.despine()"
      ]
    },
    {
      "cell_type": "code",
      "execution_count": null,
      "id": "cfb4fb8b",
      "metadata": {
        "id": "cfb4fb8b"
      },
      "outputs": [],
      "source": [
        "textWordLen = df[\"text\"].str.split().map(lambda x: len(x))\n",
        "reasonWordLen = df[\"reason\"].str.split().map(lambda x: len(x))"
      ]
    },
    {
      "cell_type": "code",
      "execution_count": null,
      "id": "8889218d",
      "metadata": {
        "colab": {
          "base_uri": "https://localhost:8080/",
          "height": 397
        },
        "id": "8889218d",
        "outputId": "98cfac85-18c0-41b1-b0a0-4c60e113a99b"
      },
      "outputs": [
        {
          "data": {
            "image/png": "[encoded data removed]",
            "text/plain": [
              "<Figure size 1080x432 with 2 Axes>"
            ]
          },
          "metadata": {
            "needs_background": "light"
          },
          "output_type": "display_data"
        }
      ],
      "source": [
        "fig, ax = plt.subplots(1,2, figsize=(15,6), sharey=True)\n",
        "_ = ax[0].hist(textWordLen)\n",
        "_ = ax[1].hist(reasonWordLen)\n",
        "ax[0].set_xlabel(\"No. of words in Text\", fontsize=20)\n",
        "# ax[0].set_ylabel(\"Count\", fontsize=20)\n",
        "ax[1].set_xlabel(\"No. of words in Reason\", fontsize=20)\n",
        "sns.despine()"
      ]
    },
    {
      "cell_type": "code",
      "execution_count": null,
      "id": "c4f00701",
      "metadata": {
        "colab": {
          "base_uri": "https://localhost:8080/"
        },
        "id": "c4f00701",
        "outputId": "f5683a88-e67d-450a-9d9e-3577dccfc816"
      },
      "outputs": [
        {
          "name": "stderr",
          "output_type": "stream",
          "text": [
            "[nltk_data] Error loading stopwords: <urlopen error [Errno 11001]\n",
            "[nltk_data]     getaddrinfo failed>\n"
          ]
        }
      ],
      "source": [
        "nltk.download('stopwords')\n",
        "from nltk.corpus import stopwords"
      ]
    },
    {
      "cell_type": "code",
      "execution_count": null,
      "id": "478052ad",
      "metadata": {
        "id": "478052ad"
      },
      "outputs": [],
      "source": [
        "stop=set(stopwords.words('english'))"
      ]
    },
    {
      "cell_type": "code",
      "execution_count": null,
      "id": "3112b220",
      "metadata": {
        "id": "3112b220"
      },
      "outputs": [],
      "source": [
        "corpus=[]\n",
        "new = df['text'].str.split()\n",
        "new = new.values.tolist()\n",
        "corpus=[word for i in new for word in i]\n",
        "\n",
        "dic=defaultdict(int)\n",
        "\n",
        "for word in corpus:\n",
        "    if word in stop:\n",
        "        dic[word]+=1\n",
        "        \n",
        "top=sorted(dic.items(), key=lambda x:x[1],reverse=True)[:10] \n",
        "xtext, ytext =zip(*top)"
      ]
    },
    {
      "cell_type": "code",
      "execution_count": null,
      "id": "be4339b9",
      "metadata": {
        "colab": {
          "base_uri": "https://localhost:8080/"
        },
        "id": "be4339b9",
        "outputId": "226f2fd2-d441-4a60-9dcc-2aa6931a6f85"
      },
      "outputs": [
        {
          "data": {
            "text/plain": [
              "110"
            ]
          },
          "execution_count": 12,
          "metadata": {},
          "output_type": "execute_result"
        }
      ],
      "source": [
        "len(dic.keys())"
      ]
    },
    {
      "cell_type": "code",
      "execution_count": null,
      "id": "d0231e79",
      "metadata": {
        "id": "d0231e79"
      },
      "outputs": [],
      "source": [
        "corpus=[]\n",
        "new = df['reason'].str.split()\n",
        "new = new.values.tolist()\n",
        "corpus=[word for i in new for word in i]\n",
        "\n",
        "dic=defaultdict(int)\n",
        "\n",
        "for word in corpus:\n",
        "    if word in stop:\n",
        "        dic[word]+=1\n",
        "        \n",
        "top=sorted(dic.items(), key=lambda x:x[1],reverse=True)[:10] \n",
        "xreason, yreason=zip(*top)"
      ]
    },
    {
      "cell_type": "code",
      "execution_count": null,
      "id": "c7c52c1d",
      "metadata": {
        "colab": {
          "base_uri": "https://localhost:8080/"
        },
        "id": "c7c52c1d",
        "outputId": "7ddf1cbd-794a-4a93-8ef6-1abba6fcc9e9"
      },
      "outputs": [
        {
          "data": {
            "text/plain": [
              "73"
            ]
          },
          "execution_count": 14,
          "metadata": {},
          "output_type": "execute_result"
        }
      ],
      "source": [
        "len(dic.keys())"
      ]
    },
    {
      "cell_type": "code",
      "execution_count": null,
      "id": "2d494f18",
      "metadata": {
        "colab": {
          "base_uri": "https://localhost:8080/",
          "height": 374
        },
        "id": "2d494f18",
        "outputId": "cf66c8c5-6fa4-4c92-ee76-327e466035cb"
      },
      "outputs": [
        {
          "data": {
            "image/png": "[encoded data removed]",
            "text/plain": [
              "<Figure size 1080x432 with 2 Axes>"
            ]
          },
          "metadata": {
            "needs_background": "light"
          },
          "output_type": "display_data"
        }
      ],
      "source": [
        "fig, ax = plt.subplots(1,2, figsize=(15,6))\n",
        "ax[0].bar(xtext,ytext)\n",
        "ax[1].bar(xreason,yreason)\n",
        "sns.despine()"
      ]
    },
    {
      "cell_type": "markdown",
      "id": "2b024655",
      "metadata": {
        "id": "2b024655"
      },
      "source": [
        "## Preprocess Tweets"
      ]
    },
    {
      "cell_type": "markdown",
      "id": "cc071835",
      "metadata": {
        "id": "cc071835"
      },
      "source": [
        " - We didn't remove stopwords bcoz its give meaning semantic comparison"
      ]
    },
    {
      "cell_type": "code",
      "execution_count": null,
      "id": "22aae95e",
      "metadata": {
        "colab": {
          "base_uri": "https://localhost:8080/"
        },
        "id": "22aae95e",
        "outputId": "94c6e73e-b7c5-4003-85e6-6bea0718f51c"
      },
      "outputs": [
        {
          "name": "stderr",
          "output_type": "stream",
          "text": [
            "[nltk_data] Error loading omw-1.4: <urlopen error [Errno 11001]\n",
            "[nltk_data]     getaddrinfo failed>\n",
            "[nltk_data] Error loading wordnet: <urlopen error [Errno 11001]\n",
            "[nltk_data]     getaddrinfo failed>\n",
            "[nltk_data] Error loading punkt: <urlopen error [Errno 11001]\n",
            "[nltk_data]     getaddrinfo failed>\n"
          ]
        },
        {
          "data": {
            "text/plain": [
              "False"
            ]
          },
          "execution_count": 16,
          "metadata": {},
          "output_type": "execute_result"
        }
      ],
      "source": [
        "from nltk.stem import LancasterStemmer, WordNetLemmatizer\n",
        "import string, re\n",
        "nltk.download('omw-1.4')\n",
        "nltk.download('wordnet')\n",
        "nltk.download('punkt')"
      ]
    },
    {
      "cell_type": "code",
      "execution_count": null,
      "id": "895180fe",
      "metadata": {
        "id": "895180fe"
      },
      "outputs": [],
      "source": [
        "def remove_punc(data):\n",
        "    trans = str.maketrans(' ','', string.punctuation)\n",
        "    return data.translate(trans)\n",
        "def remove_punctuation(text):\n",
        "    translator = re.compile('[%s]' % re.escape(string.punctuation))\n",
        "    text = translator.sub(\" \",text)\n",
        "    return text\n",
        "def remove_white_space(data):\n",
        "    return ' '.join(data.split())"
      ]
    },
    {
      "cell_type": "code",
      "execution_count": null,
      "id": "7b56483b",
      "metadata": {
        "id": "7b56483b"
      },
      "outputs": [],
      "source": [
        "def stemming(data):\n",
        "    stemmer = LancasterStemmer()\n",
        "    stemmed = []\n",
        "    for i in data:\n",
        "        stem = stemmer.stem(i)\n",
        "        stemmed.append(stem)\n",
        "    return stemmed"
      ]
    },
    {
      "cell_type": "code",
      "execution_count": null,
      "id": "9c03a040",
      "metadata": {
        "id": "9c03a040"
      },
      "outputs": [],
      "source": [
        "def lemmatization(data):\n",
        "    lemma = WordNetLemmatizer()\n",
        "    lemmas = []\n",
        "    for i in data:\n",
        "        lem = lemma.lemmatize(i, pos='v')\n",
        "        lemmas.append(lem)\n",
        "    return lemmas  "
      ]
    },
    {
      "cell_type": "code",
      "execution_count": null,
      "id": "b1a1a546",
      "metadata": {
        "id": "b1a1a546"
      },
      "outputs": [],
      "source": [
        "def preprocessText(text):\n",
        "    text = text.lower()\n",
        "    text = re.sub(r\"[\\([{})\\]]\", \"\", text) ## removing brackets\n",
        "    text = remove_punctuation(text)\n",
        "    text = remove_white_space(text)\n",
        "    tokens = nltk.word_tokenize(text)\n",
        "    tokens = lemmatization(tokens)\n",
        "    return \" \".join(tokens)"
      ]
    },
    {
      "cell_type": "code",
      "execution_count": null,
      "id": "2a86ddc3",
      "metadata": {
        "id": "2a86ddc3"
      },
      "outputs": [],
      "source": [
        "df[\"clean_text\"] = df[\"text\"].map(preprocessText)"
      ]
    },
    {
      "cell_type": "code",
      "execution_count": null,
      "id": "sFWl1ucR-yr5",
      "metadata": {
        "colab": {
          "base_uri": "https://localhost:8080/",
          "height": 206
        },
        "id": "sFWl1ucR-yr5",
        "outputId": "39a6c710-6e76-49c9-e2dd-43cf2b3436e5"
      },
      "outputs": [
        {
          "data": {
            "text/html": [
              "<div>\n",
              "<style scoped>\n",
              "    .dataframe tbody tr th:only-of-type {\n",
              "        vertical-align: middle;\n",
              "    }\n",
              "\n",
              "    .dataframe tbody tr th {\n",
              "        vertical-align: top;\n",
              "    }\n",
              "\n",
              "    .dataframe thead th {\n",
              "        text-align: right;\n",
              "    }\n",
              "</style>\n",
              "<table border=\"1\" class=\"dataframe\">\n",
              "  <thead>\n",
              "    <tr style=\"text-align: right;\">\n",
              "      <th></th>\n",
              "      <th>text</th>\n",
              "      <th>reason</th>\n",
              "      <th>label</th>\n",
              "      <th>clean_text</th>\n",
              "    </tr>\n",
              "  </thead>\n",
              "  <tbody>\n",
              "    <tr>\n",
              "      <th>0</th>\n",
              "      <td>this is an amazing app for online classes!but</td>\n",
              "      <td>good app for conducting online classes</td>\n",
              "      <td>1.0</td>\n",
              "      <td>this be an amaze app for online class but</td>\n",
              "    </tr>\n",
              "    <tr>\n",
              "      <th>1</th>\n",
              "      <td>very practical and easy to use</td>\n",
              "      <td>app is user-friendly</td>\n",
              "      <td>1.0</td>\n",
              "      <td>very practical and easy to use</td>\n",
              "    </tr>\n",
              "    <tr>\n",
              "      <th>2</th>\n",
              "      <td>this app is very good for video conferencing.</td>\n",
              "      <td>good for video conferencing</td>\n",
              "      <td>1.0</td>\n",
              "      <td>this app be very good for video conferencing</td>\n",
              "    </tr>\n",
              "    <tr>\n",
              "      <th>3</th>\n",
              "      <td>i can not download this zoom app</td>\n",
              "      <td>unable to download zoom app</td>\n",
              "      <td>1.0</td>\n",
              "      <td>i can not download this zoom app</td>\n",
              "    </tr>\n",
              "    <tr>\n",
              "      <th>4</th>\n",
              "      <td>i am not able to download this app</td>\n",
              "      <td>want to download the app</td>\n",
              "      <td>1.0</td>\n",
              "      <td>i be not able to download this app</td>\n",
              "    </tr>\n",
              "  </tbody>\n",
              "</table>\n",
              "</div>"
            ],
            "text/plain": [
              "                                            text  \\\n",
              "0  this is an amazing app for online classes!but   \n",
              "1                 very practical and easy to use   \n",
              "2  this app is very good for video conferencing.   \n",
              "3               i can not download this zoom app   \n",
              "4             i am not able to download this app   \n",
              "\n",
              "                                   reason  label  \\\n",
              "0  good app for conducting online classes    1.0   \n",
              "1                    app is user-friendly    1.0   \n",
              "2             good for video conferencing    1.0   \n",
              "3             unable to download zoom app    1.0   \n",
              "4                want to download the app    1.0   \n",
              "\n",
              "                                     clean_text  \n",
              "0     this be an amaze app for online class but  \n",
              "1                very practical and easy to use  \n",
              "2  this app be very good for video conferencing  \n",
              "3              i can not download this zoom app  \n",
              "4            i be not able to download this app  "
            ]
          },
          "execution_count": 22,
          "metadata": {},
          "output_type": "execute_result"
        }
      ],
      "source": [
        "df.head()"
      ]
    },
    {
      "cell_type": "code",
      "execution_count": null,
      "id": "1ed51c7c",
      "metadata": {
        "id": "1ed51c7c"
      },
      "outputs": [],
      "source": [
        "df.to_csv(\"train.csv\")"
      ]
    },
    {
      "cell_type": "code",
      "execution_count": null,
      "id": "255b6916",
      "metadata": {
        "id": "255b6916"
      },
      "outputs": [],
      "source": [
        "df_test = pd.read_excel(\"dataset/evaluation.xlsx\")"
      ]
    },
    {
      "cell_type": "code",
      "execution_count": null,
      "id": "d2a1ef78",
      "metadata": {
        "id": "d2a1ef78"
      },
      "outputs": [],
      "source": [
        "df_test[\"clean_text\"] = df[\"text\"].map(preprocessText)"
      ]
    },
    {
      "cell_type": "code",
      "execution_count": null,
      "id": "40234f8d",
      "metadata": {
        "id": "40234f8d"
      },
      "outputs": [],
      "source": [
        "df_test.to_csv(\"evaluation.csv\")"
      ]
    },
    {
      "cell_type": "markdown",
      "id": "8a8a8493",
      "metadata": {
        "id": "8a8a8493"
      },
      "source": [
        "## Data Augmentation"
      ]
    },
    {
      "cell_type": "code",
      "source": [
        "os.chdir(\"/content/drive/MyDrive/Github\")"
      ],
      "metadata": {
        "id": "Q4qPNqpjwlk0"
      },
      "id": "Q4qPNqpjwlk0",
      "execution_count": 7,
      "outputs": []
    },
    {
      "cell_type": "code",
      "source": [
        "!git pull https://github.com/rohit-khoiwal-30/msgmt.git"
      ],
      "metadata": {
        "id": "wJ6nvlc_wvgc",
        "outputId": "aabb9d7c-c2a7-4fce-900a-50a94ba168e4",
        "colab": {
          "base_uri": "https://localhost:8080/"
        }
      },
      "id": "wJ6nvlc_wvgc",
      "execution_count": 9,
      "outputs": [
        {
          "output_type": "stream",
          "name": "stdout",
          "text": [
            "remote: Enumerating objects: 21, done.\u001b[K\n",
            "remote: Counting objects:   4% (1/21)\u001b[K\rremote: Counting objects:   9% (2/21)\u001b[K\rremote: Counting objects:  14% (3/21)\u001b[K\rremote: Counting objects:  19% (4/21)\u001b[K\rremote: Counting objects:  23% (5/21)\u001b[K\rremote: Counting objects:  28% (6/21)\u001b[K\rremote: Counting objects:  33% (7/21)\u001b[K\rremote: Counting objects:  38% (8/21)\u001b[K\rremote: Counting objects:  42% (9/21)\u001b[K\rremote: Counting objects:  47% (10/21)\u001b[K\rremote: Counting objects:  52% (11/21)\u001b[K\rremote: Counting objects:  57% (12/21)\u001b[K\rremote: Counting objects:  61% (13/21)\u001b[K\rremote: Counting objects:  66% (14/21)\u001b[K\rremote: Counting objects:  71% (15/21)\u001b[K\rremote: Counting objects:  76% (16/21)\u001b[K\rremote: Counting objects:  80% (17/21)\u001b[K\rremote: Counting objects:  85% (18/21)\u001b[K\rremote: Counting objects:  90% (19/21)\u001b[K\rremote: Counting objects:  95% (20/21)\u001b[K\rremote: Counting objects: 100% (21/21)\u001b[K\rremote: Counting objects: 100% (21/21), done.\u001b[K\n",
            "remote: Compressing objects: 100% (14/14), done.\u001b[K\n",
            "remote: Total 17 (delta 8), reused 7 (delta 3), pack-reused 0\u001b[K\n",
            "Unpacking objects: 100% (17/17), done.\n",
            "From https://github.com/rohit-khoiwal-30/msgmt\n",
            " * branch            HEAD       -> FETCH_HEAD\n",
            "Updating 293f5ec..a77fca4\n",
            "Fast-forward\n",
            " .ipynb_checkpoints/preprocess-checkpoint.ipynb | 1003 \u001b[32m++++++++++++++++++++++\u001b[m\n",
            " bertCONCT.ipynb                                |  963 \u001b[32m+++++++++++++\u001b[m\u001b[31m--------\u001b[m\n",
            " bertEUCL.ipynb                                 |  870 \u001b[32m+++++++++++\u001b[m\u001b[31m--------\u001b[m\n",
            " bertTripleLoss.ipynb                           | 1058 \u001b[32m++++++++++++++++\u001b[m\u001b[31m--------\u001b[m\n",
            " preprocess.ipynb                               |  339 \u001b[32m+++++\u001b[m\u001b[31m---\u001b[m\n",
            " useCONCT -.ipynb                               |  366 \u001b[31m--------\u001b[m\n",
            " useCONCT.ipynb                                 |  611 \u001b[32m++++++++++++++\u001b[m\n",
            " useEUCL-checkpoint.ipynb                       |  518 \u001b[31m------------\u001b[m\n",
            " useEUCL.ipynb                                  |  834 \u001b[32m+++++++++++\u001b[m\u001b[31m--------\u001b[m\n",
            " useTripleLoss .ipynb                           |  383 \u001b[32m+++++\u001b[m\u001b[31m----\u001b[m\n",
            " 10 files changed, 4342 insertions(+), 2603 deletions(-)\n",
            " create mode 100644 .ipynb_checkpoints/preprocess-checkpoint.ipynb\n",
            " delete mode 100644 useCONCT -.ipynb\n",
            " create mode 100644 useCONCT.ipynb\n",
            " delete mode 100644 useEUCL-checkpoint.ipynb\n"
          ]
        }
      ]
    },
    {
      "cell_type": "code",
      "source": [
        "%pip install -q nlpaug\n",
        "%pip install -q transformers\n",
        "%pip install -q gensim==4.1.2"
      ],
      "metadata": {
        "id": "AxcOrMeixDrE"
      },
      "id": "AxcOrMeixDrE",
      "execution_count": 22,
      "outputs": []
    },
    {
      "cell_type": "code",
      "source": [
        "import pandas as pd\n",
        "df = pd.read_csv('train.csv')"
      ],
      "metadata": {
        "id": "eb5BX8W2ywKn"
      },
      "id": "eb5BX8W2ywKn",
      "execution_count": 81,
      "outputs": []
    },
    {
      "cell_type": "code",
      "execution_count": 82,
      "id": "51c56b38",
      "metadata": {
        "id": "51c56b38"
      },
      "outputs": [],
      "source": [
        "import nlpaug.flow as naf\n",
        "import nlpaug.augmenter.word as naw"
      ]
    },
    {
      "cell_type": "code",
      "source": [
        "def augment_dataset(texts, reasons):\n",
        "    aug_bert1 = naw.ContextualWordEmbsAug(model_path='distilbert-base-uncased', device='cuda', action=\"insert\", top_k=5, aug_p=0.2)\n",
        "    aug_bert2 = naw.ContextualWordEmbsAug(model_path='distilbert-base-uncased', device='cuda', action=\"substitute\", top_k=5, aug_p=0.2)\n",
        "\n",
        "    aug = naf.Sometimes([aug_bert1, aug_bert2], aug_p=0.2)\n",
        "    fn  = lambda x : aug.augment(x, n=3)\n",
        "\n",
        "    newTexts = list(map(fn, texts))\n",
        "    newReasons = list(map(fn, reasons))\n",
        "    \n",
        "    texts.extend(list(itertools.chain(*newTexts)))\n",
        "    reasons.extend(list(itertools.chain(*newReasons)))\n",
        "\n",
        "    assert len(texts) == len(reasons)\n",
        "    return texts, reasons"
      ],
      "metadata": {
        "id": "e2OPiyAdyutN"
      },
      "id": "e2OPiyAdyutN",
      "execution_count": 167,
      "outputs": []
    },
    {
      "cell_type": "code",
      "source": [
        "texts, reasons = augment_dataset(list(df['text']), list(df['reason']))"
      ],
      "metadata": {
        "id": "kVBSkaUO6gbT"
      },
      "id": "kVBSkaUO6gbT",
      "execution_count": 168,
      "outputs": []
    },
    {
      "cell_type": "code",
      "source": [
        "new_df = pd.DataFrame()"
      ],
      "metadata": {
        "id": "0XfXWvNE60_Z"
      },
      "id": "0XfXWvNE60_Z",
      "execution_count": 169,
      "outputs": []
    },
    {
      "cell_type": "code",
      "source": [
        "new_df[\"texts\"] = texts\n",
        "new_df[\"reason\"] = reasons\n",
        "new_df['label'] = [1]*len(texts)"
      ],
      "metadata": {
        "id": "P0fJ-RtD8W2W"
      },
      "id": "P0fJ-RtD8W2W",
      "execution_count": 170,
      "outputs": []
    },
    {
      "cell_type": "code",
      "source": [
        "new_df"
      ],
      "metadata": {
        "id": "cZ14KXwQ_oFl",
        "outputId": "1c933c84-56d6-4c16-8679-9f1de7e1f444",
        "colab": {
          "base_uri": "https://localhost:8080/",
          "height": 424
        }
      },
      "id": "cZ14KXwQ_oFl",
      "execution_count": 171,
      "outputs": [
        {
          "output_type": "execute_result",
          "data": {
            "text/plain": [
              "                                                  texts  \\\n",
              "0         this is an amazing app for online classes!but   \n",
              "1                        very practical and easy to use   \n",
              "2         this app is very good for video conferencing.   \n",
              "3                      i can not download this zoom app   \n",
              "4                    i am not able to download this app   \n",
              "...                                                 ...   \n",
              "8194  it is a shame that disney + does indeed not wo...   \n",
              "8195  it is worth shame that disney + does no featur...   \n",
              "8196  apparently i have planned to close and reload ...   \n",
              "8197  i just have to close and reload all the app ov...   \n",
              "8198  i just have time to close and reload off the a...   \n",
              "\n",
              "                                                 reason  label  \n",
              "0                good app for conducting online classes      1  \n",
              "1                                  app is user-friendly      1  \n",
              "2                           good for video conferencing      1  \n",
              "3                           unable to download zoom app      1  \n",
              "4                              want to download the app      1  \n",
              "...                                                 ...    ...  \n",
              "8194              • unable to use the disney plus on tv      1  \n",
              "8195            · unable to use disney plus on apple tv      1  \n",
              "8196   sound keeps growing even after closing their app      1  \n",
              "8197    sound keeps playing even though closing its app      1  \n",
              "8198  sound keeps playing regularly after closing it...      1  \n",
              "\n",
              "[8199 rows x 3 columns]"
            ],
            "text/html": [
              "\n",
              "  <div id=\"df-146f90eb-1216-4266-a06b-377d8d040a4f\">\n",
              "    <div class=\"colab-df-container\">\n",
              "      <div>\n",
              "<style scoped>\n",
              "    .dataframe tbody tr th:only-of-type {\n",
              "        vertical-align: middle;\n",
              "    }\n",
              "\n",
              "    .dataframe tbody tr th {\n",
              "        vertical-align: top;\n",
              "    }\n",
              "\n",
              "    .dataframe thead th {\n",
              "        text-align: right;\n",
              "    }\n",
              "</style>\n",
              "<table border=\"1\" class=\"dataframe\">\n",
              "  <thead>\n",
              "    <tr style=\"text-align: right;\">\n",
              "      <th></th>\n",
              "      <th>texts</th>\n",
              "      <th>reason</th>\n",
              "      <th>label</th>\n",
              "    </tr>\n",
              "  </thead>\n",
              "  <tbody>\n",
              "    <tr>\n",
              "      <th>0</th>\n",
              "      <td>this is an amazing app for online classes!but</td>\n",
              "      <td>good app for conducting online classes</td>\n",
              "      <td>1</td>\n",
              "    </tr>\n",
              "    <tr>\n",
              "      <th>1</th>\n",
              "      <td>very practical and easy to use</td>\n",
              "      <td>app is user-friendly</td>\n",
              "      <td>1</td>\n",
              "    </tr>\n",
              "    <tr>\n",
              "      <th>2</th>\n",
              "      <td>this app is very good for video conferencing.</td>\n",
              "      <td>good for video conferencing</td>\n",
              "      <td>1</td>\n",
              "    </tr>\n",
              "    <tr>\n",
              "      <th>3</th>\n",
              "      <td>i can not download this zoom app</td>\n",
              "      <td>unable to download zoom app</td>\n",
              "      <td>1</td>\n",
              "    </tr>\n",
              "    <tr>\n",
              "      <th>4</th>\n",
              "      <td>i am not able to download this app</td>\n",
              "      <td>want to download the app</td>\n",
              "      <td>1</td>\n",
              "    </tr>\n",
              "    <tr>\n",
              "      <th>...</th>\n",
              "      <td>...</td>\n",
              "      <td>...</td>\n",
              "      <td>...</td>\n",
              "    </tr>\n",
              "    <tr>\n",
              "      <th>8194</th>\n",
              "      <td>it is a shame that disney + does indeed not wo...</td>\n",
              "      <td>• unable to use the disney plus on tv</td>\n",
              "      <td>1</td>\n",
              "    </tr>\n",
              "    <tr>\n",
              "      <th>8195</th>\n",
              "      <td>it is worth shame that disney + does no featur...</td>\n",
              "      <td>· unable to use disney plus on apple tv</td>\n",
              "      <td>1</td>\n",
              "    </tr>\n",
              "    <tr>\n",
              "      <th>8196</th>\n",
              "      <td>apparently i have planned to close and reload ...</td>\n",
              "      <td>sound keeps growing even after closing their app</td>\n",
              "      <td>1</td>\n",
              "    </tr>\n",
              "    <tr>\n",
              "      <th>8197</th>\n",
              "      <td>i just have to close and reload all the app ov...</td>\n",
              "      <td>sound keeps playing even though closing its app</td>\n",
              "      <td>1</td>\n",
              "    </tr>\n",
              "    <tr>\n",
              "      <th>8198</th>\n",
              "      <td>i just have time to close and reload off the a...</td>\n",
              "      <td>sound keeps playing regularly after closing it...</td>\n",
              "      <td>1</td>\n",
              "    </tr>\n",
              "  </tbody>\n",
              "</table>\n",
              "<p>8199 rows × 3 columns</p>\n",
              "</div>\n",
              "      <button class=\"colab-df-convert\" onclick=\"convertToInteractive('df-146f90eb-1216-4266-a06b-377d8d040a4f')\"\n",
              "              title=\"Convert this dataframe to an interactive table.\"\n",
              "              style=\"display:none;\">\n",
              "        \n",
              "  <svg xmlns=\"http://www.w3.org/2000/svg\" height=\"24px\"viewBox=\"0 0 24 24\"\n",
              "       width=\"24px\">\n",
              "    <path d=\"M0 0h24v24H0V0z\" fill=\"none\"/>\n",
              "    <path d=\"M18.56 5.44l.94 2.06.94-2.06 2.06-.94-2.06-.94-.94-2.06-.94 2.06-2.06.94zm-11 1L8.5 8.5l.94-2.06 2.06-.94-2.06-.94L8.5 2.5l-.94 2.06-2.06.94zm10 10l.94 2.06.94-2.06 2.06-.94-2.06-.94-.94-2.06-.94 2.06-2.06.94z\"/><path d=\"M17.41 7.96l-1.37-1.37c-.4-.4-.92-.59-1.43-.59-.52 0-1.04.2-1.43.59L10.3 9.45l-7.72 7.72c-.78.78-.78 2.05 0 2.83L4 21.41c.39.39.9.59 1.41.59.51 0 1.02-.2 1.41-.59l7.78-7.78 2.81-2.81c.8-.78.8-2.07 0-2.86zM5.41 20L4 18.59l7.72-7.72 1.47 1.35L5.41 20z\"/>\n",
              "  </svg>\n",
              "      </button>\n",
              "      \n",
              "  <style>\n",
              "    .colab-df-container {\n",
              "      display:flex;\n",
              "      flex-wrap:wrap;\n",
              "      gap: 12px;\n",
              "    }\n",
              "\n",
              "    .colab-df-convert {\n",
              "      background-color: #E8F0FE;\n",
              "      border: none;\n",
              "      border-radius: 50%;\n",
              "      cursor: pointer;\n",
              "      display: none;\n",
              "      fill: #1967D2;\n",
              "      height: 32px;\n",
              "      padding: 0 0 0 0;\n",
              "      width: 32px;\n",
              "    }\n",
              "\n",
              "    .colab-df-convert:hover {\n",
              "      background-color: #E2EBFA;\n",
              "      box-shadow: 0px 1px 2px rgba(60, 64, 67, 0.3), 0px 1px 3px 1px rgba(60, 64, 67, 0.15);\n",
              "      fill: #174EA6;\n",
              "    }\n",
              "\n",
              "    [theme=dark] .colab-df-convert {\n",
              "      background-color: #3B4455;\n",
              "      fill: #D2E3FC;\n",
              "    }\n",
              "\n",
              "    [theme=dark] .colab-df-convert:hover {\n",
              "      background-color: #434B5C;\n",
              "      box-shadow: 0px 1px 3px 1px rgba(0, 0, 0, 0.15);\n",
              "      filter: drop-shadow(0px 1px 2px rgba(0, 0, 0, 0.3));\n",
              "      fill: #FFFFFF;\n",
              "    }\n",
              "  </style>\n",
              "\n",
              "      <script>\n",
              "        const buttonEl =\n",
              "          document.querySelector('#df-146f90eb-1216-4266-a06b-377d8d040a4f button.colab-df-convert');\n",
              "        buttonEl.style.display =\n",
              "          google.colab.kernel.accessAllowed ? 'block' : 'none';\n",
              "\n",
              "        async function convertToInteractive(key) {\n",
              "          const element = document.querySelector('#df-146f90eb-1216-4266-a06b-377d8d040a4f');\n",
              "          const dataTable =\n",
              "            await google.colab.kernel.invokeFunction('convertToInteractive',\n",
              "                                                     [key], {});\n",
              "          if (!dataTable) return;\n",
              "\n",
              "          const docLinkHtml = 'Like what you see? Visit the ' +\n",
              "            '<a target=\"_blank\" href=https://colab.research.google.com/notebooks/data_table.ipynb>data table notebook</a>'\n",
              "            + ' to learn more about interactive tables.';\n",
              "          element.innerHTML = '';\n",
              "          dataTable['output_type'] = 'display_data';\n",
              "          await google.colab.output.renderOutput(dataTable, element);\n",
              "          const docLink = document.createElement('div');\n",
              "          docLink.innerHTML = docLinkHtml;\n",
              "          element.appendChild(docLink);\n",
              "        }\n",
              "      </script>\n",
              "    </div>\n",
              "  </div>\n",
              "  "
            ]
          },
          "metadata": {},
          "execution_count": 171
        }
      ]
    },
    {
      "cell_type": "code",
      "source": [
        "new_df.to_csv('augment_train.csv')"
      ],
      "metadata": {
        "id": "OUtiKwkw-dyB"
      },
      "id": "OUtiKwkw-dyB",
      "execution_count": 172,
      "outputs": []
    },
    {
      "cell_type": "code",
      "source": [
        ""
      ],
      "metadata": {
        "id": "M6puftJtCUlf"
      },
      "id": "M6puftJtCUlf",
      "execution_count": 173,
      "outputs": []
    }
  ],
  "metadata": {
    "accelerator": "GPU",
    "colab": {
      "collapsed_sections": [],
      "name": "Copy of MLASGMT.ipynb",
      "provenance": []
    },
    "gpuClass": "standard",
    "kernelspec": {
      "display_name": "Python 3 (ipykernel)",
      "language": "python",
      "name": "python3"
    },
    "language_info": {
      "codemirror_mode": {
        "name": "ipython",
        "version": 3
      },
      "file_extension": ".py",
      "mimetype": "text/x-python",
      "name": "python",
      "nbconvert_exporter": "python",
      "pygments_lexer": "ipython3",
      "version": "3.7.9"
    }
  },
  "nbformat": 4,
  "nbformat_minor": 5
}