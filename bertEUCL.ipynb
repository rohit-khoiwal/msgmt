{
  "cells": [
    {
      "cell_type": "code",
      "source": [
        "import pandas as pd"
      ],
      "metadata": {
        "id": "AbEr8_iRY4zk"
      },
      "id": "AbEr8_iRY4zk",
      "execution_count": 1,
      "outputs": []
    },
    {
      "cell_type": "code",
      "source": [
        "from google.colab import drive\n",
        "drive.mount('/content/drive')"
      ],
      "metadata": {
        "id": "DVGLnXt3Zn_5",
        "outputId": "1df03d7a-37cb-4683-f6d9-c4da3c0c3aa9",
        "colab": {
          "base_uri": "https://localhost:8080/"
        }
      },
      "id": "DVGLnXt3Zn_5",
      "execution_count": 2,
      "outputs": [
        {
          "output_type": "stream",
          "name": "stdout",
          "text": [
            "Mounted at /content/drive\n"
          ]
        }
      ]
    },
    {
      "cell_type": "code",
      "source": [
        "%cd /content/drive/MyDrive/Github/"
      ],
      "metadata": {
        "id": "qGTOM17bZxGE",
        "outputId": "bbbb77e9-5324-4796-e49b-ffcdbca0982b",
        "colab": {
          "base_uri": "https://localhost:8080/"
        }
      },
      "id": "qGTOM17bZxGE",
      "execution_count": 3,
      "outputs": [
        {
          "output_type": "stream",
          "name": "stdout",
          "text": [
            "/content/drive/MyDrive/Github\n"
          ]
        }
      ]
    },
    {
      "cell_type": "code",
      "source": [
        "!git pull https://github.com/rohit-khoiwal-30/msgmt.git"
      ],
      "metadata": {
        "colab": {
          "base_uri": "https://localhost:8080/"
        },
        "id": "L52QxQc6ZINc",
        "outputId": "34c5afdf-5a63-4f73-f241-2514c34cfcd8"
      },
      "id": "L52QxQc6ZINc",
      "execution_count": 4,
      "outputs": [
        {
          "output_type": "stream",
          "name": "stdout",
          "text": [
            "remote: Enumerating objects: 5, done.\u001b[K\n",
            "remote: Counting objects:  20% (1/5)\u001b[K\rremote: Counting objects:  40% (2/5)\u001b[K\rremote: Counting objects:  60% (3/5)\u001b[K\rremote: Counting objects:  80% (4/5)\u001b[K\rremote: Counting objects: 100% (5/5)\u001b[K\rremote: Counting objects: 100% (5/5), done.\u001b[K\n",
            "remote: Compressing objects:  33% (1/3)\u001b[K\rremote: Compressing objects:  66% (2/3)\u001b[K\rremote: Compressing objects: 100% (3/3)\u001b[K\rremote: Compressing objects: 100% (3/3), done.\u001b[K\n",
            "remote: Total 3 (delta 2), reused 0 (delta 0), pack-reused 0\u001b[K\n",
            "Unpacking objects: 100% (3/3), done.\n",
            "From https://github.com/rohit-khoiwal-30/msgmt\n",
            " * branch            HEAD       -> FETCH_HEAD\n",
            "Updating a89e003..d5ca437\n",
            "Fast-forward\n",
            " bertCONCT.ipynb | 192 \u001b[32m+++++++++++++++++++++++++++++++\u001b[m\u001b[31m-------------------------\u001b[m\n",
            " 1 file changed, 105 insertions(+), 87 deletions(-)\n"
          ]
        }
      ]
    },
    {
      "cell_type": "code",
      "source": [
        "df = pd.read_csv(\"augment_train.csv\")\n",
        "df_test = pd.read_csv(\"evaluation.csv\")"
      ],
      "metadata": {
        "id": "QEMF6nTiY6yk"
      },
      "id": "QEMF6nTiY6yk",
      "execution_count": 6,
      "outputs": []
    },
    {
      "cell_type": "code",
      "execution_count": 12,
      "id": "105eaf9a",
      "metadata": {
        "id": "105eaf9a",
        "outputId": "764856bf-c679-44ed-f02e-db10ce38711f",
        "colab": {
          "base_uri": "https://localhost:8080/"
        }
      },
      "outputs": [
        {
          "output_type": "stream",
          "name": "stdout",
          "text": [
            "\u001b[K     |████████████████████████████████| 4.9 MB 7.2 MB/s \n",
            "\u001b[K     |████████████████████████████████| 1.8 MB 8.0 MB/s \n",
            "\u001b[K     |████████████████████████████████| 352 kB 58.9 MB/s \n",
            "\u001b[K     |████████████████████████████████| 99 kB 10.1 MB/s \n",
            "\u001b[K     |████████████████████████████████| 238 kB 55.5 MB/s \n",
            "\u001b[K     |████████████████████████████████| 116 kB 23.1 MB/s \n",
            "\u001b[K     |████████████████████████████████| 1.1 MB 51.3 MB/s \n",
            "\u001b[K     |████████████████████████████████| 1.3 MB 50.5 MB/s \n",
            "\u001b[K     |████████████████████████████████| 43 kB 2.2 MB/s \n",
            "\u001b[?25h  Building wheel for py-cpuinfo (setup.py) ... \u001b[?25l\u001b[?25hdone\n",
            "  Building wheel for seqeval (setup.py) ... \u001b[?25l\u001b[?25hdone\n"
          ]
        }
      ],
      "source": [
        "import tensorflow as tf\n",
        "import tensorflow.keras.backend as K\n",
        "import tensorflow.keras.layers as tfl\n",
        "from tensorflow.keras.models import Model\n",
        "from tensorflow.keras.callbacks import ModelCheckpoint\n",
        "from tensorflow.keras import Input\n",
        "from keras.regularizers import l2\n",
        "\n",
        "try:\n",
        "    import tensorflow_hub as hub\n",
        "except ModuleNotFoundError:\n",
        "    %pip install -q tensorflow_hub\n",
        "    import tensorflow_hub as hub\n",
        "    \n",
        "try:\n",
        "    import tensorflow_text as text\n",
        "except ModuleNotFoundError:\n",
        "    %pip install -q -U \"tensorflow-text==2.8.*\"\n",
        "    %pip install -q tf-models-official==2.7.0\n",
        "    import tensorflow_text as text\n",
        "\n",
        "try:\n",
        "    from keras_self_attention import SeqSelfAttention\n",
        "except ModuleNotFoundError:\n",
        "    %pip install -q keras-self-attention\n",
        "    from keras_self_attention import SeqSelfAttention\n",
        "\n",
        "import numpy as np\n",
        "\n",
        "\n",
        "# %pip install -q transformers\n",
        "# %pip install -q -U tensorflow-text\n",
        "# %pip install -q tf-models-official==2.7.0\n",
        "\n",
        "import math as m"
      ]
    },
    {
      "cell_type": "code",
      "execution_count": 8,
      "id": "8b9b678b",
      "metadata": {
        "id": "8b9b678b"
      },
      "outputs": [],
      "source": [
        "tfhub_handle_preprocess = \"https://tfhub.dev/tensorflow/bert_en_uncased_preprocess/3\"\n",
        "tfhub_handle_encoder = \"https://tfhub.dev/tensorflow/small_bert/bert_en_uncased_L-8_H-256_A-4/2\""
      ]
    },
    {
      "cell_type": "code",
      "execution_count": 9,
      "id": "722fb270",
      "metadata": {
        "id": "722fb270"
      },
      "outputs": [],
      "source": [
        "def gen_random_batch(in_groups, batch_halfsize = 8):\n",
        "    text_batch, reason_batch, y_hat = [], [], []\n",
        "    all_groups = list(range(in_groups[0].shape[0]))\n",
        "    for match_group in [True, False]:\n",
        "        group_idx = np.random.choice(all_groups, size = batch_halfsize)\n",
        "        text_batch += [in_groups[0][c_idx] for c_idx in group_idx]\n",
        "        if match_group:\n",
        "            b_group_idx = group_idx\n",
        "            y_hat += [1]*batch_halfsize\n",
        "        else:\n",
        "            # anything but the same group\n",
        "            non_group_idx = [np.random.choice([i for i in all_groups if i!=c_idx]) for c_idx in group_idx] \n",
        "            b_group_idx = non_group_idx\n",
        "            y_hat += [0]*batch_halfsize\n",
        "            \n",
        "        reason_batch += [in_groups[1][c_idx] for c_idx in b_group_idx]\n",
        "            \n",
        "    return np.stack(text_batch, 0), np.stack(reason_batch, 0), np.stack(y_hat, 0)\n",
        "\n",
        "def siam_gen(in_groups, batch_size = 32):\n",
        "    while True:\n",
        "        text_stack, reason_stack, y_hatstack = gen_random_batch(in_groups, batch_size//2)\n",
        "        yield [text_stack, reason_stack], y_hatstack\n",
        "\n",
        "def euclidean_distance(vectors):\n",
        "    (featsA, featsB) = vectors\n",
        "    sumSquared = K.sum(K.square(featsA - featsB), axis=1, keepdims=True)\n",
        "    return K.sqrt(K.maximum(sumSquared, K.epsilon()))\n",
        "\n",
        "def contrastive_loss(y, preds, margin=1):\n",
        "    # explicitly cast the true class label data type to the predicted\n",
        "    # class label data type (otherwise we run the risk of having two\n",
        "    # separate data types, causing TensorFlow to error out)\n",
        "    y = tf.cast(y, preds.dtype)\n",
        "    # calculate the contrastive loss between the true labels and\n",
        "    # the predicted labels\n",
        "    squaredPreds = K.square(preds)\n",
        "    squaredMargin = K.square(K.maximum(margin - preds, 0))\n",
        "    loss = K.mean(y * squaredPreds + (1 - y) * squaredMargin)\n",
        "    return loss"
      ]
    },
    {
      "cell_type": "code",
      "execution_count": 10,
      "id": "7cd865e0",
      "metadata": {
        "id": "7cd865e0"
      },
      "outputs": [],
      "source": [
        "def accuracy(y_true, y_pred):\n",
        "    results = (y_pred >= 0.5).astype(int).squeeze()\n",
        "    return np.mean([y_true == results])"
      ]
    },
    {
      "cell_type": "code",
      "execution_count": 15,
      "id": "3b213f5b",
      "metadata": {
        "id": "3b213f5b"
      },
      "outputs": [],
      "source": [
        "preprocessing_layer = hub.KerasLayer(tfhub_handle_preprocess, name='preprocessing')\n",
        "bert_layer1 = hub.KerasLayer(tfhub_handle_encoder, trainable=True, name=\"textEncoder\")\n",
        "bert_layer2 = hub.KerasLayer(tfhub_handle_encoder, trainable=True, name=\"ReasonEncoder\")\n",
        "def get_model():\n",
        "    text_input = tf.keras.layers.Input(shape=(), dtype=tf.string, name='text')\n",
        "    encoder_text_inputs = preprocessing_layer(text_input)\n",
        "    \n",
        "    outputs = bert_layer1(encoder_text_inputs)\n",
        "    net = outputs['pooled_output']\n",
        "    a = tfl.Dropout(0.3)(net)\n",
        "    a = tfl.Dense(64, activation=\"linear\", kernel_regularizer=l2(1e-3))(a)\n",
        "    a = tfl.BatchNormalization()(a)\n",
        "    a = tfl.Activation('relu')(a)\n",
        "    a = tfl.Dropout(rate=0.2)(a)\n",
        "    a = tfl.Dense(32, activation=\"linear\", kernel_regularizer=l2(1e-3))(a)\n",
        "    a = tfl.BatchNormalization()(a)\n",
        "    a = tfl.Activation('relu')(a)\n",
        "\n",
        "    reason_input = tf.keras.layers.Input(shape=(), dtype=tf.string, name='reason')\n",
        "    encoder_reason_inputs = preprocessing_layer(reason_input)\n",
        "    outputs = bert_layer2(encoder_reason_inputs)\n",
        "    net = outputs['pooled_output']\n",
        "    b = tfl.Dropout(0.3)(net)\n",
        "    b = tfl.Dense(32, activation=\"linear\", kernel_regularizer=l2(1e-3))(b)\n",
        "    b = tfl.BatchNormalization()(b)\n",
        "    b = tfl.Activation('relu')(b)\n",
        "\n",
        "    distance = tfl.Lambda(euclidean_distance)([a, b])\n",
        "    model = Model([text_input, reason_input], distance)\n",
        "    return model"
      ]
    },
    {
      "cell_type": "code",
      "execution_count": 16,
      "id": "49246c10",
      "metadata": {
        "id": "49246c10"
      },
      "outputs": [],
      "source": [
        "model = get_model()"
      ]
    },
    {
      "cell_type": "code",
      "execution_count": 17,
      "id": "bda0b9b8",
      "metadata": {
        "colab": {
          "base_uri": "https://localhost:8080/"
        },
        "id": "bda0b9b8",
        "outputId": "e026197f-41cb-4c84-a0f0-f1bb7e11fd35"
      },
      "outputs": [
        {
          "output_type": "stream",
          "name": "stdout",
          "text": [
            "Model: \"model\"\n",
            "__________________________________________________________________________________________________\n",
            " Layer (type)                   Output Shape         Param #     Connected to                     \n",
            "==================================================================================================\n",
            " text (InputLayer)              [(None,)]            0           []                               \n",
            "                                                                                                  \n",
            " preprocessing (KerasLayer)     {'input_type_ids':   0           ['text[0][0]',                   \n",
            "                                (None, 128),                      'reason[0][0]']                 \n",
            "                                 'input_word_ids':                                                \n",
            "                                (None, 128),                                                      \n",
            "                                 'input_mask': (Non                                               \n",
            "                                e, 128)}                                                          \n",
            "                                                                                                  \n",
            " textEncoder (KerasLayer)       {'sequence_output':  14329601    ['preprocessing[0][0]',          \n",
            "                                 (None, 128, 256),                'preprocessing[0][1]',          \n",
            "                                 'default': (None,                'preprocessing[0][2]']          \n",
            "                                256),                                                             \n",
            "                                 'pooled_output': (                                               \n",
            "                                None, 256),                                                       \n",
            "                                 'encoder_outputs':                                               \n",
            "                                 [(None, 128, 256),                                               \n",
            "                                 (None, 128, 256),                                                \n",
            "                                 (None, 128, 256),                                                \n",
            "                                 (None, 128, 256),                                                \n",
            "                                 (None, 128, 256),                                                \n",
            "                                 (None, 128, 256),                                                \n",
            "                                 (None, 128, 256),                                                \n",
            "                                 (None, 128, 256)]}                                               \n",
            "                                                                                                  \n",
            " dropout (Dropout)              (None, 256)          0           ['textEncoder[0][9]']            \n",
            "                                                                                                  \n",
            " dense (Dense)                  (None, 64)           16448       ['dropout[0][0]']                \n",
            "                                                                                                  \n",
            " reason (InputLayer)            [(None,)]            0           []                               \n",
            "                                                                                                  \n",
            " batch_normalization (BatchNorm  (None, 64)          256         ['dense[0][0]']                  \n",
            " alization)                                                                                       \n",
            "                                                                                                  \n",
            " activation (Activation)        (None, 64)           0           ['batch_normalization[0][0]']    \n",
            "                                                                                                  \n",
            " ReasonEncoder (KerasLayer)     {'default': (None,   14329601    ['preprocessing[1][0]',          \n",
            "                                256),                             'preprocessing[1][1]',          \n",
            "                                 'pooled_output': (               'preprocessing[1][2]']          \n",
            "                                None, 256),                                                       \n",
            "                                 'sequence_output':                                               \n",
            "                                 (None, 128, 256),                                                \n",
            "                                 'encoder_outputs':                                               \n",
            "                                 [(None, 128, 256),                                               \n",
            "                                 (None, 128, 256),                                                \n",
            "                                 (None, 128, 256),                                                \n",
            "                                 (None, 128, 256),                                                \n",
            "                                 (None, 128, 256),                                                \n",
            "                                 (None, 128, 256),                                                \n",
            "                                 (None, 128, 256),                                                \n",
            "                                 (None, 128, 256)]}                                               \n",
            "                                                                                                  \n",
            " dropout_1 (Dropout)            (None, 64)           0           ['activation[0][0]']             \n",
            "                                                                                                  \n",
            " dropout_2 (Dropout)            (None, 256)          0           ['ReasonEncoder[0][9]']          \n",
            "                                                                                                  \n",
            " dense_1 (Dense)                (None, 32)           2080        ['dropout_1[0][0]']              \n",
            "                                                                                                  \n",
            " dense_2 (Dense)                (None, 32)           8224        ['dropout_2[0][0]']              \n",
            "                                                                                                  \n",
            " batch_normalization_1 (BatchNo  (None, 32)          128         ['dense_1[0][0]']                \n",
            " rmalization)                                                                                     \n",
            "                                                                                                  \n",
            " batch_normalization_2 (BatchNo  (None, 32)          128         ['dense_2[0][0]']                \n",
            " rmalization)                                                                                     \n",
            "                                                                                                  \n",
            " activation_1 (Activation)      (None, 32)           0           ['batch_normalization_1[0][0]']  \n",
            "                                                                                                  \n",
            " activation_2 (Activation)      (None, 32)           0           ['batch_normalization_2[0][0]']  \n",
            "                                                                                                  \n",
            " lambda (Lambda)                (None, 1)            0           ['activation_1[0][0]',           \n",
            "                                                                  'activation_2[0][0]']           \n",
            "                                                                                                  \n",
            "==================================================================================================\n",
            "Total params: 28,686,466\n",
            "Trainable params: 28,686,208\n",
            "Non-trainable params: 258\n",
            "__________________________________________________________________________________________________\n"
          ]
        }
      ],
      "source": [
        "model.summary()"
      ]
    },
    {
      "cell_type": "code",
      "execution_count": 18,
      "id": "e670c2c9",
      "metadata": {
        "id": "e670c2c9"
      },
      "outputs": [],
      "source": [
        "model.compile(optimizer=\"adam\", loss = contrastive_loss, metrics = [tf.metrics.BinaryAccuracy()])"
      ]
    },
    {
      "cell_type": "code",
      "source": [
        "eval_df = df_test[df_test['label'] == 1]"
      ],
      "metadata": {
        "id": "tOX9Cv_xf86e"
      },
      "id": "tOX9Cv_xf86e",
      "execution_count": 19,
      "outputs": []
    },
    {
      "cell_type": "code",
      "execution_count": null,
      "id": "ce982823",
      "metadata": {
        "colab": {
          "base_uri": "https://localhost:8080/"
        },
        "id": "ce982823",
        "outputId": "e3778bb5-6ac6-4908-8191-f21ce06b9634"
      },
      "outputs": [
        {
          "output_type": "stream",
          "name": "stdout",
          "text": [
            "Epoch 1/50\n",
            "50/50 [==============================] - 22s 211ms/step - loss: 0.5721 - binary_accuracy: 0.4934 - val_loss: 0.4786 - val_binary_accuracy: 0.5000\n",
            "Epoch 2/50\n",
            "50/50 [==============================] - 9s 186ms/step - loss: 0.4385 - binary_accuracy: 0.4469 - val_loss: 0.4294 - val_binary_accuracy: 0.4859\n",
            "Epoch 3/50\n",
            "50/50 [==============================] - 9s 186ms/step - loss: 0.3811 - binary_accuracy: 0.3147 - val_loss: 0.3519 - val_binary_accuracy: 0.2734\n",
            "Epoch 4/50\n",
            "50/50 [==============================] - 9s 188ms/step - loss: 0.3150 - binary_accuracy: 0.1937 - val_loss: 0.3126 - val_binary_accuracy: 0.2313\n",
            "Epoch 5/50\n",
            "50/50 [==============================] - 9s 187ms/step - loss: 0.2682 - binary_accuracy: 0.1331 - val_loss: 0.2973 - val_binary_accuracy: 0.2484\n",
            "Epoch 6/50\n",
            "22/50 [============>.................] - ETA: 4s - loss: 0.2473 - binary_accuracy: 0.1257"
          ]
        }
      ],
      "source": [
        "loss_history = model.fit(siam_gen([df[\"text\"], df[\"reason\"]], 64), \n",
        "                         validation_data = siam_gen([eval_df[\"clean_text\"].values, eval_df[\"reason\"].values], 128),\n",
        "                         steps_per_epoch=50, validation_steps=10, epochs = 50, \n",
        "                         verbose = True, use_multiprocessing=True)"
      ]
    },
    {
      "cell_type": "code",
      "source": [
        "from sklearn.metrics import brier_score_loss as brier_loss\n",
        "from sklearn.metrics import precision_score\n",
        "from sklearn.metrics import recall_score\n",
        "from sklearn.metrics import f1_score\n",
        "from sklearn.metrics import roc_auc_score\n",
        "from sklearn.metrics import log_loss"
      ],
      "metadata": {
        "id": "RdCctIcdggDg"
      },
      "id": "RdCctIcdggDg",
      "execution_count": null,
      "outputs": []
    },
    {
      "cell_type": "code",
      "execution_count": null,
      "id": "d045fbf0",
      "metadata": {
        "id": "d045fbf0"
      },
      "outputs": [],
      "source": [
        "y_preds = 1 - model.predict([df['clean_text'], df['reason']])\n",
        "y_preds = tf.math.sigmoid(1 - y_preds).numpy()\n",
        "accuracy(df['label'], y_preds)"
      ]
    },
    {
      "cell_type": "code",
      "source": [
        "max(y_preds), min(y_preds)"
      ],
      "metadata": {
        "id": "Vs44CvWEhM6Z"
      },
      "id": "Vs44CvWEhM6Z",
      "execution_count": null,
      "outputs": []
    },
    {
      "cell_type": "code",
      "source": [
        "y_hat = (y_preds >= 0.5).astype(int)"
      ],
      "metadata": {
        "id": "SjYKqhD0hYo3"
      },
      "id": "SjYKqhD0hYo3",
      "execution_count": null,
      "outputs": []
    },
    {
      "cell_type": "code",
      "source": [
        "print(\"Brier Loss                       : \", brier_loss(df['label'], y_preds))\n",
        "print(\"Precision Score                  : \", precision_score(df['label'], y_hat))\n",
        "print(\"Recall Score                     : \", recall_score(df['label'], y_hat))\n",
        "print(\"F1 Score                         : \", f1_score(df['label'], y_hat))"
      ],
      "metadata": {
        "id": "1rvYy0gMhRR2"
      },
      "id": "1rvYy0gMhRR2",
      "execution_count": null,
      "outputs": []
    },
    {
      "cell_type": "code",
      "source": [
        ""
      ],
      "metadata": {
        "id": "_UlEy-TSgsZR"
      },
      "id": "_UlEy-TSgsZR",
      "execution_count": null,
      "outputs": []
    },
    {
      "cell_type": "code",
      "execution_count": null,
      "id": "f7750ac3",
      "metadata": {
        "id": "f7750ac3"
      },
      "outputs": [],
      "source": [
        "y_preds = model.predict([df_test[\"text\"], df_test[\"reason\"]])\n",
        "y_preds = tf.math.sigmoid(1 - y_preds).numpy()\n",
        "accuracy(df_test[\"label\"], y_preds)"
      ]
    },
    {
      "cell_type": "code",
      "source": [
        "max(y_preds), min(y_preds)"
      ],
      "metadata": {
        "id": "pko5Om29ha0p"
      },
      "id": "pko5Om29ha0p",
      "execution_count": null,
      "outputs": []
    },
    {
      "cell_type": "code",
      "source": [
        "y_hat = (y_preds >= 0.5).astype(int)"
      ],
      "metadata": {
        "id": "8Ys4KKR6hZvG"
      },
      "id": "8Ys4KKR6hZvG",
      "execution_count": null,
      "outputs": []
    },
    {
      "cell_type": "code",
      "source": [
        "print(\"Brier Loss                       : \", brier_loss(df_test['label'], y_preds))\n",
        "print(\"Precision Score                  : \", precision_score(df_test['label'], y_hat))\n",
        "print(\"Recall Score                     : \", recall_score(df_test['label'], y_hat))\n",
        "print(\"F1 Score                         : \", f1_score(df_test['label'], y_hat))\n",
        "print(\"Roc AUC Score                    : \", roc_auc_score(df_test['label'], y_preds))\n",
        "print(\"BCE Loss                         : \", log_loss(df_test['label'], y_preds))"
      ],
      "metadata": {
        "id": "ZXdobJlRhdWF"
      },
      "id": "ZXdobJlRhdWF",
      "execution_count": null,
      "outputs": []
    },
    {
      "cell_type": "code",
      "source": [
        ""
      ],
      "metadata": {
        "id": "DwEo4PYLhdIj"
      },
      "id": "DwEo4PYLhdIj",
      "execution_count": null,
      "outputs": []
    },
    {
      "cell_type": "code",
      "execution_count": null,
      "id": "75001d57",
      "metadata": {
        "id": "75001d57"
      },
      "outputs": [],
      "source": [
        "model.save(\"models/useEUCL/\")"
      ]
    },
    {
      "cell_type": "code",
      "execution_count": null,
      "id": "affe5802",
      "metadata": {
        "id": "affe5802"
      },
      "outputs": [],
      "source": [
        ""
      ]
    },
    {
      "cell_type": "code",
      "execution_count": null,
      "id": "c8141287",
      "metadata": {
        "id": "c8141287"
      },
      "outputs": [],
      "source": [
        ""
      ]
    },
    {
      "cell_type": "code",
      "execution_count": null,
      "id": "932f4ab5",
      "metadata": {
        "id": "932f4ab5"
      },
      "outputs": [],
      "source": [
        ""
      ]
    },
    {
      "cell_type": "code",
      "execution_count": null,
      "id": "c69e979a",
      "metadata": {
        "id": "c69e979a"
      },
      "outputs": [],
      "source": [
        ""
      ]
    }
  ],
  "metadata": {
    "kernelspec": {
      "display_name": "mlAsgmt",
      "language": "python",
      "name": "mlasgmt"
    },
    "language_info": {
      "codemirror_mode": {
        "name": "ipython",
        "version": 3
      },
      "file_extension": ".py",
      "mimetype": "text/x-python",
      "name": "python",
      "nbconvert_exporter": "python",
      "pygments_lexer": "ipython3",
      "version": "3.7.9"
    },
    "colab": {
      "name": "useEUCL-checkpoint.ipynb",
      "provenance": []
    },
    "accelerator": "GPU",
    "gpuClass": "standard"
  },
  "nbformat": 4,
  "nbformat_minor": 5
}