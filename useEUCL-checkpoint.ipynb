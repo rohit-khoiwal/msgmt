{
  "cells": [
    {
      "cell_type": "code",
      "source": [
        "import pandas as pd"
      ],
      "metadata": {
        "id": "AbEr8_iRY4zk"
      },
      "id": "AbEr8_iRY4zk",
      "execution_count": 1,
      "outputs": []
    },
    {
      "cell_type": "code",
      "source": [
        "from google.colab import drive\n",
        "drive.mount('/content/drive')"
      ],
      "metadata": {
        "colab": {
          "base_uri": "https://localhost:8080/"
        },
        "id": "DVGLnXt3Zn_5",
        "outputId": "aad3a2a7-0085-4d5c-91ef-55896ea83f1c"
      },
      "id": "DVGLnXt3Zn_5",
      "execution_count": 2,
      "outputs": [
        {
          "output_type": "stream",
          "name": "stdout",
          "text": [
            "Mounted at /content/drive\n"
          ]
        }
      ]
    },
    {
      "cell_type": "code",
      "source": [
        "%cd /content/drive/MyDrive/Github/"
      ],
      "metadata": {
        "colab": {
          "base_uri": "https://localhost:8080/"
        },
        "id": "qGTOM17bZxGE",
        "outputId": "c75605d4-af2d-4807-cc48-ddddac6118d8"
      },
      "id": "qGTOM17bZxGE",
      "execution_count": 3,
      "outputs": [
        {
          "output_type": "stream",
          "name": "stdout",
          "text": [
            "/content/drive/MyDrive/Github\n"
          ]
        }
      ]
    },
    {
      "cell_type": "code",
      "source": [
        "!git init"
      ],
      "metadata": {
        "id": "qPg9gEqtfMwH",
        "outputId": "f7724040-6f7c-43a3-f633-bcc8da336a7b",
        "colab": {
          "base_uri": "https://localhost:8080/"
        }
      },
      "id": "qPg9gEqtfMwH",
      "execution_count": 5,
      "outputs": [
        {
          "output_type": "stream",
          "name": "stdout",
          "text": [
            "Initialized empty Git repository in /content/drive/MyDrive/Github/.git/\n"
          ]
        }
      ]
    },
    {
      "cell_type": "code",
      "source": [
        "!git pull https://github.com/rohit-khoiwal-30/msgmt.git"
      ],
      "metadata": {
        "colab": {
          "base_uri": "https://localhost:8080/"
        },
        "id": "L52QxQc6ZINc",
        "outputId": "1fde9a66-8190-4c3d-c881-624c956b97ba"
      },
      "id": "L52QxQc6ZINc",
      "execution_count": 4,
      "outputs": [
        {
          "output_type": "stream",
          "name": "stdout",
          "text": [
            "remote: Enumerating objects: 6, done.\u001b[K\n",
            "remote: Counting objects:  16% (1/6)\u001b[K\rremote: Counting objects:  33% (2/6)\u001b[K\rremote: Counting objects:  50% (3/6)\u001b[K\rremote: Counting objects:  66% (4/6)\u001b[K\rremote: Counting objects:  83% (5/6)\u001b[K\rremote: Counting objects: 100% (6/6)\u001b[K\rremote: Counting objects: 100% (6/6), done.\u001b[K\n",
            "remote: Compressing objects:  25% (1/4)\u001b[K\rremote: Compressing objects:  50% (2/4)\u001b[K\rremote: Compressing objects:  75% (3/4)\u001b[K\rremote: Compressing objects: 100% (4/4)\u001b[K\rremote: Compressing objects: 100% (4/4), done.\u001b[K\n",
            "remote: Total 5 (delta 2), reused 2 (delta 1), pack-reused 0\u001b[K\n",
            "Unpacking objects: 100% (5/5), done.\n",
            "From https://github.com/rohit-khoiwal-30/msgmt\n",
            " * branch            HEAD       -> FETCH_HEAD\n",
            "Updating 4bf662f..a5224bf\n",
            "Checking out files: 100% (4/4), done.\n",
            "Fast-forward\n",
            " bertTripleLoss.ipynb  | 366 \u001b[32m++++++++++++++++++++++++++++++++++++++\u001b[m\n",
            " sentence-t5EUCL.ipynb |  33 \u001b[31m----\u001b[m\n",
            " useCONCT -.ipynb      | 366 \u001b[32m++++++++++++++++++++++++++++++++++++++\u001b[m\n",
            " useTripleLoss .ipynb  | 472 \u001b[32m++++++++++++++++++++++++++++++++++++++++++++++++++\u001b[m\n",
            " 4 files changed, 1204 insertions(+), 33 deletions(-)\n",
            " create mode 100644 bertTripleLoss.ipynb\n",
            " delete mode 100644 sentence-t5EUCL.ipynb\n",
            " create mode 100644 useCONCT -.ipynb\n",
            " create mode 100644 useTripleLoss .ipynb\n"
          ]
        }
      ]
    },
    {
      "cell_type": "code",
      "source": [
        "df = pd.read_csv(\"train.csv\")\n",
        "df_test = pd.read_csv(\"evaluation.csv\")"
      ],
      "metadata": {
        "id": "QEMF6nTiY6yk"
      },
      "id": "QEMF6nTiY6yk",
      "execution_count": 4,
      "outputs": []
    },
    {
      "cell_type": "code",
      "execution_count": 5,
      "id": "105eaf9a",
      "metadata": {
        "id": "105eaf9a",
        "outputId": "259ec882-4596-4eb7-ec28-3441476cdc2a",
        "colab": {
          "base_uri": "https://localhost:8080/"
        }
      },
      "outputs": [
        {
          "output_type": "stream",
          "name": "stdout",
          "text": [
            "  Building wheel for keras-self-attention (setup.py) ... \u001b[?25l\u001b[?25hdone\n"
          ]
        }
      ],
      "source": [
        "import tensorflow as tf\n",
        "import tensorflow.keras.backend as K\n",
        "import tensorflow.keras.layers as tfl\n",
        "from tensorflow.keras.models import Model\n",
        "from tensorflow.keras.callbacks import ModelCheckpoint\n",
        "from tensorflow.keras import Input\n",
        "from keras.regularizers import l2\n",
        "\n",
        "try:\n",
        "    import tensorflow_hub as hub\n",
        "except ModuleNotFoundError:\n",
        "    %pip install -q tensorflow_hub\n",
        "    import tensorflow_hub as hub\n",
        "    \n",
        "try:\n",
        "    from keras_self_attention import SeqSelfAttention\n",
        "except ModuleNotFoundError:\n",
        "    %pip install -q keras-self-attention\n",
        "    from keras_self_attention import SeqSelfAttention\n",
        "\n",
        "import numpy as np\n",
        "\n",
        "\n",
        "# %pip install -q transformers\n",
        "# %pip install -q -U tensorflow-text\n",
        "# %pip install -q tf-models-official==2.7.0\n",
        "\n",
        "import math as m"
      ]
    },
    {
      "cell_type": "code",
      "execution_count": 6,
      "id": "8b9b678b",
      "metadata": {
        "id": "8b9b678b"
      },
      "outputs": [],
      "source": [
        "huburl = \"https://tfhub.dev/google/universal-sentence-encoder/4\" \n",
        "fine_tuned_module_object = hub.load(huburl)"
      ]
    },
    {
      "cell_type": "code",
      "execution_count": 7,
      "id": "722fb270",
      "metadata": {
        "id": "722fb270"
      },
      "outputs": [],
      "source": [
        "def gen_random_batch(in_groups, batch_halfsize = 8):\n",
        "    text_batch, reason_batch, y_hat = [], [], []\n",
        "    all_groups = list(range(in_groups[0].shape[0]))\n",
        "    for match_group in [True, False]:\n",
        "        group_idx = np.random.choice(all_groups, size = batch_halfsize)\n",
        "        text_batch += [in_groups[0][c_idx] for c_idx in group_idx]\n",
        "        if match_group:\n",
        "            b_group_idx = group_idx\n",
        "            y_hat += [1]*batch_halfsize\n",
        "        else:\n",
        "            # anything but the same group\n",
        "            non_group_idx = [np.random.choice([i for i in all_groups if i!=c_idx]) for c_idx in group_idx] \n",
        "            b_group_idx = non_group_idx\n",
        "            y_hat += [0]*batch_halfsize\n",
        "            \n",
        "        reason_batch += [in_groups[1][c_idx] for c_idx in b_group_idx]\n",
        "            \n",
        "    return np.stack(text_batch, 0), np.stack(reason_batch, 0), np.stack(y_hat, 0)\n",
        "\n",
        "def siam_gen(in_groups, batch_size = 32):\n",
        "    while True:\n",
        "        text_stack, reason_stack, y_hatstack = gen_random_batch(in_groups, batch_size//2)\n",
        "        yield [text_stack, reason_stack], y_hatstack\n",
        "\n",
        "def euclidean_distance(vectors):\n",
        "    (featsA, featsB) = vectors\n",
        "    sumSquared = K.sum(K.square(featsA - featsB), axis=1, keepdims=True)\n",
        "    return K.sqrt(K.maximum(sumSquared, K.epsilon()))\n",
        "\n",
        "def contrastive_loss(y, preds, margin=1):\n",
        "    # explicitly cast the true class label data type to the predicted\n",
        "    # class label data type (otherwise we run the risk of having two\n",
        "    # separate data types, causing TensorFlow to error out)\n",
        "    y = tf.cast(y, preds.dtype)\n",
        "    # calculate the contrastive loss between the true labels and\n",
        "    # the predicted labels\n",
        "    squaredPreds = K.square(preds)\n",
        "    squaredMargin = K.square(K.maximum(margin - preds, 0))\n",
        "    loss = K.mean(y * squaredPreds + (1 - y) * squaredMargin)\n",
        "    return loss"
      ]
    },
    {
      "cell_type": "code",
      "execution_count": 8,
      "id": "7cd865e0",
      "metadata": {
        "id": "7cd865e0"
      },
      "outputs": [],
      "source": [
        "def accuracy(y_true, y_pred):\n",
        "    results = (y_pred <= 0.5).astype(int).squeeze()\n",
        "    return np.mean([y_true == results])"
      ]
    },
    {
      "cell_type": "code",
      "execution_count": 9,
      "id": "3b213f5b",
      "metadata": {
        "id": "3b213f5b"
      },
      "outputs": [],
      "source": [
        "def get_model():\n",
        "    shared_embedding_layer1 = hub.KerasLayer(fine_tuned_module_object, trainable=True, name=\"first\")\n",
        "    shared_embedding_layer2 = hub.KerasLayer(fine_tuned_module_object, trainable=True, name=\"second\")\n",
        "\n",
        "    left_input = tf.keras.Input(shape=(), dtype=tf.string)\n",
        "    right_input = tf.keras.Input(shape=(), dtype=tf.string)\n",
        "\n",
        "    embedding_left_output= shared_embedding_layer1(left_input)\n",
        "    a = tfl.Dropout(0.3)(embedding_left_output)\n",
        "    a = tfl.Dense(64, activation=\"linear\", kernel_regularizer=l2(1e-3), kernel_initializer='he_uniform')(a)\n",
        "    a = tfl.BatchNormalization()(a)\n",
        "    a = tfl.Activation('relu')(a)\n",
        "    a = tfl.Dropout(rate=0.2)(a)\n",
        "    a = tfl.Dense(32, activation=\"linear\", kernel_regularizer=l2(1e-3), kernel_initializer='he_uniform')(a)\n",
        "    a = tfl.BatchNormalization()(a)\n",
        "    a = tfl.Activation('relu')(a)\n",
        "    a = tfl.Lambda(lambda x: K.l2_normalize(x,axis=-1))(a)\n",
        "\n",
        "    embedding_right_output= shared_embedding_layer2(right_input)\n",
        "    b = tfl.Dropout(0.3)(embedding_right_output)\n",
        "    b = tfl.Dense(64, activation=\"linear\", kernel_regularizer=l2(1e-3), kernel_initializer='he_uniform')(b)\n",
        "    b = tfl.BatchNormalization()(b)\n",
        "    b = tfl.Activation('relu')(b)\n",
        "    b = tfl.Dropout(rate=0.2)(b)\n",
        "    b = tfl.Dense(32, activation=\"linear\", kernel_regularizer=l2(1e-3), kernel_initializer='he_uniform')(b)\n",
        "    b = tfl.BatchNormalization()(b)\n",
        "    b = tfl.Activation('relu')(b)\n",
        "    b = tfl.Lambda(lambda x: K.l2_normalize(x,axis=-1))(b)\n",
        "\n",
        "    distance = tfl.Lambda(euclidean_distance)([a, b])\n",
        "    # cosine_similiarity=tf.keras.layers.Dot(axes=-1,normalize=True)([a,b])\n",
        "\n",
        "    # output = tfl.Dense(1, activation=\"sigmoid\")(distance)\n",
        "    model = Model([left_input, right_input], distance)\n",
        "    return model"
      ]
    },
    {
      "cell_type": "code",
      "execution_count": 10,
      "id": "49246c10",
      "metadata": {
        "id": "49246c10"
      },
      "outputs": [],
      "source": [
        "model = get_model()"
      ]
    },
    {
      "cell_type": "code",
      "execution_count": 11,
      "id": "bda0b9b8",
      "metadata": {
        "colab": {
          "base_uri": "https://localhost:8080/"
        },
        "id": "bda0b9b8",
        "outputId": "53eb0049-8426-4aca-e581-0b1837724d27"
      },
      "outputs": [
        {
          "output_type": "stream",
          "name": "stdout",
          "text": [
            "Model: \"model\"\n",
            "__________________________________________________________________________________________________\n",
            " Layer (type)                   Output Shape         Param #     Connected to                     \n",
            "==================================================================================================\n",
            " input_1 (InputLayer)           [(None,)]            0           []                               \n",
            "                                                                                                  \n",
            " input_2 (InputLayer)           [(None,)]            0           []                               \n",
            "                                                                                                  \n",
            " first (KerasLayer)             (None, 512)          256797824   ['input_1[0][0]']                \n",
            "                                                                                                  \n",
            " second (KerasLayer)            (None, 512)          256797824   ['input_2[0][0]']                \n",
            "                                                                                                  \n",
            " dropout (Dropout)              (None, 512)          0           ['first[0][0]']                  \n",
            "                                                                                                  \n",
            " dropout_2 (Dropout)            (None, 512)          0           ['second[0][0]']                 \n",
            "                                                                                                  \n",
            " dense (Dense)                  (None, 64)           32832       ['dropout[0][0]']                \n",
            "                                                                                                  \n",
            " dense_2 (Dense)                (None, 64)           32832       ['dropout_2[0][0]']              \n",
            "                                                                                                  \n",
            " batch_normalization (BatchNorm  (None, 64)          256         ['dense[0][0]']                  \n",
            " alization)                                                                                       \n",
            "                                                                                                  \n",
            " batch_normalization_2 (BatchNo  (None, 64)          256         ['dense_2[0][0]']                \n",
            " rmalization)                                                                                     \n",
            "                                                                                                  \n",
            " activation (Activation)        (None, 64)           0           ['batch_normalization[0][0]']    \n",
            "                                                                                                  \n",
            " activation_2 (Activation)      (None, 64)           0           ['batch_normalization_2[0][0]']  \n",
            "                                                                                                  \n",
            " dropout_1 (Dropout)            (None, 64)           0           ['activation[0][0]']             \n",
            "                                                                                                  \n",
            " dropout_3 (Dropout)            (None, 64)           0           ['activation_2[0][0]']           \n",
            "                                                                                                  \n",
            " dense_1 (Dense)                (None, 32)           2080        ['dropout_1[0][0]']              \n",
            "                                                                                                  \n",
            " dense_3 (Dense)                (None, 32)           2080        ['dropout_3[0][0]']              \n",
            "                                                                                                  \n",
            " batch_normalization_1 (BatchNo  (None, 32)          128         ['dense_1[0][0]']                \n",
            " rmalization)                                                                                     \n",
            "                                                                                                  \n",
            " batch_normalization_3 (BatchNo  (None, 32)          128         ['dense_3[0][0]']                \n",
            " rmalization)                                                                                     \n",
            "                                                                                                  \n",
            " activation_1 (Activation)      (None, 32)           0           ['batch_normalization_1[0][0]']  \n",
            "                                                                                                  \n",
            " activation_3 (Activation)      (None, 32)           0           ['batch_normalization_3[0][0]']  \n",
            "                                                                                                  \n",
            " lambda (Lambda)                (None, 32)           0           ['activation_1[0][0]']           \n",
            "                                                                                                  \n",
            " lambda_1 (Lambda)              (None, 32)           0           ['activation_3[0][0]']           \n",
            "                                                                                                  \n",
            " lambda_2 (Lambda)              (None, 1)            0           ['lambda[0][0]',                 \n",
            "                                                                  'lambda_1[0][0]']               \n",
            "                                                                                                  \n",
            "==================================================================================================\n",
            "Total params: 256,868,416\n",
            "Trainable params: 256,868,032\n",
            "Non-trainable params: 384\n",
            "__________________________________________________________________________________________________\n"
          ]
        }
      ],
      "source": [
        "model.summary()"
      ]
    },
    {
      "cell_type": "code",
      "execution_count": 14,
      "id": "e670c2c9",
      "metadata": {
        "id": "e670c2c9"
      },
      "outputs": [],
      "source": [
        "model.compile(optimizer=\"adam\", loss = contrastive_loss, metrics = [tf.metrics.BinaryAccuracy()])"
      ]
    },
    {
      "cell_type": "code",
      "execution_count": 15,
      "id": "ce982823",
      "metadata": {
        "colab": {
          "base_uri": "https://localhost:8080/"
        },
        "id": "ce982823",
        "outputId": "f504affe-c6f2-4a6d-e99b-6cc2dd40bd08"
      },
      "outputs": [
        {
          "output_type": "stream",
          "name": "stdout",
          "text": [
            "Epoch 1/50\n",
            "50/50 [==============================] - 16s 204ms/step - loss: 0.9563 - binary_accuracy: 0.5000 - val_loss: 0.8700 - val_binary_accuracy: 0.5000\n",
            "Epoch 2/50\n",
            "50/50 [==============================] - 9s 187ms/step - loss: 0.7474 - binary_accuracy: 0.4941 - val_loss: 0.7749 - val_binary_accuracy: 0.5000\n",
            "Epoch 3/50\n",
            "50/50 [==============================] - 9s 186ms/step - loss: 0.5921 - binary_accuracy: 0.4256 - val_loss: 0.6550 - val_binary_accuracy: 0.4859\n",
            "Epoch 4/50\n",
            "50/50 [==============================] - 9s 186ms/step - loss: 0.4905 - binary_accuracy: 0.3137 - val_loss: 0.5622 - val_binary_accuracy: 0.3875\n",
            "Epoch 5/50\n",
            "50/50 [==============================] - 9s 187ms/step - loss: 0.4302 - binary_accuracy: 0.2281 - val_loss: 0.5144 - val_binary_accuracy: 0.3328\n",
            "Epoch 6/50\n",
            "50/50 [==============================] - 9s 186ms/step - loss: 0.3761 - binary_accuracy: 0.1675 - val_loss: 0.4752 - val_binary_accuracy: 0.3031\n",
            "Epoch 7/50\n",
            "50/50 [==============================] - 9s 188ms/step - loss: 0.3279 - binary_accuracy: 0.1244 - val_loss: 0.4501 - val_binary_accuracy: 0.2922\n",
            "Epoch 8/50\n",
            "50/50 [==============================] - 9s 187ms/step - loss: 0.2979 - binary_accuracy: 0.1153 - val_loss: 0.4200 - val_binary_accuracy: 0.2859\n",
            "Epoch 9/50\n",
            "50/50 [==============================] - 10s 193ms/step - loss: 0.2714 - binary_accuracy: 0.1097 - val_loss: 0.3892 - val_binary_accuracy: 0.2812\n",
            "Epoch 10/50\n",
            "50/50 [==============================] - 9s 188ms/step - loss: 0.2429 - binary_accuracy: 0.0978 - val_loss: 0.3717 - val_binary_accuracy: 0.2828\n",
            "Epoch 11/50\n",
            "50/50 [==============================] - 9s 188ms/step - loss: 0.2162 - binary_accuracy: 0.0887 - val_loss: 0.3641 - val_binary_accuracy: 0.2891\n",
            "Epoch 12/50\n",
            "50/50 [==============================] - 9s 185ms/step - loss: 0.1991 - binary_accuracy: 0.0947 - val_loss: 0.3336 - val_binary_accuracy: 0.2812\n",
            "Epoch 13/50\n",
            "50/50 [==============================] - 9s 187ms/step - loss: 0.1822 - binary_accuracy: 0.0925 - val_loss: 0.3317 - val_binary_accuracy: 0.2828\n",
            "Epoch 14/50\n",
            "50/50 [==============================] - 9s 187ms/step - loss: 0.1635 - binary_accuracy: 0.0812 - val_loss: 0.3052 - val_binary_accuracy: 0.2719\n",
            "Epoch 15/50\n",
            "50/50 [==============================] - 9s 187ms/step - loss: 0.1496 - binary_accuracy: 0.0775 - val_loss: 0.3003 - val_binary_accuracy: 0.2859\n",
            "Epoch 16/50\n",
            "50/50 [==============================] - 9s 188ms/step - loss: 0.1351 - binary_accuracy: 0.0716 - val_loss: 0.3033 - val_binary_accuracy: 0.2937\n",
            "Epoch 17/50\n",
            "50/50 [==============================] - 9s 187ms/step - loss: 0.1310 - binary_accuracy: 0.0800 - val_loss: 0.2864 - val_binary_accuracy: 0.2891\n",
            "Epoch 18/50\n",
            "50/50 [==============================] - 9s 186ms/step - loss: 0.1257 - binary_accuracy: 0.0781 - val_loss: 0.2802 - val_binary_accuracy: 0.2844\n",
            "Epoch 19/50\n",
            "50/50 [==============================] - 9s 185ms/step - loss: 0.1141 - binary_accuracy: 0.0725 - val_loss: 0.2797 - val_binary_accuracy: 0.2875\n",
            "Epoch 20/50\n",
            "50/50 [==============================] - 9s 186ms/step - loss: 0.1058 - binary_accuracy: 0.0706 - val_loss: 0.2799 - val_binary_accuracy: 0.2969\n",
            "Epoch 21/50\n",
            "50/50 [==============================] - 10s 201ms/step - loss: 0.1030 - binary_accuracy: 0.0669 - val_loss: 0.2760 - val_binary_accuracy: 0.2891\n",
            "Epoch 22/50\n",
            "50/50 [==============================] - 10s 198ms/step - loss: 0.0980 - binary_accuracy: 0.0703 - val_loss: 0.2707 - val_binary_accuracy: 0.2859\n",
            "Epoch 23/50\n",
            "50/50 [==============================] - 9s 187ms/step - loss: 0.0951 - binary_accuracy: 0.0697 - val_loss: 0.2659 - val_binary_accuracy: 0.2937\n",
            "Epoch 24/50\n",
            "50/50 [==============================] - 9s 187ms/step - loss: 0.0915 - binary_accuracy: 0.0666 - val_loss: 0.2788 - val_binary_accuracy: 0.2906\n",
            "Epoch 25/50\n",
            "50/50 [==============================] - 9s 187ms/step - loss: 0.0896 - binary_accuracy: 0.0647 - val_loss: 0.2674 - val_binary_accuracy: 0.2781\n",
            "Epoch 26/50\n",
            "50/50 [==============================] - 9s 187ms/step - loss: 0.0841 - binary_accuracy: 0.0609 - val_loss: 0.2725 - val_binary_accuracy: 0.2797\n",
            "Epoch 27/50\n",
            "50/50 [==============================] - 9s 188ms/step - loss: 0.0825 - binary_accuracy: 0.0575 - val_loss: 0.2774 - val_binary_accuracy: 0.2922\n",
            "Epoch 28/50\n",
            "50/50 [==============================] - 9s 187ms/step - loss: 0.0826 - binary_accuracy: 0.0628 - val_loss: 0.2620 - val_binary_accuracy: 0.2891\n",
            "Epoch 29/50\n",
            "50/50 [==============================] - 9s 187ms/step - loss: 0.0794 - binary_accuracy: 0.0603 - val_loss: 0.2584 - val_binary_accuracy: 0.2781\n",
            "Epoch 30/50\n",
            "50/50 [==============================] - 9s 187ms/step - loss: 0.0770 - binary_accuracy: 0.0559 - val_loss: 0.2555 - val_binary_accuracy: 0.2719\n",
            "Epoch 31/50\n",
            "50/50 [==============================] - 9s 187ms/step - loss: 0.0783 - binary_accuracy: 0.0606 - val_loss: 0.2586 - val_binary_accuracy: 0.2953\n",
            "Epoch 32/50\n",
            "50/50 [==============================] - 9s 188ms/step - loss: 0.0776 - binary_accuracy: 0.0584 - val_loss: 0.2622 - val_binary_accuracy: 0.2859\n",
            "Epoch 33/50\n",
            "50/50 [==============================] - 9s 187ms/step - loss: 0.0787 - binary_accuracy: 0.0591 - val_loss: 0.2604 - val_binary_accuracy: 0.2891\n",
            "Epoch 34/50\n",
            "50/50 [==============================] - 10s 196ms/step - loss: 0.0822 - binary_accuracy: 0.0700 - val_loss: 0.2566 - val_binary_accuracy: 0.2922\n",
            "Epoch 35/50\n",
            "50/50 [==============================] - 9s 188ms/step - loss: 0.0765 - binary_accuracy: 0.0581 - val_loss: 0.2610 - val_binary_accuracy: 0.2937\n",
            "Epoch 36/50\n",
            "50/50 [==============================] - 9s 186ms/step - loss: 0.0758 - binary_accuracy: 0.0622 - val_loss: 0.2636 - val_binary_accuracy: 0.2969\n",
            "Epoch 37/50\n",
            "50/50 [==============================] - 9s 187ms/step - loss: 0.0778 - binary_accuracy: 0.0656 - val_loss: 0.2631 - val_binary_accuracy: 0.3000\n",
            "Epoch 38/50\n",
            "50/50 [==============================] - 9s 187ms/step - loss: 0.0742 - binary_accuracy: 0.0594 - val_loss: 0.2416 - val_binary_accuracy: 0.2781\n",
            "Epoch 39/50\n",
            "50/50 [==============================] - 9s 187ms/step - loss: 0.0783 - binary_accuracy: 0.0684 - val_loss: 0.2572 - val_binary_accuracy: 0.2922\n",
            "Epoch 40/50\n",
            "50/50 [==============================] - 9s 186ms/step - loss: 0.0728 - binary_accuracy: 0.0569 - val_loss: 0.2492 - val_binary_accuracy: 0.2828\n",
            "Epoch 41/50\n",
            "50/50 [==============================] - 9s 188ms/step - loss: 0.0781 - binary_accuracy: 0.0678 - val_loss: 0.2605 - val_binary_accuracy: 0.2922\n",
            "Epoch 42/50\n",
            "50/50 [==============================] - 9s 190ms/step - loss: 0.0766 - binary_accuracy: 0.0594 - val_loss: 0.2568 - val_binary_accuracy: 0.2797\n",
            "Epoch 43/50\n",
            "50/50 [==============================] - 9s 187ms/step - loss: 0.0752 - binary_accuracy: 0.0578 - val_loss: 0.2582 - val_binary_accuracy: 0.2844\n",
            "Epoch 44/50\n",
            "50/50 [==============================] - 9s 187ms/step - loss: 0.0727 - binary_accuracy: 0.0562 - val_loss: 0.2599 - val_binary_accuracy: 0.2797\n",
            "Epoch 45/50\n",
            "50/50 [==============================] - 9s 186ms/step - loss: 0.0743 - binary_accuracy: 0.0628 - val_loss: 0.2764 - val_binary_accuracy: 0.2984\n",
            "Epoch 46/50\n",
            "50/50 [==============================] - 9s 187ms/step - loss: 0.0720 - binary_accuracy: 0.0559 - val_loss: 0.2658 - val_binary_accuracy: 0.3016\n",
            "Epoch 47/50\n",
            "50/50 [==============================] - 10s 204ms/step - loss: 0.0732 - binary_accuracy: 0.0591 - val_loss: 0.2671 - val_binary_accuracy: 0.2891\n",
            "Epoch 48/50\n",
            "50/50 [==============================] - 9s 188ms/step - loss: 0.0726 - binary_accuracy: 0.0591 - val_loss: 0.2568 - val_binary_accuracy: 0.2641\n",
            "Epoch 49/50\n",
            "50/50 [==============================] - 9s 187ms/step - loss: 0.0687 - binary_accuracy: 0.0512 - val_loss: 0.2609 - val_binary_accuracy: 0.2859\n",
            "Epoch 50/50\n",
            "50/50 [==============================] - 9s 188ms/step - loss: 0.0744 - binary_accuracy: 0.0594 - val_loss: 0.2736 - val_binary_accuracy: 0.3078\n"
          ]
        }
      ],
      "source": [
        "loss_history = model.fit(siam_gen([df[\"text\"], df[\"reason\"]], 64), \n",
        "                         validation_data = siam_gen([df_test[\"text\"], df_test[\"reason\"]], 64),\n",
        "                         steps_per_epoch=50, validation_steps=10, epochs = 50, \n",
        "                         verbose = True, use_multiprocessing=True)"
      ]
    },
    {
      "cell_type": "code",
      "execution_count": 16,
      "id": "d045fbf0",
      "metadata": {
        "id": "d045fbf0",
        "outputId": "2a8be889-d085-445c-b7e5-99bffb2cd1d3",
        "colab": {
          "base_uri": "https://localhost:8080/"
        }
      },
      "outputs": [
        {
          "output_type": "execute_result",
          "data": {
            "text/plain": [
              "0.997573993207181"
            ]
          },
          "metadata": {},
          "execution_count": 16
        }
      ],
      "source": [
        "y_preds = model.predict([df[\"text\"], df[\"reason\"]])\n",
        "accuracy(df[\"label\"],y_preds)"
      ]
    },
    {
      "cell_type": "code",
      "execution_count": 17,
      "id": "f7750ac3",
      "metadata": {
        "id": "f7750ac3",
        "outputId": "d6966d81-6ce1-438a-a2a6-24ab2e23fa67",
        "colab": {
          "base_uri": "https://localhost:8080/"
        }
      },
      "outputs": [
        {
          "output_type": "execute_result",
          "data": {
            "text/plain": [
              "0.5828888888888889"
            ]
          },
          "metadata": {},
          "execution_count": 17
        }
      ],
      "source": [
        "y_preds = model.predict([df_test[\"text\"], df_test[\"reason\"]])\n",
        "accuracy(df_test[\"label\"],y_preds)"
      ]
    },
    {
      "cell_type": "code",
      "execution_count": 18,
      "id": "75001d57",
      "metadata": {
        "id": "75001d57"
      },
      "outputs": [],
      "source": [
        "model.save(\"models/useEUCL/\")"
      ]
    },
    {
      "cell_type": "code",
      "execution_count": null,
      "id": "affe5802",
      "metadata": {
        "id": "affe5802"
      },
      "outputs": [],
      "source": [
        ""
      ]
    },
    {
      "cell_type": "code",
      "execution_count": null,
      "id": "c8141287",
      "metadata": {
        "id": "c8141287"
      },
      "outputs": [],
      "source": [
        ""
      ]
    },
    {
      "cell_type": "code",
      "execution_count": null,
      "id": "932f4ab5",
      "metadata": {
        "id": "932f4ab5"
      },
      "outputs": [],
      "source": [
        ""
      ]
    },
    {
      "cell_type": "code",
      "execution_count": null,
      "id": "c69e979a",
      "metadata": {
        "id": "c69e979a"
      },
      "outputs": [],
      "source": [
        ""
      ]
    }
  ],
  "metadata": {
    "kernelspec": {
      "display_name": "mlAsgmt",
      "language": "python",
      "name": "mlasgmt"
    },
    "language_info": {
      "codemirror_mode": {
        "name": "ipython",
        "version": 3
      },
      "file_extension": ".py",
      "mimetype": "text/x-python",
      "name": "python",
      "nbconvert_exporter": "python",
      "pygments_lexer": "ipython3",
      "version": "3.7.9"
    },
    "colab": {
      "name": "useEUCL-checkpoint.ipynb",
      "provenance": []
    },
    "accelerator": "GPU",
    "gpuClass": "standard"
  },
  "nbformat": 4,
  "nbformat_minor": 5
}