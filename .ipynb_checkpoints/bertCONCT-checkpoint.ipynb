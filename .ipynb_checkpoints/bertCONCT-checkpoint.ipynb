{
 "cells": [
  {
   "cell_type": "code",
   "execution_count": 1,
   "id": "31f1d5b5",
   "metadata": {},
   "outputs": [],
   "source": [
    "import pandas as pd"
   ]
  },
  {
   "cell_type": "code",
   "execution_count": 2,
   "id": "a32b3efc",
   "metadata": {},
   "outputs": [],
   "source": [
    "train_dataset = pd.read_csv(\"train.csv\")\n",
    "eval_dataset = pd.read_csv(\"evaluation.csv\")"
   ]
  },
  {
   "cell_type": "code",
   "execution_count": 3,
   "id": "60970f05",
   "metadata": {},
   "outputs": [
    {
     "name": "stdout",
     "output_type": "stream",
     "text": [
      "^C\n",
      "Note: you may need to restart the kernel to use updated packages.\n"
     ]
    },
    {
     "ename": "ModuleNotFoundError",
     "evalue": "No module named 'keras_self_attention'",
     "output_type": "error",
     "traceback": [
      "\u001b[1;31m---------------------------------------------------------------------------\u001b[0m",
      "\u001b[1;31mModuleNotFoundError\u001b[0m                       Traceback (most recent call last)",
      "\u001b[1;32m~\\AppData\\Local\\Temp\\ipykernel_33956\\2890649029.py\u001b[0m in \u001b[0;36m<module>\u001b[1;34m\u001b[0m\n\u001b[0;32m     14\u001b[0m \u001b[1;32mtry\u001b[0m\u001b[1;33m:\u001b[0m\u001b[1;33m\u001b[0m\u001b[1;33m\u001b[0m\u001b[0m\n\u001b[1;32m---> 15\u001b[1;33m     \u001b[1;32mfrom\u001b[0m \u001b[0mkeras_self_attention\u001b[0m \u001b[1;32mimport\u001b[0m \u001b[0mSeqSelfAttention\u001b[0m\u001b[1;33m\u001b[0m\u001b[1;33m\u001b[0m\u001b[0m\n\u001b[0m\u001b[0;32m     16\u001b[0m \u001b[1;32mexcept\u001b[0m \u001b[0mModuleNotFoundError\u001b[0m\u001b[1;33m:\u001b[0m\u001b[1;33m\u001b[0m\u001b[1;33m\u001b[0m\u001b[0m\n",
      "\u001b[1;31mModuleNotFoundError\u001b[0m: No module named 'keras_self_attention'",
      "\nDuring handling of the above exception, another exception occurred:\n",
      "\u001b[1;31mModuleNotFoundError\u001b[0m                       Traceback (most recent call last)",
      "\u001b[1;32m~\\AppData\\Local\\Temp\\ipykernel_33956\\2890649029.py\u001b[0m in \u001b[0;36m<module>\u001b[1;34m\u001b[0m\n\u001b[0;32m     16\u001b[0m \u001b[1;32mexcept\u001b[0m \u001b[0mModuleNotFoundError\u001b[0m\u001b[1;33m:\u001b[0m\u001b[1;33m\u001b[0m\u001b[1;33m\u001b[0m\u001b[0m\n\u001b[0;32m     17\u001b[0m     \u001b[0mget_ipython\u001b[0m\u001b[1;33m(\u001b[0m\u001b[1;33m)\u001b[0m\u001b[1;33m.\u001b[0m\u001b[0mrun_line_magic\u001b[0m\u001b[1;33m(\u001b[0m\u001b[1;34m'pip'\u001b[0m\u001b[1;33m,\u001b[0m \u001b[1;34m'install keras-self-attention'\u001b[0m\u001b[1;33m)\u001b[0m\u001b[1;33m\u001b[0m\u001b[1;33m\u001b[0m\u001b[0m\n\u001b[1;32m---> 18\u001b[1;33m     \u001b[1;32mfrom\u001b[0m \u001b[0mkeras_self_attention\u001b[0m \u001b[1;32mimport\u001b[0m \u001b[0mSeqSelfAttention\u001b[0m\u001b[1;33m\u001b[0m\u001b[1;33m\u001b[0m\u001b[0m\n\u001b[0m\u001b[0;32m     19\u001b[0m \u001b[1;33m\u001b[0m\u001b[0m\n\u001b[0;32m     20\u001b[0m \u001b[1;32mimport\u001b[0m \u001b[0mnumpy\u001b[0m \u001b[1;32mas\u001b[0m \u001b[0mnp\u001b[0m\u001b[1;33m\u001b[0m\u001b[1;33m\u001b[0m\u001b[0m\n",
      "\u001b[1;31mModuleNotFoundError\u001b[0m: No module named 'keras_self_attention'"
     ]
    }
   ],
   "source": [
    "import tensorflow as tf\n",
    "import tensorflow.keras.backend as K\n",
    "import tensorflow.keras.layers as tfl\n",
    "from tensorflow.keras.models import Model\n",
    "from tensorflow.keras.callbacks import ModelCheckpoint\n",
    "from tensorflow.keras import Input\n",
    "\n",
    "try:\n",
    "    import tensorflow_hub as hub\n",
    "except ModuleNotFoundError:\n",
    "    %pip install tensorflow_hub\n",
    "    import tensorflow_hub as hub\n",
    "    \n",
    "try:\n",
    "    from keras_self_attention import SeqSelfAttention\n",
    "except ModuleNotFoundError:\n",
    "    %pip install keras-self-attention\n",
    "    from keras_self_attention import SeqSelfAttention\n",
    "\n",
    "import numpy as np\n",
    "\n",
    "\n",
    "# %pip install -q transformers\n",
    "# %pip install -q -U tensorflow-text\n",
    "# %pip install -q tf-models-official==2.7.0\n",
    "\n",
    "import math as m"
   ]
  },
  {
   "cell_type": "code",
   "execution_count": null,
   "id": "39e6d422",
   "metadata": {},
   "outputs": [],
   "source": [
    "huburl = \"https://tfhub.dev/google/universal-sentence-encoder/4\" \n",
    "fine_tuned_module_object = hub.load(huburl)"
   ]
  },
  {
   "cell_type": "code",
   "execution_count": 5,
   "id": "722fb270",
   "metadata": {},
   "outputs": [],
   "source": [
    "def gen_random_batch(in_groups, batch_halfsize = 8):\n",
    "    text_batch, reason_batch, y_hat = [], [], []\n",
    "    all_groups = list(range(in_groups[0].shape[0]))\n",
    "    for match_group in [True, False]:\n",
    "        group_idx = np.random.choice(all_groups, size = batch_halfsize)\n",
    "        text_batch += [in_groups[0][c_idx] for c_idx in group_idx]\n",
    "        if match_group:\n",
    "            b_group_idx = group_idx\n",
    "            y_hat += [1]*batch_halfsize\n",
    "        else:\n",
    "            # anything but the same group\n",
    "            non_group_idx = [np.random.choice([i for i in all_groups if i!=c_idx]) for c_idx in group_idx] \n",
    "            b_group_idx = non_group_idx\n",
    "            y_hat += [0]*batch_halfsize\n",
    "            \n",
    "        reason_batch += [in_groups[1][c_idx] for c_idx in b_group_idx]\n",
    "            \n",
    "    return np.stack(text_batch, 0), np.stack(reason_batch, 0), np.stack(y_hat, 0)\n",
    "\n",
    "def siam_gen(in_groups, batch_size = 32):\n",
    "    while True:\n",
    "        text_stack, reason_stack, y_hatstack = gen_random_batch(in_groups, batch_size//2)\n",
    "        yield [text_stack, reason_stack], y_hatstack\n",
    "\n",
    "def euclidean_distance(vectors):\n",
    "    (featsA, featsB) = vectors\n",
    "    sumSquared = K.sum(K.square(featsA - featsB), axis=1, keepdims=True)\n",
    "    return K.sqrt(K.maximum(sumSquared, K.epsilon()))\n",
    "\n",
    "def contrastive_loss(y, preds, margin=1):\n",
    "    # explicitly cast the true class label data type to the predicted\n",
    "    # class label data type (otherwise we run the risk of having two\n",
    "    # separate data types, causing TensorFlow to error out)\n",
    "    y = tf.cast(y, preds.dtype)\n",
    "    # calculate the contrastive loss between the true labels and\n",
    "    # the predicted labels\n",
    "    squaredPreds = K.square(preds)\n",
    "    squaredMargin = K.square(K.maximum(margin - preds, 0))\n",
    "    loss = K.mean(y * squaredPreds + (1 - y) * squaredMargin)\n",
    "    return loss"
   ]
  },
  {
   "cell_type": "code",
   "execution_count": 6,
   "id": "90747622",
   "metadata": {},
   "outputs": [],
   "source": [
    "def accuracy(y_true, y_pred):\n",
    "    results = (y_pred <= 0.5).astype(int).squeeze()\n",
    "    return np.mean([y_true == results])"
   ]
  },
  {
   "cell_type": "code",
   "execution_count": 1,
   "id": "0237cee6",
   "metadata": {},
   "outputs": [],
   "source": [
    "tfhub_handle_preprocess = \"https://tfhub.dev/tensorflow/bert_en_uncased_preprocess/3\"\n",
    "tfhub_handle_encoder = \"https://tfhub.dev/tensorflow/small_bert/bert_en_uncased_L-4_H-512_A-8/2\"\n",
    "preprocessing_layer = hub.KerasLayer(tfhub_handle_preprocess)"
   ]
  },
  {
   "cell_type": "code",
   "execution_count": 2,
   "id": "8010b51c",
   "metadata": {},
   "outputs": [],
   "source": [
    "def encoder(name):\n",
    "    inputs = Input(shape=(), dtype=tf.string)\n",
    "    encoder = hub.KerasLayer(tfhub_handle_encoder, trainable=False, name=name)\n",
    "    \n",
    "    encoder_inputs = preprocessing_layer(inputs)\n",
    "    outputs = encoder(encoder_inputs)\n",
    "    net = outputs['pooled_output']\n",
    "    \n",
    "    a = tfl.Dense(64, activation=\"linear\")(net)\n",
    "    a = tfl.BatchNormalization()(a)\n",
    "    a = tfl.Activation('relu')(a)\n",
    "    a = tfl.Dense(32, activation=\"linear\")(a)\n",
    "    a = tfl.BatchNormalization()(a)\n",
    "    outputs = tfl.Activation('relu')(a)\n",
    "    \n",
    "    model = Model(inputs, outputs)\n",
    "    return model"
   ]
  },
  {
   "cell_type": "code",
   "execution_count": 4,
   "id": "05b1e776",
   "metadata": {},
   "outputs": [],
   "source": [
    "def get_model():\n",
    "    #textEncoder\n",
    "    inputText = Input(shape=(), dtype=tf.string)\n",
    "    text_embedd = encoder(\"textBertEncoder\")(inputText)\n",
    "\n",
    "    #reasonEncoder\n",
    "    inputReason = Input(shape=(), dtype=tf.string)\n",
    "    reason_embedd = encoder(\"reasonBertEncoder\")(inputReason)\n",
    "\n",
    "    combined_features = tfl.concatenate([text_embedd, reason_embedd], name = 'merge_features')\n",
    "    print(combined_features.shape)\n",
    "    combined_features = tfl.Dense(16, activation = 'linear')(combined_features)\n",
    "    combined_features = tfl.BatchNormalization()(combined_features)\n",
    "    combined_features = tfl.Activation('relu')(combined_features)\n",
    "    combined_features = tfl.Dense(4, activation = 'linear')(combined_features)\n",
    "    combined_features = tfl.BatchNormalization()(combined_features)\n",
    "    combined_features = tfl.Activation('relu')(combined_features)\n",
    "    combined_features = tfl.Dense(1, activation = 'sigmoid')(combined_features)\n",
    "    \n",
    "    model = Model(inputs = [inputText, inputReason], outputs = [combined_features], name=\"bertModel\")\n",
    "    return model"
   ]
  },
  {
   "cell_type": "code",
   "execution_count": 5,
   "id": "aa8fbcab",
   "metadata": {},
   "outputs": [
    {
     "ename": "NameError",
     "evalue": "name 'tf' is not defined",
     "output_type": "error",
     "traceback": [
      "\u001b[1;31m---------------------------------------------------------------------------\u001b[0m",
      "\u001b[1;31mNameError\u001b[0m                                 Traceback (most recent call last)",
      "\u001b[1;32m~\\AppData\\Local\\Temp\\ipykernel_2704\\379918828.py\u001b[0m in \u001b[0;36m<module>\u001b[1;34m\u001b[0m\n\u001b[1;32m----> 1\u001b[1;33m \u001b[0mmodel\u001b[0m \u001b[1;33m=\u001b[0m \u001b[0mget_model\u001b[0m\u001b[1;33m(\u001b[0m\u001b[1;33m)\u001b[0m\u001b[1;33m\u001b[0m\u001b[1;33m\u001b[0m\u001b[0m\n\u001b[0m",
      "\u001b[1;32m~\\AppData\\Local\\Temp\\ipykernel_2704\\176348810.py\u001b[0m in \u001b[0;36mget_model\u001b[1;34m()\u001b[0m\n\u001b[0;32m      1\u001b[0m \u001b[1;32mdef\u001b[0m \u001b[0mget_model\u001b[0m\u001b[1;33m(\u001b[0m\u001b[1;33m)\u001b[0m\u001b[1;33m:\u001b[0m\u001b[1;33m\u001b[0m\u001b[1;33m\u001b[0m\u001b[0m\n\u001b[0;32m      2\u001b[0m     \u001b[1;31m#textEncoder\u001b[0m\u001b[1;33m\u001b[0m\u001b[1;33m\u001b[0m\u001b[1;33m\u001b[0m\u001b[0m\n\u001b[1;32m----> 3\u001b[1;33m     \u001b[0minputText\u001b[0m \u001b[1;33m=\u001b[0m \u001b[0mtf\u001b[0m\u001b[1;33m.\u001b[0m\u001b[0mkeras\u001b[0m\u001b[1;33m.\u001b[0m\u001b[0mlayers\u001b[0m\u001b[1;33m.\u001b[0m\u001b[0mInput\u001b[0m\u001b[1;33m(\u001b[0m\u001b[0mshape\u001b[0m\u001b[1;33m=\u001b[0m\u001b[1;33m(\u001b[0m\u001b[1;33m)\u001b[0m\u001b[1;33m,\u001b[0m \u001b[0mdtype\u001b[0m\u001b[1;33m=\u001b[0m\u001b[0mtf\u001b[0m\u001b[1;33m.\u001b[0m\u001b[0mstring\u001b[0m\u001b[1;33m)\u001b[0m\u001b[1;33m\u001b[0m\u001b[1;33m\u001b[0m\u001b[0m\n\u001b[0m\u001b[0;32m      4\u001b[0m     \u001b[0mtext_embedd\u001b[0m \u001b[1;33m=\u001b[0m \u001b[0mencoder\u001b[0m\u001b[1;33m(\u001b[0m\u001b[1;34m\"textBertEncoder\"\u001b[0m\u001b[1;33m)\u001b[0m\u001b[1;33m(\u001b[0m\u001b[0minputText\u001b[0m\u001b[1;33m)\u001b[0m\u001b[1;33m\u001b[0m\u001b[1;33m\u001b[0m\u001b[0m\n\u001b[0;32m      5\u001b[0m \u001b[1;33m\u001b[0m\u001b[0m\n",
      "\u001b[1;31mNameError\u001b[0m: name 'tf' is not defined"
     ]
    }
   ],
   "source": [
    "model = get_model()"
   ]
  },
  {
   "cell_type": "code",
   "execution_count": null,
   "id": "5f2012db",
   "metadata": {},
   "outputs": [],
   "source": [
    "model.summary()"
   ]
  },
  {
   "cell_type": "code",
   "execution_count": null,
   "id": "1f08cb06",
   "metadata": {},
   "outputs": [],
   "source": [
    "model.compile(optimizer=\"adam\", loss = \"binary_crossentropy\", metrics = [adfsccuracy()])"
   ]
  },
  {
   "cell_type": "code",
   "execution_count": null,
   "id": "e31e0c4e",
   "metadata": {},
   "outputs": [],
   "source": [
    "loss_history = model.fit(siam_gen([df[\"clean_text\"], df[\"reason\"]], 64), \n",
    "                         validation_data = siam_gen([df_test[\"clean_text\"], df_test[\"reason\"]], 32),\n",
    "                         steps_per_epoch=50, validation_steps=10, epochs = 100, \n",
    "                         verbose = True, use_multiprocessing=True)"
   ]
  },
  {
   "cell_type": "code",
   "execution_count": null,
   "id": "4e5cf29b",
   "metadata": {},
   "outputs": [],
   "source": []
  },
  {
   "cell_type": "code",
   "execution_count": null,
   "id": "d3245393",
   "metadata": {},
   "outputs": [],
   "source": []
  },
  {
   "cell_type": "code",
   "execution_count": null,
   "id": "b0dd41b8",
   "metadata": {},
   "outputs": [],
   "source": []
  },
  {
   "cell_type": "code",
   "execution_count": null,
   "id": "20d2fa6b",
   "metadata": {},
   "outputs": [],
   "source": []
  },
  {
   "cell_type": "code",
   "execution_count": null,
   "id": "d1fed3c5",
   "metadata": {},
   "outputs": [],
   "source": []
  },
  {
   "cell_type": "code",
   "execution_count": null,
   "id": "816cf323",
   "metadata": {},
   "outputs": [],
   "source": []
  },
  {
   "cell_type": "code",
   "execution_count": null,
   "id": "2e3e2d20",
   "metadata": {},
   "outputs": [],
   "source": []
  },
  {
   "cell_type": "code",
   "execution_count": null,
   "id": "65d02e67",
   "metadata": {},
   "outputs": [],
   "source": []
  }
 ],
 "metadata": {
  "kernelspec": {
   "display_name": "mlAsgmt",
   "language": "python",
   "name": "mlasgmt"
  },
  "language_info": {
   "codemirror_mode": {
    "name": "ipython",
    "version": 3
   },
   "file_extension": ".py",
   "mimetype": "text/x-python",
   "name": "python",
   "nbconvert_exporter": "python",
   "pygments_lexer": "ipython3",
   "version": "3.7.9"
  }
 },
 "nbformat": 4,
 "nbformat_minor": 5
}
