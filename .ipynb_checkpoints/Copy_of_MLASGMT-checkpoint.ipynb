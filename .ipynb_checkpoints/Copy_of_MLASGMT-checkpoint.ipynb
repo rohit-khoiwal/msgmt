{
 "cells": [
  {
   "cell_type": "code",
   "execution_count": 1,
   "id": "781b5eb8",
   "metadata": {
    "id": "781b5eb8"
   },
   "outputs": [
    {
     "name": "stderr",
     "output_type": "stream",
     "text": [
      "c:\\users\\rohit khoiwal\\appdata\\local\\programs\\python\\python37\\lib\\site-packages\\sklearn\\feature_extraction\\image.py:167: DeprecationWarning: `np.int` is a deprecated alias for the builtin `int`. To silence this warning, use `int` by itself. Doing this will not modify any behavior and is safe. When replacing `np.int`, you may wish to use e.g. `np.int64` or `np.int32` to specify the precision. If you wish to review your current use, check the release note link for additional information.\n",
      "Deprecated in NumPy 1.20; for more details and guidance: https://numpy.org/devdocs/release/1.20.0-notes.html#deprecations\n",
      "  dtype=np.int):\n",
      "c:\\users\\rohit khoiwal\\appdata\\local\\programs\\python\\python37\\lib\\site-packages\\sklearn\\linear_model\\least_angle.py:35: DeprecationWarning: `np.float` is a deprecated alias for the builtin `float`. To silence this warning, use `float` by itself. Doing this will not modify any behavior and is safe. If you specifically wanted the numpy scalar type, use `np.float64` here.\n",
      "Deprecated in NumPy 1.20; for more details and guidance: https://numpy.org/devdocs/release/1.20.0-notes.html#deprecations\n",
      "  eps=np.finfo(np.float).eps,\n",
      "c:\\users\\rohit khoiwal\\appdata\\local\\programs\\python\\python37\\lib\\site-packages\\sklearn\\linear_model\\least_angle.py:597: DeprecationWarning: `np.float` is a deprecated alias for the builtin `float`. To silence this warning, use `float` by itself. Doing this will not modify any behavior and is safe. If you specifically wanted the numpy scalar type, use `np.float64` here.\n",
      "Deprecated in NumPy 1.20; for more details and guidance: https://numpy.org/devdocs/release/1.20.0-notes.html#deprecations\n",
      "  eps=np.finfo(np.float).eps, copy_X=True, fit_path=True,\n",
      "c:\\users\\rohit khoiwal\\appdata\\local\\programs\\python\\python37\\lib\\site-packages\\sklearn\\linear_model\\least_angle.py:836: DeprecationWarning: `np.float` is a deprecated alias for the builtin `float`. To silence this warning, use `float` by itself. Doing this will not modify any behavior and is safe. If you specifically wanted the numpy scalar type, use `np.float64` here.\n",
      "Deprecated in NumPy 1.20; for more details and guidance: https://numpy.org/devdocs/release/1.20.0-notes.html#deprecations\n",
      "  eps=np.finfo(np.float).eps, copy_X=True, fit_path=True,\n",
      "c:\\users\\rohit khoiwal\\appdata\\local\\programs\\python\\python37\\lib\\site-packages\\sklearn\\linear_model\\least_angle.py:862: DeprecationWarning: `np.float` is a deprecated alias for the builtin `float`. To silence this warning, use `float` by itself. Doing this will not modify any behavior and is safe. If you specifically wanted the numpy scalar type, use `np.float64` here.\n",
      "Deprecated in NumPy 1.20; for more details and guidance: https://numpy.org/devdocs/release/1.20.0-notes.html#deprecations\n",
      "  eps=np.finfo(np.float).eps, positive=False):\n",
      "c:\\users\\rohit khoiwal\\appdata\\local\\programs\\python\\python37\\lib\\site-packages\\sklearn\\linear_model\\least_angle.py:1097: DeprecationWarning: `np.float` is a deprecated alias for the builtin `float`. To silence this warning, use `float` by itself. Doing this will not modify any behavior and is safe. If you specifically wanted the numpy scalar type, use `np.float64` here.\n",
      "Deprecated in NumPy 1.20; for more details and guidance: https://numpy.org/devdocs/release/1.20.0-notes.html#deprecations\n",
      "  max_n_alphas=1000, n_jobs=None, eps=np.finfo(np.float).eps,\n",
      "c:\\users\\rohit khoiwal\\appdata\\local\\programs\\python\\python37\\lib\\site-packages\\sklearn\\linear_model\\least_angle.py:1344: DeprecationWarning: `np.float` is a deprecated alias for the builtin `float`. To silence this warning, use `float` by itself. Doing this will not modify any behavior and is safe. If you specifically wanted the numpy scalar type, use `np.float64` here.\n",
      "Deprecated in NumPy 1.20; for more details and guidance: https://numpy.org/devdocs/release/1.20.0-notes.html#deprecations\n",
      "  max_n_alphas=1000, n_jobs=None, eps=np.finfo(np.float).eps,\n",
      "c:\\users\\rohit khoiwal\\appdata\\local\\programs\\python\\python37\\lib\\site-packages\\sklearn\\linear_model\\least_angle.py:1480: DeprecationWarning: `np.float` is a deprecated alias for the builtin `float`. To silence this warning, use `float` by itself. Doing this will not modify any behavior and is safe. If you specifically wanted the numpy scalar type, use `np.float64` here.\n",
      "Deprecated in NumPy 1.20; for more details and guidance: https://numpy.org/devdocs/release/1.20.0-notes.html#deprecations\n",
      "  eps=np.finfo(np.float).eps, copy_X=True, positive=False):\n",
      "c:\\users\\rohit khoiwal\\appdata\\local\\programs\\python\\python37\\lib\\site-packages\\sklearn\\linear_model\\randomized_l1.py:152: DeprecationWarning: `np.float` is a deprecated alias for the builtin `float`. To silence this warning, use `float` by itself. Doing this will not modify any behavior and is safe. If you specifically wanted the numpy scalar type, use `np.float64` here.\n",
      "Deprecated in NumPy 1.20; for more details and guidance: https://numpy.org/devdocs/release/1.20.0-notes.html#deprecations\n",
      "  precompute=False, eps=np.finfo(np.float).eps,\n",
      "c:\\users\\rohit khoiwal\\appdata\\local\\programs\\python\\python37\\lib\\site-packages\\sklearn\\linear_model\\randomized_l1.py:320: DeprecationWarning: `np.float` is a deprecated alias for the builtin `float`. To silence this warning, use `float` by itself. Doing this will not modify any behavior and is safe. If you specifically wanted the numpy scalar type, use `np.float64` here.\n",
      "Deprecated in NumPy 1.20; for more details and guidance: https://numpy.org/devdocs/release/1.20.0-notes.html#deprecations\n",
      "  eps=np.finfo(np.float).eps, random_state=None,\n",
      "c:\\users\\rohit khoiwal\\appdata\\local\\programs\\python\\python37\\lib\\site-packages\\sklearn\\linear_model\\randomized_l1.py:580: DeprecationWarning: `np.float` is a deprecated alias for the builtin `float`. To silence this warning, use `float` by itself. Doing this will not modify any behavior and is safe. If you specifically wanted the numpy scalar type, use `np.float64` here.\n",
      "Deprecated in NumPy 1.20; for more details and guidance: https://numpy.org/devdocs/release/1.20.0-notes.html#deprecations\n",
      "  eps=4 * np.finfo(np.float).eps, n_jobs=None,\n"
     ]
    }
   ],
   "source": [
    "import pandas as pd\n",
    "import nltk\n",
    "from collections import defaultdict, Counter\n",
    "import matplotlib.pyplot as plt\n",
    "import seaborn as sns"
   ]
  },
  {
   "cell_type": "code",
   "execution_count": null,
   "id": "MGaGgUkPlPwf",
   "metadata": {
    "colab": {
     "base_uri": "https://localhost:8080/"
    },
    "id": "MGaGgUkPlPwf",
    "outputId": "73ab3df2-f983-4ba9-d960-06e4db7e92ee"
   },
   "outputs": [
    {
     "name": "stdout",
     "output_type": "stream",
     "text": [
      "Mounted at /content/drive\n"
     ]
    }
   ],
   "source": [
    "from google.colab import drive\n",
    "drive.mount('/content/drive')"
   ]
  },
  {
   "cell_type": "code",
   "execution_count": null,
   "id": "hE-xnJZtlV8U",
   "metadata": {
    "colab": {
     "base_uri": "https://localhost:8080/",
     "height": 35
    },
    "id": "hE-xnJZtlV8U",
    "outputId": "ef62780b-359d-415d-8d5a-6113ec024731"
   },
   "outputs": [
    {
     "data": {
      "application/vnd.google.colaboratory.intrinsic+json": {
       "type": "string"
      },
      "text/plain": [
       "'/content'"
      ]
     },
     "execution_count": 3,
     "metadata": {},
     "output_type": "execute_result"
    }
   ],
   "source": [
    "import os\n",
    "os.getcwd()"
   ]
  },
  {
   "cell_type": "code",
   "execution_count": null,
   "id": "aZnCPNc7lqJX",
   "metadata": {
    "colab": {
     "base_uri": "https://localhost:8080/",
     "height": 35
    },
    "id": "aZnCPNc7lqJX",
    "outputId": "40debc1c-9dfd-4dba-f2e6-338f53c2db9e"
   },
   "outputs": [
    {
     "data": {
      "application/vnd.google.colaboratory.intrinsic+json": {
       "type": "string"
      },
      "text/plain": [
       "'/content/drive/MyDrive/mlasgmt'"
      ]
     },
     "execution_count": 4,
     "metadata": {},
     "output_type": "execute_result"
    }
   ],
   "source": [
    "os.chdir(\"/content/drive/MyDrive/mlasgmt\")\n",
    "os.getcwd()"
   ]
  },
  {
   "cell_type": "code",
   "execution_count": 2,
   "id": "79ead4b3",
   "metadata": {
    "id": "79ead4b3"
   },
   "outputs": [],
   "source": [
    "df = pd.read_excel(\"train.xlsx\")"
   ]
  },
  {
   "cell_type": "code",
   "execution_count": 3,
   "id": "f8a95071",
   "metadata": {
    "colab": {
     "base_uri": "https://localhost:8080/",
     "height": 206
    },
    "id": "f8a95071",
    "outputId": "188b31ba-49ae-4d06-e9f6-363e52962209"
   },
   "outputs": [
    {
     "data": {
      "text/html": [
       "<div>\n",
       "<style scoped>\n",
       "    .dataframe tbody tr th:only-of-type {\n",
       "        vertical-align: middle;\n",
       "    }\n",
       "\n",
       "    .dataframe tbody tr th {\n",
       "        vertical-align: top;\n",
       "    }\n",
       "\n",
       "    .dataframe thead th {\n",
       "        text-align: right;\n",
       "    }\n",
       "</style>\n",
       "<table border=\"1\" class=\"dataframe\">\n",
       "  <thead>\n",
       "    <tr style=\"text-align: right;\">\n",
       "      <th></th>\n",
       "      <th>text</th>\n",
       "      <th>reason</th>\n",
       "      <th>label</th>\n",
       "    </tr>\n",
       "  </thead>\n",
       "  <tbody>\n",
       "    <tr>\n",
       "      <th>0</th>\n",
       "      <td>this is an amazing app for online classes!but</td>\n",
       "      <td>good app for conducting online classes</td>\n",
       "      <td>1.0</td>\n",
       "    </tr>\n",
       "    <tr>\n",
       "      <th>1</th>\n",
       "      <td>very practical and easy to use</td>\n",
       "      <td>app is user-friendly</td>\n",
       "      <td>1.0</td>\n",
       "    </tr>\n",
       "    <tr>\n",
       "      <th>2</th>\n",
       "      <td>this app is very good for video conferencing.</td>\n",
       "      <td>good for video conferencing</td>\n",
       "      <td>1.0</td>\n",
       "    </tr>\n",
       "    <tr>\n",
       "      <th>3</th>\n",
       "      <td>i can not download this zoom app</td>\n",
       "      <td>unable to download zoom app</td>\n",
       "      <td>1.0</td>\n",
       "    </tr>\n",
       "    <tr>\n",
       "      <th>4</th>\n",
       "      <td>i am not able to download this app</td>\n",
       "      <td>want to download the app</td>\n",
       "      <td>1.0</td>\n",
       "    </tr>\n",
       "  </tbody>\n",
       "</table>\n",
       "</div>"
      ],
      "text/plain": [
       "                                            text  \\\n",
       "0  this is an amazing app for online classes!but   \n",
       "1                 very practical and easy to use   \n",
       "2  this app is very good for video conferencing.   \n",
       "3               i can not download this zoom app   \n",
       "4             i am not able to download this app   \n",
       "\n",
       "                                   reason  label  \n",
       "0  good app for conducting online classes    1.0  \n",
       "1                    app is user-friendly    1.0  \n",
       "2             good for video conferencing    1.0  \n",
       "3             unable to download zoom app    1.0  \n",
       "4                want to download the app    1.0  "
      ]
     },
     "execution_count": 3,
     "metadata": {},
     "output_type": "execute_result"
    }
   ],
   "source": [
    "df.head()"
   ]
  },
  {
   "cell_type": "code",
   "execution_count": 4,
   "id": "eb98ac95",
   "metadata": {
    "colab": {
     "base_uri": "https://localhost:8080/"
    },
    "id": "eb98ac95",
    "outputId": "29c2e8a1-519c-4c2b-d078-610c478f5314"
   },
   "outputs": [
    {
     "data": {
      "text/plain": [
       "(2061, 3)"
      ]
     },
     "execution_count": 4,
     "metadata": {},
     "output_type": "execute_result"
    }
   ],
   "source": [
    "df.shape"
   ]
  },
  {
   "cell_type": "markdown",
   "id": "87965a6d",
   "metadata": {
    "id": "87965a6d"
   },
   "source": [
    "## Exploratory data analysis"
   ]
  },
  {
   "cell_type": "code",
   "execution_count": 5,
   "id": "5f68b2a4",
   "metadata": {
    "id": "5f68b2a4"
   },
   "outputs": [],
   "source": [
    "textLen = df['text'].str.len()\n",
    "reasonLen = df['reason'].str.len()"
   ]
  },
  {
   "cell_type": "code",
   "execution_count": 6,
   "id": "68bfff70",
   "metadata": {
    "colab": {
     "base_uri": "https://localhost:8080/",
     "height": 397
    },
    "id": "68bfff70",
    "outputId": "8d7c0ef4-9bc6-41b5-ab07-a1e3394a5440"
   },
   "outputs": [
    {
     "data": {
      "image/png": "[encoded data removed]",
      "text/plain": [
       "<Figure size 1080x432 with 2 Axes>"
      ]
     },
     "metadata": {
      "needs_background": "light"
     },
     "output_type": "display_data"
    }
   ],
   "source": [
    "fig, ax = plt.subplots(1,2, figsize=(15,6), sharey=True)\n",
    "_ = ax[0].hist(textLen)\n",
    "_ = ax[1].hist(reasonLen)\n",
    "ax[0].set_xlabel(\"Length of Text\", fontsize=20)\n",
    "# ax[0].set_ylabel(\"Count\", fontsize=20)\n",
    "ax[1].set_xlabel(\"Length of Reason\", fontsize=20)\n",
    "sns.despine()"
   ]
  },
  {
   "cell_type": "code",
   "execution_count": 7,
   "id": "cfb4fb8b",
   "metadata": {
    "id": "cfb4fb8b"
   },
   "outputs": [],
   "source": [
    "textWordLen = df[\"text\"].str.split().map(lambda x: len(x))\n",
    "reasonWordLen = df[\"reason\"].str.split().map(lambda x: len(x))"
   ]
  },
  {
   "cell_type": "code",
   "execution_count": 8,
   "id": "8889218d",
   "metadata": {
    "colab": {
     "base_uri": "https://localhost:8080/",
     "height": 397
    },
    "id": "8889218d",
    "outputId": "e640173d-5ccf-4db0-a51b-98267b1e2cfe"
   },
   "outputs": [
    {
     "data": {
      "image/png": "[encoded data removed]",
      "text/plain": [
       "<Figure size 1080x432 with 2 Axes>"
      ]
     },
     "metadata": {
      "needs_background": "light"
     },
     "output_type": "display_data"
    }
   ],
   "source": [
    "fig, ax = plt.subplots(1,2, figsize=(15,6), sharey=True)\n",
    "_ = ax[0].hist(textWordLen)\n",
    "_ = ax[1].hist(reasonWordLen)\n",
    "ax[0].set_xlabel(\"No. of words in Text\", fontsize=20)\n",
    "# ax[0].set_ylabel(\"Count\", fontsize=20)\n",
    "ax[1].set_xlabel(\"No. of words in Reason\", fontsize=20)\n",
    "sns.despine()"
   ]
  },
  {
   "cell_type": "code",
   "execution_count": 9,
   "id": "c4f00701",
   "metadata": {
    "colab": {
     "base_uri": "https://localhost:8080/"
    },
    "id": "c4f00701",
    "outputId": "f748a18c-42b2-49ee-b4b5-2ad7bf5330ca"
   },
   "outputs": [
    {
     "name": "stderr",
     "output_type": "stream",
     "text": [
      "[nltk_data] Downloading package stopwords to C:\\Users\\Rohit\n",
      "[nltk_data]     Khoiwal\\AppData\\Roaming\\nltk_data...\n",
      "[nltk_data]   Package stopwords is already up-to-date!\n"
     ]
    }
   ],
   "source": [
    "nltk.download('stopwords')\n",
    "from nltk.corpus import stopwords"
   ]
  },
  {
   "cell_type": "code",
   "execution_count": 10,
   "id": "478052ad",
   "metadata": {
    "id": "478052ad"
   },
   "outputs": [],
   "source": [
    "stop=set(stopwords.words('english'))"
   ]
  },
  {
   "cell_type": "code",
   "execution_count": 11,
   "id": "3112b220",
   "metadata": {
    "id": "3112b220"
   },
   "outputs": [],
   "source": [
    "corpus=[]\n",
    "new = df['text'].str.split()\n",
    "new = new.values.tolist()\n",
    "corpus=[word for i in new for word in i]\n",
    "\n",
    "dic=defaultdict(int)\n",
    "\n",
    "for word in corpus:\n",
    "    if word in stop:\n",
    "        dic[word]+=1\n",
    "        \n",
    "top=sorted(dic.items(), key=lambda x:x[1],reverse=True)[:10] \n",
    "xtext, ytext =zip(*top)"
   ]
  },
  {
   "cell_type": "code",
   "execution_count": 12,
   "id": "be4339b9",
   "metadata": {
    "colab": {
     "base_uri": "https://localhost:8080/"
    },
    "id": "be4339b9",
    "outputId": "7e6e1fa1-4031-42a1-bdb2-864bb2dd4d78"
   },
   "outputs": [
    {
     "data": {
      "text/plain": [
       "110"
      ]
     },
     "execution_count": 12,
     "metadata": {},
     "output_type": "execute_result"
    }
   ],
   "source": [
    "len(dic.keys())"
   ]
  },
  {
   "cell_type": "code",
   "execution_count": 13,
   "id": "d0231e79",
   "metadata": {
    "id": "d0231e79"
   },
   "outputs": [],
   "source": [
    "corpus=[]\n",
    "new = df['reason'].str.split()\n",
    "new = new.values.tolist()\n",
    "corpus=[word for i in new for word in i]\n",
    "\n",
    "dic=defaultdict(int)\n",
    "\n",
    "for word in corpus:\n",
    "    if word in stop:\n",
    "        dic[word]+=1\n",
    "        \n",
    "top=sorted(dic.items(), key=lambda x:x[1],reverse=True)[:10] \n",
    "xreason, yreason=zip(*top)"
   ]
  },
  {
   "cell_type": "code",
   "execution_count": 14,
   "id": "c7c52c1d",
   "metadata": {
    "colab": {
     "base_uri": "https://localhost:8080/"
    },
    "id": "c7c52c1d",
    "outputId": "d42b1c77-7202-491f-a08e-3c3cf1ae829f"
   },
   "outputs": [
    {
     "data": {
      "text/plain": [
       "73"
      ]
     },
     "execution_count": 14,
     "metadata": {},
     "output_type": "execute_result"
    }
   ],
   "source": [
    "len(dic.keys())"
   ]
  },
  {
   "cell_type": "code",
   "execution_count": 15,
   "id": "2d494f18",
   "metadata": {
    "colab": {
     "base_uri": "https://localhost:8080/",
     "height": 374
    },
    "id": "2d494f18",
    "outputId": "ffd90328-7f0e-463b-c4ed-82b137fdbc9a"
   },
   "outputs": [
    {
     "data": {
      "image/png": "[encoded data removed]",
      "text/plain": [
       "<Figure size 1080x432 with 2 Axes>"
      ]
     },
     "metadata": {
      "needs_background": "light"
     },
     "output_type": "display_data"
    }
   ],
   "source": [
    "fig, ax = plt.subplots(1,2, figsize=(15,6))\n",
    "ax[0].bar(xtext,ytext)\n",
    "ax[1].bar(xreason,yreason)\n",
    "sns.despine()"
   ]
  },
  {
   "cell_type": "markdown",
   "id": "2b024655",
   "metadata": {
    "id": "2b024655"
   },
   "source": [
    "## Preprocess Tweets"
   ]
  },
  {
   "cell_type": "markdown",
   "id": "cc071835",
   "metadata": {
    "id": "cc071835"
   },
   "source": [
    " - We didn't remove stopwords bcoz its give meaning semantic comparison"
   ]
  },
  {
   "cell_type": "code",
   "execution_count": 16,
   "id": "22aae95e",
   "metadata": {
    "colab": {
     "base_uri": "https://localhost:8080/"
    },
    "id": "22aae95e",
    "outputId": "e0ba422b-6a27-45f2-f31e-431e7d0cfd4e"
   },
   "outputs": [
    {
     "name": "stderr",
     "output_type": "stream",
     "text": [
      "[nltk_data] Downloading package omw-1.4 to C:\\Users\\Rohit\n",
      "[nltk_data]     Khoiwal\\AppData\\Roaming\\nltk_data...\n",
      "[nltk_data]   Package omw-1.4 is already up-to-date!\n",
      "[nltk_data] Downloading package wordnet to C:\\Users\\Rohit\n",
      "[nltk_data]     Khoiwal\\AppData\\Roaming\\nltk_data...\n",
      "[nltk_data]   Package wordnet is already up-to-date!\n",
      "[nltk_data] Downloading package punkt to C:\\Users\\Rohit\n",
      "[nltk_data]     Khoiwal\\AppData\\Roaming\\nltk_data...\n",
      "[nltk_data]   Package punkt is already up-to-date!\n"
     ]
    },
    {
     "data": {
      "text/plain": [
       "True"
      ]
     },
     "execution_count": 16,
     "metadata": {},
     "output_type": "execute_result"
    }
   ],
   "source": [
    "from nltk.stem import LancasterStemmer, WordNetLemmatizer\n",
    "import string, re\n",
    "nltk.download('omw-1.4')\n",
    "nltk.download('wordnet')\n",
    "nltk.download('punkt')"
   ]
  },
  {
   "cell_type": "code",
   "execution_count": 17,
   "id": "895180fe",
   "metadata": {
    "id": "895180fe"
   },
   "outputs": [],
   "source": [
    "def remove_punc(data):\n",
    "    trans = str.maketrans(' ','', string.punctuation)\n",
    "    return data.translate(trans)\n",
    "def remove_punctuation(text):\n",
    "    translator = re.compile('[%s]' % re.escape(string.punctuation))\n",
    "    text = translator.sub(\" \",text)\n",
    "    return text\n",
    "def remove_white_space(data):\n",
    "    return ' '.join(data.split())"
   ]
  },
  {
   "cell_type": "code",
   "execution_count": 18,
   "id": "7b56483b",
   "metadata": {
    "id": "7b56483b"
   },
   "outputs": [],
   "source": [
    "def stemming(data):\n",
    "    stemmer = LancasterStemmer()\n",
    "    stemmed = []\n",
    "    for i in data:\n",
    "        stem = stemmer.stem(i)\n",
    "        stemmed.append(stem)\n",
    "    return stemmed"
   ]
  },
  {
   "cell_type": "code",
   "execution_count": 19,
   "id": "9c03a040",
   "metadata": {
    "id": "9c03a040"
   },
   "outputs": [],
   "source": [
    "def lemmatization(data):\n",
    "    lemma = WordNetLemmatizer()\n",
    "    lemmas = []\n",
    "    for i in data:\n",
    "        lem = lemma.lemmatize(i, pos='v')\n",
    "        lemmas.append(lem)\n",
    "    return lemmas  "
   ]
  },
  {
   "cell_type": "code",
   "execution_count": 20,
   "id": "b1a1a546",
   "metadata": {
    "id": "b1a1a546"
   },
   "outputs": [],
   "source": [
    "def preprocessText(text):\n",
    "    text = text.lower()\n",
    "    text = re.sub(r\"[\\([{})\\]]\", \"\", text) ## removing brackets\n",
    "    text = remove_punctuation(text)\n",
    "    text = remove_white_space(text)\n",
    "    tokens = nltk.word_tokenize(text)\n",
    "    tokens = lemmatization(tokens)\n",
    "    return \" \".join(tokens)"
   ]
  },
  {
   "cell_type": "code",
   "execution_count": 21,
   "id": "2a86ddc3",
   "metadata": {
    "id": "2a86ddc3"
   },
   "outputs": [],
   "source": [
    "df[\"clean_text\"] = df[\"text\"].map(preprocessText)"
   ]
  },
  {
   "cell_type": "code",
   "execution_count": 22,
   "id": "sFWl1ucR-yr5",
   "metadata": {
    "colab": {
     "base_uri": "https://localhost:8080/",
     "height": 206
    },
    "id": "sFWl1ucR-yr5",
    "outputId": "4c9d7ac0-3d63-4647-e4a8-79ac0667acd9"
   },
   "outputs": [
    {
     "data": {
      "text/html": [
       "<div>\n",
       "<style scoped>\n",
       "    .dataframe tbody tr th:only-of-type {\n",
       "        vertical-align: middle;\n",
       "    }\n",
       "\n",
       "    .dataframe tbody tr th {\n",
       "        vertical-align: top;\n",
       "    }\n",
       "\n",
       "    .dataframe thead th {\n",
       "        text-align: right;\n",
       "    }\n",
       "</style>\n",
       "<table border=\"1\" class=\"dataframe\">\n",
       "  <thead>\n",
       "    <tr style=\"text-align: right;\">\n",
       "      <th></th>\n",
       "      <th>text</th>\n",
       "      <th>reason</th>\n",
       "      <th>label</th>\n",
       "      <th>clean_text</th>\n",
       "    </tr>\n",
       "  </thead>\n",
       "  <tbody>\n",
       "    <tr>\n",
       "      <th>0</th>\n",
       "      <td>this is an amazing app for online classes!but</td>\n",
       "      <td>good app for conducting online classes</td>\n",
       "      <td>1.0</td>\n",
       "      <td>this be an amaze app for online class but</td>\n",
       "    </tr>\n",
       "    <tr>\n",
       "      <th>1</th>\n",
       "      <td>very practical and easy to use</td>\n",
       "      <td>app is user-friendly</td>\n",
       "      <td>1.0</td>\n",
       "      <td>very practical and easy to use</td>\n",
       "    </tr>\n",
       "    <tr>\n",
       "      <th>2</th>\n",
       "      <td>this app is very good for video conferencing.</td>\n",
       "      <td>good for video conferencing</td>\n",
       "      <td>1.0</td>\n",
       "      <td>this app be very good for video conferencing</td>\n",
       "    </tr>\n",
       "    <tr>\n",
       "      <th>3</th>\n",
       "      <td>i can not download this zoom app</td>\n",
       "      <td>unable to download zoom app</td>\n",
       "      <td>1.0</td>\n",
       "      <td>i can not download this zoom app</td>\n",
       "    </tr>\n",
       "    <tr>\n",
       "      <th>4</th>\n",
       "      <td>i am not able to download this app</td>\n",
       "      <td>want to download the app</td>\n",
       "      <td>1.0</td>\n",
       "      <td>i be not able to download this app</td>\n",
       "    </tr>\n",
       "  </tbody>\n",
       "</table>\n",
       "</div>"
      ],
      "text/plain": [
       "                                            text  \\\n",
       "0  this is an amazing app for online classes!but   \n",
       "1                 very practical and easy to use   \n",
       "2  this app is very good for video conferencing.   \n",
       "3               i can not download this zoom app   \n",
       "4             i am not able to download this app   \n",
       "\n",
       "                                   reason  label  \\\n",
       "0  good app for conducting online classes    1.0   \n",
       "1                    app is user-friendly    1.0   \n",
       "2             good for video conferencing    1.0   \n",
       "3             unable to download zoom app    1.0   \n",
       "4                want to download the app    1.0   \n",
       "\n",
       "                                     clean_text  \n",
       "0     this be an amaze app for online class but  \n",
       "1                very practical and easy to use  \n",
       "2  this app be very good for video conferencing  \n",
       "3              i can not download this zoom app  \n",
       "4            i be not able to download this app  "
      ]
     },
     "execution_count": 22,
     "metadata": {},
     "output_type": "execute_result"
    }
   ],
   "source": [
    "df.head()"
   ]
  },
  {
   "cell_type": "code",
   "execution_count": 23,
   "id": "a5FZZ_lomTCy",
   "metadata": {
    "id": "a5FZZ_lomTCy"
   },
   "outputs": [],
   "source": [
    "import json"
   ]
  },
  {
   "cell_type": "code",
   "execution_count": 24,
   "id": "4mvO9COBCVJ4",
   "metadata": {
    "colab": {
     "base_uri": "https://localhost:8080/"
    },
    "id": "4mvO9COBCVJ4",
    "outputId": "4a1b7d4c-c892-43a0-fd02-ca2160620e6e"
   },
   "outputs": [
    {
     "name": "stdout",
     "output_type": "stream",
     "text": [
      "BERT model selected           : https://tfhub.dev/tensorflow/small_bert/bert_en_uncased_L-4_H-512_A-8/1\n",
      "Preprocess model auto-selected: https://tfhub.dev/tensorflow/bert_en_uncased_preprocess/3\n"
     ]
    }
   ],
   "source": [
    "bert_model_name = 'small_bert/bert_en_uncased_L-4_H-512_A-8' \n",
    "\n",
    "with open('model.json', 'r') as openfile:\n",
    "    map_name_to_handle = json.load(openfile)\n",
    "\n",
    "with open('preprocess.json', 'r') as openfile:\n",
    "    map_model_to_preprocess = json.load(openfile)\n",
    "\n",
    "tfhub_handle_encoder = map_name_to_handle[bert_model_name]\n",
    "tfhub_handle_preprocess = map_model_to_preprocess[bert_model_name]\n",
    "\n",
    "print(f'BERT model selected           : {tfhub_handle_encoder}')\n",
    "print(f'Preprocess model auto-selected: {tfhub_handle_preprocess}')\n"
   ]
  },
  {
   "cell_type": "markdown",
   "id": "8c654cc7",
   "metadata": {
    "id": "8c654cc7"
   },
   "source": [
    "# Models"
   ]
  },
  {
   "cell_type": "code",
   "execution_count": 25,
   "id": "_sppnM2gn_3L",
   "metadata": {
    "id": "_sppnM2gn_3L"
   },
   "outputs": [],
   "source": [
    "def gen_random_batch(in_groups, batch_halfsize = 8):\n",
    "    text_batch, reason_batch, y_hat = [], [], []\n",
    "    all_groups = list(range(in_groups[0].shape[0]))\n",
    "    # print(len(all_groups))\n",
    "    for match_group in [True, False]:\n",
    "        group_idx = np.random.choice(all_groups, size = batch_halfsize)\n",
    "        # print(group_idx)\n",
    "        text_batch += [in_groups[0][c_idx] for c_idx in group_idx]\n",
    "        if match_group:\n",
    "            b_group_idx = group_idx\n",
    "            y_hat += [1]*batch_halfsize\n",
    "        else:\n",
    "            # anything but the same group\n",
    "            non_group_idx = [np.random.choice([i for i in all_groups if i!=c_idx]) for c_idx in group_idx] \n",
    "            b_group_idx = non_group_idx\n",
    "            y_hat += [0]*batch_halfsize\n",
    "            \n",
    "        reason_batch += [in_groups[1][c_idx] for c_idx in b_group_idx]\n",
    "            \n",
    "    return np.stack(text_batch, 0), np.stack(reason_batch, 0), np.stack(y_hat, 0)"
   ]
  },
  {
   "cell_type": "code",
   "execution_count": 26,
   "id": "Lzhx_hfwoDK3",
   "metadata": {
    "id": "Lzhx_hfwoDK3"
   },
   "outputs": [],
   "source": [
    "# text_batch, reason_batch, y_stack = gen_random_batch([df[\"text\"], df[\"reason\"]])\n",
    "def siam_gen(in_groups, batch_size = 32):\n",
    "    while True:\n",
    "        text_stack, reason_stack, y_hatstack = gen_random_batch(in_groups, batch_size//2)\n",
    "        yield [text_stack, reason_stack], y_hatstack"
   ]
  },
  {
   "cell_type": "markdown",
   "id": "7TkdwCJQnJwQ",
   "metadata": {
    "id": "7TkdwCJQnJwQ"
   },
   "source": [
    "## Two encoder without bert model"
   ]
  },
  {
   "cell_type": "code",
   "execution_count": null,
   "id": "LXjQHB4Pn6qh",
   "metadata": {
    "id": "LXjQHB4Pn6qh"
   },
   "outputs": [],
   "source": [
    "%pip install -q transformers"
   ]
  },
  {
   "cell_type": "code",
   "execution_count": null,
   "id": "LpH9SY-kqGr1",
   "metadata": {
    "id": "LpH9SY-kqGr1"
   },
   "outputs": [],
   "source": [
    "from keras_self_attention import SeqSelfAttention\n",
    "import tensorflow as tf\n",
    "import tensorflow.keras.layers as tfl\n",
    "from tensorflow.keras.models import Model\n",
    "import tensorflow_hub as hub\n",
    "import tensorflow_text as text\n",
    "from tensorflow.keras import Input"
   ]
  },
  {
   "cell_type": "code",
   "execution_count": null,
   "id": "QQqWqpjJnJQr",
   "metadata": {
    "colab": {
     "base_uri": "https://localhost:8080/",
     "height": 145,
     "referenced_widgets": [
      "55a6017f9c8f471aa0721f54cabbea97",
      "5840d4e2f2b94cb694eacb8ab644fc40",
      "141e55a5cbc34d359d8f40e831a376c0",
      "7e839811db5c421baee885ddd0d3372e",
      "4461758f649d4f57aafcb7e0b34cef72",
      "437e6b81244c4c72b08ed25514976e1e",
      "6c81de3b069a4d50b5e03ee42ee87ea7",
      "51366226219d42ff98acd5bc401bf9a3",
      "55d3c3d1e83d464aad9782c6d7d4fa82",
      "361ab48b5dff4be897eeca94a2e767f6",
      "a178fc2775214e43b681203149fb4ea9",
      "5128f127fa9b49229b8eb0b58b153a20",
      "7cb94cf451dd4581ae93e4a7278c700a",
      "ad9dd2b510da4e98876a81b7c25d72ff",
      "4e4bf5c5dcc7441ba0859530cd823a9b",
      "45a1ef616a274e60a0501c667d22e40c",
      "3b3b0d1e76084ede9a271b7f8ac6cedc",
      "88e6d4c41a53478dab7b9a94fc272b09",
      "4206e39f9ae34bdca0af632125e6235e",
      "858dc13c33c44f32bb0c73b3510bbbce",
      "1d948b8929f340f9a8b333efd540aa93",
      "3216221d6eac40249b42b9aebca034df",
      "d38a612281d548f5badcd0c76c9387e5",
      "fcb66994958e460d824d27d882073b54",
      "391b4b0f5d5b4670a111494d74b7ac59",
      "bb7793c632ce43dba84cf1aa393708b3",
      "01df4b0a60734d2eaa405f852f732009",
      "d97187c183e14a6eb3dbbca08ef1998d",
      "a3fdffad07b3448382b4edc58119080e",
      "1ee1c496583145f3b79a841a4a1aecc2",
      "3fc2e28bbda0406aa9e93439ce361630",
      "9eab1aedbe5e4bfe8f46d7d6bf11aa77",
      "e977f82b5f534c13b66fb98f6a39925f",
      "1d3f08f08e374f6287009984132ce717",
      "dc6c2264876c460aa9e27954c4341a20",
      "1a8c70cd401b437cb53eb4534b6b6ae8",
      "244508ba1e5e4a89a1573d659d5eb32b",
      "3191bda3c85a4530aad76b8216c9fcb4",
      "89a4c88584f54885b514cd6ccc2a463d",
      "b9e6533b84d9411b9dfc50f4d4ded174",
      "bbdfeefde29247468cde1a754e0142c7",
      "57061e9df80b4a489cdec492f753181e",
      "8f7a2b74e66b4f6b823c6728160d316b",
      "4828ed7b9002458c98efc94941793715"
     ]
    },
    "id": "QQqWqpjJnJQr",
    "outputId": "95dc5d9c-c330-474f-de55-b71d62e58e83"
   },
   "outputs": [
    {
     "data": {
      "application/vnd.jupyter.widget-view+json": {
       "model_id": "55a6017f9c8f471aa0721f54cabbea97",
       "version_major": 2,
       "version_minor": 0
      },
      "text/plain": [
       "Downloading tokenizer_config.json:   0%|          | 0.00/29.0 [00:00<?, ?B/s]"
      ]
     },
     "metadata": {},
     "output_type": "display_data"
    },
    {
     "data": {
      "application/vnd.jupyter.widget-view+json": {
       "model_id": "5128f127fa9b49229b8eb0b58b153a20",
       "version_major": 2,
       "version_minor": 0
      },
      "text/plain": [
       "Downloading config.json:   0%|          | 0.00/570 [00:00<?, ?B/s]"
      ]
     },
     "metadata": {},
     "output_type": "display_data"
    },
    {
     "data": {
      "application/vnd.jupyter.widget-view+json": {
       "model_id": "d38a612281d548f5badcd0c76c9387e5",
       "version_major": 2,
       "version_minor": 0
      },
      "text/plain": [
       "Downloading vocab.txt:   0%|          | 0.00/208k [00:00<?, ?B/s]"
      ]
     },
     "metadata": {},
     "output_type": "display_data"
    },
    {
     "data": {
      "application/vnd.jupyter.widget-view+json": {
       "model_id": "1d3f08f08e374f6287009984132ce717",
       "version_major": 2,
       "version_minor": 0
      },
      "text/plain": [
       "Downloading tokenizer.json:   0%|          | 0.00/426k [00:00<?, ?B/s]"
      ]
     },
     "metadata": {},
     "output_type": "display_data"
    }
   ],
   "source": [
    "from transformers import AutoTokenizer\n",
    "\n",
    "tokenizer = AutoTokenizer.from_pretrained(\"bert-base-cased\")"
   ]
  },
  {
   "cell_type": "code",
   "execution_count": null,
   "id": "vESMIhqdn6Ka",
   "metadata": {
    "id": "vESMIhqdn6Ka"
   },
   "outputs": [],
   "source": [
    "text_dataset = tokenizer(list(df[\"clean_text\"]), padding=True, return_tensors=\"tf\")[\"input_ids\"]\n",
    "reason_dataset = tokenizer(list(df[\"reason\"]), padding=True, return_tensors=\"tf\")[\"input_ids\"]"
   ]
  },
  {
   "cell_type": "code",
   "execution_count": null,
   "id": "f-fltPippxqt",
   "metadata": {
    "colab": {
     "base_uri": "https://localhost:8080/"
    },
    "id": "f-fltPippxqt",
    "outputId": "ff4bd394-e9f5-41a0-83e3-4a7449af627d"
   },
   "outputs": [
    {
     "data": {
      "text/plain": [
       "(TensorShape([2061, 72]), TensorShape([2061, 22]))"
      ]
     },
     "execution_count": 60,
     "metadata": {},
     "output_type": "execute_result"
    }
   ],
   "source": [
    "text_dataset.shape, reason_dataset.shape"
   ]
  },
  {
   "cell_type": "code",
   "execution_count": null,
   "id": "JaqIToUSoZnt",
   "metadata": {
    "id": "JaqIToUSoZnt"
   },
   "outputs": [],
   "source": [
    "def siamese_model(input1Shape, input2Shape):\n",
    "    # text model\n",
    "    text_in = Input(shape = (input1Shape, 1), name = 'text_Input')\n",
    "    reason_in = Input(shape = (input2Shape, 1), name = 'reason_Input')\n",
    "    \n",
    "    #textDecoder \n",
    "    a = tfl.Bidirectional(tfl.LSTM(64, return_sequences=True))(text_in)\n",
    "    a = tfl.Bidirectional(tfl.LSTM(128, return_sequences=True))(a)\n",
    "    a = SeqSelfAttention()(a)\n",
    "    a = tfl.Flatten()(a)\n",
    "    a = tfl.Dense(64, activation=\"linear\")(a)\n",
    "    a = tfl.BatchNormalization()(a)\n",
    "    a = tfl.Activation('relu')(a)\n",
    "    a = tfl.Dense(32, activation=\"linear\")(a)\n",
    "    a = tfl.BatchNormalization()(a)\n",
    "    a = tfl.Activation('relu')(a)\n",
    "    \n",
    "    #reasonDecoder\n",
    "    b = tfl.Bidirectional(tfl.LSTM(64, return_sequences=True))(reason_in)\n",
    "    b = tfl.Flatten()(b)\n",
    "    b = tfl.Dense(64, activation=\"linear\")(b)\n",
    "    b = tfl.BatchNormalization()(b)\n",
    "    b = tfl.Activation('relu')(b)\n",
    "    b = tfl.Dense(32, activation=\"linear\")(b)\n",
    "    b = tfl.BatchNormalization()(b)\n",
    "    b = tfl.Activation('relu')(b)\n",
    "\n",
    "    combined_features = tfl.concatenate([a, b], name = 'merge_features')\n",
    "    print(combined_features.shape)\n",
    "    combined_features = tfl.Dense(16, activation = 'linear')(combined_features)\n",
    "    combined_features = tfl.BatchNormalization()(combined_features)\n",
    "    combined_features = tfl.Activation('relu')(combined_features)\n",
    "    combined_features = tfl.Dense(4, activation = 'linear')(combined_features)\n",
    "    combined_features = tfl.BatchNormalization()(combined_features)\n",
    "    combined_features = tfl.Activation('relu')(combined_features)\n",
    "    combined_features = tfl.Dense(1, activation = 'sigmoid')(combined_features)\n",
    "    similarity_model = Model(inputs = [text_in, reason_in], outputs = [combined_features], name = 'Similarity_Model')\n",
    "    return similarity_model\n"
   ]
  },
  {
   "cell_type": "code",
   "execution_count": null,
   "id": "4SGMUtgNoZjW",
   "metadata": {
    "colab": {
     "base_uri": "https://localhost:8080/"
    },
    "id": "4SGMUtgNoZjW",
    "outputId": "c3adda6c-5c22-4a0b-807a-911058befd55"
   },
   "outputs": [
    {
     "name": "stdout",
     "output_type": "stream",
     "text": [
      "(None, 64)\n",
      "Model: \"Similarity_Model\"\n",
      "__________________________________________________________________________________________________\n",
      " Layer (type)                   Output Shape         Param #     Connected to                     \n",
      "==================================================================================================\n",
      " text_Input (InputLayer)        [(None, 72, 1)]      0           []                               \n",
      "                                                                                                  \n",
      " bidirectional_11 (Bidirectiona  (None, 72, 128)     33792       ['text_Input[0][0]']             \n",
      " l)                                                                                               \n",
      "                                                                                                  \n",
      " bidirectional_12 (Bidirectiona  (None, 72, 256)     263168      ['bidirectional_11[0][0]']       \n",
      " l)                                                                                               \n",
      "                                                                                                  \n",
      " reason_Input (InputLayer)      [(None, 22, 1)]      0           []                               \n",
      "                                                                                                  \n",
      " seq_self_attention_3 (SeqSelfA  (None, 72, 256)     16449       ['bidirectional_12[0][0]']       \n",
      " ttention)                                                                                        \n",
      "                                                                                                  \n",
      " bidirectional_13 (Bidirectiona  (None, 22, 128)     33792       ['reason_Input[0][0]']           \n",
      " l)                                                                                               \n",
      "                                                                                                  \n",
      " flatten_6 (Flatten)            (None, 18432)        0           ['seq_self_attention_3[0][0]']   \n",
      "                                                                                                  \n",
      " flatten_7 (Flatten)            (None, 2816)         0           ['bidirectional_13[0][0]']       \n",
      "                                                                                                  \n",
      " dense_21 (Dense)               (None, 64)           1179712     ['flatten_6[0][0]']              \n",
      "                                                                                                  \n",
      " dense_23 (Dense)               (None, 64)           180288      ['flatten_7[0][0]']              \n",
      "                                                                                                  \n",
      " batch_normalization_18 (BatchN  (None, 64)          256         ['dense_21[0][0]']               \n",
      " ormalization)                                                                                    \n",
      "                                                                                                  \n",
      " batch_normalization_20 (BatchN  (None, 64)          256         ['dense_23[0][0]']               \n",
      " ormalization)                                                                                    \n",
      "                                                                                                  \n",
      " activation_18 (Activation)     (None, 64)           0           ['batch_normalization_18[0][0]'] \n",
      "                                                                                                  \n",
      " activation_20 (Activation)     (None, 64)           0           ['batch_normalization_20[0][0]'] \n",
      "                                                                                                  \n",
      " dense_22 (Dense)               (None, 32)           2080        ['activation_18[0][0]']          \n",
      "                                                                                                  \n",
      " dense_24 (Dense)               (None, 32)           2080        ['activation_20[0][0]']          \n",
      "                                                                                                  \n",
      " batch_normalization_19 (BatchN  (None, 32)          128         ['dense_22[0][0]']               \n",
      " ormalization)                                                                                    \n",
      "                                                                                                  \n",
      " batch_normalization_21 (BatchN  (None, 32)          128         ['dense_24[0][0]']               \n",
      " ormalization)                                                                                    \n",
      "                                                                                                  \n",
      " activation_19 (Activation)     (None, 32)           0           ['batch_normalization_19[0][0]'] \n",
      "                                                                                                  \n",
      " activation_21 (Activation)     (None, 32)           0           ['batch_normalization_21[0][0]'] \n",
      "                                                                                                  \n",
      " merge_features (Concatenate)   (None, 64)           0           ['activation_19[0][0]',          \n",
      "                                                                  'activation_21[0][0]']          \n",
      "                                                                                                  \n",
      " dense_25 (Dense)               (None, 16)           1040        ['merge_features[0][0]']         \n",
      "                                                                                                  \n",
      " batch_normalization_22 (BatchN  (None, 16)          64          ['dense_25[0][0]']               \n",
      " ormalization)                                                                                    \n",
      "                                                                                                  \n",
      " activation_22 (Activation)     (None, 16)           0           ['batch_normalization_22[0][0]'] \n",
      "                                                                                                  \n",
      " dense_26 (Dense)               (None, 4)            68          ['activation_22[0][0]']          \n",
      "                                                                                                  \n",
      " batch_normalization_23 (BatchN  (None, 4)           16          ['dense_26[0][0]']               \n",
      " ormalization)                                                                                    \n",
      "                                                                                                  \n",
      " activation_23 (Activation)     (None, 4)            0           ['batch_normalization_23[0][0]'] \n",
      "                                                                                                  \n",
      " dense_27 (Dense)               (None, 1)            5           ['activation_23[0][0]']          \n",
      "                                                                                                  \n",
      "==================================================================================================\n",
      "Total params: 1,713,322\n",
      "Trainable params: 1,712,898\n",
      "Non-trainable params: 424\n",
      "__________________________________________________________________________________________________\n"
     ]
    }
   ],
   "source": [
    "similarity_model = siamese_model(text_dataset.shape[-1], reason_dataset.shape[-1])\n",
    "similarity_model.summary()"
   ]
  },
  {
   "cell_type": "code",
   "execution_count": null,
   "id": "FwX9nVALoY-b",
   "metadata": {
    "id": "FwX9nVALoY-b"
   },
   "outputs": [],
   "source": [
    "# similarity_model = siamese_model(128, 128)\n",
    "similarity_model.compile(optimizer='adam', loss = 'binary_crossentropy', metrics = [tf.metrics.BinaryAccuracy()])"
   ]
  },
  {
   "cell_type": "code",
   "execution_count": null,
   "id": "a6UKafs_q408",
   "metadata": {
    "colab": {
     "base_uri": "https://localhost:8080/",
     "height": 1000
    },
    "id": "a6UKafs_q408",
    "outputId": "b6fcb61c-7fee-4f08-a22b-2c00cdac2d9a"
   },
   "outputs": [
    {
     "name": "stdout",
     "output_type": "stream",
     "text": [
      "Epoch 1/50\n",
      "500/500 [==============================] - 79s 130ms/step - loss: 0.6693 - binary_accuracy: 0.5700\n",
      "Epoch 2/50\n",
      "500/500 [==============================] - 54s 108ms/step - loss: 0.6664 - binary_accuracy: 0.5756\n",
      "Epoch 3/50\n",
      "500/500 [==============================] - 54s 107ms/step - loss: 0.6623 - binary_accuracy: 0.5782\n",
      "Epoch 4/50\n",
      "500/500 [==============================] - 54s 109ms/step - loss: 0.6617 - binary_accuracy: 0.5789\n",
      "Epoch 5/50\n",
      "500/500 [==============================] - 54s 108ms/step - loss: 0.6559 - binary_accuracy: 0.5893\n",
      "Epoch 6/50\n",
      "500/500 [==============================] - 54s 108ms/step - loss: 0.6496 - binary_accuracy: 0.6002\n",
      "Epoch 7/50\n",
      "500/500 [==============================] - 54s 107ms/step - loss: 0.6341 - binary_accuracy: 0.6191\n",
      "Epoch 8/50\n",
      "500/500 [==============================] - 54s 107ms/step - loss: 0.6181 - binary_accuracy: 0.6359\n",
      "Epoch 9/50\n",
      "500/500 [==============================] - 54s 107ms/step - loss: 0.6078 - binary_accuracy: 0.6427\n",
      "Epoch 10/50\n",
      "500/500 [==============================] - 54s 109ms/step - loss: 0.5999 - binary_accuracy: 0.6497\n",
      "Epoch 11/50\n",
      "500/500 [==============================] - 54s 107ms/step - loss: 0.5958 - binary_accuracy: 0.6503\n",
      "Epoch 12/50\n",
      "500/500 [==============================] - 53s 107ms/step - loss: 0.5880 - binary_accuracy: 0.6583\n",
      "Epoch 13/50\n",
      "500/500 [==============================] - 53s 107ms/step - loss: 0.5789 - binary_accuracy: 0.6662\n",
      "Epoch 14/50\n",
      "500/500 [==============================] - 53s 107ms/step - loss: 0.5719 - binary_accuracy: 0.6707\n",
      "Epoch 15/50\n",
      "500/500 [==============================] - 53s 107ms/step - loss: 0.5611 - binary_accuracy: 0.6817\n",
      "Epoch 16/50\n",
      "500/500 [==============================] - 53s 107ms/step - loss: 0.5515 - binary_accuracy: 0.6880\n",
      "Epoch 17/50\n",
      "500/500 [==============================] - 53s 106ms/step - loss: 0.5457 - binary_accuracy: 0.6913\n",
      "Epoch 18/50\n",
      "500/500 [==============================] - 53s 105ms/step - loss: 0.5400 - binary_accuracy: 0.6974\n",
      "Epoch 19/50\n",
      "500/500 [==============================] - 54s 107ms/step - loss: 0.5324 - binary_accuracy: 0.7015\n",
      "Epoch 20/50\n",
      "500/500 [==============================] - 54s 107ms/step - loss: 0.5293 - binary_accuracy: 0.7053\n",
      "Epoch 21/50\n",
      "500/500 [==============================] - 53s 107ms/step - loss: 0.5271 - binary_accuracy: 0.7077\n",
      "Epoch 22/50\n",
      "500/500 [==============================] - 54s 107ms/step - loss: 0.5204 - binary_accuracy: 0.7126\n",
      "Epoch 23/50\n",
      "500/500 [==============================] - 53s 107ms/step - loss: 0.5155 - binary_accuracy: 0.7139\n",
      "Epoch 24/50\n",
      "500/500 [==============================] - 54s 107ms/step - loss: 0.5112 - binary_accuracy: 0.7162\n",
      "Epoch 25/50\n",
      "500/500 [==============================] - 53s 107ms/step - loss: 0.5078 - binary_accuracy: 0.7182\n",
      "Epoch 26/50\n",
      "500/500 [==============================] - 54s 107ms/step - loss: 0.5039 - binary_accuracy: 0.7225\n",
      "Epoch 27/50\n",
      "500/500 [==============================] - 54s 108ms/step - loss: 0.5031 - binary_accuracy: 0.7220\n",
      "Epoch 28/50\n",
      "500/500 [==============================] - 53s 107ms/step - loss: 0.4993 - binary_accuracy: 0.7250\n",
      "Epoch 29/50\n",
      "500/500 [==============================] - 53s 107ms/step - loss: 0.4952 - binary_accuracy: 0.7285\n",
      "Epoch 30/50\n",
      "142/500 [=======>......................] - ETA: 38s - loss: 0.4929 - binary_accuracy: 0.7319"
     ]
    },
    {
     "ename": "KeyboardInterrupt",
     "evalue": "ignored",
     "output_type": "error",
     "traceback": [
      "\u001b[0;31m---------------------------------------------------------------------------\u001b[0m",
      "\u001b[0;31mKeyboardInterrupt\u001b[0m                         Traceback (most recent call last)",
      "\u001b[0;32m<ipython-input-109-bbeb0e809a8f>\u001b[0m in \u001b[0;36m<module>\u001b[0;34m\u001b[0m\n\u001b[0;32m----> 1\u001b[0;31m \u001b[0mloss_history\u001b[0m \u001b[0;34m=\u001b[0m \u001b[0msimilarity_model\u001b[0m\u001b[0;34m.\u001b[0m\u001b[0mfit\u001b[0m\u001b[0;34m(\u001b[0m\u001b[0msiam_gen\u001b[0m\u001b[0;34m(\u001b[0m\u001b[0;34m[\u001b[0m\u001b[0mtext_dataset\u001b[0m\u001b[0;34m,\u001b[0m \u001b[0mreason_dataset\u001b[0m\u001b[0;34m]\u001b[0m\u001b[0;34m,\u001b[0m \u001b[0;36m128\u001b[0m\u001b[0;34m)\u001b[0m\u001b[0;34m,\u001b[0m \u001b[0msteps_per_epoch\u001b[0m\u001b[0;34m=\u001b[0m\u001b[0;36m500\u001b[0m\u001b[0;34m,\u001b[0m \u001b[0mshuffle\u001b[0m\u001b[0;34m=\u001b[0m\u001b[0;32mTrue\u001b[0m\u001b[0;34m,\u001b[0m \u001b[0mepochs\u001b[0m \u001b[0;34m=\u001b[0m \u001b[0;36m50\u001b[0m\u001b[0;34m,\u001b[0m \u001b[0mverbose\u001b[0m \u001b[0;34m=\u001b[0m \u001b[0;32mTrue\u001b[0m\u001b[0;34m)\u001b[0m\u001b[0;34m\u001b[0m\u001b[0;34m\u001b[0m\u001b[0m\n\u001b[0m",
      "\u001b[0;32m/usr/local/lib/python3.7/dist-packages/keras/utils/traceback_utils.py\u001b[0m in \u001b[0;36merror_handler\u001b[0;34m(*args, **kwargs)\u001b[0m\n\u001b[1;32m     62\u001b[0m     \u001b[0mfiltered_tb\u001b[0m \u001b[0;34m=\u001b[0m \u001b[0;32mNone\u001b[0m\u001b[0;34m\u001b[0m\u001b[0;34m\u001b[0m\u001b[0m\n\u001b[1;32m     63\u001b[0m     \u001b[0;32mtry\u001b[0m\u001b[0;34m:\u001b[0m\u001b[0;34m\u001b[0m\u001b[0;34m\u001b[0m\u001b[0m\n\u001b[0;32m---> 64\u001b[0;31m       \u001b[0;32mreturn\u001b[0m \u001b[0mfn\u001b[0m\u001b[0;34m(\u001b[0m\u001b[0;34m*\u001b[0m\u001b[0margs\u001b[0m\u001b[0;34m,\u001b[0m \u001b[0;34m**\u001b[0m\u001b[0mkwargs\u001b[0m\u001b[0;34m)\u001b[0m\u001b[0;34m\u001b[0m\u001b[0;34m\u001b[0m\u001b[0m\n\u001b[0m\u001b[1;32m     65\u001b[0m     \u001b[0;32mexcept\u001b[0m \u001b[0mException\u001b[0m \u001b[0;32mas\u001b[0m \u001b[0me\u001b[0m\u001b[0;34m:\u001b[0m  \u001b[0;31m# pylint: disable=broad-except\u001b[0m\u001b[0;34m\u001b[0m\u001b[0;34m\u001b[0m\u001b[0m\n\u001b[1;32m     66\u001b[0m       \u001b[0mfiltered_tb\u001b[0m \u001b[0;34m=\u001b[0m \u001b[0m_process_traceback_frames\u001b[0m\u001b[0;34m(\u001b[0m\u001b[0me\u001b[0m\u001b[0;34m.\u001b[0m\u001b[0m__traceback__\u001b[0m\u001b[0;34m)\u001b[0m\u001b[0;34m\u001b[0m\u001b[0;34m\u001b[0m\u001b[0m\n",
      "\u001b[0;32m/usr/local/lib/python3.7/dist-packages/keras/engine/training.py\u001b[0m in \u001b[0;36mfit\u001b[0;34m(self, x, y, batch_size, epochs, verbose, callbacks, validation_split, validation_data, shuffle, class_weight, sample_weight, initial_epoch, steps_per_epoch, validation_steps, validation_batch_size, validation_freq, max_queue_size, workers, use_multiprocessing)\u001b[0m\n\u001b[1;32m   1382\u001b[0m                 _r=1):\n\u001b[1;32m   1383\u001b[0m               \u001b[0mcallbacks\u001b[0m\u001b[0;34m.\u001b[0m\u001b[0mon_train_batch_begin\u001b[0m\u001b[0;34m(\u001b[0m\u001b[0mstep\u001b[0m\u001b[0;34m)\u001b[0m\u001b[0;34m\u001b[0m\u001b[0;34m\u001b[0m\u001b[0m\n\u001b[0;32m-> 1384\u001b[0;31m               \u001b[0mtmp_logs\u001b[0m \u001b[0;34m=\u001b[0m \u001b[0mself\u001b[0m\u001b[0;34m.\u001b[0m\u001b[0mtrain_function\u001b[0m\u001b[0;34m(\u001b[0m\u001b[0miterator\u001b[0m\u001b[0;34m)\u001b[0m\u001b[0;34m\u001b[0m\u001b[0;34m\u001b[0m\u001b[0m\n\u001b[0m\u001b[1;32m   1385\u001b[0m               \u001b[0;32mif\u001b[0m \u001b[0mdata_handler\u001b[0m\u001b[0;34m.\u001b[0m\u001b[0mshould_sync\u001b[0m\u001b[0;34m:\u001b[0m\u001b[0;34m\u001b[0m\u001b[0;34m\u001b[0m\u001b[0m\n\u001b[1;32m   1386\u001b[0m                 \u001b[0mcontext\u001b[0m\u001b[0;34m.\u001b[0m\u001b[0masync_wait\u001b[0m\u001b[0;34m(\u001b[0m\u001b[0;34m)\u001b[0m\u001b[0;34m\u001b[0m\u001b[0;34m\u001b[0m\u001b[0m\n",
      "\u001b[0;32m/usr/local/lib/python3.7/dist-packages/tensorflow/python/util/traceback_utils.py\u001b[0m in \u001b[0;36merror_handler\u001b[0;34m(*args, **kwargs)\u001b[0m\n\u001b[1;32m    148\u001b[0m     \u001b[0mfiltered_tb\u001b[0m \u001b[0;34m=\u001b[0m \u001b[0;32mNone\u001b[0m\u001b[0;34m\u001b[0m\u001b[0;34m\u001b[0m\u001b[0m\n\u001b[1;32m    149\u001b[0m     \u001b[0;32mtry\u001b[0m\u001b[0;34m:\u001b[0m\u001b[0;34m\u001b[0m\u001b[0;34m\u001b[0m\u001b[0m\n\u001b[0;32m--> 150\u001b[0;31m       \u001b[0;32mreturn\u001b[0m \u001b[0mfn\u001b[0m\u001b[0;34m(\u001b[0m\u001b[0;34m*\u001b[0m\u001b[0margs\u001b[0m\u001b[0;34m,\u001b[0m \u001b[0;34m**\u001b[0m\u001b[0mkwargs\u001b[0m\u001b[0;34m)\u001b[0m\u001b[0;34m\u001b[0m\u001b[0;34m\u001b[0m\u001b[0m\n\u001b[0m\u001b[1;32m    151\u001b[0m     \u001b[0;32mexcept\u001b[0m \u001b[0mException\u001b[0m \u001b[0;32mas\u001b[0m \u001b[0me\u001b[0m\u001b[0;34m:\u001b[0m\u001b[0;34m\u001b[0m\u001b[0;34m\u001b[0m\u001b[0m\n\u001b[1;32m    152\u001b[0m       \u001b[0mfiltered_tb\u001b[0m \u001b[0;34m=\u001b[0m \u001b[0m_process_traceback_frames\u001b[0m\u001b[0;34m(\u001b[0m\u001b[0me\u001b[0m\u001b[0;34m.\u001b[0m\u001b[0m__traceback__\u001b[0m\u001b[0;34m)\u001b[0m\u001b[0;34m\u001b[0m\u001b[0;34m\u001b[0m\u001b[0m\n",
      "\u001b[0;32m/usr/local/lib/python3.7/dist-packages/tensorflow/python/eager/def_function.py\u001b[0m in \u001b[0;36m__call__\u001b[0;34m(self, *args, **kwds)\u001b[0m\n\u001b[1;32m    913\u001b[0m \u001b[0;34m\u001b[0m\u001b[0m\n\u001b[1;32m    914\u001b[0m       \u001b[0;32mwith\u001b[0m \u001b[0mOptionalXlaContext\u001b[0m\u001b[0;34m(\u001b[0m\u001b[0mself\u001b[0m\u001b[0;34m.\u001b[0m\u001b[0m_jit_compile\u001b[0m\u001b[0;34m)\u001b[0m\u001b[0;34m:\u001b[0m\u001b[0;34m\u001b[0m\u001b[0;34m\u001b[0m\u001b[0m\n\u001b[0;32m--> 915\u001b[0;31m         \u001b[0mresult\u001b[0m \u001b[0;34m=\u001b[0m \u001b[0mself\u001b[0m\u001b[0;34m.\u001b[0m\u001b[0m_call\u001b[0m\u001b[0;34m(\u001b[0m\u001b[0;34m*\u001b[0m\u001b[0margs\u001b[0m\u001b[0;34m,\u001b[0m \u001b[0;34m**\u001b[0m\u001b[0mkwds\u001b[0m\u001b[0;34m)\u001b[0m\u001b[0;34m\u001b[0m\u001b[0;34m\u001b[0m\u001b[0m\n\u001b[0m\u001b[1;32m    916\u001b[0m \u001b[0;34m\u001b[0m\u001b[0m\n\u001b[1;32m    917\u001b[0m       \u001b[0mnew_tracing_count\u001b[0m \u001b[0;34m=\u001b[0m \u001b[0mself\u001b[0m\u001b[0;34m.\u001b[0m\u001b[0mexperimental_get_tracing_count\u001b[0m\u001b[0;34m(\u001b[0m\u001b[0;34m)\u001b[0m\u001b[0;34m\u001b[0m\u001b[0;34m\u001b[0m\u001b[0m\n",
      "\u001b[0;32m/usr/local/lib/python3.7/dist-packages/tensorflow/python/eager/def_function.py\u001b[0m in \u001b[0;36m_call\u001b[0;34m(self, *args, **kwds)\u001b[0m\n\u001b[1;32m    945\u001b[0m       \u001b[0;31m# In this case we have created variables on the first call, so we run the\u001b[0m\u001b[0;34m\u001b[0m\u001b[0;34m\u001b[0m\u001b[0;34m\u001b[0m\u001b[0m\n\u001b[1;32m    946\u001b[0m       \u001b[0;31m# defunned version which is guaranteed to never create variables.\u001b[0m\u001b[0;34m\u001b[0m\u001b[0;34m\u001b[0m\u001b[0;34m\u001b[0m\u001b[0m\n\u001b[0;32m--> 947\u001b[0;31m       \u001b[0;32mreturn\u001b[0m \u001b[0mself\u001b[0m\u001b[0;34m.\u001b[0m\u001b[0m_stateless_fn\u001b[0m\u001b[0;34m(\u001b[0m\u001b[0;34m*\u001b[0m\u001b[0margs\u001b[0m\u001b[0;34m,\u001b[0m \u001b[0;34m**\u001b[0m\u001b[0mkwds\u001b[0m\u001b[0;34m)\u001b[0m  \u001b[0;31m# pylint: disable=not-callable\u001b[0m\u001b[0;34m\u001b[0m\u001b[0;34m\u001b[0m\u001b[0m\n\u001b[0m\u001b[1;32m    948\u001b[0m     \u001b[0;32melif\u001b[0m \u001b[0mself\u001b[0m\u001b[0;34m.\u001b[0m\u001b[0m_stateful_fn\u001b[0m \u001b[0;32mis\u001b[0m \u001b[0;32mnot\u001b[0m \u001b[0;32mNone\u001b[0m\u001b[0;34m:\u001b[0m\u001b[0;34m\u001b[0m\u001b[0;34m\u001b[0m\u001b[0m\n\u001b[1;32m    949\u001b[0m       \u001b[0;31m# Release the lock early so that multiple threads can perform the call\u001b[0m\u001b[0;34m\u001b[0m\u001b[0;34m\u001b[0m\u001b[0;34m\u001b[0m\u001b[0m\n",
      "\u001b[0;32m/usr/local/lib/python3.7/dist-packages/tensorflow/python/eager/function.py\u001b[0m in \u001b[0;36m__call__\u001b[0;34m(self, *args, **kwargs)\u001b[0m\n\u001b[1;32m   2955\u001b[0m        filtered_flat_args) = self._maybe_define_function(args, kwargs)\n\u001b[1;32m   2956\u001b[0m     return graph_function._call_flat(\n\u001b[0;32m-> 2957\u001b[0;31m         filtered_flat_args, captured_inputs=graph_function.captured_inputs)  # pylint: disable=protected-access\n\u001b[0m\u001b[1;32m   2958\u001b[0m \u001b[0;34m\u001b[0m\u001b[0m\n\u001b[1;32m   2959\u001b[0m   \u001b[0;34m@\u001b[0m\u001b[0mproperty\u001b[0m\u001b[0;34m\u001b[0m\u001b[0;34m\u001b[0m\u001b[0m\n",
      "\u001b[0;32m/usr/local/lib/python3.7/dist-packages/tensorflow/python/eager/function.py\u001b[0m in \u001b[0;36m_call_flat\u001b[0;34m(self, args, captured_inputs, cancellation_manager)\u001b[0m\n\u001b[1;32m   1852\u001b[0m       \u001b[0;31m# No tape is watching; skip to running the function.\u001b[0m\u001b[0;34m\u001b[0m\u001b[0;34m\u001b[0m\u001b[0;34m\u001b[0m\u001b[0m\n\u001b[1;32m   1853\u001b[0m       return self._build_call_outputs(self._inference_function.call(\n\u001b[0;32m-> 1854\u001b[0;31m           ctx, args, cancellation_manager=cancellation_manager))\n\u001b[0m\u001b[1;32m   1855\u001b[0m     forward_backward = self._select_forward_and_backward_functions(\n\u001b[1;32m   1856\u001b[0m         \u001b[0margs\u001b[0m\u001b[0;34m,\u001b[0m\u001b[0;34m\u001b[0m\u001b[0;34m\u001b[0m\u001b[0m\n",
      "\u001b[0;32m/usr/local/lib/python3.7/dist-packages/tensorflow/python/eager/function.py\u001b[0m in \u001b[0;36mcall\u001b[0;34m(self, ctx, args, cancellation_manager)\u001b[0m\n\u001b[1;32m    502\u001b[0m               \u001b[0minputs\u001b[0m\u001b[0;34m=\u001b[0m\u001b[0margs\u001b[0m\u001b[0;34m,\u001b[0m\u001b[0;34m\u001b[0m\u001b[0;34m\u001b[0m\u001b[0m\n\u001b[1;32m    503\u001b[0m               \u001b[0mattrs\u001b[0m\u001b[0;34m=\u001b[0m\u001b[0mattrs\u001b[0m\u001b[0;34m,\u001b[0m\u001b[0;34m\u001b[0m\u001b[0;34m\u001b[0m\u001b[0m\n\u001b[0;32m--> 504\u001b[0;31m               ctx=ctx)\n\u001b[0m\u001b[1;32m    505\u001b[0m         \u001b[0;32melse\u001b[0m\u001b[0;34m:\u001b[0m\u001b[0;34m\u001b[0m\u001b[0;34m\u001b[0m\u001b[0m\n\u001b[1;32m    506\u001b[0m           outputs = execute.execute_with_cancellation(\n",
      "\u001b[0;32m/usr/local/lib/python3.7/dist-packages/tensorflow/python/eager/execute.py\u001b[0m in \u001b[0;36mquick_execute\u001b[0;34m(op_name, num_outputs, inputs, attrs, ctx, name)\u001b[0m\n\u001b[1;32m     53\u001b[0m     \u001b[0mctx\u001b[0m\u001b[0;34m.\u001b[0m\u001b[0mensure_initialized\u001b[0m\u001b[0;34m(\u001b[0m\u001b[0;34m)\u001b[0m\u001b[0;34m\u001b[0m\u001b[0;34m\u001b[0m\u001b[0m\n\u001b[1;32m     54\u001b[0m     tensors = pywrap_tfe.TFE_Py_Execute(ctx._handle, device_name, op_name,\n\u001b[0;32m---> 55\u001b[0;31m                                         inputs, attrs, num_outputs)\n\u001b[0m\u001b[1;32m     56\u001b[0m   \u001b[0;32mexcept\u001b[0m \u001b[0mcore\u001b[0m\u001b[0;34m.\u001b[0m\u001b[0m_NotOkStatusException\u001b[0m \u001b[0;32mas\u001b[0m \u001b[0me\u001b[0m\u001b[0;34m:\u001b[0m\u001b[0;34m\u001b[0m\u001b[0;34m\u001b[0m\u001b[0m\n\u001b[1;32m     57\u001b[0m     \u001b[0;32mif\u001b[0m \u001b[0mname\u001b[0m \u001b[0;32mis\u001b[0m \u001b[0;32mnot\u001b[0m \u001b[0;32mNone\u001b[0m\u001b[0;34m:\u001b[0m\u001b[0;34m\u001b[0m\u001b[0;34m\u001b[0m\u001b[0m\n",
      "\u001b[0;31mKeyboardInterrupt\u001b[0m: "
     ]
    }
   ],
   "source": [
    "loss_history = similarity_model.fit(siam_gen([text_dataset, reason_dataset], 128), steps_per_epoch=500, shuffle=True, epochs = 50, verbose = True)"
   ]
  },
  {
   "cell_type": "code",
   "execution_count": null,
   "id": "6LVmsmkXxc5y",
   "metadata": {
    "id": "6LVmsmkXxc5y"
   },
   "outputs": [],
   "source": [
    "similarity_model.save(\"models/firstModel.h5\")"
   ]
  },
  {
   "cell_type": "code",
   "execution_count": null,
   "id": "G7zUuj2KuFHo",
   "metadata": {
    "id": "G7zUuj2KuFHo"
   },
   "outputs": [],
   "source": [
    "results = similarity_model.predict([text_dataset, reason_dataset])"
   ]
  },
  {
   "cell_type": "code",
   "execution_count": null,
   "id": "LM9QjvRZuKFc",
   "metadata": {
    "colab": {
     "base_uri": "https://localhost:8080/"
    },
    "id": "LM9QjvRZuKFc",
    "outputId": "a2e74b1b-f6a1-4767-8800-578d4e9b87f5"
   },
   "outputs": [
    {
     "data": {
      "text/plain": [
       "0.2576419213973799"
      ]
     },
     "execution_count": 113,
     "metadata": {},
     "output_type": "execute_result"
    }
   ],
   "source": [
    "eval_results = ((results > 0.5).astype(int)).squeeze()\n",
    "np.mean(eval_results == df[\"label\"])"
   ]
  },
  {
   "cell_type": "code",
   "execution_count": null,
   "id": "NYxLWhWKuKBy",
   "metadata": {
    "id": "NYxLWhWKuKBy"
   },
   "outputs": [],
   "source": [
    "df_test = pd.read_excel('evaluation.xlsx')\n",
    "df_test[\"clean_text\"] = df_test[\"text\"].map(preprocessText)"
   ]
  },
  {
   "cell_type": "code",
   "execution_count": null,
   "id": "x45pD5WnuJ_R",
   "metadata": {
    "id": "x45pD5WnuJ_R"
   },
   "outputs": [],
   "source": [
    "text_test = tokenizer(list(df_test[\"clean_text\"]), padding=\"max_length\", truncation=True, return_tensors=\"tf\", max_length = 72)[\"input_ids\"]\n",
    "reason_test = tokenizer(list(df_test[\"reason\"]), padding=\"max_length\", truncation=True, return_tensors=\"tf\", max_length=22)[\"input_ids\"]"
   ]
  },
  {
   "cell_type": "code",
   "execution_count": null,
   "id": "u9L-Wj0iuJ8n",
   "metadata": {
    "colab": {
     "base_uri": "https://localhost:8080/"
    },
    "id": "u9L-Wj0iuJ8n",
    "outputId": "443093af-275f-4cda-aa69-f893135b2a33"
   },
   "outputs": [
    {
     "data": {
      "text/plain": [
       "(TensorShape([9000, 72]), TensorShape([9000, 22]))"
      ]
     },
     "execution_count": 116,
     "metadata": {},
     "output_type": "execute_result"
    }
   ],
   "source": [
    "text_test.shape,  reason_test.shape"
   ]
  },
  {
   "cell_type": "code",
   "execution_count": null,
   "id": "g5xZhyuOwmMW",
   "metadata": {
    "id": "g5xZhyuOwmMW"
   },
   "outputs": [],
   "source": [
    "results = similarity_model.predict([text_test, reason_test])"
   ]
  },
  {
   "cell_type": "code",
   "execution_count": null,
   "id": "EI2wANlywr1V",
   "metadata": {
    "id": "EI2wANlywr1V"
   },
   "outputs": [],
   "source": [
    "eval_results = (results > 0.5).astype(int).squeeze()"
   ]
  },
  {
   "cell_type": "code",
   "execution_count": null,
   "id": "eB92Pevlw2Z3",
   "metadata": {
    "colab": {
     "base_uri": "https://localhost:8080/"
    },
    "id": "eB92Pevlw2Z3",
    "outputId": "25b471c3-e227-4ebf-baaa-698dafea58c0"
   },
   "outputs": [
    {
     "data": {
      "text/plain": [
       "0.5832222222222222"
      ]
     },
     "execution_count": 119,
     "metadata": {},
     "output_type": "execute_result"
    }
   ],
   "source": [
    "np.mean(eval_results == df_test[\"label\"])"
   ]
  },
  {
   "cell_type": "markdown",
   "id": "7PwnGFeHWZBQ",
   "metadata": {
    "id": "7PwnGFeHWZBQ"
   },
   "source": [
    "## Two encoders"
   ]
  },
  {
   "cell_type": "code",
   "execution_count": null,
   "id": "RIhQZdsmkNbP",
   "metadata": {
    "id": "RIhQZdsmkNbP"
   },
   "outputs": [],
   "source": [
    "import numpy as np"
   ]
  },
  {
   "cell_type": "code",
   "execution_count": null,
   "id": "yUqoJFGaCthO",
   "metadata": {
    "colab": {
     "base_uri": "https://localhost:8080/"
    },
    "id": "yUqoJFGaCthO",
    "outputId": "4ca9833c-be20-4f2d-f180-60f57bbaaf69"
   },
   "outputs": [],
   "source": [
    "%pip install -q -U \"tensorflow-text==2.8.*\"\n",
    "%pip install -q tf-models-official==2.7.0\n",
    "%pip install -q keras-self-attention"
   ]
  },
  {
   "cell_type": "code",
   "execution_count": 30,
   "id": "d-IBK9FaWa0c",
   "metadata": {
    "id": "d-IBK9FaWa0c"
   },
   "outputs": [
    {
     "name": "stderr",
     "output_type": "stream",
     "text": [
      "c:\\users\\rohit khoiwal\\appdata\\local\\programs\\python\\python37\\lib\\site-packages\\requests\\__init__.py:104: RequestsDependencyWarning: urllib3 (1.26.8) or chardet (5.0.0)/charset_normalizer (2.0.10) doesn't match a supported version!\n",
      "  RequestsDependencyWarning)\n"
     ]
    },
    {
     "ename": "ModuleNotFoundError",
     "evalue": "No module named 'tensorflow_hub'",
     "output_type": "error",
     "traceback": [
      "\u001b[1;31m---------------------------------------------------------------------------\u001b[0m",
      "\u001b[1;31mModuleNotFoundError\u001b[0m                       Traceback (most recent call last)",
      "\u001b[1;32m~\\AppData\\Local\\Temp\\ipykernel_39304\\3357166028.py\u001b[0m in \u001b[0;36m<module>\u001b[1;34m\u001b[0m\n\u001b[0;32m      2\u001b[0m \u001b[1;32mimport\u001b[0m \u001b[0mtensorflow\u001b[0m\u001b[1;33m.\u001b[0m\u001b[0mkeras\u001b[0m\u001b[1;33m.\u001b[0m\u001b[0mlayers\u001b[0m \u001b[1;32mas\u001b[0m \u001b[0mtfl\u001b[0m\u001b[1;33m\u001b[0m\u001b[1;33m\u001b[0m\u001b[0m\n\u001b[0;32m      3\u001b[0m \u001b[1;32mfrom\u001b[0m \u001b[0mtensorflow\u001b[0m\u001b[1;33m.\u001b[0m\u001b[0mkeras\u001b[0m\u001b[1;33m.\u001b[0m\u001b[0mmodels\u001b[0m \u001b[1;32mimport\u001b[0m \u001b[0mModel\u001b[0m\u001b[1;33m\u001b[0m\u001b[1;33m\u001b[0m\u001b[0m\n\u001b[1;32m----> 4\u001b[1;33m \u001b[1;32mimport\u001b[0m \u001b[0mtensorflow_hub\u001b[0m \u001b[1;32mas\u001b[0m \u001b[0mhub\u001b[0m\u001b[1;33m\u001b[0m\u001b[1;33m\u001b[0m\u001b[0m\n\u001b[0m\u001b[0;32m      5\u001b[0m \u001b[1;32mimport\u001b[0m \u001b[0mtensorflow_text\u001b[0m \u001b[1;32mas\u001b[0m \u001b[0mtext\u001b[0m\u001b[1;33m\u001b[0m\u001b[1;33m\u001b[0m\u001b[0m\n\u001b[0;32m      6\u001b[0m \u001b[1;32mfrom\u001b[0m \u001b[0mtensorflow\u001b[0m\u001b[1;33m.\u001b[0m\u001b[0mkeras\u001b[0m \u001b[1;32mimport\u001b[0m \u001b[0mInput\u001b[0m\u001b[1;33m\u001b[0m\u001b[1;33m\u001b[0m\u001b[0m\n",
      "\u001b[1;31mModuleNotFoundError\u001b[0m: No module named 'tensorflow_hub'"
     ]
    }
   ],
   "source": [
    "import tensorflow as tf\n",
    "import tensorflow.keras.layers as tfl\n",
    "from tensorflow.keras.models import Model\n",
    "import tensorflow_hub as hub\n",
    "import tensorflow_text as text\n",
    "from tensorflow.keras import Input"
   ]
  },
  {
   "cell_type": "code",
   "execution_count": null,
   "id": "SY7VYzvPhFqU",
   "metadata": {
    "id": "SY7VYzvPhFqU"
   },
   "outputs": [],
   "source": [
    "def siamese_model():\n",
    "    # text model\n",
    "    # text_in = Input(shape = (input1Shape, 1), name = 'text_Input')\n",
    "    # reason_in = Input(shape = (input2Shape, 1), name = 'reason_Input')\n",
    "    \n",
    "    #textDecoder \n",
    "    text_input = tf.keras.layers.Input(shape=(), dtype=tf.string)\n",
    "    preprocessing_layer = hub.KerasLayer(tfhub_handle_preprocess)\n",
    "    encoder_inputs = preprocessing_layer(text_input)\n",
    "    encoder = hub.KerasLayer(tfhub_handle_encoder, trainable=False, name='BERT_encoder')\n",
    "    outputs = encoder(encoder_inputs)\n",
    "    net = outputs['pooled_output']\n",
    "\n",
    "    a = tfl.Dense(64, activation=\"linear\")(net)\n",
    "    a = tfl.BatchNormalization()(a)\n",
    "    a = tfl.Activation('relu')(a)\n",
    "    a = tfl.Dense(32, activation=\"linear\")(a)\n",
    "    a = tfl.BatchNormalization()(a)\n",
    "    a = tfl.Activation('relu')(a)\n",
    "    \n",
    "\n",
    "    #reasonDecoder\n",
    "    reason_input = tf.keras.layers.Input(shape=(), dtype=tf.string)\n",
    "    preprocessing_layer = hub.KerasLayer(tfhub_handle_preprocess)\n",
    "    encoder_inputs = preprocessing_layer(reason_input)\n",
    "    # b = tfl.Bidirectional(tfl.LSTM(64, return_sequences=True))(encoder_inputs[\"input_word_ids\"])\n",
    "    b = tfl.Dense(64, activation=\"linear\")(encoder_inputs[\"input_word_ids\"])\n",
    "    b = tfl.BatchNormalization()(b)\n",
    "    b = tfl.Activation('relu')(b)\n",
    "    b = tfl.Dense(32, activation=\"linear\")(b)\n",
    "    b = tfl.BatchNormalization()(b)\n",
    "    b = tfl.Activation('relu')(b)\n",
    "\n",
    "    combined_features = tfl.concatenate([a, b], name = 'merge_features')\n",
    "    print(combined_features.shape)\n",
    "    combined_features = tfl.Dense(16, activation = 'linear')(combined_features)\n",
    "    combined_features = tfl.BatchNormalization()(combined_features)\n",
    "    combined_features = tfl.Activation('relu')(combined_features)\n",
    "    combined_features = tfl.Dense(4, activation = 'linear')(combined_features)\n",
    "    combined_features = tfl.BatchNormalization()(combined_features)\n",
    "    combined_features = tfl.Activation('relu')(combined_features)\n",
    "    combined_features = tfl.Dense(1, activation = 'sigmoid')(combined_features)\n",
    "    similarity_model = Model(inputs = [text_input, reason_input], outputs = [combined_features], name = 'Similarity_Model')\n",
    "    return similarity_model\n"
   ]
  },
  {
   "cell_type": "code",
   "execution_count": null,
   "id": "AWRYOeHcyJWH",
   "metadata": {
    "colab": {
     "base_uri": "https://localhost:8080/"
    },
    "id": "AWRYOeHcyJWH",
    "outputId": "22fe3ae8-d35d-4042-de1a-27ab20047de9"
   },
   "outputs": [
    {
     "name": "stdout",
     "output_type": "stream",
     "text": [
      "(None, 64)\n",
      "Model: \"Similarity_Model\"\n",
      "__________________________________________________________________________________________________\n",
      " Layer (type)                   Output Shape         Param #     Connected to                     \n",
      "==================================================================================================\n",
      " input_3 (InputLayer)           [(None,)]            0           []                               \n",
      "                                                                                                  \n",
      " keras_layer_2 (KerasLayer)     {'input_word_ids':   0           ['input_3[0][0]']                \n",
      "                                (None, 128),                                                      \n",
      "                                 'input_type_ids':                                                \n",
      "                                (None, 128),                                                      \n",
      "                                 'input_mask': (Non                                               \n",
      "                                e, 128)}                                                          \n",
      "                                                                                                  \n",
      " input_4 (InputLayer)           [(None,)]            0           []                               \n",
      "                                                                                                  \n",
      " BERT_encoder (KerasLayer)      {'default': (None,   28763649    ['keras_layer_2[0][0]',          \n",
      "                                512),                             'keras_layer_2[0][1]',          \n",
      "                                 'pooled_output': (               'keras_layer_2[0][2]']          \n",
      "                                None, 512),                                                       \n",
      "                                 'sequence_output':                                               \n",
      "                                 (None, 128, 512),                                                \n",
      "                                 'encoder_outputs':                                               \n",
      "                                 [(None, 128, 512),                                               \n",
      "                                 (None, 128, 512),                                                \n",
      "                                 (None, 128, 512),                                                \n",
      "                                 (None, 128, 512)]}                                               \n",
      "                                                                                                  \n",
      " keras_layer_3 (KerasLayer)     {'input_mask': (Non  0           ['input_4[0][0]']                \n",
      "                                e, 128),                                                          \n",
      "                                 'input_type_ids':                                                \n",
      "                                (None, 128),                                                      \n",
      "                                 'input_word_ids':                                                \n",
      "                                (None, 128)}                                                      \n",
      "                                                                                                  \n",
      " dense_7 (Dense)                (None, 64)           32832       ['BERT_encoder[0][5]']           \n",
      "                                                                                                  \n",
      " dense_9 (Dense)                (None, 64)           8256        ['keras_layer_3[0][2]']          \n",
      "                                                                                                  \n",
      " batch_normalization_6 (BatchNo  (None, 64)          256         ['dense_7[0][0]']                \n",
      " rmalization)                                                                                     \n",
      "                                                                                                  \n",
      " batch_normalization_8 (BatchNo  (None, 64)          256         ['dense_9[0][0]']                \n",
      " rmalization)                                                                                     \n",
      "                                                                                                  \n",
      " activation_6 (Activation)      (None, 64)           0           ['batch_normalization_6[0][0]']  \n",
      "                                                                                                  \n",
      " activation_8 (Activation)      (None, 64)           0           ['batch_normalization_8[0][0]']  \n",
      "                                                                                                  \n",
      " dense_8 (Dense)                (None, 32)           2080        ['activation_6[0][0]']           \n",
      "                                                                                                  \n",
      " dense_10 (Dense)               (None, 32)           2080        ['activation_8[0][0]']           \n",
      "                                                                                                  \n",
      " batch_normalization_7 (BatchNo  (None, 32)          128         ['dense_8[0][0]']                \n",
      " rmalization)                                                                                     \n",
      "                                                                                                  \n",
      " batch_normalization_9 (BatchNo  (None, 32)          128         ['dense_10[0][0]']               \n",
      " rmalization)                                                                                     \n",
      "                                                                                                  \n",
      " activation_7 (Activation)      (None, 32)           0           ['batch_normalization_7[0][0]']  \n",
      "                                                                                                  \n",
      " activation_9 (Activation)      (None, 32)           0           ['batch_normalization_9[0][0]']  \n",
      "                                                                                                  \n",
      " merge_features (Concatenate)   (None, 64)           0           ['activation_7[0][0]',           \n",
      "                                                                  'activation_9[0][0]']           \n",
      "                                                                                                  \n",
      " dense_11 (Dense)               (None, 16)           1040        ['merge_features[0][0]']         \n",
      "                                                                                                  \n",
      " batch_normalization_10 (BatchN  (None, 16)          64          ['dense_11[0][0]']               \n",
      " ormalization)                                                                                    \n",
      "                                                                                                  \n",
      " activation_10 (Activation)     (None, 16)           0           ['batch_normalization_10[0][0]'] \n",
      "                                                                                                  \n",
      " dense_12 (Dense)               (None, 4)            68          ['activation_10[0][0]']          \n",
      "                                                                                                  \n",
      " batch_normalization_11 (BatchN  (None, 4)           16          ['dense_12[0][0]']               \n",
      " ormalization)                                                                                    \n",
      "                                                                                                  \n",
      " activation_11 (Activation)     (None, 4)            0           ['batch_normalization_11[0][0]'] \n",
      "                                                                                                  \n",
      " dense_13 (Dense)               (None, 1)            5           ['activation_11[0][0]']          \n",
      "                                                                                                  \n",
      "==================================================================================================\n",
      "Total params: 28,810,858\n",
      "Trainable params: 46,785\n",
      "Non-trainable params: 28,764,073\n",
      "__________________________________________________________________________________________________\n"
     ]
    }
   ],
   "source": [
    "similarity_model = siamese_model()\n",
    "similarity_model.summary()"
   ]
  },
  {
   "cell_type": "code",
   "execution_count": null,
   "id": "gIjW8zxrwYw2",
   "metadata": {
    "id": "gIjW8zxrwYw2"
   },
   "outputs": [],
   "source": [
    "# similarity_model = siamese_model(128, 128)\n",
    "similarity_model.compile(optimizer='adam', loss = 'binary_crossentropy', metrics = [tf.metrics.BinaryAccuracy()])"
   ]
  },
  {
   "cell_type": "code",
   "execution_count": null,
   "id": "T7lzuI6z0OQc",
   "metadata": {
    "id": "T7lzuI6z0OQc"
   },
   "outputs": [],
   "source": [
    "# valid_a, valid_b, valid_sim = gen_random_batch([df[\"clean_text\"], reason_dataset[\"\"]], 64)"
   ]
  },
  {
   "cell_type": "code",
   "execution_count": null,
   "id": "ApdFmAZLalii",
   "metadata": {
    "colab": {
     "base_uri": "https://localhost:8080/"
    },
    "id": "ApdFmAZLalii",
    "outputId": "a7da3f3b-1f2a-45dd-bd18-4fe66e79829f"
   },
   "outputs": [
    {
     "name": "stdout",
     "output_type": "stream",
     "text": [
      "Epoch 1/10\n",
      "500/500 [==============================] - 642s 1s/step - loss: 0.6310 - binary_accuracy: 0.6405\n",
      "Epoch 2/10\n",
      "500/500 [==============================] - 602s 1s/step - loss: 0.4852 - binary_accuracy: 0.7753\n",
      "Epoch 3/10\n",
      "500/500 [==============================] - 602s 1s/step - loss: 0.3824 - binary_accuracy: 0.8341\n",
      "Epoch 4/10\n",
      "203/500 [===========>..................] - ETA: 5:57 - loss: 0.3388 - binary_accuracy: 0.8584"
     ]
    }
   ],
   "source": [
    "loss_history = similarity_model.fit(siam_gen([df[\"clean_text\"], df[\"reason\"]], 128), steps_per_epoch=500, shuffle=True, epochs = 10, verbose = True)"
   ]
  },
  {
   "cell_type": "code",
   "execution_count": null,
   "id": "27O7hUOB4nCa",
   "metadata": {
    "id": "27O7hUOB4nCa"
   },
   "outputs": [],
   "source": [
    "similarity_model.save(\"models/secondModel.h5\")"
   ]
  },
  {
   "cell_type": "code",
   "execution_count": null,
   "id": "_N53FwQ8NW7O",
   "metadata": {
    "id": "_N53FwQ8NW7O"
   },
   "outputs": [],
   "source": [
    "df_test = pd.read_excel('evaluation.xlsx')"
   ]
  },
  {
   "cell_type": "code",
   "execution_count": null,
   "id": "NuIEVuhKNw6v",
   "metadata": {
    "id": "NuIEVuhKNw6v"
   },
   "outputs": [],
   "source": [
    "df_test[\"clean_text\"] = df_test[\"text\"].map(preprocessText)"
   ]
  },
  {
   "cell_type": "code",
   "execution_count": null,
   "id": "fKxUqw3ZNWhe",
   "metadata": {
    "colab": {
     "base_uri": "https://localhost:8080/",
     "height": 35
    },
    "id": "fKxUqw3ZNWhe",
    "outputId": "787aae63-acf9-44f5-9271-e0894a6812f3"
   },
   "outputs": [
    {
     "data": {
      "application/vnd.google.colaboratory.intrinsic+json": {
       "type": "string"
      },
      "text/plain": [
       "'the app be crash when i play a vedio'"
      ]
     },
     "execution_count": 325,
     "metadata": {},
     "output_type": "execute_result"
    }
   ],
   "source": [
    "df_test[\"clean_text\"][0]"
   ]
  },
  {
   "cell_type": "code",
   "execution_count": null,
   "id": "YYkvhmotTKSm",
   "metadata": {
    "colab": {
     "base_uri": "https://localhost:8080/"
    },
    "id": "YYkvhmotTKSm",
    "outputId": "884da362-1c68-4b32-b641-d85736bed487"
   },
   "outputs": [
    {
     "data": {
      "text/plain": [
       "(9000,)"
      ]
     },
     "execution_count": 314,
     "metadata": {},
     "output_type": "execute_result"
    }
   ],
   "source": [
    "df_test[\"clean_text\"].shape"
   ]
  },
  {
   "cell_type": "code",
   "execution_count": null,
   "id": "2niVwSSxjNQ_",
   "metadata": {
    "id": "2niVwSSxjNQ_"
   },
   "outputs": [],
   "source": [
    "results = similarity_model.predict([df_test[\"clean_text\"], df_test[\"reason\"]])"
   ]
  },
  {
   "cell_type": "code",
   "execution_count": null,
   "id": "uvmF4tB-OpBP",
   "metadata": {
    "id": "uvmF4tB-OpBP"
   },
   "outputs": [],
   "source": [
    "similarity_model.save_weights(\"model/\")"
   ]
  },
  {
   "cell_type": "code",
   "execution_count": null,
   "id": "Tz70qkesOV0S",
   "metadata": {
    "colab": {
     "base_uri": "https://localhost:8080/"
    },
    "id": "Tz70qkesOV0S",
    "outputId": "f07eb388-f154-4601-cfe0-c5f50435aefb"
   },
   "outputs": [
    {
     "data": {
      "text/plain": [
       "array([2158])"
      ]
     },
     "execution_count": 304,
     "metadata": {},
     "output_type": "execute_result"
    }
   ],
   "source": [
    "sum((results >= 0.5).astype(int))"
   ]
  },
  {
   "cell_type": "code",
   "execution_count": null,
   "id": "-p5IohOXOOIE",
   "metadata": {
    "id": "-p5IohOXOOIE"
   },
   "outputs": [],
   "source": [
    "eval_result = (results >= 0.5).astype(int).squeeze()"
   ]
  },
  {
   "cell_type": "code",
   "execution_count": null,
   "id": "aEJ8OelIjNOj",
   "metadata": {
    "colab": {
     "base_uri": "https://localhost:8080/"
    },
    "id": "aEJ8OelIjNOj",
    "outputId": "ef646466-15b5-4d4c-f9dd-9cbc2f727319"
   },
   "outputs": [
    {
     "data": {
      "text/plain": [
       "0.6138888888888889"
      ]
     },
     "execution_count": 293,
     "metadata": {},
     "output_type": "execute_result"
    }
   ],
   "source": [
    "np.mean([df_test[\"label\"] == eval_result])"
   ]
  },
  {
   "cell_type": "code",
   "execution_count": null,
   "id": "9nMPxBGSjNL_",
   "metadata": {
    "colab": {
     "base_uri": "https://localhost:8080/"
    },
    "id": "9nMPxBGSjNL_",
    "outputId": "40fd1feb-f750-4a7f-9588-7dca4d86b8a4"
   },
   "outputs": [
    {
     "data": {
      "text/plain": [
       "3001.0"
      ]
     },
     "execution_count": 305,
     "metadata": {},
     "output_type": "execute_result"
    }
   ],
   "source": [
    "sum(df_test[\"label\"])"
   ]
  },
  {
   "cell_type": "code",
   "execution_count": null,
   "id": "ZB8NYmY1jNJW",
   "metadata": {
    "colab": {
     "base_uri": "https://localhost:8080/"
    },
    "id": "ZB8NYmY1jNJW",
    "outputId": "8a9863d8-7a81-4ca9-9036-9d9ffcda7c2b"
   },
   "outputs": [
    {
     "data": {
      "text/plain": [
       "array([0.5439254], dtype=float32)"
      ]
     },
     "execution_count": 310,
     "metadata": {},
     "output_type": "execute_result"
    }
   ],
   "source": [
    "results[115]"
   ]
  },
  {
   "cell_type": "code",
   "execution_count": null,
   "id": "29k3kmidjNG7",
   "metadata": {
    "colab": {
     "base_uri": "https://localhost:8080/"
    },
    "id": "29k3kmidjNG7",
    "outputId": "6589bc7b-5518-4e39-c1cb-6f3b6512b09a"
   },
   "outputs": [
    {
     "name": "stderr",
     "output_type": "stream",
     "text": [
      "WARNING:tensorflow:Compiled the loaded model, but the compiled metrics have yet to be built. `model.compile_metrics` will be empty until you train or evaluate the model.\n"
     ]
    }
   ],
   "source": [
    "model.save(\"similarity_model.h5\")"
   ]
  },
  {
   "cell_type": "code",
   "execution_count": null,
   "id": "X4CRmMQojNEf",
   "metadata": {
    "id": "X4CRmMQojNEf"
   },
   "outputs": [],
   "source": []
  },
  {
   "cell_type": "code",
   "execution_count": null,
   "id": "KKuLAAfcjNB8",
   "metadata": {
    "id": "KKuLAAfcjNB8"
   },
   "outputs": [],
   "source": []
  },
  {
   "cell_type": "markdown",
   "id": "lPPTZ46P5jL6",
   "metadata": {
    "id": "lPPTZ46P5jL6"
   },
   "source": [
    "## Siamese TF Cosine Distance Fine Tune"
   ]
  },
  {
   "cell_type": "code",
   "execution_count": 27,
   "id": "AxgDOgCFKqUV",
   "metadata": {
    "id": "AxgDOgCFKqUV"
   },
   "outputs": [],
   "source": [
    "import math as m"
   ]
  },
  {
   "cell_type": "code",
   "execution_count": 28,
   "id": "G-F2we0AKkxL",
   "metadata": {
    "id": "G-F2we0AKkxL"
   },
   "outputs": [],
   "source": [
    "huburl = \"https://tfhub.dev/google/universal-sentence-encoder/4\" \n",
    "def get_model():\n",
    "    fine_tuned_module_object = hub.load(huburl)\n",
    "    shared_embedding_layer = hub.KerasLayer(fine_tuned_module_object,trainable=True)\n",
    "\n",
    "    left_input = tf.keras.Input(shape=(), dtype=tf.string)\n",
    "    right_input = tf.keras.Input(shape=(), dtype=tf.string)\n",
    "\n",
    "    embedding_left_output= shared_embedding_layer(left_input)\n",
    "    embedding_right_output= shared_embedding_layer(right_input)\n",
    "\n",
    "    cosine_similiarity=tf.keras.layers.Dot(axes=-1,normalize=True)([embedding_left_output,embedding_right_output])\n",
    "\n",
    "    clip_cosine_similarities = tf.clip_by_value(cosine_similiarity, -1.0, 1.0)\n",
    "\n",
    "    pi = tf.constant(m.pi,dtype= tf.float64)\n",
    "    cos_distance = 1.0 - (tf.acos(clip_cosine_similarities)/pi)\n",
    "\n",
    "    return tf.keras.Model([left_input,right_input], cos_distance)"
   ]
  },
  {
   "cell_type": "code",
   "execution_count": 29,
   "id": "ZVVgtG5zK6ya",
   "metadata": {
    "id": "ZVVgtG5zK6ya"
   },
   "outputs": [
    {
     "ename": "NameError",
     "evalue": "name 'hub' is not defined",
     "output_type": "error",
     "traceback": [
      "\u001b[1;31m---------------------------------------------------------------------------\u001b[0m",
      "\u001b[1;31mNameError\u001b[0m                                 Traceback (most recent call last)",
      "\u001b[1;32m~\\AppData\\Local\\Temp\\ipykernel_39304\\379918828.py\u001b[0m in \u001b[0;36m<module>\u001b[1;34m\u001b[0m\n\u001b[1;32m----> 1\u001b[1;33m \u001b[0mmodel\u001b[0m \u001b[1;33m=\u001b[0m \u001b[0mget_model\u001b[0m\u001b[1;33m(\u001b[0m\u001b[1;33m)\u001b[0m\u001b[1;33m\u001b[0m\u001b[1;33m\u001b[0m\u001b[0m\n\u001b[0m",
      "\u001b[1;32m~\\AppData\\Local\\Temp\\ipykernel_39304\\3632791935.py\u001b[0m in \u001b[0;36mget_model\u001b[1;34m()\u001b[0m\n\u001b[0;32m      1\u001b[0m \u001b[0mhuburl\u001b[0m \u001b[1;33m=\u001b[0m \u001b[1;34m\"https://tfhub.dev/google/universal-sentence-encoder/4\"\u001b[0m\u001b[1;33m\u001b[0m\u001b[1;33m\u001b[0m\u001b[0m\n\u001b[0;32m      2\u001b[0m \u001b[1;32mdef\u001b[0m \u001b[0mget_model\u001b[0m\u001b[1;33m(\u001b[0m\u001b[1;33m)\u001b[0m\u001b[1;33m:\u001b[0m\u001b[1;33m\u001b[0m\u001b[1;33m\u001b[0m\u001b[0m\n\u001b[1;32m----> 3\u001b[1;33m     \u001b[0mfine_tuned_module_object\u001b[0m \u001b[1;33m=\u001b[0m \u001b[0mhub\u001b[0m\u001b[1;33m.\u001b[0m\u001b[0mload\u001b[0m\u001b[1;33m(\u001b[0m\u001b[0mhuburl\u001b[0m\u001b[1;33m)\u001b[0m\u001b[1;33m\u001b[0m\u001b[1;33m\u001b[0m\u001b[0m\n\u001b[0m\u001b[0;32m      4\u001b[0m     \u001b[0mshared_embedding_layer\u001b[0m \u001b[1;33m=\u001b[0m \u001b[0mhub\u001b[0m\u001b[1;33m.\u001b[0m\u001b[0mKerasLayer\u001b[0m\u001b[1;33m(\u001b[0m\u001b[0mfine_tuned_module_object\u001b[0m\u001b[1;33m,\u001b[0m\u001b[0mtrainable\u001b[0m\u001b[1;33m=\u001b[0m\u001b[1;32mTrue\u001b[0m\u001b[1;33m)\u001b[0m\u001b[1;33m\u001b[0m\u001b[1;33m\u001b[0m\u001b[0m\n\u001b[0;32m      5\u001b[0m \u001b[1;33m\u001b[0m\u001b[0m\n",
      "\u001b[1;31mNameError\u001b[0m: name 'hub' is not defined"
     ]
    }
   ],
   "source": [
    "model = get_model()"
   ]
  },
  {
   "cell_type": "code",
   "execution_count": null,
   "id": "774b3041",
   "metadata": {},
   "outputs": [],
   "source": []
  }
 ],
 "metadata": {
  "accelerator": "GPU",
  "colab": {
   "collapsed_sections": [],
   "name": "Copy of MLASGMT.ipynb",
   "provenance": []
  },
  "gpuClass": "standard",
  "kernelspec": {
   "display_name": "Python 3 (ipykernel)",
   "language": "python",
   "name": "python3"
  },
  "language_info": {
   "codemirror_mode": {
    "name": "ipython",
    "version": 3
   },
   "file_extension": ".py",
   "mimetype": "text/x-python",
   "name": "python",
   "nbconvert_exporter": "python",
   "pygments_lexer": "ipython3",
   "version": "3.7.9"
  },
  "widgets": {
   "application/vnd.jupyter.widget-state+json": {
    "01df4b0a60734d2eaa405f852f732009": {
     "model_module": "@jupyter-widgets/base",
     "model_module_version": "1.2.0",
     "model_name": "LayoutModel",
     "state": {
      "_model_module": "@jupyter-widgets/base",
      "_model_module_version": "1.2.0",
      "_model_name": "LayoutModel",
      "_view_count": null,
      "_view_module": "@jupyter-widgets/base",
      "_view_module_version": "1.2.0",
      "_view_name": "LayoutView",
      "align_content": null,
      "align_items": null,
      "align_self": null,
      "border": null,
      "bottom": null,
      "display": null,
      "flex": null,
      "flex_flow": null,
      "grid_area": null,
      "grid_auto_columns": null,
      "grid_auto_flow": null,
      "grid_auto_rows": null,
      "grid_column": null,
      "grid_gap": null,
      "grid_row": null,
      "grid_template_areas": null,
      "grid_template_columns": null,
      "grid_template_rows": null,
      "height": null,
      "justify_content": null,
      "justify_items": null,
      "left": null,
      "margin": null,
      "max_height": null,
      "max_width": null,
      "min_height": null,
      "min_width": null,
      "object_fit": null,
      "object_position": null,
      "order": null,
      "overflow": null,
      "overflow_x": null,
      "overflow_y": null,
      "padding": null,
      "right": null,
      "top": null,
      "visibility": null,
      "width": null
     }
    },
    "141e55a5cbc34d359d8f40e831a376c0": {
     "model_module": "@jupyter-widgets/controls",
     "model_module_version": "1.5.0",
     "model_name": "FloatProgressModel",
     "state": {
      "_dom_classes": [],
      "_model_module": "@jupyter-widgets/controls",
      "_model_module_version": "1.5.0",
      "_model_name": "FloatProgressModel",
      "_view_count": null,
      "_view_module": "@jupyter-widgets/controls",
      "_view_module_version": "1.5.0",
      "_view_name": "ProgressView",
      "bar_style": "success",
      "description": "",
      "description_tooltip": null,
      "layout": "IPY_MODEL_51366226219d42ff98acd5bc401bf9a3",
      "max": 29,
      "min": 0,
      "orientation": "horizontal",
      "style": "IPY_MODEL_55d3c3d1e83d464aad9782c6d7d4fa82",
      "value": 29
     }
    },
    "1a8c70cd401b437cb53eb4534b6b6ae8": {
     "model_module": "@jupyter-widgets/controls",
     "model_module_version": "1.5.0",
     "model_name": "FloatProgressModel",
     "state": {
      "_dom_classes": [],
      "_model_module": "@jupyter-widgets/controls",
      "_model_module_version": "1.5.0",
      "_model_name": "FloatProgressModel",
      "_view_count": null,
      "_view_module": "@jupyter-widgets/controls",
      "_view_module_version": "1.5.0",
      "_view_name": "ProgressView",
      "bar_style": "success",
      "description": "",
      "description_tooltip": null,
      "layout": "IPY_MODEL_bbdfeefde29247468cde1a754e0142c7",
      "max": 435797,
      "min": 0,
      "orientation": "horizontal",
      "style": "IPY_MODEL_57061e9df80b4a489cdec492f753181e",
      "value": 435797
     }
    },
    "1d3f08f08e374f6287009984132ce717": {
     "model_module": "@jupyter-widgets/controls",
     "model_module_version": "1.5.0",
     "model_name": "HBoxModel",
     "state": {
      "_dom_classes": [],
      "_model_module": "@jupyter-widgets/controls",
      "_model_module_version": "1.5.0",
      "_model_name": "HBoxModel",
      "_view_count": null,
      "_view_module": "@jupyter-widgets/controls",
      "_view_module_version": "1.5.0",
      "_view_name": "HBoxView",
      "box_style": "",
      "children": [
       "IPY_MODEL_dc6c2264876c460aa9e27954c4341a20",
       "IPY_MODEL_1a8c70cd401b437cb53eb4534b6b6ae8",
       "IPY_MODEL_244508ba1e5e4a89a1573d659d5eb32b"
      ],
      "layout": "IPY_MODEL_3191bda3c85a4530aad76b8216c9fcb4"
     }
    },
    "1d948b8929f340f9a8b333efd540aa93": {
     "model_module": "@jupyter-widgets/base",
     "model_module_version": "1.2.0",
     "model_name": "LayoutModel",
     "state": {
      "_model_module": "@jupyter-widgets/base",
      "_model_module_version": "1.2.0",
      "_model_name": "LayoutModel",
      "_view_count": null,
      "_view_module": "@jupyter-widgets/base",
      "_view_module_version": "1.2.0",
      "_view_name": "LayoutView",
      "align_content": null,
      "align_items": null,
      "align_self": null,
      "border": null,
      "bottom": null,
      "display": null,
      "flex": null,
      "flex_flow": null,
      "grid_area": null,
      "grid_auto_columns": null,
      "grid_auto_flow": null,
      "grid_auto_rows": null,
      "grid_column": null,
      "grid_gap": null,
      "grid_row": null,
      "grid_template_areas": null,
      "grid_template_columns": null,
      "grid_template_rows": null,
      "height": null,
      "justify_content": null,
      "justify_items": null,
      "left": null,
      "margin": null,
      "max_height": null,
      "max_width": null,
      "min_height": null,
      "min_width": null,
      "object_fit": null,
      "object_position": null,
      "order": null,
      "overflow": null,
      "overflow_x": null,
      "overflow_y": null,
      "padding": null,
      "right": null,
      "top": null,
      "visibility": null,
      "width": null
     }
    },
    "1ee1c496583145f3b79a841a4a1aecc2": {
     "model_module": "@jupyter-widgets/base",
     "model_module_version": "1.2.0",
     "model_name": "LayoutModel",
     "state": {
      "_model_module": "@jupyter-widgets/base",
      "_model_module_version": "1.2.0",
      "_model_name": "LayoutModel",
      "_view_count": null,
      "_view_module": "@jupyter-widgets/base",
      "_view_module_version": "1.2.0",
      "_view_name": "LayoutView",
      "align_content": null,
      "align_items": null,
      "align_self": null,
      "border": null,
      "bottom": null,
      "display": null,
      "flex": null,
      "flex_flow": null,
      "grid_area": null,
      "grid_auto_columns": null,
      "grid_auto_flow": null,
      "grid_auto_rows": null,
      "grid_column": null,
      "grid_gap": null,
      "grid_row": null,
      "grid_template_areas": null,
      "grid_template_columns": null,
      "grid_template_rows": null,
      "height": null,
      "justify_content": null,
      "justify_items": null,
      "left": null,
      "margin": null,
      "max_height": null,
      "max_width": null,
      "min_height": null,
      "min_width": null,
      "object_fit": null,
      "object_position": null,
      "order": null,
      "overflow": null,
      "overflow_x": null,
      "overflow_y": null,
      "padding": null,
      "right": null,
      "top": null,
      "visibility": null,
      "width": null
     }
    },
    "244508ba1e5e4a89a1573d659d5eb32b": {
     "model_module": "@jupyter-widgets/controls",
     "model_module_version": "1.5.0",
     "model_name": "HTMLModel",
     "state": {
      "_dom_classes": [],
      "_model_module": "@jupyter-widgets/controls",
      "_model_module_version": "1.5.0",
      "_model_name": "HTMLModel",
      "_view_count": null,
      "_view_module": "@jupyter-widgets/controls",
      "_view_module_version": "1.5.0",
      "_view_name": "HTMLView",
      "description": "",
      "description_tooltip": null,
      "layout": "IPY_MODEL_8f7a2b74e66b4f6b823c6728160d316b",
      "placeholder": "​",
      "style": "IPY_MODEL_4828ed7b9002458c98efc94941793715",
      "value": " 426k/426k [00:01&lt;00:00, 469kB/s]"
     }
    },
    "3191bda3c85a4530aad76b8216c9fcb4": {
     "model_module": "@jupyter-widgets/base",
     "model_module_version": "1.2.0",
     "model_name": "LayoutModel",
     "state": {
      "_model_module": "@jupyter-widgets/base",
      "_model_module_version": "1.2.0",
      "_model_name": "LayoutModel",
      "_view_count": null,
      "_view_module": "@jupyter-widgets/base",
      "_view_module_version": "1.2.0",
      "_view_name": "LayoutView",
      "align_content": null,
      "align_items": null,
      "align_self": null,
      "border": null,
      "bottom": null,
      "display": null,
      "flex": null,
      "flex_flow": null,
      "grid_area": null,
      "grid_auto_columns": null,
      "grid_auto_flow": null,
      "grid_auto_rows": null,
      "grid_column": null,
      "grid_gap": null,
      "grid_row": null,
      "grid_template_areas": null,
      "grid_template_columns": null,
      "grid_template_rows": null,
      "height": null,
      "justify_content": null,
      "justify_items": null,
      "left": null,
      "margin": null,
      "max_height": null,
      "max_width": null,
      "min_height": null,
      "min_width": null,
      "object_fit": null,
      "object_position": null,
      "order": null,
      "overflow": null,
      "overflow_x": null,
      "overflow_y": null,
      "padding": null,
      "right": null,
      "top": null,
      "visibility": null,
      "width": null
     }
    },
    "3216221d6eac40249b42b9aebca034df": {
     "model_module": "@jupyter-widgets/controls",
     "model_module_version": "1.5.0",
     "model_name": "DescriptionStyleModel",
     "state": {
      "_model_module": "@jupyter-widgets/controls",
      "_model_module_version": "1.5.0",
      "_model_name": "DescriptionStyleModel",
      "_view_count": null,
      "_view_module": "@jupyter-widgets/base",
      "_view_module_version": "1.2.0",
      "_view_name": "StyleView",
      "description_width": ""
     }
    },
    "361ab48b5dff4be897eeca94a2e767f6": {
     "model_module": "@jupyter-widgets/base",
     "model_module_version": "1.2.0",
     "model_name": "LayoutModel",
     "state": {
      "_model_module": "@jupyter-widgets/base",
      "_model_module_version": "1.2.0",
      "_model_name": "LayoutModel",
      "_view_count": null,
      "_view_module": "@jupyter-widgets/base",
      "_view_module_version": "1.2.0",
      "_view_name": "LayoutView",
      "align_content": null,
      "align_items": null,
      "align_self": null,
      "border": null,
      "bottom": null,
      "display": null,
      "flex": null,
      "flex_flow": null,
      "grid_area": null,
      "grid_auto_columns": null,
      "grid_auto_flow": null,
      "grid_auto_rows": null,
      "grid_column": null,
      "grid_gap": null,
      "grid_row": null,
      "grid_template_areas": null,
      "grid_template_columns": null,
      "grid_template_rows": null,
      "height": null,
      "justify_content": null,
      "justify_items": null,
      "left": null,
      "margin": null,
      "max_height": null,
      "max_width": null,
      "min_height": null,
      "min_width": null,
      "object_fit": null,
      "object_position": null,
      "order": null,
      "overflow": null,
      "overflow_x": null,
      "overflow_y": null,
      "padding": null,
      "right": null,
      "top": null,
      "visibility": null,
      "width": null
     }
    },
    "391b4b0f5d5b4670a111494d74b7ac59": {
     "model_module": "@jupyter-widgets/controls",
     "model_module_version": "1.5.0",
     "model_name": "FloatProgressModel",
     "state": {
      "_dom_classes": [],
      "_model_module": "@jupyter-widgets/controls",
      "_model_module_version": "1.5.0",
      "_model_name": "FloatProgressModel",
      "_view_count": null,
      "_view_module": "@jupyter-widgets/controls",
      "_view_module_version": "1.5.0",
      "_view_name": "ProgressView",
      "bar_style": "success",
      "description": "",
      "description_tooltip": null,
      "layout": "IPY_MODEL_1ee1c496583145f3b79a841a4a1aecc2",
      "max": 213450,
      "min": 0,
      "orientation": "horizontal",
      "style": "IPY_MODEL_3fc2e28bbda0406aa9e93439ce361630",
      "value": 213450
     }
    },
    "3b3b0d1e76084ede9a271b7f8ac6cedc": {
     "model_module": "@jupyter-widgets/base",
     "model_module_version": "1.2.0",
     "model_name": "LayoutModel",
     "state": {
      "_model_module": "@jupyter-widgets/base",
      "_model_module_version": "1.2.0",
      "_model_name": "LayoutModel",
      "_view_count": null,
      "_view_module": "@jupyter-widgets/base",
      "_view_module_version": "1.2.0",
      "_view_name": "LayoutView",
      "align_content": null,
      "align_items": null,
      "align_self": null,
      "border": null,
      "bottom": null,
      "display": null,
      "flex": null,
      "flex_flow": null,
      "grid_area": null,
      "grid_auto_columns": null,
      "grid_auto_flow": null,
      "grid_auto_rows": null,
      "grid_column": null,
      "grid_gap": null,
      "grid_row": null,
      "grid_template_areas": null,
      "grid_template_columns": null,
      "grid_template_rows": null,
      "height": null,
      "justify_content": null,
      "justify_items": null,
      "left": null,
      "margin": null,
      "max_height": null,
      "max_width": null,
      "min_height": null,
      "min_width": null,
      "object_fit": null,
      "object_position": null,
      "order": null,
      "overflow": null,
      "overflow_x": null,
      "overflow_y": null,
      "padding": null,
      "right": null,
      "top": null,
      "visibility": null,
      "width": null
     }
    },
    "3fc2e28bbda0406aa9e93439ce361630": {
     "model_module": "@jupyter-widgets/controls",
     "model_module_version": "1.5.0",
     "model_name": "ProgressStyleModel",
     "state": {
      "_model_module": "@jupyter-widgets/controls",
      "_model_module_version": "1.5.0",
      "_model_name": "ProgressStyleModel",
      "_view_count": null,
      "_view_module": "@jupyter-widgets/base",
      "_view_module_version": "1.2.0",
      "_view_name": "StyleView",
      "bar_color": null,
      "description_width": ""
     }
    },
    "4206e39f9ae34bdca0af632125e6235e": {
     "model_module": "@jupyter-widgets/base",
     "model_module_version": "1.2.0",
     "model_name": "LayoutModel",
     "state": {
      "_model_module": "@jupyter-widgets/base",
      "_model_module_version": "1.2.0",
      "_model_name": "LayoutModel",
      "_view_count": null,
      "_view_module": "@jupyter-widgets/base",
      "_view_module_version": "1.2.0",
      "_view_name": "LayoutView",
      "align_content": null,
      "align_items": null,
      "align_self": null,
      "border": null,
      "bottom": null,
      "display": null,
      "flex": null,
      "flex_flow": null,
      "grid_area": null,
      "grid_auto_columns": null,
      "grid_auto_flow": null,
      "grid_auto_rows": null,
      "grid_column": null,
      "grid_gap": null,
      "grid_row": null,
      "grid_template_areas": null,
      "grid_template_columns": null,
      "grid_template_rows": null,
      "height": null,
      "justify_content": null,
      "justify_items": null,
      "left": null,
      "margin": null,
      "max_height": null,
      "max_width": null,
      "min_height": null,
      "min_width": null,
      "object_fit": null,
      "object_position": null,
      "order": null,
      "overflow": null,
      "overflow_x": null,
      "overflow_y": null,
      "padding": null,
      "right": null,
      "top": null,
      "visibility": null,
      "width": null
     }
    },
    "437e6b81244c4c72b08ed25514976e1e": {
     "model_module": "@jupyter-widgets/base",
     "model_module_version": "1.2.0",
     "model_name": "LayoutModel",
     "state": {
      "_model_module": "@jupyter-widgets/base",
      "_model_module_version": "1.2.0",
      "_model_name": "LayoutModel",
      "_view_count": null,
      "_view_module": "@jupyter-widgets/base",
      "_view_module_version": "1.2.0",
      "_view_name": "LayoutView",
      "align_content": null,
      "align_items": null,
      "align_self": null,
      "border": null,
      "bottom": null,
      "display": null,
      "flex": null,
      "flex_flow": null,
      "grid_area": null,
      "grid_auto_columns": null,
      "grid_auto_flow": null,
      "grid_auto_rows": null,
      "grid_column": null,
      "grid_gap": null,
      "grid_row": null,
      "grid_template_areas": null,
      "grid_template_columns": null,
      "grid_template_rows": null,
      "height": null,
      "justify_content": null,
      "justify_items": null,
      "left": null,
      "margin": null,
      "max_height": null,
      "max_width": null,
      "min_height": null,
      "min_width": null,
      "object_fit": null,
      "object_position": null,
      "order": null,
      "overflow": null,
      "overflow_x": null,
      "overflow_y": null,
      "padding": null,
      "right": null,
      "top": null,
      "visibility": null,
      "width": null
     }
    },
    "4461758f649d4f57aafcb7e0b34cef72": {
     "model_module": "@jupyter-widgets/base",
     "model_module_version": "1.2.0",
     "model_name": "LayoutModel",
     "state": {
      "_model_module": "@jupyter-widgets/base",
      "_model_module_version": "1.2.0",
      "_model_name": "LayoutModel",
      "_view_count": null,
      "_view_module": "@jupyter-widgets/base",
      "_view_module_version": "1.2.0",
      "_view_name": "LayoutView",
      "align_content": null,
      "align_items": null,
      "align_self": null,
      "border": null,
      "bottom": null,
      "display": null,
      "flex": null,
      "flex_flow": null,
      "grid_area": null,
      "grid_auto_columns": null,
      "grid_auto_flow": null,
      "grid_auto_rows": null,
      "grid_column": null,
      "grid_gap": null,
      "grid_row": null,
      "grid_template_areas": null,
      "grid_template_columns": null,
      "grid_template_rows": null,
      "height": null,
      "justify_content": null,
      "justify_items": null,
      "left": null,
      "margin": null,
      "max_height": null,
      "max_width": null,
      "min_height": null,
      "min_width": null,
      "object_fit": null,
      "object_position": null,
      "order": null,
      "overflow": null,
      "overflow_x": null,
      "overflow_y": null,
      "padding": null,
      "right": null,
      "top": null,
      "visibility": null,
      "width": null
     }
    },
    "45a1ef616a274e60a0501c667d22e40c": {
     "model_module": "@jupyter-widgets/base",
     "model_module_version": "1.2.0",
     "model_name": "LayoutModel",
     "state": {
      "_model_module": "@jupyter-widgets/base",
      "_model_module_version": "1.2.0",
      "_model_name": "LayoutModel",
      "_view_count": null,
      "_view_module": "@jupyter-widgets/base",
      "_view_module_version": "1.2.0",
      "_view_name": "LayoutView",
      "align_content": null,
      "align_items": null,
      "align_self": null,
      "border": null,
      "bottom": null,
      "display": null,
      "flex": null,
      "flex_flow": null,
      "grid_area": null,
      "grid_auto_columns": null,
      "grid_auto_flow": null,
      "grid_auto_rows": null,
      "grid_column": null,
      "grid_gap": null,
      "grid_row": null,
      "grid_template_areas": null,
      "grid_template_columns": null,
      "grid_template_rows": null,
      "height": null,
      "justify_content": null,
      "justify_items": null,
      "left": null,
      "margin": null,
      "max_height": null,
      "max_width": null,
      "min_height": null,
      "min_width": null,
      "object_fit": null,
      "object_position": null,
      "order": null,
      "overflow": null,
      "overflow_x": null,
      "overflow_y": null,
      "padding": null,
      "right": null,
      "top": null,
      "visibility": null,
      "width": null
     }
    },
    "4828ed7b9002458c98efc94941793715": {
     "model_module": "@jupyter-widgets/controls",
     "model_module_version": "1.5.0",
     "model_name": "DescriptionStyleModel",
     "state": {
      "_model_module": "@jupyter-widgets/controls",
      "_model_module_version": "1.5.0",
      "_model_name": "DescriptionStyleModel",
      "_view_count": null,
      "_view_module": "@jupyter-widgets/base",
      "_view_module_version": "1.2.0",
      "_view_name": "StyleView",
      "description_width": ""
     }
    },
    "4e4bf5c5dcc7441ba0859530cd823a9b": {
     "model_module": "@jupyter-widgets/controls",
     "model_module_version": "1.5.0",
     "model_name": "HTMLModel",
     "state": {
      "_dom_classes": [],
      "_model_module": "@jupyter-widgets/controls",
      "_model_module_version": "1.5.0",
      "_model_name": "HTMLModel",
      "_view_count": null,
      "_view_module": "@jupyter-widgets/controls",
      "_view_module_version": "1.5.0",
      "_view_name": "HTMLView",
      "description": "",
      "description_tooltip": null,
      "layout": "IPY_MODEL_1d948b8929f340f9a8b333efd540aa93",
      "placeholder": "​",
      "style": "IPY_MODEL_3216221d6eac40249b42b9aebca034df",
      "value": " 570/570 [00:00&lt;00:00, 17.1kB/s]"
     }
    },
    "5128f127fa9b49229b8eb0b58b153a20": {
     "model_module": "@jupyter-widgets/controls",
     "model_module_version": "1.5.0",
     "model_name": "HBoxModel",
     "state": {
      "_dom_classes": [],
      "_model_module": "@jupyter-widgets/controls",
      "_model_module_version": "1.5.0",
      "_model_name": "HBoxModel",
      "_view_count": null,
      "_view_module": "@jupyter-widgets/controls",
      "_view_module_version": "1.5.0",
      "_view_name": "HBoxView",
      "box_style": "",
      "children": [
       "IPY_MODEL_7cb94cf451dd4581ae93e4a7278c700a",
       "IPY_MODEL_ad9dd2b510da4e98876a81b7c25d72ff",
       "IPY_MODEL_4e4bf5c5dcc7441ba0859530cd823a9b"
      ],
      "layout": "IPY_MODEL_45a1ef616a274e60a0501c667d22e40c"
     }
    },
    "51366226219d42ff98acd5bc401bf9a3": {
     "model_module": "@jupyter-widgets/base",
     "model_module_version": "1.2.0",
     "model_name": "LayoutModel",
     "state": {
      "_model_module": "@jupyter-widgets/base",
      "_model_module_version": "1.2.0",
      "_model_name": "LayoutModel",
      "_view_count": null,
      "_view_module": "@jupyter-widgets/base",
      "_view_module_version": "1.2.0",
      "_view_name": "LayoutView",
      "align_content": null,
      "align_items": null,
      "align_self": null,
      "border": null,
      "bottom": null,
      "display": null,
      "flex": null,
      "flex_flow": null,
      "grid_area": null,
      "grid_auto_columns": null,
      "grid_auto_flow": null,
      "grid_auto_rows": null,
      "grid_column": null,
      "grid_gap": null,
      "grid_row": null,
      "grid_template_areas": null,
      "grid_template_columns": null,
      "grid_template_rows": null,
      "height": null,
      "justify_content": null,
      "justify_items": null,
      "left": null,
      "margin": null,
      "max_height": null,
      "max_width": null,
      "min_height": null,
      "min_width": null,
      "object_fit": null,
      "object_position": null,
      "order": null,
      "overflow": null,
      "overflow_x": null,
      "overflow_y": null,
      "padding": null,
      "right": null,
      "top": null,
      "visibility": null,
      "width": null
     }
    },
    "55a6017f9c8f471aa0721f54cabbea97": {
     "model_module": "@jupyter-widgets/controls",
     "model_module_version": "1.5.0",
     "model_name": "HBoxModel",
     "state": {
      "_dom_classes": [],
      "_model_module": "@jupyter-widgets/controls",
      "_model_module_version": "1.5.0",
      "_model_name": "HBoxModel",
      "_view_count": null,
      "_view_module": "@jupyter-widgets/controls",
      "_view_module_version": "1.5.0",
      "_view_name": "HBoxView",
      "box_style": "",
      "children": [
       "IPY_MODEL_5840d4e2f2b94cb694eacb8ab644fc40",
       "IPY_MODEL_141e55a5cbc34d359d8f40e831a376c0",
       "IPY_MODEL_7e839811db5c421baee885ddd0d3372e"
      ],
      "layout": "IPY_MODEL_4461758f649d4f57aafcb7e0b34cef72"
     }
    },
    "55d3c3d1e83d464aad9782c6d7d4fa82": {
     "model_module": "@jupyter-widgets/controls",
     "model_module_version": "1.5.0",
     "model_name": "ProgressStyleModel",
     "state": {
      "_model_module": "@jupyter-widgets/controls",
      "_model_module_version": "1.5.0",
      "_model_name": "ProgressStyleModel",
      "_view_count": null,
      "_view_module": "@jupyter-widgets/base",
      "_view_module_version": "1.2.0",
      "_view_name": "StyleView",
      "bar_color": null,
      "description_width": ""
     }
    },
    "57061e9df80b4a489cdec492f753181e": {
     "model_module": "@jupyter-widgets/controls",
     "model_module_version": "1.5.0",
     "model_name": "ProgressStyleModel",
     "state": {
      "_model_module": "@jupyter-widgets/controls",
      "_model_module_version": "1.5.0",
      "_model_name": "ProgressStyleModel",
      "_view_count": null,
      "_view_module": "@jupyter-widgets/base",
      "_view_module_version": "1.2.0",
      "_view_name": "StyleView",
      "bar_color": null,
      "description_width": ""
     }
    },
    "5840d4e2f2b94cb694eacb8ab644fc40": {
     "model_module": "@jupyter-widgets/controls",
     "model_module_version": "1.5.0",
     "model_name": "HTMLModel",
     "state": {
      "_dom_classes": [],
      "_model_module": "@jupyter-widgets/controls",
      "_model_module_version": "1.5.0",
      "_model_name": "HTMLModel",
      "_view_count": null,
      "_view_module": "@jupyter-widgets/controls",
      "_view_module_version": "1.5.0",
      "_view_name": "HTMLView",
      "description": "",
      "description_tooltip": null,
      "layout": "IPY_MODEL_437e6b81244c4c72b08ed25514976e1e",
      "placeholder": "​",
      "style": "IPY_MODEL_6c81de3b069a4d50b5e03ee42ee87ea7",
      "value": "Downloading tokenizer_config.json: 100%"
     }
    },
    "6c81de3b069a4d50b5e03ee42ee87ea7": {
     "model_module": "@jupyter-widgets/controls",
     "model_module_version": "1.5.0",
     "model_name": "DescriptionStyleModel",
     "state": {
      "_model_module": "@jupyter-widgets/controls",
      "_model_module_version": "1.5.0",
      "_model_name": "DescriptionStyleModel",
      "_view_count": null,
      "_view_module": "@jupyter-widgets/base",
      "_view_module_version": "1.2.0",
      "_view_name": "StyleView",
      "description_width": ""
     }
    },
    "7cb94cf451dd4581ae93e4a7278c700a": {
     "model_module": "@jupyter-widgets/controls",
     "model_module_version": "1.5.0",
     "model_name": "HTMLModel",
     "state": {
      "_dom_classes": [],
      "_model_module": "@jupyter-widgets/controls",
      "_model_module_version": "1.5.0",
      "_model_name": "HTMLModel",
      "_view_count": null,
      "_view_module": "@jupyter-widgets/controls",
      "_view_module_version": "1.5.0",
      "_view_name": "HTMLView",
      "description": "",
      "description_tooltip": null,
      "layout": "IPY_MODEL_3b3b0d1e76084ede9a271b7f8ac6cedc",
      "placeholder": "​",
      "style": "IPY_MODEL_88e6d4c41a53478dab7b9a94fc272b09",
      "value": "Downloading config.json: 100%"
     }
    },
    "7e839811db5c421baee885ddd0d3372e": {
     "model_module": "@jupyter-widgets/controls",
     "model_module_version": "1.5.0",
     "model_name": "HTMLModel",
     "state": {
      "_dom_classes": [],
      "_model_module": "@jupyter-widgets/controls",
      "_model_module_version": "1.5.0",
      "_model_name": "HTMLModel",
      "_view_count": null,
      "_view_module": "@jupyter-widgets/controls",
      "_view_module_version": "1.5.0",
      "_view_name": "HTMLView",
      "description": "",
      "description_tooltip": null,
      "layout": "IPY_MODEL_361ab48b5dff4be897eeca94a2e767f6",
      "placeholder": "​",
      "style": "IPY_MODEL_a178fc2775214e43b681203149fb4ea9",
      "value": " 29.0/29.0 [00:00&lt;00:00, 850B/s]"
     }
    },
    "858dc13c33c44f32bb0c73b3510bbbce": {
     "model_module": "@jupyter-widgets/controls",
     "model_module_version": "1.5.0",
     "model_name": "ProgressStyleModel",
     "state": {
      "_model_module": "@jupyter-widgets/controls",
      "_model_module_version": "1.5.0",
      "_model_name": "ProgressStyleModel",
      "_view_count": null,
      "_view_module": "@jupyter-widgets/base",
      "_view_module_version": "1.2.0",
      "_view_name": "StyleView",
      "bar_color": null,
      "description_width": ""
     }
    },
    "88e6d4c41a53478dab7b9a94fc272b09": {
     "model_module": "@jupyter-widgets/controls",
     "model_module_version": "1.5.0",
     "model_name": "DescriptionStyleModel",
     "state": {
      "_model_module": "@jupyter-widgets/controls",
      "_model_module_version": "1.5.0",
      "_model_name": "DescriptionStyleModel",
      "_view_count": null,
      "_view_module": "@jupyter-widgets/base",
      "_view_module_version": "1.2.0",
      "_view_name": "StyleView",
      "description_width": ""
     }
    },
    "89a4c88584f54885b514cd6ccc2a463d": {
     "model_module": "@jupyter-widgets/base",
     "model_module_version": "1.2.0",
     "model_name": "LayoutModel",
     "state": {
      "_model_module": "@jupyter-widgets/base",
      "_model_module_version": "1.2.0",
      "_model_name": "LayoutModel",
      "_view_count": null,
      "_view_module": "@jupyter-widgets/base",
      "_view_module_version": "1.2.0",
      "_view_name": "LayoutView",
      "align_content": null,
      "align_items": null,
      "align_self": null,
      "border": null,
      "bottom": null,
      "display": null,
      "flex": null,
      "flex_flow": null,
      "grid_area": null,
      "grid_auto_columns": null,
      "grid_auto_flow": null,
      "grid_auto_rows": null,
      "grid_column": null,
      "grid_gap": null,
      "grid_row": null,
      "grid_template_areas": null,
      "grid_template_columns": null,
      "grid_template_rows": null,
      "height": null,
      "justify_content": null,
      "justify_items": null,
      "left": null,
      "margin": null,
      "max_height": null,
      "max_width": null,
      "min_height": null,
      "min_width": null,
      "object_fit": null,
      "object_position": null,
      "order": null,
      "overflow": null,
      "overflow_x": null,
      "overflow_y": null,
      "padding": null,
      "right": null,
      "top": null,
      "visibility": null,
      "width": null
     }
    },
    "8f7a2b74e66b4f6b823c6728160d316b": {
     "model_module": "@jupyter-widgets/base",
     "model_module_version": "1.2.0",
     "model_name": "LayoutModel",
     "state": {
      "_model_module": "@jupyter-widgets/base",
      "_model_module_version": "1.2.0",
      "_model_name": "LayoutModel",
      "_view_count": null,
      "_view_module": "@jupyter-widgets/base",
      "_view_module_version": "1.2.0",
      "_view_name": "LayoutView",
      "align_content": null,
      "align_items": null,
      "align_self": null,
      "border": null,
      "bottom": null,
      "display": null,
      "flex": null,
      "flex_flow": null,
      "grid_area": null,
      "grid_auto_columns": null,
      "grid_auto_flow": null,
      "grid_auto_rows": null,
      "grid_column": null,
      "grid_gap": null,
      "grid_row": null,
      "grid_template_areas": null,
      "grid_template_columns": null,
      "grid_template_rows": null,
      "height": null,
      "justify_content": null,
      "justify_items": null,
      "left": null,
      "margin": null,
      "max_height": null,
      "max_width": null,
      "min_height": null,
      "min_width": null,
      "object_fit": null,
      "object_position": null,
      "order": null,
      "overflow": null,
      "overflow_x": null,
      "overflow_y": null,
      "padding": null,
      "right": null,
      "top": null,
      "visibility": null,
      "width": null
     }
    },
    "9eab1aedbe5e4bfe8f46d7d6bf11aa77": {
     "model_module": "@jupyter-widgets/base",
     "model_module_version": "1.2.0",
     "model_name": "LayoutModel",
     "state": {
      "_model_module": "@jupyter-widgets/base",
      "_model_module_version": "1.2.0",
      "_model_name": "LayoutModel",
      "_view_count": null,
      "_view_module": "@jupyter-widgets/base",
      "_view_module_version": "1.2.0",
      "_view_name": "LayoutView",
      "align_content": null,
      "align_items": null,
      "align_self": null,
      "border": null,
      "bottom": null,
      "display": null,
      "flex": null,
      "flex_flow": null,
      "grid_area": null,
      "grid_auto_columns": null,
      "grid_auto_flow": null,
      "grid_auto_rows": null,
      "grid_column": null,
      "grid_gap": null,
      "grid_row": null,
      "grid_template_areas": null,
      "grid_template_columns": null,
      "grid_template_rows": null,
      "height": null,
      "justify_content": null,
      "justify_items": null,
      "left": null,
      "margin": null,
      "max_height": null,
      "max_width": null,
      "min_height": null,
      "min_width": null,
      "object_fit": null,
      "object_position": null,
      "order": null,
      "overflow": null,
      "overflow_x": null,
      "overflow_y": null,
      "padding": null,
      "right": null,
      "top": null,
      "visibility": null,
      "width": null
     }
    },
    "a178fc2775214e43b681203149fb4ea9": {
     "model_module": "@jupyter-widgets/controls",
     "model_module_version": "1.5.0",
     "model_name": "DescriptionStyleModel",
     "state": {
      "_model_module": "@jupyter-widgets/controls",
      "_model_module_version": "1.5.0",
      "_model_name": "DescriptionStyleModel",
      "_view_count": null,
      "_view_module": "@jupyter-widgets/base",
      "_view_module_version": "1.2.0",
      "_view_name": "StyleView",
      "description_width": ""
     }
    },
    "a3fdffad07b3448382b4edc58119080e": {
     "model_module": "@jupyter-widgets/controls",
     "model_module_version": "1.5.0",
     "model_name": "DescriptionStyleModel",
     "state": {
      "_model_module": "@jupyter-widgets/controls",
      "_model_module_version": "1.5.0",
      "_model_name": "DescriptionStyleModel",
      "_view_count": null,
      "_view_module": "@jupyter-widgets/base",
      "_view_module_version": "1.2.0",
      "_view_name": "StyleView",
      "description_width": ""
     }
    },
    "ad9dd2b510da4e98876a81b7c25d72ff": {
     "model_module": "@jupyter-widgets/controls",
     "model_module_version": "1.5.0",
     "model_name": "FloatProgressModel",
     "state": {
      "_dom_classes": [],
      "_model_module": "@jupyter-widgets/controls",
      "_model_module_version": "1.5.0",
      "_model_name": "FloatProgressModel",
      "_view_count": null,
      "_view_module": "@jupyter-widgets/controls",
      "_view_module_version": "1.5.0",
      "_view_name": "ProgressView",
      "bar_style": "success",
      "description": "",
      "description_tooltip": null,
      "layout": "IPY_MODEL_4206e39f9ae34bdca0af632125e6235e",
      "max": 570,
      "min": 0,
      "orientation": "horizontal",
      "style": "IPY_MODEL_858dc13c33c44f32bb0c73b3510bbbce",
      "value": 570
     }
    },
    "b9e6533b84d9411b9dfc50f4d4ded174": {
     "model_module": "@jupyter-widgets/controls",
     "model_module_version": "1.5.0",
     "model_name": "DescriptionStyleModel",
     "state": {
      "_model_module": "@jupyter-widgets/controls",
      "_model_module_version": "1.5.0",
      "_model_name": "DescriptionStyleModel",
      "_view_count": null,
      "_view_module": "@jupyter-widgets/base",
      "_view_module_version": "1.2.0",
      "_view_name": "StyleView",
      "description_width": ""
     }
    },
    "bb7793c632ce43dba84cf1aa393708b3": {
     "model_module": "@jupyter-widgets/controls",
     "model_module_version": "1.5.0",
     "model_name": "HTMLModel",
     "state": {
      "_dom_classes": [],
      "_model_module": "@jupyter-widgets/controls",
      "_model_module_version": "1.5.0",
      "_model_name": "HTMLModel",
      "_view_count": null,
      "_view_module": "@jupyter-widgets/controls",
      "_view_module_version": "1.5.0",
      "_view_name": "HTMLView",
      "description": "",
      "description_tooltip": null,
      "layout": "IPY_MODEL_9eab1aedbe5e4bfe8f46d7d6bf11aa77",
      "placeholder": "​",
      "style": "IPY_MODEL_e977f82b5f534c13b66fb98f6a39925f",
      "value": " 208k/208k [00:00&lt;00:00, 181kB/s]"
     }
    },
    "bbdfeefde29247468cde1a754e0142c7": {
     "model_module": "@jupyter-widgets/base",
     "model_module_version": "1.2.0",
     "model_name": "LayoutModel",
     "state": {
      "_model_module": "@jupyter-widgets/base",
      "_model_module_version": "1.2.0",
      "_model_name": "LayoutModel",
      "_view_count": null,
      "_view_module": "@jupyter-widgets/base",
      "_view_module_version": "1.2.0",
      "_view_name": "LayoutView",
      "align_content": null,
      "align_items": null,
      "align_self": null,
      "border": null,
      "bottom": null,
      "display": null,
      "flex": null,
      "flex_flow": null,
      "grid_area": null,
      "grid_auto_columns": null,
      "grid_auto_flow": null,
      "grid_auto_rows": null,
      "grid_column": null,
      "grid_gap": null,
      "grid_row": null,
      "grid_template_areas": null,
      "grid_template_columns": null,
      "grid_template_rows": null,
      "height": null,
      "justify_content": null,
      "justify_items": null,
      "left": null,
      "margin": null,
      "max_height": null,
      "max_width": null,
      "min_height": null,
      "min_width": null,
      "object_fit": null,
      "object_position": null,
      "order": null,
      "overflow": null,
      "overflow_x": null,
      "overflow_y": null,
      "padding": null,
      "right": null,
      "top": null,
      "visibility": null,
      "width": null
     }
    },
    "d38a612281d548f5badcd0c76c9387e5": {
     "model_module": "@jupyter-widgets/controls",
     "model_module_version": "1.5.0",
     "model_name": "HBoxModel",
     "state": {
      "_dom_classes": [],
      "_model_module": "@jupyter-widgets/controls",
      "_model_module_version": "1.5.0",
      "_model_name": "HBoxModel",
      "_view_count": null,
      "_view_module": "@jupyter-widgets/controls",
      "_view_module_version": "1.5.0",
      "_view_name": "HBoxView",
      "box_style": "",
      "children": [
       "IPY_MODEL_fcb66994958e460d824d27d882073b54",
       "IPY_MODEL_391b4b0f5d5b4670a111494d74b7ac59",
       "IPY_MODEL_bb7793c632ce43dba84cf1aa393708b3"
      ],
      "layout": "IPY_MODEL_01df4b0a60734d2eaa405f852f732009"
     }
    },
    "d97187c183e14a6eb3dbbca08ef1998d": {
     "model_module": "@jupyter-widgets/base",
     "model_module_version": "1.2.0",
     "model_name": "LayoutModel",
     "state": {
      "_model_module": "@jupyter-widgets/base",
      "_model_module_version": "1.2.0",
      "_model_name": "LayoutModel",
      "_view_count": null,
      "_view_module": "@jupyter-widgets/base",
      "_view_module_version": "1.2.0",
      "_view_name": "LayoutView",
      "align_content": null,
      "align_items": null,
      "align_self": null,
      "border": null,
      "bottom": null,
      "display": null,
      "flex": null,
      "flex_flow": null,
      "grid_area": null,
      "grid_auto_columns": null,
      "grid_auto_flow": null,
      "grid_auto_rows": null,
      "grid_column": null,
      "grid_gap": null,
      "grid_row": null,
      "grid_template_areas": null,
      "grid_template_columns": null,
      "grid_template_rows": null,
      "height": null,
      "justify_content": null,
      "justify_items": null,
      "left": null,
      "margin": null,
      "max_height": null,
      "max_width": null,
      "min_height": null,
      "min_width": null,
      "object_fit": null,
      "object_position": null,
      "order": null,
      "overflow": null,
      "overflow_x": null,
      "overflow_y": null,
      "padding": null,
      "right": null,
      "top": null,
      "visibility": null,
      "width": null
     }
    },
    "dc6c2264876c460aa9e27954c4341a20": {
     "model_module": "@jupyter-widgets/controls",
     "model_module_version": "1.5.0",
     "model_name": "HTMLModel",
     "state": {
      "_dom_classes": [],
      "_model_module": "@jupyter-widgets/controls",
      "_model_module_version": "1.5.0",
      "_model_name": "HTMLModel",
      "_view_count": null,
      "_view_module": "@jupyter-widgets/controls",
      "_view_module_version": "1.5.0",
      "_view_name": "HTMLView",
      "description": "",
      "description_tooltip": null,
      "layout": "IPY_MODEL_89a4c88584f54885b514cd6ccc2a463d",
      "placeholder": "​",
      "style": "IPY_MODEL_b9e6533b84d9411b9dfc50f4d4ded174",
      "value": "Downloading tokenizer.json: 100%"
     }
    },
    "e977f82b5f534c13b66fb98f6a39925f": {
     "model_module": "@jupyter-widgets/controls",
     "model_module_version": "1.5.0",
     "model_name": "DescriptionStyleModel",
     "state": {
      "_model_module": "@jupyter-widgets/controls",
      "_model_module_version": "1.5.0",
      "_model_name": "DescriptionStyleModel",
      "_view_count": null,
      "_view_module": "@jupyter-widgets/base",
      "_view_module_version": "1.2.0",
      "_view_name": "StyleView",
      "description_width": ""
     }
    },
    "fcb66994958e460d824d27d882073b54": {
     "model_module": "@jupyter-widgets/controls",
     "model_module_version": "1.5.0",
     "model_name": "HTMLModel",
     "state": {
      "_dom_classes": [],
      "_model_module": "@jupyter-widgets/controls",
      "_model_module_version": "1.5.0",
      "_model_name": "HTMLModel",
      "_view_count": null,
      "_view_module": "@jupyter-widgets/controls",
      "_view_module_version": "1.5.0",
      "_view_name": "HTMLView",
      "description": "",
      "description_tooltip": null,
      "layout": "IPY_MODEL_d97187c183e14a6eb3dbbca08ef1998d",
      "placeholder": "​",
      "style": "IPY_MODEL_a3fdffad07b3448382b4edc58119080e",
      "value": "Downloading vocab.txt: 100%"
     }
    }
   }
  }
 },
 "nbformat": 4,
 "nbformat_minor": 5
}
