{
  "cells": [
    {
      "cell_type": "code",
      "source": [
        "import pandas as pd"
      ],
      "metadata": {
        "id": "AbEr8_iRY4zk"
      },
      "id": "AbEr8_iRY4zk",
      "execution_count": null,
      "outputs": []
    },
    {
      "cell_type": "code",
      "source": [
        "from google.colab import drive\n",
        "drive.mount('/content/drive')"
      ],
      "metadata": {
        "id": "DVGLnXt3Zn_5"
      },
      "id": "DVGLnXt3Zn_5",
      "execution_count": null,
      "outputs": []
    },
    {
      "cell_type": "code",
      "source": [
        "%cd /content/drive/MyDrive/Github/"
      ],
      "metadata": {
        "id": "qGTOM17bZxGE"
      },
      "id": "qGTOM17bZxGE",
      "execution_count": null,
      "outputs": []
    },
    {
      "cell_type": "code",
      "source": [
        "!git init"
      ],
      "metadata": {
        "id": "qPg9gEqtfMwH"
      },
      "id": "qPg9gEqtfMwH",
      "execution_count": null,
      "outputs": []
    },
    {
      "cell_type": "code",
      "source": [
        "!git pull https://github.com/rohit-khoiwal-30/msgmt.git"
      ],
      "metadata": {
        "colab": {
          "base_uri": "https://localhost:8080/"
        },
        "id": "L52QxQc6ZINc",
        "outputId": "1fde9a66-8190-4c3d-c881-624c956b97ba"
      },
      "id": "L52QxQc6ZINc",
      "execution_count": null,
      "outputs": [
        {
          "output_type": "stream",
          "name": "stdout",
          "text": [
            "remote: Enumerating objects: 6, done.\u001b[K\n",
            "remote: Counting objects:  16% (1/6)\u001b[K\rremote: Counting objects:  33% (2/6)\u001b[K\rremote: Counting objects:  50% (3/6)\u001b[K\rremote: Counting objects:  66% (4/6)\u001b[K\rremote: Counting objects:  83% (5/6)\u001b[K\rremote: Counting objects: 100% (6/6)\u001b[K\rremote: Counting objects: 100% (6/6), done.\u001b[K\n",
            "remote: Compressing objects:  25% (1/4)\u001b[K\rremote: Compressing objects:  50% (2/4)\u001b[K\rremote: Compressing objects:  75% (3/4)\u001b[K\rremote: Compressing objects: 100% (4/4)\u001b[K\rremote: Compressing objects: 100% (4/4), done.\u001b[K\n",
            "remote: Total 5 (delta 2), reused 2 (delta 1), pack-reused 0\u001b[K\n",
            "Unpacking objects: 100% (5/5), done.\n",
            "From https://github.com/rohit-khoiwal-30/msgmt\n",
            " * branch            HEAD       -> FETCH_HEAD\n",
            "Updating 4bf662f..a5224bf\n",
            "Checking out files: 100% (4/4), done.\n",
            "Fast-forward\n",
            " bertTripleLoss.ipynb  | 366 \u001b[32m++++++++++++++++++++++++++++++++++++++\u001b[m\n",
            " sentence-t5EUCL.ipynb |  33 \u001b[31m----\u001b[m\n",
            " useCONCT -.ipynb      | 366 \u001b[32m++++++++++++++++++++++++++++++++++++++\u001b[m\n",
            " useTripleLoss .ipynb  | 472 \u001b[32m++++++++++++++++++++++++++++++++++++++++++++++++++\u001b[m\n",
            " 4 files changed, 1204 insertions(+), 33 deletions(-)\n",
            " create mode 100644 bertTripleLoss.ipynb\n",
            " delete mode 100644 sentence-t5EUCL.ipynb\n",
            " create mode 100644 useCONCT -.ipynb\n",
            " create mode 100644 useTripleLoss .ipynb\n"
          ]
        }
      ]
    },
    {
      "cell_type": "code",
      "source": [
        "df = pd.read_csv(\"train.csv\")\n",
        "df_test = pd.read_csv(\"evaluation.csv\")"
      ],
      "metadata": {
        "id": "QEMF6nTiY6yk"
      },
      "id": "QEMF6nTiY6yk",
      "execution_count": 5,
      "outputs": []
    },
    {
      "cell_type": "code",
      "execution_count": 6,
      "id": "105eaf9a",
      "metadata": {
        "id": "105eaf9a",
        "outputId": "c6385b7a-9eb8-4c58-8dee-9b71c707f605",
        "colab": {
          "base_uri": "https://localhost:8080/"
        }
      },
      "outputs": [
        {
          "output_type": "stream",
          "name": "stdout",
          "text": [
            "  Building wheel for keras-self-attention (setup.py) ... \u001b[?25l\u001b[?25hdone\n"
          ]
        }
      ],
      "source": [
        "import tensorflow as tf\n",
        "import tensorflow.keras.backend as K\n",
        "import tensorflow.keras.layers as tfl\n",
        "from tensorflow.keras.models import Model\n",
        "from tensorflow.keras.callbacks import ModelCheckpoint\n",
        "from tensorflow.keras import Input\n",
        "from keras.regularizers import l2\n",
        "\n",
        "try:\n",
        "    import tensorflow_hub as hub\n",
        "except ModuleNotFoundError:\n",
        "    %pip install -q tensorflow_hub\n",
        "    import tensorflow_hub as hub\n",
        "    \n",
        "try:\n",
        "    from keras_self_attention import SeqSelfAttention\n",
        "except ModuleNotFoundError:\n",
        "    %pip install -q keras-self-attention\n",
        "    from keras_self_attention import SeqSelfAttention\n",
        "\n",
        "import numpy as np\n",
        "\n",
        "\n",
        "# %pip install -q transformers\n",
        "# %pip install -q -U tensorflow-text\n",
        "# %pip install -q tf-models-official==2.7.0\n",
        "\n",
        "import math as m"
      ]
    },
    {
      "cell_type": "code",
      "execution_count": 7,
      "id": "8b9b678b",
      "metadata": {
        "id": "8b9b678b"
      },
      "outputs": [],
      "source": [
        "huburl = \"https://tfhub.dev/google/universal-sentence-encoder/4\" \n",
        "fine_tuned_module_object = hub.load(huburl)"
      ]
    },
    {
      "cell_type": "code",
      "execution_count": 8,
      "id": "722fb270",
      "metadata": {
        "id": "722fb270"
      },
      "outputs": [],
      "source": [
        "def gen_random_batch(in_groups, batch_halfsize = 8):\n",
        "    text_batch, reason_batch, y_hat = [], [], []\n",
        "    all_groups = list(range(in_groups[0].shape[0]))\n",
        "    for match_group in [True, False]:\n",
        "        group_idx = np.random.choice(all_groups, size = batch_halfsize)\n",
        "        text_batch += [in_groups[0][c_idx] for c_idx in group_idx]\n",
        "        if match_group:\n",
        "            b_group_idx = group_idx\n",
        "            y_hat += [1]*batch_halfsize\n",
        "        else:\n",
        "            # anything but the same group\n",
        "            non_group_idx = [np.random.choice([i for i in all_groups if i!=c_idx]) for c_idx in group_idx] \n",
        "            b_group_idx = non_group_idx\n",
        "            y_hat += [0]*batch_halfsize\n",
        "            \n",
        "        reason_batch += [in_groups[1][c_idx] for c_idx in b_group_idx]\n",
        "            \n",
        "    return np.stack(text_batch, 0), np.stack(reason_batch, 0), np.stack(y_hat, 0)\n",
        "\n",
        "def siam_gen(in_groups, batch_size = 32):\n",
        "    while True:\n",
        "        text_stack, reason_stack, y_hatstack = gen_random_batch(in_groups, batch_size//2)\n",
        "        yield [text_stack, reason_stack], y_hatstack\n",
        "\n",
        "def euclidean_distance(vectors):\n",
        "    (featsA, featsB) = vectors\n",
        "    sumSquared = K.sum(K.square(featsA - featsB), axis=1, keepdims=True)\n",
        "    return K.sqrt(K.maximum(sumSquared, K.epsilon()))\n",
        "\n",
        "def contrastive_loss(y, preds, margin=1):\n",
        "    # explicitly cast the true class label data type to the predicted\n",
        "    # class label data type (otherwise we run the risk of having two\n",
        "    # separate data types, causing TensorFlow to error out)\n",
        "    y = tf.cast(y, preds.dtype)\n",
        "    # calculate the contrastive loss between the true labels and\n",
        "    # the predicted labels\n",
        "    squaredPreds = K.square(preds)\n",
        "    squaredMargin = K.square(K.maximum(margin - preds, 0))\n",
        "    loss = K.mean(y * squaredPreds + (1 - y) * squaredMargin)\n",
        "    return loss"
      ]
    },
    {
      "cell_type": "code",
      "execution_count": 9,
      "id": "7cd865e0",
      "metadata": {
        "id": "7cd865e0"
      },
      "outputs": [],
      "source": [
        "def accuracy(y_true, y_pred):\n",
        "    results = (y_pred <= 0.5).astype(int).squeeze()\n",
        "    return np.mean([y_true == results])"
      ]
    },
    {
      "cell_type": "code",
      "execution_count": 10,
      "id": "3b213f5b",
      "metadata": {
        "id": "3b213f5b"
      },
      "outputs": [],
      "source": [
        "def get_model():\n",
        "    shared_embedding_layer1 = hub.KerasLayer(fine_tuned_module_object, trainable=True, name=\"first\")\n",
        "    shared_embedding_layer2 = hub.KerasLayer(fine_tuned_module_object, trainable=True, name=\"second\")\n",
        "\n",
        "    left_input = tf.keras.Input(shape=(), dtype=tf.string)\n",
        "    right_input = tf.keras.Input(shape=(), dtype=tf.string)\n",
        "\n",
        "    embedding_left_output= shared_embedding_layer1(left_input)\n",
        "    a = tfl.Dropout(0.3)(embedding_left_output)\n",
        "    a = tfl.Dense(64, activation=\"linear\", kernel_regularizer=l2(1e-3))(a)\n",
        "    a = tfl.BatchNormalization()(a)\n",
        "    a = tfl.Activation('relu')(a)\n",
        "    a = tfl.Dropout(rate=0.2)(a)\n",
        "    a = tfl.Dense(32, activation=\"linear\", kernel_regularizer=l2(1e-3))(a)\n",
        "    # a = tfl.BatchNormalization()(a)\n",
        "    # a = tfl.Activation('relu')(a)\n",
        "    a = tfl.Lambda(lambda x: K.l2_normalize(x,axis=-1))(a)\n",
        "\n",
        "    embedding_right_output= shared_embedding_layer2(right_input)\n",
        "    b = tfl.Dropout(0.3)(embedding_right_output)\n",
        "    b = tfl.Dense(32, activation=\"linear\", kernel_regularizer=l2(1e-3))(b)\n",
        "    # b = tfl.BatchNormalization()(b)\n",
        "    # b = tfl.Activation('relu')(b)\n",
        "    b = tfl.Lambda(lambda x: K.l2_normalize(x,axis=-1))(b)\n",
        "\n",
        "    distance = tfl.Lambda(euclidean_distance)([a, b])\n",
        "    model = Model([left_input, right_input], distance)\n",
        "    return model"
      ]
    },
    {
      "cell_type": "code",
      "execution_count": 11,
      "id": "49246c10",
      "metadata": {
        "id": "49246c10"
      },
      "outputs": [],
      "source": [
        "model = get_model()"
      ]
    },
    {
      "cell_type": "code",
      "execution_count": 12,
      "id": "bda0b9b8",
      "metadata": {
        "colab": {
          "base_uri": "https://localhost:8080/"
        },
        "id": "bda0b9b8",
        "outputId": "669a1eb8-626d-416b-a8a0-14a0d0ad3f78"
      },
      "outputs": [
        {
          "metadata": {
            "tags": null
          },
          "name": "stdout",
          "output_type": "stream",
          "text": [
            "Model: \"model\"\n",
            "__________________________________________________________________________________________________\n",
            " Layer (type)                   Output Shape         Param #     Connected to                     \n",
            "==================================================================================================\n",
            " input_1 (InputLayer)           [(None,)]            0           []                               \n",
            "                                                                                                  \n",
            " first (KerasLayer)             (None, 512)          256797824   ['input_1[0][0]']                \n",
            "                                                                                                  \n",
            " dropout (Dropout)              (None, 512)          0           ['first[0][0]']                  \n",
            "                                                                                                  \n",
            " dense (Dense)                  (None, 64)           32832       ['dropout[0][0]']                \n",
            "                                                                                                  \n",
            " batch_normalization (BatchNorm  (None, 64)          256         ['dense[0][0]']                  \n",
            " alization)                                                                                       \n",
            "                                                                                                  \n",
            " input_2 (InputLayer)           [(None,)]            0           []                               \n",
            "                                                                                                  \n",
            " activation (Activation)        (None, 64)           0           ['batch_normalization[0][0]']    \n",
            "                                                                                                  \n",
            " second (KerasLayer)            (None, 512)          256797824   ['input_2[0][0]']                \n",
            "                                                                                                  \n",
            " dropout_1 (Dropout)            (None, 64)           0           ['activation[0][0]']             \n",
            "                                                                                                  \n",
            " dropout_2 (Dropout)            (None, 512)          0           ['second[0][0]']                 \n",
            "                                                                                                  \n",
            " dense_1 (Dense)                (None, 32)           2080        ['dropout_1[0][0]']              \n",
            "                                                                                                  \n",
            " dense_2 (Dense)                (None, 32)           16416       ['dropout_2[0][0]']              \n",
            "                                                                                                  \n",
            " lambda (Lambda)                (None, 32)           0           ['dense_1[0][0]']                \n",
            "                                                                                                  \n",
            " lambda_1 (Lambda)              (None, 32)           0           ['dense_2[0][0]']                \n",
            "                                                                                                  \n",
            " lambda_2 (Lambda)              (None, 1)            0           ['lambda[0][0]',                 \n",
            "                                                                  'lambda_1[0][0]']               \n",
            "                                                                                                  \n",
            "==================================================================================================\n",
            "Total params: 256,849,408\n",
            "Trainable params: 256,849,280\n",
            "Non-trainable params: 128\n",
            "__________________________________________________________________________________________________\n"
          ]
        }
      ],
      "source": [
        "model.summary()"
      ]
    },
    {
      "cell_type": "code",
      "execution_count": 13,
      "id": "e670c2c9",
      "metadata": {
        "id": "e670c2c9"
      },
      "outputs": [],
      "source": [
        "model.compile(optimizer=\"adam\", loss = contrastive_loss, metrics = [tf.metrics.BinaryAccuracy()])"
      ]
    },
    {
      "cell_type": "code",
      "execution_count": null,
      "id": "ce982823",
      "metadata": {
        "colab": {
          "base_uri": "https://localhost:8080/"
        },
        "id": "ce982823",
        "outputId": "e3778bb5-6ac6-4908-8191-f21ce06b9634"
      },
      "outputs": [
        {
          "output_type": "stream",
          "name": "stdout",
          "text": [
            "Epoch 1/50\n",
            "50/50 [==============================] - 22s 211ms/step - loss: 0.5721 - binary_accuracy: 0.4934 - val_loss: 0.4786 - val_binary_accuracy: 0.5000\n",
            "Epoch 2/50\n",
            "50/50 [==============================] - 9s 186ms/step - loss: 0.4385 - binary_accuracy: 0.4469 - val_loss: 0.4294 - val_binary_accuracy: 0.4859\n",
            "Epoch 3/50\n",
            "50/50 [==============================] - 9s 186ms/step - loss: 0.3811 - binary_accuracy: 0.3147 - val_loss: 0.3519 - val_binary_accuracy: 0.2734\n",
            "Epoch 4/50\n",
            "50/50 [==============================] - 9s 188ms/step - loss: 0.3150 - binary_accuracy: 0.1937 - val_loss: 0.3126 - val_binary_accuracy: 0.2313\n",
            "Epoch 5/50\n",
            "50/50 [==============================] - 9s 187ms/step - loss: 0.2682 - binary_accuracy: 0.1331 - val_loss: 0.2973 - val_binary_accuracy: 0.2484\n",
            "Epoch 6/50\n",
            "22/50 [============>.................] - ETA: 4s - loss: 0.2473 - binary_accuracy: 0.1257"
          ]
        }
      ],
      "source": [
        "loss_history = model.fit(siam_gen([df[\"text\"], df[\"reason\"]], 64), \n",
        "                         validation_data = siam_gen([df_test[\"text\"], df_test[\"reason\"]], 64),\n",
        "                         steps_per_epoch=50, validation_steps=10, epochs = 50, \n",
        "                         verbose = True, use_multiprocessing=True)"
      ]
    },
    {
      "cell_type": "code",
      "execution_count": null,
      "id": "d045fbf0",
      "metadata": {
        "id": "d045fbf0"
      },
      "outputs": [],
      "source": [
        "y_preds = model.predict([df[\"text\"], df[\"reason\"]])\n",
        "accuracy(df[\"label\"],y_preds)"
      ]
    },
    {
      "cell_type": "code",
      "execution_count": null,
      "id": "f7750ac3",
      "metadata": {
        "id": "f7750ac3"
      },
      "outputs": [],
      "source": [
        "y_preds = model.predict([df_test[\"text\"], df_test[\"reason\"]])\n",
        "accuracy(df_test[\"label\"],y_preds)"
      ]
    },
    {
      "cell_type": "code",
      "execution_count": null,
      "id": "75001d57",
      "metadata": {
        "id": "75001d57"
      },
      "outputs": [],
      "source": [
        "model.save(\"models/useEUCL/\")"
      ]
    },
    {
      "cell_type": "code",
      "execution_count": null,
      "id": "affe5802",
      "metadata": {
        "id": "affe5802"
      },
      "outputs": [],
      "source": [
        ""
      ]
    },
    {
      "cell_type": "code",
      "execution_count": null,
      "id": "c8141287",
      "metadata": {
        "id": "c8141287"
      },
      "outputs": [],
      "source": [
        ""
      ]
    },
    {
      "cell_type": "code",
      "execution_count": null,
      "id": "932f4ab5",
      "metadata": {
        "id": "932f4ab5"
      },
      "outputs": [],
      "source": [
        ""
      ]
    },
    {
      "cell_type": "code",
      "execution_count": null,
      "id": "c69e979a",
      "metadata": {
        "id": "c69e979a"
      },
      "outputs": [],
      "source": [
        ""
      ]
    }
  ],
  "metadata": {
    "kernelspec": {
      "display_name": "mlAsgmt",
      "language": "python",
      "name": "mlasgmt"
    },
    "language_info": {
      "codemirror_mode": {
        "name": "ipython",
        "version": 3
      },
      "file_extension": ".py",
      "mimetype": "text/x-python",
      "name": "python",
      "nbconvert_exporter": "python",
      "pygments_lexer": "ipython3",
      "version": "3.7.9"
    },
    "colab": {
      "name": "useEUCL-checkpoint.ipynb",
      "provenance": []
    },
    "accelerator": "GPU",
    "gpuClass": "standard"
  },
  "nbformat": 4,
  "nbformat_minor": 5
}