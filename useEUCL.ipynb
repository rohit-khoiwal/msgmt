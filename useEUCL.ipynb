{
  "cells": [
    {
      "cell_type": "code",
      "source": [
        "import pandas as pd"
      ],
      "metadata": {
        "id": "AbEr8_iRY4zk"
      },
      "id": "AbEr8_iRY4zk",
      "execution_count": 1,
      "outputs": []
    },
    {
      "cell_type": "code",
      "source": [
        "from google.colab import drive\n",
        "drive.mount('/content/drive')"
      ],
      "metadata": {
        "id": "DVGLnXt3Zn_5",
        "outputId": "85085091-b038-4be2-c727-d732d4c4d3ff",
        "colab": {
          "base_uri": "https://localhost:8080/"
        }
      },
      "id": "DVGLnXt3Zn_5",
      "execution_count": 2,
      "outputs": [
        {
          "output_type": "stream",
          "name": "stdout",
          "text": [
            "Mounted at /content/drive\n"
          ]
        }
      ]
    },
    {
      "cell_type": "code",
      "source": [
        "%cd /content/drive/MyDrive/Github/"
      ],
      "metadata": {
        "id": "qGTOM17bZxGE",
        "outputId": "a7085a4b-aa76-4d67-fd3b-53cb79fa2d05",
        "colab": {
          "base_uri": "https://localhost:8080/"
        }
      },
      "id": "qGTOM17bZxGE",
      "execution_count": 3,
      "outputs": [
        {
          "output_type": "stream",
          "name": "stdout",
          "text": [
            "/content/drive/MyDrive/Github\n"
          ]
        }
      ]
    },
    {
      "cell_type": "code",
      "source": [
        "!git pull https://github.com/rohit-khoiwal-30/msgmt.git"
      ],
      "metadata": {
        "colab": {
          "base_uri": "https://localhost:8080/"
        },
        "id": "L52QxQc6ZINc",
        "outputId": "931fb40b-45c9-414d-af82-25764d5aa76a"
      },
      "id": "L52QxQc6ZINc",
      "execution_count": 4,
      "outputs": [
        {
          "output_type": "stream",
          "name": "stdout",
          "text": [
            "remote: Enumerating objects: 9, done.\u001b[K\n",
            "remote: Counting objects:  11% (1/9)\u001b[K\rremote: Counting objects:  22% (2/9)\u001b[K\rremote: Counting objects:  33% (3/9)\u001b[K\rremote: Counting objects:  44% (4/9)\u001b[K\rremote: Counting objects:  55% (5/9)\u001b[K\rremote: Counting objects:  66% (6/9)\u001b[K\rremote: Counting objects:  77% (7/9)\u001b[K\rremote: Counting objects:  88% (8/9)\u001b[K\rremote: Counting objects: 100% (9/9)\u001b[K\rremote: Counting objects: 100% (9/9), done.\u001b[K\n",
            "remote: Compressing objects:  16% (1/6)\u001b[K\rremote: Compressing objects:  33% (2/6)\u001b[K\rremote: Compressing objects:  50% (3/6)\u001b[K\rremote: Compressing objects:  66% (4/6)\u001b[K\rremote: Compressing objects:  83% (5/6)\u001b[K\rremote: Compressing objects: 100% (6/6)\u001b[K\rremote: Compressing objects: 100% (6/6), done.\u001b[K\n",
            "remote: Total 6 (delta 3), reused 0 (delta 0), pack-reused 0\u001b[K\n",
            "Unpacking objects: 100% (6/6), done.\n",
            "From https://github.com/rohit-khoiwal-30/msgmt\n",
            " * branch            HEAD       -> FETCH_HEAD\n",
            "Updating 01b7e22..a4e19c9\n",
            "Fast-forward\n",
            " useEUCL.ipynb        | 252 \u001b[32m++++++++++++++++++++++++++\u001b[m\u001b[31m-------------\u001b[m\n",
            " useTripleLoss .ipynb | 328 \u001b[32m++++++++++++++++++++++++++++++++\u001b[m\u001b[31m-------------------\u001b[m\n",
            " 2 files changed, 375 insertions(+), 205 deletions(-)\n"
          ]
        }
      ]
    },
    {
      "cell_type": "code",
      "source": [
        "df = pd.read_csv(\"augment_train.csv\")\n",
        "df_test = pd.read_csv(\"evaluation.csv\")"
      ],
      "metadata": {
        "id": "QEMF6nTiY6yk"
      },
      "id": "QEMF6nTiY6yk",
      "execution_count": 5,
      "outputs": []
    },
    {
      "cell_type": "code",
      "execution_count": 6,
      "id": "105eaf9a",
      "metadata": {
        "id": "105eaf9a",
        "outputId": "9dabb088-2e6e-4841-ccc9-66d2d1c6ac8b",
        "colab": {
          "base_uri": "https://localhost:8080/"
        }
      },
      "outputs": [
        {
          "output_type": "stream",
          "name": "stdout",
          "text": [
            "  Building wheel for keras-self-attention (setup.py) ... \u001b[?25l\u001b[?25hdone\n"
          ]
        }
      ],
      "source": [
        "import tensorflow as tf\n",
        "import tensorflow.keras.backend as K\n",
        "import tensorflow.keras.layers as tfl\n",
        "from tensorflow.keras.models import Model\n",
        "from tensorflow.keras.callbacks import ModelCheckpoint\n",
        "from tensorflow.keras import Input\n",
        "from keras.regularizers import l2\n",
        "\n",
        "try:\n",
        "    import tensorflow_hub as hub\n",
        "except ModuleNotFoundError:\n",
        "    %pip install -q tensorflow_hub\n",
        "    import tensorflow_hub as hub\n",
        "    \n",
        "try:\n",
        "    from keras_self_attention import SeqSelfAttention\n",
        "except ModuleNotFoundError:\n",
        "    %pip install -q keras-self-attention\n",
        "    from keras_self_attention import SeqSelfAttention\n",
        "\n",
        "import numpy as np\n",
        "\n",
        "\n",
        "# %pip install -q transformers\n",
        "# %pip install -q -U tensorflow-text\n",
        "# %pip install -q tf-models-official==2.7.0\n",
        "\n",
        "import math as m"
      ]
    },
    {
      "cell_type": "code",
      "execution_count": 7,
      "id": "8b9b678b",
      "metadata": {
        "id": "8b9b678b"
      },
      "outputs": [],
      "source": [
        "huburl = \"https://tfhub.dev/google/universal-sentence-encoder/4\" \n",
        "fine_tuned_module_object = hub.load(huburl)"
      ]
    },
    {
      "cell_type": "code",
      "execution_count": 8,
      "id": "722fb270",
      "metadata": {
        "id": "722fb270"
      },
      "outputs": [],
      "source": [
        "def gen_random_batch(in_groups, batch_halfsize = 8):\n",
        "    text_batch, reason_batch, y_hat = [], [], []\n",
        "    all_groups = list(range(in_groups[0].shape[0]))\n",
        "    for match_group in [True, False]:\n",
        "        group_idx = np.random.choice(all_groups, size = batch_halfsize)\n",
        "        text_batch += [in_groups[0][c_idx] for c_idx in group_idx]\n",
        "        if match_group:\n",
        "            b_group_idx = group_idx\n",
        "            y_hat += [1]*batch_halfsize\n",
        "        else:\n",
        "            # anything but the same group\n",
        "            non_group_idx = [np.random.choice([i for i in all_groups if i!=c_idx]) for c_idx in group_idx] \n",
        "            b_group_idx = non_group_idx\n",
        "            y_hat += [0]*batch_halfsize\n",
        "            \n",
        "        reason_batch += [in_groups[1][c_idx] for c_idx in b_group_idx]\n",
        "            \n",
        "    return np.stack(text_batch, 0), np.stack(reason_batch, 0), np.stack(y_hat, 0)\n",
        "\n",
        "def siam_gen(in_groups, batch_size = 32):\n",
        "    while True:\n",
        "        text_stack, reason_stack, y_hatstack = gen_random_batch(in_groups, batch_size//2)\n",
        "        yield [text_stack, reason_stack], y_hatstack\n",
        "\n",
        "def euclidean_distance(vectors):\n",
        "    (featsA, featsB) = vectors\n",
        "    sumSquared = K.sum(K.square(featsA - featsB), axis=1, keepdims=True)\n",
        "    return K.sqrt(K.maximum(sumSquared, K.epsilon()))\n",
        "\n",
        "def contrastive_loss(y, preds, margin=1):\n",
        "    # explicitly cast the true class label data type to the predicted\n",
        "    # class label data type (otherwise we run the risk of having two\n",
        "    # separate data types, causing TensorFlow to error out)\n",
        "    y = tf.cast(y, preds.dtype)\n",
        "    # calculate the contrastive loss between the true labels and\n",
        "    # the predicted labels\n",
        "    squaredPreds = K.square(preds)\n",
        "    squaredMargin = K.square(K.maximum(margin - preds, 0))\n",
        "    loss = K.mean(y * squaredPreds + (1 - y) * squaredMargin)\n",
        "    return loss"
      ]
    },
    {
      "cell_type": "code",
      "execution_count": 68,
      "id": "7cd865e0",
      "metadata": {
        "id": "7cd865e0"
      },
      "outputs": [],
      "source": [
        "def accuracy(y_true, y_pred):\n",
        "    results = (y_pred >= 0.5).astype(int).squeeze()\n",
        "    return np.mean([y_true == results])"
      ]
    },
    {
      "cell_type": "code",
      "execution_count": 14,
      "id": "3b213f5b",
      "metadata": {
        "id": "3b213f5b"
      },
      "outputs": [],
      "source": [
        "def get_model():\n",
        "    shared_embedding_layer1 = hub.KerasLayer(fine_tuned_module_object, trainable=True, name=\"first\")\n",
        "    shared_embedding_layer2 = hub.KerasLayer(fine_tuned_module_object, trainable=True, name=\"second\")\n",
        "\n",
        "    left_input = tf.keras.Input(shape=(), dtype=tf.string)\n",
        "    right_input = tf.keras.Input(shape=(), dtype=tf.string)\n",
        "\n",
        "    embedding_left_output= shared_embedding_layer1(left_input)\n",
        "    a = tfl.Dropout(0.3)(embedding_left_output)\n",
        "    a = tfl.Dense(64, activation=\"linear\", kernel_regularizer=l2(1e-3))(a)\n",
        "    a = tfl.BatchNormalization()(a)\n",
        "    a = tfl.Activation('relu')(a)\n",
        "    a = tfl.Dropout(rate=0.2)(a)\n",
        "    a = tfl.Dense(32, activation=\"linear\", kernel_regularizer=l2(1e-3))(a)\n",
        "    a = tfl.BatchNormalization()(a)\n",
        "    a = tfl.Activation('relu')(a)\n",
        "    # a = tfl.Lambda(lambda x: K.l2_normalize(x,axis=-1))(a)\n",
        "\n",
        "    embedding_right_output= shared_embedding_layer2(right_input)\n",
        "    b = tfl.Dropout(0.3)(embedding_right_output)\n",
        "    b = tfl.Dense(32, activation=\"linear\", kernel_regularizer=l2(1e-3))(b)\n",
        "    b = tfl.BatchNormalization()(b)\n",
        "    b = tfl.Activation('relu')(b)\n",
        "    # b = tfl.Lambda(lambda x: K.l2_normalize(x,axis=-1))(b)\n",
        "\n",
        "    distance = tfl.Lambda(euclidean_distance)([a, b])\n",
        "    model = Model([left_input, right_input], distance)\n",
        "    return model"
      ]
    },
    {
      "cell_type": "code",
      "execution_count": 15,
      "id": "49246c10",
      "metadata": {
        "id": "49246c10"
      },
      "outputs": [],
      "source": [
        "model = get_model()"
      ]
    },
    {
      "cell_type": "code",
      "execution_count": 16,
      "id": "bda0b9b8",
      "metadata": {
        "colab": {
          "base_uri": "https://localhost:8080/"
        },
        "id": "bda0b9b8",
        "outputId": "e5164354-8b22-4573-d8f6-913537008e87"
      },
      "outputs": [
        {
          "output_type": "stream",
          "name": "stdout",
          "text": [
            "Model: \"model_1\"\n",
            "__________________________________________________________________________________________________\n",
            " Layer (type)                   Output Shape         Param #     Connected to                     \n",
            "==================================================================================================\n",
            " input_3 (InputLayer)           [(None,)]            0           []                               \n",
            "                                                                                                  \n",
            " first (KerasLayer)             (None, 512)          256797824   ['input_3[0][0]']                \n",
            "                                                                                                  \n",
            " dropout_3 (Dropout)            (None, 512)          0           ['first[0][0]']                  \n",
            "                                                                                                  \n",
            " dense_3 (Dense)                (None, 64)           32832       ['dropout_3[0][0]']              \n",
            "                                                                                                  \n",
            " batch_normalization_1 (BatchNo  (None, 64)          256         ['dense_3[0][0]']                \n",
            " rmalization)                                                                                     \n",
            "                                                                                                  \n",
            " input_4 (InputLayer)           [(None,)]            0           []                               \n",
            "                                                                                                  \n",
            " activation_1 (Activation)      (None, 64)           0           ['batch_normalization_1[0][0]']  \n",
            "                                                                                                  \n",
            " second (KerasLayer)            (None, 512)          256797824   ['input_4[0][0]']                \n",
            "                                                                                                  \n",
            " dropout_4 (Dropout)            (None, 64)           0           ['activation_1[0][0]']           \n",
            "                                                                                                  \n",
            " dropout_5 (Dropout)            (None, 512)          0           ['second[0][0]']                 \n",
            "                                                                                                  \n",
            " dense_4 (Dense)                (None, 32)           2080        ['dropout_4[0][0]']              \n",
            "                                                                                                  \n",
            " dense_5 (Dense)                (None, 32)           16416       ['dropout_5[0][0]']              \n",
            "                                                                                                  \n",
            " batch_normalization_2 (BatchNo  (None, 32)          128         ['dense_4[0][0]']                \n",
            " rmalization)                                                                                     \n",
            "                                                                                                  \n",
            " batch_normalization_3 (BatchNo  (None, 32)          128         ['dense_5[0][0]']                \n",
            " rmalization)                                                                                     \n",
            "                                                                                                  \n",
            " activation_2 (Activation)      (None, 32)           0           ['batch_normalization_2[0][0]']  \n",
            "                                                                                                  \n",
            " activation_3 (Activation)      (None, 32)           0           ['batch_normalization_3[0][0]']  \n",
            "                                                                                                  \n",
            " lambda_3 (Lambda)              (None, 1)            0           ['activation_2[0][0]',           \n",
            "                                                                  'activation_3[0][0]']           \n",
            "                                                                                                  \n",
            "==================================================================================================\n",
            "Total params: 256,849,664\n",
            "Trainable params: 256,849,408\n",
            "Non-trainable params: 256\n",
            "__________________________________________________________________________________________________\n"
          ]
        }
      ],
      "source": [
        "model.summary()"
      ]
    },
    {
      "cell_type": "code",
      "execution_count": 17,
      "id": "e670c2c9",
      "metadata": {
        "id": "e670c2c9"
      },
      "outputs": [],
      "source": [
        "model.compile(optimizer=\"adam\", loss = contrastive_loss, metrics = [tf.metrics.BinaryAccuracy()])"
      ]
    },
    {
      "cell_type": "code",
      "execution_count": 41,
      "id": "ce982823",
      "metadata": {
        "colab": {
          "base_uri": "https://localhost:8080/"
        },
        "id": "ce982823",
        "outputId": "db14d78f-8cc7-4fed-f2a4-f9f176354c2e"
      },
      "outputs": [
        {
          "output_type": "stream",
          "name": "stdout",
          "text": [
            "Epoch 1/30\n",
            "50/50 [==============================] - 19s 371ms/step - loss: 0.2992 - binary_accuracy: 0.4069 - val_loss: 0.2953 - val_binary_accuracy: 0.3734\n",
            "Epoch 2/30\n",
            "50/50 [==============================] - 17s 352ms/step - loss: 0.2924 - binary_accuracy: 0.4016 - val_loss: 0.2947 - val_binary_accuracy: 0.3891\n",
            "Epoch 3/30\n",
            "50/50 [==============================] - 14s 289ms/step - loss: 0.2885 - binary_accuracy: 0.3941 - val_loss: 0.2905 - val_binary_accuracy: 0.3898\n",
            "Epoch 4/30\n",
            "50/50 [==============================] - 15s 296ms/step - loss: 0.2816 - binary_accuracy: 0.3883 - val_loss: 0.2911 - val_binary_accuracy: 0.4016\n",
            "Epoch 5/30\n",
            "50/50 [==============================] - 18s 371ms/step - loss: 0.2797 - binary_accuracy: 0.3833 - val_loss: 0.2766 - val_binary_accuracy: 0.3711\n",
            "Epoch 6/30\n",
            "50/50 [==============================] - 14s 288ms/step - loss: 0.2723 - binary_accuracy: 0.3731 - val_loss: 0.2727 - val_binary_accuracy: 0.3789\n",
            "Epoch 7/30\n",
            "50/50 [==============================] - 18s 361ms/step - loss: 0.2671 - binary_accuracy: 0.3533 - val_loss: 0.2754 - val_binary_accuracy: 0.3750\n",
            "Epoch 8/30\n",
            "50/50 [==============================] - 16s 324ms/step - loss: 0.2588 - binary_accuracy: 0.3473 - val_loss: 0.2737 - val_binary_accuracy: 0.3695\n",
            "Epoch 9/30\n",
            "50/50 [==============================] - 18s 362ms/step - loss: 0.2572 - binary_accuracy: 0.3506 - val_loss: 0.2774 - val_binary_accuracy: 0.3703\n",
            "Epoch 10/30\n",
            "50/50 [==============================] - 14s 290ms/step - loss: 0.2497 - binary_accuracy: 0.3286 - val_loss: 0.2800 - val_binary_accuracy: 0.3727\n",
            "Epoch 11/30\n",
            "50/50 [==============================] - 14s 283ms/step - loss: 0.2444 - binary_accuracy: 0.3256 - val_loss: 0.2755 - val_binary_accuracy: 0.3719\n",
            "Epoch 12/30\n",
            "50/50 [==============================] - 14s 291ms/step - loss: 0.2437 - binary_accuracy: 0.3345 - val_loss: 0.2696 - val_binary_accuracy: 0.3641\n",
            "Epoch 13/30\n",
            "50/50 [==============================] - 19s 377ms/step - loss: 0.2397 - binary_accuracy: 0.3209 - val_loss: 0.2610 - val_binary_accuracy: 0.3656\n",
            "Epoch 14/30\n",
            "50/50 [==============================] - 14s 288ms/step - loss: 0.2334 - binary_accuracy: 0.3098 - val_loss: 0.2751 - val_binary_accuracy: 0.3805\n",
            "Epoch 15/30\n",
            "50/50 [==============================] - 15s 304ms/step - loss: 0.2347 - binary_accuracy: 0.3156 - val_loss: 0.2624 - val_binary_accuracy: 0.3742\n",
            "Epoch 16/30\n",
            "50/50 [==============================] - 15s 303ms/step - loss: 0.2256 - binary_accuracy: 0.2961 - val_loss: 0.2598 - val_binary_accuracy: 0.3648\n",
            "Epoch 17/30\n",
            "50/50 [==============================] - 18s 370ms/step - loss: 0.2215 - binary_accuracy: 0.2922 - val_loss: 0.2635 - val_binary_accuracy: 0.3805\n",
            "Epoch 18/30\n",
            "50/50 [==============================] - 15s 293ms/step - loss: 0.2183 - binary_accuracy: 0.2898 - val_loss: 0.2655 - val_binary_accuracy: 0.3672\n",
            "Epoch 19/30\n",
            "50/50 [==============================] - 15s 305ms/step - loss: 0.2135 - binary_accuracy: 0.2789 - val_loss: 0.2642 - val_binary_accuracy: 0.3789\n",
            "Epoch 20/30\n",
            "50/50 [==============================] - 15s 304ms/step - loss: 0.2052 - binary_accuracy: 0.2648 - val_loss: 0.2730 - val_binary_accuracy: 0.3734\n",
            "Epoch 21/30\n",
            "50/50 [==============================] - 18s 364ms/step - loss: 0.2004 - binary_accuracy: 0.2583 - val_loss: 0.2714 - val_binary_accuracy: 0.3688\n",
            "Epoch 22/30\n",
            "50/50 [==============================] - 14s 281ms/step - loss: 0.1957 - binary_accuracy: 0.2520 - val_loss: 0.2667 - val_binary_accuracy: 0.3680\n",
            "Epoch 23/30\n",
            "50/50 [==============================] - 15s 297ms/step - loss: 0.1961 - binary_accuracy: 0.2483 - val_loss: 0.2733 - val_binary_accuracy: 0.3609\n",
            "Epoch 24/30\n",
            "50/50 [==============================] - 15s 296ms/step - loss: 0.1916 - binary_accuracy: 0.2506 - val_loss: 0.2680 - val_binary_accuracy: 0.3531\n",
            "Epoch 25/30\n",
            "50/50 [==============================] - 22s 436ms/step - loss: 0.1873 - binary_accuracy: 0.2409 - val_loss: 0.2660 - val_binary_accuracy: 0.3641\n",
            "Epoch 26/30\n",
            "50/50 [==============================] - 18s 354ms/step - loss: 0.1884 - binary_accuracy: 0.2441 - val_loss: 0.2592 - val_binary_accuracy: 0.3789\n",
            "Epoch 27/30\n",
            "50/50 [==============================] - 14s 290ms/step - loss: 0.1869 - binary_accuracy: 0.2427 - val_loss: 0.2748 - val_binary_accuracy: 0.3641\n",
            "Epoch 28/30\n",
            "50/50 [==============================] - 14s 287ms/step - loss: 0.1760 - binary_accuracy: 0.2188 - val_loss: 0.2725 - val_binary_accuracy: 0.3766\n",
            "Epoch 29/30\n",
            "50/50 [==============================] - 19s 382ms/step - loss: 0.1782 - binary_accuracy: 0.2277 - val_loss: 0.2898 - val_binary_accuracy: 0.3711\n",
            "Epoch 30/30\n",
            "50/50 [==============================] - 15s 292ms/step - loss: 0.1732 - binary_accuracy: 0.2202 - val_loss: 0.2760 - val_binary_accuracy: 0.3820\n"
          ]
        }
      ],
      "source": [
        "loss_history = model.fit(siam_gen([df[\"texts\"], df[\"reason\"]], 64), \n",
        "                         validation_data = siam_gen([df_test[\"text\"], df_test[\"reason\"]], 64),\n",
        "                         steps_per_epoch=50, validation_steps=10, epochs = 50, \n",
        "                         verbose = True, use_multiprocessing=True)"
      ]
    },
    {
      "cell_type": "code",
      "execution_count": 73,
      "id": "d045fbf0",
      "metadata": {
        "id": "d045fbf0",
        "outputId": "60916b47-1343-43ad-eeeb-b3c77ec70110",
        "colab": {
          "base_uri": "https://localhost:8080/"
        }
      },
      "outputs": [
        {
          "output_type": "execute_result",
          "data": {
            "text/plain": [
              "0.9982924746920356"
            ]
          },
          "metadata": {},
          "execution_count": 73
        }
      ],
      "source": [
        "y_preds = model.predict([df[\"texts\"], df[\"reason\"]])\n",
        "y_preds = tf.math.sigmoid(1 - y_preds).numpy()\n",
        "accuracy(df[\"label\"],y_preds)"
      ]
    },
    {
      "cell_type": "code",
      "source": [
        "max(y_preds), min(y_preds)"
      ],
      "metadata": {
        "id": "qll-TnYxe1fu",
        "outputId": "f8d8d60b-4ebd-4694-f5da-de6cecb1bbbd",
        "colab": {
          "base_uri": "https://localhost:8080/"
        }
      },
      "id": "qll-TnYxe1fu",
      "execution_count": 74,
      "outputs": [
        {
          "output_type": "execute_result",
          "data": {
            "text/plain": [
              "(array([0.73099643], dtype=float32), array([0.44637114], dtype=float32))"
            ]
          },
          "metadata": {},
          "execution_count": 74
        }
      ]
    },
    {
      "cell_type": "code",
      "source": [
        "from sklearn.metrics import brier_score_loss as brier_loss\n",
        "from sklearn.metrics import precision_score\n",
        "from sklearn.metrics import recall_score\n",
        "from sklearn.metrics import f1_score\n",
        "from sklearn.metrics import roc_auc_score\n",
        "from sklearn.metrics import log_loss"
      ],
      "metadata": {
        "id": "xs3ARSgIctHR"
      },
      "id": "xs3ARSgIctHR",
      "execution_count": 75,
      "outputs": []
    },
    {
      "cell_type": "code",
      "source": [
        "y_hat = (y_preds >= 0.5).astype(int)"
      ],
      "metadata": {
        "id": "c9lb78Asfwwx"
      },
      "id": "c9lb78Asfwwx",
      "execution_count": 76,
      "outputs": []
    },
    {
      "cell_type": "code",
      "source": [
        "print(\"Brier Loss                       : \", brier_loss(df['label'], 1 - y_preds))\n",
        "print(\"Precision Score                  : \", precision_score(df['label'], y_hat))\n",
        "print(\"Recall Score                     : \", recall_score(df['label'], y_hat))\n",
        "print(\"F1 Score                         : \", f1_score(df['label'], y_hat))\n",
        "# print(\"Roc AUC Score                    : \", roc_auc_score(df['label'], y_preds))\n",
        "# print(\"BCE Loss                         : \", log_loss(df['label'], y_preds))"
      ],
      "metadata": {
        "id": "YeZ7S9XDctD4",
        "outputId": "256ccbc8-0277-4a71-cba8-91271373cdf8",
        "colab": {
          "base_uri": "https://localhost:8080/"
        }
      },
      "id": "YeZ7S9XDctD4",
      "execution_count": 77,
      "outputs": [
        {
          "output_type": "stream",
          "name": "stdout",
          "text": [
            "Brier Loss                       :  0.46022743849172487\n",
            "Precision Score                  :  1.0\n",
            "Recall Score                     :  0.9982924746920356\n",
            "F1 Score                         :  0.9991455078125\n"
          ]
        }
      ]
    },
    {
      "cell_type": "code",
      "source": [
        ""
      ],
      "metadata": {
        "id": "jAG4H0tJctBI"
      },
      "id": "jAG4H0tJctBI",
      "execution_count": null,
      "outputs": []
    },
    {
      "cell_type": "code",
      "source": [
        ""
      ],
      "metadata": {
        "id": "awDA94dWcs-m"
      },
      "id": "awDA94dWcs-m",
      "execution_count": null,
      "outputs": []
    },
    {
      "cell_type": "code",
      "execution_count": 69,
      "id": "f7750ac3",
      "metadata": {
        "id": "f7750ac3",
        "outputId": "d51dec98-5176-4013-92e8-c0fa70dde87e",
        "colab": {
          "base_uri": "https://localhost:8080/"
        }
      },
      "outputs": [
        {
          "output_type": "execute_result",
          "data": {
            "text/plain": [
              "0.36477777777777776"
            ]
          },
          "metadata": {},
          "execution_count": 69
        }
      ],
      "source": [
        "y_preds = model.predict([df_test[\"text\"], df_test[\"reason\"]])\n",
        "y_preds = tf.math.sigmoid(1 - y_preds).numpy()\n",
        "accuracy(df_test[\"label\"], y_preds)"
      ]
    },
    {
      "cell_type": "code",
      "source": [
        "max(y_preds), min(y_preds)"
      ],
      "metadata": {
        "id": "B6MVo7d-e5RU",
        "outputId": "0143c861-d457-47df-fc20-d84959d786f8",
        "colab": {
          "base_uri": "https://localhost:8080/"
        }
      },
      "id": "B6MVo7d-e5RU",
      "execution_count": 70,
      "outputs": [
        {
          "output_type": "execute_result",
          "data": {
            "text/plain": [
              "(array([0.73099643], dtype=float32), array([0.4189163], dtype=float32))"
            ]
          },
          "metadata": {},
          "execution_count": 70
        }
      ]
    },
    {
      "cell_type": "code",
      "source": [
        "y_hat = (y_preds >= 0.5).astype(int)"
      ],
      "metadata": {
        "id": "sxQlfmbNgDZY"
      },
      "id": "sxQlfmbNgDZY",
      "execution_count": 71,
      "outputs": []
    },
    {
      "cell_type": "code",
      "source": [
        "print(\"Brier Loss                       : \", brier_loss(df_test['label'], y_preds))\n",
        "print(\"Precision Score                  : \", precision_score(df_test['label'], y_hat))\n",
        "print(\"Recall Score                     : \", recall_score(df_test['label'], y_hat))\n",
        "print(\"F1 Score                         : \", f1_score(df_test['label'], y_hat))\n",
        "# print(\"Roc AUC Score                    : \", roc_auc_score(df_test['label'], y_preds))\n",
        "print(\"BCE Loss                         : \", log_loss(df_test['label'], 1 - y_preds))"
      ],
      "metadata": {
        "id": "s9QwrCrFe4pL",
        "outputId": "93bfe2a2-4d8f-47ef-9776-2198e492d2b0",
        "colab": {
          "base_uri": "https://localhost:8080/"
        }
      },
      "id": "s9QwrCrFe4pL",
      "execution_count": 72,
      "outputs": [
        {
          "output_type": "stream",
          "name": "stdout",
          "text": [
            "Brier Loss                       :  0.3028793215974457\n",
            "Precision Score                  :  0.33997171812396887\n",
            "Recall Score                     :  0.9613462179273575\n",
            "F1 Score                         :  0.5023069556890398\n",
            "BCE Loss                         :  0.6678047352068954\n"
          ]
        }
      ]
    },
    {
      "cell_type": "code",
      "source": [
        ""
      ],
      "metadata": {
        "id": "VM6J1epce4lr"
      },
      "id": "VM6J1epce4lr",
      "execution_count": null,
      "outputs": []
    },
    {
      "cell_type": "code",
      "source": [
        ""
      ],
      "metadata": {
        "id": "03wvkuq_e4ja"
      },
      "id": "03wvkuq_e4ja",
      "execution_count": null,
      "outputs": []
    },
    {
      "cell_type": "code",
      "source": [
        ""
      ],
      "metadata": {
        "id": "Zv3yt6Fwe4g1"
      },
      "id": "Zv3yt6Fwe4g1",
      "execution_count": null,
      "outputs": []
    },
    {
      "cell_type": "code",
      "execution_count": null,
      "id": "75001d57",
      "metadata": {
        "id": "75001d57"
      },
      "outputs": [],
      "source": [
        "model.save(\"models/useEUCL/\")"
      ]
    },
    {
      "cell_type": "code",
      "execution_count": null,
      "id": "affe5802",
      "metadata": {
        "id": "affe5802"
      },
      "outputs": [],
      "source": [
        ""
      ]
    },
    {
      "cell_type": "code",
      "execution_count": null,
      "id": "c8141287",
      "metadata": {
        "id": "c8141287"
      },
      "outputs": [],
      "source": [
        ""
      ]
    },
    {
      "cell_type": "code",
      "execution_count": null,
      "id": "932f4ab5",
      "metadata": {
        "id": "932f4ab5"
      },
      "outputs": [],
      "source": [
        ""
      ]
    },
    {
      "cell_type": "code",
      "execution_count": null,
      "id": "c69e979a",
      "metadata": {
        "id": "c69e979a"
      },
      "outputs": [],
      "source": [
        ""
      ]
    }
  ],
  "metadata": {
    "kernelspec": {
      "display_name": "mlAsgmt",
      "language": "python",
      "name": "mlasgmt"
    },
    "language_info": {
      "codemirror_mode": {
        "name": "ipython",
        "version": 3
      },
      "file_extension": ".py",
      "mimetype": "text/x-python",
      "name": "python",
      "nbconvert_exporter": "python",
      "pygments_lexer": "ipython3",
      "version": "3.7.9"
    },
    "colab": {
      "name": "useEUCL-checkpoint.ipynb",
      "provenance": []
    },
    "accelerator": "GPU",
    "gpuClass": "standard"
  },
  "nbformat": 4,
  "nbformat_minor": 5
}