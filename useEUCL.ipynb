{
 "cells": [
  {
   "cell_type": "code",
   "execution_count": null,
   "id": "95fa5d25",
   "metadata": {},
   "outputs": [],
   "source": [
    "import pandas as pd"
   ]
  },
  {
   "cell_type": "code",
   "execution_count": null,
   "id": "29d27ad2",
   "metadata": {},
   "outputs": [],
   "source": [
    "eval_dataset = pd.read_csv(\"evaluation.csv\")"
   ]
  },
  {
   "cell_type": "code",
   "execution_count": 3,
   "id": "105eaf9a",
   "metadata": {},
   "outputs": [
    {
     "name": "stdout",
     "output_type": "stream",
     "text": [
      "^C\n",
      "Note: you may need to restart the kernel to use updated packages.\n"
     ]
    },
    {
     "ename": "ModuleNotFoundError",
     "evalue": "No module named 'keras_self_attention'",
     "output_type": "error",
     "traceback": [
      "\u001b[1;31m---------------------------------------------------------------------------\u001b[0m",
      "\u001b[1;31mModuleNotFoundError\u001b[0m                       Traceback (most recent call last)",
      "\u001b[1;32m~\\AppData\\Local\\Temp\\ipykernel_33956\\2890649029.py\u001b[0m in \u001b[0;36m<module>\u001b[1;34m\u001b[0m\n\u001b[0;32m     14\u001b[0m \u001b[1;32mtry\u001b[0m\u001b[1;33m:\u001b[0m\u001b[1;33m\u001b[0m\u001b[1;33m\u001b[0m\u001b[0m\n\u001b[1;32m---> 15\u001b[1;33m     \u001b[1;32mfrom\u001b[0m \u001b[0mkeras_self_attention\u001b[0m \u001b[1;32mimport\u001b[0m \u001b[0mSeqSelfAttention\u001b[0m\u001b[1;33m\u001b[0m\u001b[1;33m\u001b[0m\u001b[0m\n\u001b[0m\u001b[0;32m     16\u001b[0m \u001b[1;32mexcept\u001b[0m \u001b[0mModuleNotFoundError\u001b[0m\u001b[1;33m:\u001b[0m\u001b[1;33m\u001b[0m\u001b[1;33m\u001b[0m\u001b[0m\n",
      "\u001b[1;31mModuleNotFoundError\u001b[0m: No module named 'keras_self_attention'",
      "\nDuring handling of the above exception, another exception occurred:\n",
      "\u001b[1;31mModuleNotFoundError\u001b[0m                       Traceback (most recent call last)",
      "\u001b[1;32m~\\AppData\\Local\\Temp\\ipykernel_33956\\2890649029.py\u001b[0m in \u001b[0;36m<module>\u001b[1;34m\u001b[0m\n\u001b[0;32m     16\u001b[0m \u001b[1;32mexcept\u001b[0m \u001b[0mModuleNotFoundError\u001b[0m\u001b[1;33m:\u001b[0m\u001b[1;33m\u001b[0m\u001b[1;33m\u001b[0m\u001b[0m\n\u001b[0;32m     17\u001b[0m     \u001b[0mget_ipython\u001b[0m\u001b[1;33m(\u001b[0m\u001b[1;33m)\u001b[0m\u001b[1;33m.\u001b[0m\u001b[0mrun_line_magic\u001b[0m\u001b[1;33m(\u001b[0m\u001b[1;34m'pip'\u001b[0m\u001b[1;33m,\u001b[0m \u001b[1;34m'install keras-self-attention'\u001b[0m\u001b[1;33m)\u001b[0m\u001b[1;33m\u001b[0m\u001b[1;33m\u001b[0m\u001b[0m\n\u001b[1;32m---> 18\u001b[1;33m     \u001b[1;32mfrom\u001b[0m \u001b[0mkeras_self_attention\u001b[0m \u001b[1;32mimport\u001b[0m \u001b[0mSeqSelfAttention\u001b[0m\u001b[1;33m\u001b[0m\u001b[1;33m\u001b[0m\u001b[0m\n\u001b[0m\u001b[0;32m     19\u001b[0m \u001b[1;33m\u001b[0m\u001b[0m\n\u001b[0;32m     20\u001b[0m \u001b[1;32mimport\u001b[0m \u001b[0mnumpy\u001b[0m \u001b[1;32mas\u001b[0m \u001b[0mnp\u001b[0m\u001b[1;33m\u001b[0m\u001b[1;33m\u001b[0m\u001b[0m\n",
      "\u001b[1;31mModuleNotFoundError\u001b[0m: No module named 'keras_self_attention'"
     ]
    }
   ],
   "source": [
    "import tensorflow as tf\n",
    "import tensorflow.keras.backend as K\n",
    "import tensorflow.keras.layers as tfl\n",
    "from tensorflow.keras.models import Model\n",
    "from tensorflow.keras.callbacks import ModelCheckpoint\n",
    "from tensorflow.keras import Input\n",
    "\n",
    "try:\n",
    "    import tensorflow_hub as hub\n",
    "except ModuleNotFoundError:\n",
    "    %pip install tensorflow_hub\n",
    "    import tensorflow_hub as hub\n",
    "    \n",
    "try:\n",
    "    from keras_self_attention import SeqSelfAttention\n",
    "except ModuleNotFoundError:\n",
    "    %pip install keras-self-attention\n",
    "    from keras_self_attention import SeqSelfAttention\n",
    "\n",
    "import numpy as np\n",
    "\n",
    "\n",
    "# %pip install -q transformers\n",
    "# %pip install -q -U tensorflow-text\n",
    "# %pip install -q tf-models-official==2.7.0\n",
    "\n",
    "import math as m"
   ]
  },
  {
   "cell_type": "code",
   "execution_count": null,
   "id": "8b9b678b",
   "metadata": {},
   "outputs": [],
   "source": [
    "huburl = \"https://tfhub.dev/google/universal-sentence-encoder/4\" \n",
    "fine_tuned_module_object = hub.load(huburl)"
   ]
  },
  {
   "cell_type": "code",
   "execution_count": 5,
   "id": "722fb270",
   "metadata": {},
   "outputs": [],
   "source": [
    "def gen_random_batch(in_groups, batch_halfsize = 8):\n",
    "    text_batch, reason_batch, y_hat = [], [], []\n",
    "    all_groups = list(range(in_groups[0].shape[0]))\n",
    "    for match_group in [True, False]:\n",
    "        group_idx = np.random.choice(all_groups, size = batch_halfsize)\n",
    "        text_batch += [in_groups[0][c_idx] for c_idx in group_idx]\n",
    "        if match_group:\n",
    "            b_group_idx = group_idx\n",
    "            y_hat += [1]*batch_halfsize\n",
    "        else:\n",
    "            # anything but the same group\n",
    "            non_group_idx = [np.random.choice([i for i in all_groups if i!=c_idx]) for c_idx in group_idx] \n",
    "            b_group_idx = non_group_idx\n",
    "            y_hat += [0]*batch_halfsize\n",
    "            \n",
    "        reason_batch += [in_groups[1][c_idx] for c_idx in b_group_idx]\n",
    "            \n",
    "    return np.stack(text_batch, 0), np.stack(reason_batch, 0), np.stack(y_hat, 0)\n",
    "\n",
    "def siam_gen(in_groups, batch_size = 32):\n",
    "    while True:\n",
    "        text_stack, reason_stack, y_hatstack = gen_random_batch(in_groups, batch_size//2)\n",
    "        yield [text_stack, reason_stack], y_hatstack\n",
    "\n",
    "def euclidean_distance(vectors):\n",
    "    (featsA, featsB) = vectors\n",
    "    sumSquared = K.sum(K.square(featsA - featsB), axis=1, keepdims=True)\n",
    "    return K.sqrt(K.maximum(sumSquared, K.epsilon()))\n",
    "\n",
    "def contrastive_loss(y, preds, margin=1):\n",
    "    # explicitly cast the true class label data type to the predicted\n",
    "    # class label data type (otherwise we run the risk of having two\n",
    "    # separate data types, causing TensorFlow to error out)\n",
    "    y = tf.cast(y, preds.dtype)\n",
    "    # calculate the contrastive loss between the true labels and\n",
    "    # the predicted labels\n",
    "    squaredPreds = K.square(preds)\n",
    "    squaredMargin = K.square(K.maximum(margin - preds, 0))\n",
    "    loss = K.mean(y * squaredPreds + (1 - y) * squaredMargin)\n",
    "    return loss"
   ]
  },
  {
   "cell_type": "code",
   "execution_count": 6,
   "id": "7cd865e0",
   "metadata": {},
   "outputs": [],
   "source": [
    "def accuracy(y_true, y_pred):\n",
    "    results = (y_pred <= 0.5).astype(int).squeeze()\n",
    "    return np.mean([y_true == results])"
   ]
  },
  {
   "cell_type": "code",
   "execution_count": 4,
   "id": "3b213f5b",
   "metadata": {},
   "outputs": [],
   "source": [
    "def get_model():\n",
    "    shared_embedding_layer1 = hub.KerasLayer(fine_tuned_module_object, trainable=True, name=\"first\")\n",
    "    shared_embedding_layer2 = hub.KerasLayer(fine_tuned_module_object, trainable=True, name=\"second\")\n",
    "\n",
    "    left_input = tf.keras.Input(shape=(), dtype=tf.string)\n",
    "    right_input = tf.keras.Input(shape=(), dtype=tf.string)\n",
    "\n",
    "    embedding_left_output= shared_embedding_layer1(left_input)\n",
    "    a = tfl.Dropout(0.3)(embedding_left_output)\n",
    "    a = tfl.Dense(64, activation=\"linear\", kernel_regularizer='l2')(a)\n",
    "    a = tfl.BatchNormalization()(a)\n",
    "    a = tfl.Activation('relu')(a)\n",
    "    a = tfl.Dropout(rate=0.2)(a)\n",
    "    a = tfl.Dense(32, activation=\"linear\", kernel_regularizer='l2')(a)\n",
    "    a = tfl.BatchNormalization()(a)\n",
    "    a = tfl.Activation('relu')(a)\n",
    "\n",
    "    embedding_right_output= shared_embedding_layer2(right_input)\n",
    "    b = tfl.Dropout(0.3)(embedding_right_output)\n",
    "    b = tfl.Dense(64, activation=\"linear\", a='l2')(b)\n",
    "    b = tfl.BatchNormalization()(b)\n",
    "    b = tfl.Activation('relu')(b)\n",
    "    a = tfl.Dropout(rate=0.2)(a)\n",
    "    b = tfl.Dense(32, activation=\"linear\", kernel_regularizer='l2')(b)\n",
    "    b = tfl.BatchNormalization()(b)\n",
    "    b = tfl.Activation('relu')(b)\n",
    "\n",
    "    # combined_features = tfl.concatenate([a, b], name = 'merge_features')\n",
    "    # combined_features = tfl.Dense(16, activation = 'linear')(combined_features)\n",
    "    # combined_features = tfl.BatchNormalization()(combined_features)\n",
    "    # combined_features = tfl.Activation('relu')(combined_features)\n",
    "    # combined_features = tfl.Dropout(rate=0.2)(combined_features)\n",
    "    # combined_features = tfl.Dense(4, activation = 'linear')(combined_features)\n",
    "    # combined_features = tfl.BatchNormalization()(combined_features)\n",
    "    # combined_features = tfl.Activation('relu')(combined_features)\n",
    "    # combined_features = tfl.Dense(1, activation = 'sigmoid')(combined_features)\n",
    "\n",
    "    distance = tfl.Lambda(euclidean_distance)([a, b])\n",
    "    # cosine_similiarity=tf.keras.layers.Dot(axes=-1,normalize=True)([a,b])\n",
    "\n",
    "    # output = tfl.Dense(1, activation=\"sigmoid\")(distance)\n",
    "    model = Model([left_input, right_input], distance)\n",
    "    return model"
   ]
  },
  {
   "cell_type": "code",
   "execution_count": null,
   "id": "49246c10",
   "metadata": {},
   "outputs": [],
   "source": [
    "model = get_model()"
   ]
  },
  {
   "cell_type": "code",
   "execution_count": null,
   "id": "bda0b9b8",
   "metadata": {},
   "outputs": [],
   "source": [
    "model.summary()"
   ]
  },
  {
   "cell_type": "code",
   "execution_count": null,
   "id": "e670c2c9",
   "metadata": {},
   "outputs": [],
   "source": [
    "model.compile(optimizer=\"adam\", loss = contrastive_loss, metrics = [tf.metrics.BinaryAccuracy()])"
   ]
  },
  {
   "cell_type": "code",
   "execution_count": null,
   "id": "ce982823",
   "metadata": {},
   "outputs": [],
   "source": [
    "loss_history = model.fit(siam_gen([df[\"clean_text\"], df[\"reason\"]], 64), \n",
    "                         validation_data = siam_gen([df_test[\"clean_text\"], df_test[\"reason\"]], 32),\n",
    "                         steps_per_epoch=50, validation_steps=10, epochs = 100, \n",
    "                         verbose = True, use_multiprocessing=True)"
   ]
  },
  {
   "cell_type": "code",
   "execution_count": null,
   "id": "d045fbf0",
   "metadata": {},
   "outputs": [],
   "source": []
  },
  {
   "cell_type": "code",
   "execution_count": null,
   "id": "f7750ac3",
   "metadata": {},
   "outputs": [],
   "source": []
  },
  {
   "cell_type": "code",
   "execution_count": null,
   "id": "75001d57",
   "metadata": {},
   "outputs": [],
   "source": []
  },
  {
   "cell_type": "code",
   "execution_count": null,
   "id": "affe5802",
   "metadata": {},
   "outputs": [],
   "source": []
  },
  {
   "cell_type": "code",
   "execution_count": null,
   "id": "c8141287",
   "metadata": {},
   "outputs": [],
   "source": []
  },
  {
   "cell_type": "code",
   "execution_count": null,
   "id": "932f4ab5",
   "metadata": {},
   "outputs": [],
   "source": []
  },
  {
   "cell_type": "code",
   "execution_count": null,
   "id": "c69e979a",
   "metadata": {},
   "outputs": [],
   "source": []
  }
 ],
 "metadata": {
  "kernelspec": {
   "display_name": "mlAsgmt",
   "language": "python",
   "name": "mlasgmt"
  },
  "language_info": {
   "codemirror_mode": {
    "name": "ipython",
    "version": 3
   },
   "file_extension": ".py",
   "mimetype": "text/x-python",
   "name": "python",
   "nbconvert_exporter": "python",
   "pygments_lexer": "ipython3",
   "version": "3.7.9"
  }
 },
 "nbformat": 4,
 "nbformat_minor": 5
}
