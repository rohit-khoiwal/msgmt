{
  "cells": [
    {
      "cell_type": "code",
      "source": [
        "import pandas as pd"
      ],
      "metadata": {
        "id": "AbEr8_iRY4zk"
      },
      "id": "AbEr8_iRY4zk",
      "execution_count": 1,
      "outputs": []
    },
    {
      "cell_type": "code",
      "source": [
        "from google.colab import drive\n",
        "drive.mount('/content/drive')"
      ],
      "metadata": {
        "id": "DVGLnXt3Zn_5",
        "outputId": "1e0ae29c-80b8-4943-c8c3-9fd918f3e3c0",
        "colab": {
          "base_uri": "https://localhost:8080/"
        }
      },
      "id": "DVGLnXt3Zn_5",
      "execution_count": 4,
      "outputs": [
        {
          "output_type": "stream",
          "name": "stdout",
          "text": [
            "Mounted at /content/drive\n"
          ]
        }
      ]
    },
    {
      "cell_type": "code",
      "source": [
        "%cd /content/drive/MyDrive/Github/"
      ],
      "metadata": {
        "id": "qGTOM17bZxGE",
        "outputId": "ff1e6278-daad-4cd4-dd34-9b1b3176cd02",
        "colab": {
          "base_uri": "https://localhost:8080/"
        }
      },
      "id": "qGTOM17bZxGE",
      "execution_count": 5,
      "outputs": [
        {
          "output_type": "stream",
          "name": "stdout",
          "text": [
            "/content/drive/MyDrive/Github\n"
          ]
        }
      ]
    },
    {
      "cell_type": "code",
      "source": [
        "!git init"
      ],
      "metadata": {
        "id": "qPg9gEqtfMwH"
      },
      "id": "qPg9gEqtfMwH",
      "execution_count": null,
      "outputs": []
    },
    {
      "cell_type": "code",
      "source": [
        "!git pull https://github.com/rohit-khoiwal-30/msgmt.git"
      ],
      "metadata": {
        "colab": {
          "base_uri": "https://localhost:8080/"
        },
        "id": "L52QxQc6ZINc",
        "outputId": "bb782815-5631-4fe2-a5fd-d46748512c1a"
      },
      "id": "L52QxQc6ZINc",
      "execution_count": 8,
      "outputs": [
        {
          "output_type": "stream",
          "name": "stdout",
          "text": [
            "From https://github.com/rohit-khoiwal-30/msgmt\n",
            " * branch            HEAD       -> FETCH_HEAD\n",
            "Updating a77fca4..01b7e22\n",
            "Fast-forward\n",
            " augment_train.csv | 8205 \u001b[32m+++++++++++++++++++++++++++++++++++++++++++++++++++++\u001b[m\n",
            " preprocess.ipynb  | 2176 \u001b[32m+++++++\u001b[m\u001b[31m-------\u001b[m\n",
            " 2 files changed, 9392 insertions(+), 989 deletions(-)\n",
            " create mode 100644 augment_train.csv\n"
          ]
        }
      ]
    },
    {
      "cell_type": "code",
      "source": [
        "df = pd.read_csv(\"augment_train.csv\")\n",
        "df_test = pd.read_csv(\"evaluation.csv\")"
      ],
      "metadata": {
        "id": "QEMF6nTiY6yk"
      },
      "id": "QEMF6nTiY6yk",
      "execution_count": 9,
      "outputs": []
    },
    {
      "cell_type": "code",
      "execution_count": 10,
      "id": "105eaf9a",
      "metadata": {
        "id": "105eaf9a",
        "outputId": "f17b6d49-923a-404e-89e9-8f576d06b4d7",
        "colab": {
          "base_uri": "https://localhost:8080/"
        }
      },
      "outputs": [
        {
          "output_type": "stream",
          "name": "stdout",
          "text": [
            "  Building wheel for keras-self-attention (setup.py) ... \u001b[?25l\u001b[?25hdone\n"
          ]
        }
      ],
      "source": [
        "import tensorflow as tf\n",
        "import tensorflow.keras.backend as K\n",
        "import tensorflow.keras.layers as tfl\n",
        "from tensorflow.keras.models import Model\n",
        "from tensorflow.keras.callbacks import ModelCheckpoint\n",
        "from tensorflow.keras import Input\n",
        "from keras.regularizers import l2\n",
        "\n",
        "try:\n",
        "    import tensorflow_hub as hub\n",
        "except ModuleNotFoundError:\n",
        "    %pip install -q tensorflow_hub\n",
        "    import tensorflow_hub as hub\n",
        "    \n",
        "try:\n",
        "    from keras_self_attention import SeqSelfAttention\n",
        "except ModuleNotFoundError:\n",
        "    %pip install -q keras-self-attention\n",
        "    from keras_self_attention import SeqSelfAttention\n",
        "\n",
        "import numpy as np\n",
        "\n",
        "\n",
        "# %pip install -q transformers\n",
        "# %pip install -q -U tensorflow-text\n",
        "# %pip install -q tf-models-official==2.7.0\n",
        "\n",
        "import math as m"
      ]
    },
    {
      "cell_type": "code",
      "execution_count": 11,
      "id": "8b9b678b",
      "metadata": {
        "id": "8b9b678b"
      },
      "outputs": [],
      "source": [
        "huburl = \"https://tfhub.dev/google/universal-sentence-encoder/4\" \n",
        "fine_tuned_module_object = hub.load(huburl)"
      ]
    },
    {
      "cell_type": "code",
      "execution_count": 12,
      "id": "722fb270",
      "metadata": {
        "id": "722fb270"
      },
      "outputs": [],
      "source": [
        "def gen_random_batch(in_groups, batch_halfsize = 8):\n",
        "    text_batch, reason_batch, y_hat = [], [], []\n",
        "    all_groups = list(range(in_groups[0].shape[0]))\n",
        "    for match_group in [True, False]:\n",
        "        group_idx = np.random.choice(all_groups, size = batch_halfsize)\n",
        "        text_batch += [in_groups[0][c_idx] for c_idx in group_idx]\n",
        "        if match_group:\n",
        "            b_group_idx = group_idx\n",
        "            y_hat += [1]*batch_halfsize\n",
        "        else:\n",
        "            # anything but the same group\n",
        "            non_group_idx = [np.random.choice([i for i in all_groups if i!=c_idx]) for c_idx in group_idx] \n",
        "            b_group_idx = non_group_idx\n",
        "            y_hat += [0]*batch_halfsize\n",
        "            \n",
        "        reason_batch += [in_groups[1][c_idx] for c_idx in b_group_idx]\n",
        "            \n",
        "    return np.stack(text_batch, 0), np.stack(reason_batch, 0), np.stack(y_hat, 0)\n",
        "\n",
        "def siam_gen(in_groups, batch_size = 32):\n",
        "    while True:\n",
        "        text_stack, reason_stack, y_hatstack = gen_random_batch(in_groups, batch_size//2)\n",
        "        yield [text_stack, reason_stack], y_hatstack\n",
        "\n",
        "def euclidean_distance(vectors):\n",
        "    (featsA, featsB) = vectors\n",
        "    sumSquared = K.sum(K.square(featsA - featsB), axis=1, keepdims=True)\n",
        "    return K.sqrt(K.maximum(sumSquared, K.epsilon()))\n",
        "\n",
        "def contrastive_loss(y, preds, margin=1):\n",
        "    # explicitly cast the true class label data type to the predicted\n",
        "    # class label data type (otherwise we run the risk of having two\n",
        "    # separate data types, causing TensorFlow to error out)\n",
        "    y = tf.cast(y, preds.dtype)\n",
        "    # calculate the contrastive loss between the true labels and\n",
        "    # the predicted labels\n",
        "    squaredPreds = K.square(preds)\n",
        "    squaredMargin = K.square(K.maximum(margin - preds, 0))\n",
        "    loss = K.mean(y * squaredPreds + (1 - y) * squaredMargin)\n",
        "    return loss"
      ]
    },
    {
      "cell_type": "code",
      "execution_count": 13,
      "id": "7cd865e0",
      "metadata": {
        "id": "7cd865e0"
      },
      "outputs": [],
      "source": [
        "def accuracy(y_true, y_pred):\n",
        "    results = (y_pred <= 0.5).astype(int).squeeze()\n",
        "    return np.mean([y_true == results])"
      ]
    },
    {
      "cell_type": "code",
      "execution_count": 14,
      "id": "3b213f5b",
      "metadata": {
        "id": "3b213f5b"
      },
      "outputs": [],
      "source": [
        "def get_model():\n",
        "    shared_embedding_layer1 = hub.KerasLayer(fine_tuned_module_object, trainable=True, name=\"first\")\n",
        "    shared_embedding_layer2 = hub.KerasLayer(fine_tuned_module_object, trainable=True, name=\"second\")\n",
        "\n",
        "    left_input = tf.keras.Input(shape=(), dtype=tf.string)\n",
        "    right_input = tf.keras.Input(shape=(), dtype=tf.string)\n",
        "\n",
        "    embedding_left_output= shared_embedding_layer1(left_input)\n",
        "    a = tfl.Dropout(0.3)(embedding_left_output)\n",
        "    a = tfl.Dense(64, activation=\"linear\", kernel_regularizer=l2(1e-3))(a)\n",
        "    a = tfl.BatchNormalization()(a)\n",
        "    a = tfl.Activation('relu')(a)\n",
        "    a = tfl.Dropout(rate=0.2)(a)\n",
        "    a = tfl.Dense(32, activation=\"linear\", kernel_regularizer=l2(1e-3))(a)\n",
        "    # a = tfl.BatchNormalization()(a)\n",
        "    # a = tfl.Activation('relu')(a)\n",
        "    a = tfl.Lambda(lambda x: K.l2_normalize(x,axis=-1))(a)\n",
        "\n",
        "    embedding_right_output= shared_embedding_layer2(right_input)\n",
        "    b = tfl.Dropout(0.3)(embedding_right_output)\n",
        "    b = tfl.Dense(32, activation=\"linear\", kernel_regularizer=l2(1e-3))(b)\n",
        "    # b = tfl.BatchNormalization()(b)\n",
        "    # b = tfl.Activation('relu')(b)\n",
        "    b = tfl.Lambda(lambda x: K.l2_normalize(x,axis=-1))(b)\n",
        "\n",
        "    distance = tfl.Lambda(euclidean_distance)([a, b])\n",
        "    model = Model([left_input, right_input], distance)\n",
        "    return model"
      ]
    },
    {
      "cell_type": "code",
      "execution_count": 26,
      "id": "49246c10",
      "metadata": {
        "id": "49246c10"
      },
      "outputs": [],
      "source": [
        "model = get_model()"
      ]
    },
    {
      "cell_type": "code",
      "execution_count": 27,
      "id": "bda0b9b8",
      "metadata": {
        "colab": {
          "base_uri": "https://localhost:8080/"
        },
        "id": "bda0b9b8",
        "outputId": "57a42f1d-c2b7-428d-fe36-bc65a7a925eb"
      },
      "outputs": [
        {
          "output_type": "stream",
          "name": "stdout",
          "text": [
            "Model: \"model_1\"\n",
            "__________________________________________________________________________________________________\n",
            " Layer (type)                   Output Shape         Param #     Connected to                     \n",
            "==================================================================================================\n",
            " input_3 (InputLayer)           [(None,)]            0           []                               \n",
            "                                                                                                  \n",
            " first (KerasLayer)             (None, 512)          256797824   ['input_3[0][0]']                \n",
            "                                                                                                  \n",
            " dropout_3 (Dropout)            (None, 512)          0           ['first[0][0]']                  \n",
            "                                                                                                  \n",
            " dense_3 (Dense)                (None, 64)           32832       ['dropout_3[0][0]']              \n",
            "                                                                                                  \n",
            " batch_normalization_1 (BatchNo  (None, 64)          256         ['dense_3[0][0]']                \n",
            " rmalization)                                                                                     \n",
            "                                                                                                  \n",
            " input_4 (InputLayer)           [(None,)]            0           []                               \n",
            "                                                                                                  \n",
            " activation_1 (Activation)      (None, 64)           0           ['batch_normalization_1[0][0]']  \n",
            "                                                                                                  \n",
            " second (KerasLayer)            (None, 512)          256797824   ['input_4[0][0]']                \n",
            "                                                                                                  \n",
            " dropout_4 (Dropout)            (None, 64)           0           ['activation_1[0][0]']           \n",
            "                                                                                                  \n",
            " dropout_5 (Dropout)            (None, 512)          0           ['second[0][0]']                 \n",
            "                                                                                                  \n",
            " dense_4 (Dense)                (None, 32)           2080        ['dropout_4[0][0]']              \n",
            "                                                                                                  \n",
            " dense_5 (Dense)                (None, 32)           16416       ['dropout_5[0][0]']              \n",
            "                                                                                                  \n",
            " lambda_3 (Lambda)              (None, 32)           0           ['dense_4[0][0]']                \n",
            "                                                                                                  \n",
            " lambda_4 (Lambda)              (None, 32)           0           ['dense_5[0][0]']                \n",
            "                                                                                                  \n",
            " lambda_5 (Lambda)              (None, 1)            0           ['lambda_3[0][0]',               \n",
            "                                                                  'lambda_4[0][0]']               \n",
            "                                                                                                  \n",
            "==================================================================================================\n",
            "Total params: 256,849,408\n",
            "Trainable params: 256,849,280\n",
            "Non-trainable params: 128\n",
            "__________________________________________________________________________________________________\n"
          ]
        }
      ],
      "source": [
        "model.summary()"
      ]
    },
    {
      "cell_type": "code",
      "execution_count": 28,
      "id": "e670c2c9",
      "metadata": {
        "id": "e670c2c9"
      },
      "outputs": [],
      "source": [
        "model.compile(optimizer=\"adam\", loss = contrastive_loss, metrics = [tf.metrics.BinaryAccuracy()])"
      ]
    },
    {
      "cell_type": "code",
      "execution_count": 29,
      "id": "ce982823",
      "metadata": {
        "colab": {
          "base_uri": "https://localhost:8080/"
        },
        "id": "ce982823",
        "outputId": "6220938f-e975-45bf-cb87-ec224a1521d5"
      },
      "outputs": [
        {
          "output_type": "stream",
          "name": "stdout",
          "text": [
            "Epoch 1/30\n",
            "50/50 [==============================] - 17s 211ms/step - loss: 0.4707 - binary_accuracy: 0.3544 - val_loss: 0.4186 - val_binary_accuracy: 0.3203\n",
            "Epoch 2/30\n",
            "50/50 [==============================] - 11s 221ms/step - loss: 0.3101 - binary_accuracy: 0.1056 - val_loss: 0.3937 - val_binary_accuracy: 0.3094\n",
            "Epoch 3/30\n",
            "50/50 [==============================] - 10s 202ms/step - loss: 0.2649 - binary_accuracy: 0.0697 - val_loss: 0.3770 - val_binary_accuracy: 0.3469\n",
            "Epoch 4/30\n",
            "50/50 [==============================] - 10s 192ms/step - loss: 0.2320 - binary_accuracy: 0.0722 - val_loss: 0.3534 - val_binary_accuracy: 0.3266\n",
            "Epoch 5/30\n",
            "50/50 [==============================] - 10s 194ms/step - loss: 0.2033 - binary_accuracy: 0.0669 - val_loss: 0.3334 - val_binary_accuracy: 0.3281\n",
            "Epoch 6/30\n",
            "50/50 [==============================] - 10s 194ms/step - loss: 0.1754 - binary_accuracy: 0.0594 - val_loss: 0.3268 - val_binary_accuracy: 0.3344\n",
            "Epoch 7/30\n",
            "50/50 [==============================] - 10s 198ms/step - loss: 0.1542 - binary_accuracy: 0.0581 - val_loss: 0.3119 - val_binary_accuracy: 0.3281\n",
            "Epoch 8/30\n",
            "50/50 [==============================] - 10s 205ms/step - loss: 0.1396 - binary_accuracy: 0.0613 - val_loss: 0.3113 - val_binary_accuracy: 0.3438\n",
            "Epoch 9/30\n",
            "50/50 [==============================] - 11s 221ms/step - loss: 0.1316 - binary_accuracy: 0.0697 - val_loss: 0.3128 - val_binary_accuracy: 0.3391\n",
            "Epoch 10/30\n",
            "50/50 [==============================] - 10s 194ms/step - loss: 0.1182 - binary_accuracy: 0.0634 - val_loss: 0.3002 - val_binary_accuracy: 0.3391\n",
            "Epoch 11/30\n",
            "50/50 [==============================] - 10s 198ms/step - loss: 0.1080 - binary_accuracy: 0.0597 - val_loss: 0.2912 - val_binary_accuracy: 0.3438\n",
            "Epoch 12/30\n",
            "50/50 [==============================] - 10s 194ms/step - loss: 0.1052 - binary_accuracy: 0.0678 - val_loss: 0.2841 - val_binary_accuracy: 0.3375\n",
            "Epoch 13/30\n",
            "50/50 [==============================] - 10s 196ms/step - loss: 0.0983 - binary_accuracy: 0.0613 - val_loss: 0.2897 - val_binary_accuracy: 0.3344\n",
            "Epoch 14/30\n",
            "50/50 [==============================] - 11s 217ms/step - loss: 0.0957 - binary_accuracy: 0.0681 - val_loss: 0.2929 - val_binary_accuracy: 0.3359\n",
            "Epoch 15/30\n",
            "50/50 [==============================] - 11s 214ms/step - loss: 0.0911 - binary_accuracy: 0.0650 - val_loss: 0.2868 - val_binary_accuracy: 0.3328\n",
            "Epoch 16/30\n",
            "50/50 [==============================] - 10s 195ms/step - loss: 0.0859 - binary_accuracy: 0.0616 - val_loss: 0.3031 - val_binary_accuracy: 0.3672\n",
            "Epoch 17/30\n",
            "50/50 [==============================] - 10s 196ms/step - loss: 0.0859 - binary_accuracy: 0.0637 - val_loss: 0.2878 - val_binary_accuracy: 0.3500\n",
            "Epoch 18/30\n",
            "50/50 [==============================] - 11s 216ms/step - loss: 0.0863 - binary_accuracy: 0.0656 - val_loss: 0.2821 - val_binary_accuracy: 0.3469\n",
            "Epoch 19/30\n",
            "50/50 [==============================] - 11s 215ms/step - loss: 0.0855 - binary_accuracy: 0.0675 - val_loss: 0.2995 - val_binary_accuracy: 0.3500\n",
            "Epoch 20/30\n",
            "50/50 [==============================] - 10s 194ms/step - loss: 0.0850 - binary_accuracy: 0.0688 - val_loss: 0.3005 - val_binary_accuracy: 0.3594\n",
            "Epoch 21/30\n",
            "50/50 [==============================] - 11s 226ms/step - loss: 0.0813 - binary_accuracy: 0.0675 - val_loss: 0.2854 - val_binary_accuracy: 0.3422\n",
            "Epoch 22/30\n",
            "50/50 [==============================] - 10s 194ms/step - loss: 0.0760 - binary_accuracy: 0.0606 - val_loss: 0.2946 - val_binary_accuracy: 0.3453\n",
            "Epoch 23/30\n",
            "50/50 [==============================] - 10s 197ms/step - loss: 0.0788 - binary_accuracy: 0.0606 - val_loss: 0.2893 - val_binary_accuracy: 0.3562\n",
            "Epoch 24/30\n",
            "50/50 [==============================] - 10s 197ms/step - loss: 0.0783 - binary_accuracy: 0.0700 - val_loss: 0.2956 - val_binary_accuracy: 0.3469\n",
            "Epoch 25/30\n",
            "50/50 [==============================] - 10s 200ms/step - loss: 0.0749 - binary_accuracy: 0.0609 - val_loss: 0.3071 - val_binary_accuracy: 0.3406\n",
            "Epoch 26/30\n",
            "50/50 [==============================] - 10s 201ms/step - loss: 0.0769 - binary_accuracy: 0.0594 - val_loss: 0.2984 - val_binary_accuracy: 0.3438\n",
            "Epoch 27/30\n",
            "50/50 [==============================] - 12s 236ms/step - loss: 0.0795 - binary_accuracy: 0.0684 - val_loss: 0.2853 - val_binary_accuracy: 0.3406\n",
            "Epoch 28/30\n",
            "50/50 [==============================] - 10s 202ms/step - loss: 0.0748 - binary_accuracy: 0.0581 - val_loss: 0.3026 - val_binary_accuracy: 0.3438\n",
            "Epoch 29/30\n",
            "50/50 [==============================] - 10s 202ms/step - loss: 0.0777 - binary_accuracy: 0.0662 - val_loss: 0.3020 - val_binary_accuracy: 0.3484\n",
            "Epoch 30/30\n",
            "50/50 [==============================] - 10s 202ms/step - loss: 0.0748 - binary_accuracy: 0.0634 - val_loss: 0.3013 - val_binary_accuracy: 0.3469\n"
          ]
        }
      ],
      "source": [
        "loss_history = model.fit(siam_gen([df[\"texts\"], df[\"reason\"]], 64), \n",
        "                         validation_data = siam_gen([df_test[\"text\"], df_test[\"reason\"]], 64),\n",
        "                         steps_per_epoch=50, validation_steps=10, epochs = 30, \n",
        "                         verbose = True, use_multiprocessing=True)"
      ]
    },
    {
      "cell_type": "code",
      "execution_count": 32,
      "id": "d045fbf0",
      "metadata": {
        "id": "d045fbf0",
        "outputId": "217c2c95-0254-4f98-dd33-e080bc5bce09",
        "colab": {
          "base_uri": "https://localhost:8080/"
        }
      },
      "outputs": [
        {
          "output_type": "execute_result",
          "data": {
            "text/plain": [
              "0.9809732894255397"
            ]
          },
          "metadata": {},
          "execution_count": 32
        }
      ],
      "source": [
        "y_preds = model.predict([df[\"texts\"], df[\"reason\"]])\n",
        "accuracy(df[\"label\"],y_preds)"
      ]
    },
    {
      "cell_type": "code",
      "execution_count": 33,
      "id": "f7750ac3",
      "metadata": {
        "id": "f7750ac3",
        "outputId": "c55ae827-aa1f-4524-e57d-491aed1b9c7d",
        "colab": {
          "base_uri": "https://localhost:8080/"
        }
      },
      "outputs": [
        {
          "output_type": "execute_result",
          "data": {
            "text/plain": [
              "0.5971111111111111"
            ]
          },
          "metadata": {},
          "execution_count": 33
        }
      ],
      "source": [
        "y_preds = model.predict([df_test[\"text\"], df_test[\"reason\"]])\n",
        "accuracy(df_test[\"label\"],y_preds)"
      ]
    },
    {
      "cell_type": "code",
      "execution_count": null,
      "id": "75001d57",
      "metadata": {
        "id": "75001d57"
      },
      "outputs": [],
      "source": [
        "model.save(\"models/useEUCL/\")"
      ]
    },
    {
      "cell_type": "code",
      "execution_count": null,
      "id": "affe5802",
      "metadata": {
        "id": "affe5802"
      },
      "outputs": [],
      "source": [
        ""
      ]
    },
    {
      "cell_type": "code",
      "execution_count": null,
      "id": "c8141287",
      "metadata": {
        "id": "c8141287"
      },
      "outputs": [],
      "source": [
        ""
      ]
    },
    {
      "cell_type": "code",
      "execution_count": null,
      "id": "932f4ab5",
      "metadata": {
        "id": "932f4ab5"
      },
      "outputs": [],
      "source": [
        ""
      ]
    },
    {
      "cell_type": "code",
      "execution_count": null,
      "id": "c69e979a",
      "metadata": {
        "id": "c69e979a"
      },
      "outputs": [],
      "source": [
        ""
      ]
    }
  ],
  "metadata": {
    "kernelspec": {
      "display_name": "mlAsgmt",
      "language": "python",
      "name": "mlasgmt"
    },
    "language_info": {
      "codemirror_mode": {
        "name": "ipython",
        "version": 3
      },
      "file_extension": ".py",
      "mimetype": "text/x-python",
      "name": "python",
      "nbconvert_exporter": "python",
      "pygments_lexer": "ipython3",
      "version": "3.7.9"
    },
    "colab": {
      "name": "useEUCL-checkpoint.ipynb",
      "provenance": []
    },
    "accelerator": "GPU",
    "gpuClass": "standard"
  },
  "nbformat": 4,
  "nbformat_minor": 5
}