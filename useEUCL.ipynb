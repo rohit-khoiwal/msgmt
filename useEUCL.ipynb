{
  "cells": [
    {
      "cell_type": "code",
      "source": [
        "import pandas as pd"
      ],
      "metadata": {
        "id": "AbEr8_iRY4zk"
      },
      "id": "AbEr8_iRY4zk",
      "execution_count": 1,
      "outputs": []
    },
    {
      "cell_type": "code",
      "source": [
        "from google.colab import drive\n",
        "drive.mount('/content/drive')"
      ],
      "metadata": {
        "id": "DVGLnXt3Zn_5",
        "outputId": "8e564ec7-bb2a-469f-e0e1-ef80fed22bd4",
        "colab": {
          "base_uri": "https://localhost:8080/"
        }
      },
      "id": "DVGLnXt3Zn_5",
      "execution_count": 2,
      "outputs": [
        {
          "output_type": "stream",
          "name": "stdout",
          "text": [
            "Mounted at /content/drive\n"
          ]
        }
      ]
    },
    {
      "cell_type": "code",
      "source": [
        "%cd /content/drive/MyDrive/Github/"
      ],
      "metadata": {
        "id": "qGTOM17bZxGE",
        "outputId": "458440b8-166a-4ec3-94bd-64688393ea6c",
        "colab": {
          "base_uri": "https://localhost:8080/"
        }
      },
      "id": "qGTOM17bZxGE",
      "execution_count": 3,
      "outputs": [
        {
          "output_type": "stream",
          "name": "stdout",
          "text": [
            "/content/drive/MyDrive/Github\n"
          ]
        }
      ]
    },
    {
      "cell_type": "code",
      "source": [
        "!git pull https://github.com/rohit-khoiwal-30/msgmt.git"
      ],
      "metadata": {
        "colab": {
          "base_uri": "https://localhost:8080/"
        },
        "id": "L52QxQc6ZINc",
        "outputId": "362c4af9-99ad-4139-e5d3-b428ce0adc53"
      },
      "id": "L52QxQc6ZINc",
      "execution_count": 4,
      "outputs": [
        {
          "output_type": "stream",
          "name": "stdout",
          "text": [
            "remote: Enumerating objects: 5, done.\u001b[K\n",
            "remote: Counting objects:  20% (1/5)\u001b[K\rremote: Counting objects:  40% (2/5)\u001b[K\rremote: Counting objects:  60% (3/5)\u001b[K\rremote: Counting objects:  80% (4/5)\u001b[K\rremote: Counting objects: 100% (5/5)\u001b[K\rremote: Counting objects: 100% (5/5), done.\u001b[K\n",
            "remote: Compressing objects:  33% (1/3)\u001b[K\rremote: Compressing objects:  66% (2/3)\u001b[K\rremote: Compressing objects: 100% (3/3)\u001b[K\rremote: Compressing objects: 100% (3/3), done.\u001b[K\n",
            "remote: Total 3 (delta 1), reused 0 (delta 0), pack-reused 0\u001b[K\n",
            "Unpacking objects: 100% (3/3), done.\n",
            "From https://github.com/rohit-khoiwal-30/msgmt\n",
            " * branch            HEAD       -> FETCH_HEAD\n",
            "Updating 2b5677b..d7f9235\n",
            "Fast-forward\n",
            " useCONCT.ipynb | 306 \u001b[32m++++++++++++++++++++++++++++++\u001b[m\u001b[31m---------------------------\u001b[m\n",
            " 1 file changed, 163 insertions(+), 143 deletions(-)\n"
          ]
        }
      ]
    },
    {
      "cell_type": "code",
      "source": [
        "df = pd.read_csv(\"augment_train.csv\")\n",
        "df_test = pd.read_csv(\"evaluation.csv\")"
      ],
      "metadata": {
        "id": "QEMF6nTiY6yk"
      },
      "id": "QEMF6nTiY6yk",
      "execution_count": 5,
      "outputs": []
    },
    {
      "cell_type": "code",
      "execution_count": 6,
      "id": "105eaf9a",
      "metadata": {
        "id": "105eaf9a",
        "outputId": "8c03076a-1c11-4d42-8982-ab9720519c0d",
        "colab": {
          "base_uri": "https://localhost:8080/"
        }
      },
      "outputs": [
        {
          "output_type": "stream",
          "name": "stdout",
          "text": [
            "  Building wheel for keras-self-attention (setup.py) ... \u001b[?25l\u001b[?25hdone\n"
          ]
        }
      ],
      "source": [
        "import tensorflow as tf\n",
        "import tensorflow.keras.backend as K\n",
        "import tensorflow.keras.layers as tfl\n",
        "from tensorflow.keras.models import Model\n",
        "from tensorflow.keras.callbacks import ModelCheckpoint\n",
        "from tensorflow.keras import Input\n",
        "from keras.regularizers import l2\n",
        "\n",
        "try:\n",
        "    import tensorflow_hub as hub\n",
        "except ModuleNotFoundError:\n",
        "    %pip install -q tensorflow_hub\n",
        "    import tensorflow_hub as hub\n",
        "    \n",
        "try:\n",
        "    from keras_self_attention import SeqSelfAttention\n",
        "except ModuleNotFoundError:\n",
        "    %pip install -q keras-self-attention\n",
        "    from keras_self_attention import SeqSelfAttention\n",
        "\n",
        "import numpy as np\n",
        "\n",
        "import math as m"
      ]
    },
    {
      "cell_type": "code",
      "execution_count": 7,
      "id": "8b9b678b",
      "metadata": {
        "id": "8b9b678b"
      },
      "outputs": [],
      "source": [
        "huburl = \"https://tfhub.dev/google/universal-sentence-encoder/4\" \n",
        "fine_tuned_module_object = hub.load(huburl)"
      ]
    },
    {
      "cell_type": "code",
      "execution_count": 8,
      "id": "722fb270",
      "metadata": {
        "id": "722fb270"
      },
      "outputs": [],
      "source": [
        "def gen_random_batch(in_groups, batch_halfsize = 8):\n",
        "    text_batch, reason_batch, y_hat = [], [], []\n",
        "    all_groups = list(range(in_groups[0].shape[0]))\n",
        "    for match_group in [True, False]:\n",
        "        group_idx = np.random.choice(all_groups, size = batch_halfsize)\n",
        "        text_batch += [in_groups[0][c_idx] for c_idx in group_idx]\n",
        "        if match_group:\n",
        "            b_group_idx = group_idx\n",
        "            y_hat += [1]*batch_halfsize\n",
        "        else:\n",
        "            # anything but the same group\n",
        "            non_group_idx = [np.random.choice([i for i in all_groups if i!=c_idx]) for c_idx in group_idx] \n",
        "            b_group_idx = non_group_idx\n",
        "            y_hat += [0]*batch_halfsize\n",
        "            \n",
        "        reason_batch += [in_groups[1][c_idx] for c_idx in b_group_idx]\n",
        "            \n",
        "    return np.stack(text_batch, 0), np.stack(reason_batch, 0), np.stack(y_hat, 0)\n",
        "\n",
        "def siam_gen(in_groups, batch_size = 32):\n",
        "    while True:\n",
        "        text_stack, reason_stack, y_hatstack = gen_random_batch(in_groups, batch_size//2)\n",
        "        yield [text_stack, reason_stack], y_hatstack\n",
        "\n",
        "def euclidean_distance(vectors):\n",
        "    (featsA, featsB) = vectors\n",
        "    sumSquared = K.sum(K.square(featsA - featsB), axis=1, keepdims=True)\n",
        "    return K.sqrt(K.maximum(sumSquared, K.epsilon()))\n",
        "\n",
        "def contrastive_loss(y, preds, margin=1):\n",
        "    # explicitly cast the true class label data type to the predicted\n",
        "    # class label data type (otherwise we run the risk of having two\n",
        "    # separate data types, causing TensorFlow to error out)\n",
        "    y = tf.cast(y, preds.dtype)\n",
        "    # calculate the contrastive loss between the true labels and\n",
        "    # the predicted labels\n",
        "    squaredPreds = K.square(preds)\n",
        "    squaredMargin = K.square(K.maximum(margin - preds, 0))\n",
        "    loss = K.mean(y * squaredPreds + (1 - y) * squaredMargin)\n",
        "    return loss"
      ]
    },
    {
      "cell_type": "code",
      "execution_count": 9,
      "id": "7cd865e0",
      "metadata": {
        "id": "7cd865e0"
      },
      "outputs": [],
      "source": [
        "def accuracy(y_true, y_pred):\n",
        "    results = (y_pred >= 0.5).astype(int).squeeze()\n",
        "    return np.mean([y_true == results])"
      ]
    },
    {
      "cell_type": "code",
      "execution_count": 10,
      "id": "3b213f5b",
      "metadata": {
        "id": "3b213f5b"
      },
      "outputs": [],
      "source": [
        "def get_model():\n",
        "    shared_embedding_layer1 = hub.KerasLayer(fine_tuned_module_object, trainable=True, name=\"first\")\n",
        "    shared_embedding_layer2 = hub.KerasLayer(fine_tuned_module_object, trainable=True, name=\"second\")\n",
        "\n",
        "    left_input = tf.keras.Input(shape=(), dtype=tf.string)\n",
        "    right_input = tf.keras.Input(shape=(), dtype=tf.string)\n",
        "\n",
        "    embedding_left_output= shared_embedding_layer1(left_input)\n",
        "    a = tfl.Dropout(0.3)(embedding_left_output)\n",
        "    a = tfl.Dense(64, activation=\"linear\", kernel_regularizer=l2(1e-3))(a)\n",
        "    a = tfl.BatchNormalization()(a)\n",
        "    a = tfl.Activation('relu')(a)\n",
        "    a = tfl.Dropout(rate=0.2)(a)\n",
        "    a = tfl.Dense(32, activation=\"linear\", kernel_regularizer=l2(1e-3))(a)\n",
        "    a = tfl.Lambda(lambda x: K.l2_normalize(x,axis=-1))(a)\n",
        "\n",
        "    embedding_right_output= shared_embedding_layer2(right_input)\n",
        "    b = tfl.Dropout(0.3)(embedding_right_output)\n",
        "    b = tfl.Dense(32, activation=\"linear\", kernel_regularizer=l2(1e-3))(b)\n",
        "    b = tfl.Lambda(lambda x: K.l2_normalize(x,axis=-1))(b)\n",
        "\n",
        "    distance = tfl.Lambda(euclidean_distance)([a, b])\n",
        "    model = Model([left_input, right_input], distance)\n",
        "    return model"
      ]
    },
    {
      "cell_type": "code",
      "execution_count": 11,
      "id": "49246c10",
      "metadata": {
        "id": "49246c10"
      },
      "outputs": [],
      "source": [
        "model = get_model()"
      ]
    },
    {
      "cell_type": "code",
      "execution_count": 12,
      "id": "bda0b9b8",
      "metadata": {
        "colab": {
          "base_uri": "https://localhost:8080/"
        },
        "id": "bda0b9b8",
        "outputId": "4eb378c1-c3db-4e86-b04a-37cdf8e51773"
      },
      "outputs": [
        {
          "output_type": "stream",
          "name": "stdout",
          "text": [
            "Model: \"model\"\n",
            "__________________________________________________________________________________________________\n",
            " Layer (type)                   Output Shape         Param #     Connected to                     \n",
            "==================================================================================================\n",
            " input_1 (InputLayer)           [(None,)]            0           []                               \n",
            "                                                                                                  \n",
            " first (KerasLayer)             (None, 512)          256797824   ['input_1[0][0]']                \n",
            "                                                                                                  \n",
            " dropout (Dropout)              (None, 512)          0           ['first[0][0]']                  \n",
            "                                                                                                  \n",
            " dense (Dense)                  (None, 64)           32832       ['dropout[0][0]']                \n",
            "                                                                                                  \n",
            " batch_normalization (BatchNorm  (None, 64)          256         ['dense[0][0]']                  \n",
            " alization)                                                                                       \n",
            "                                                                                                  \n",
            " input_2 (InputLayer)           [(None,)]            0           []                               \n",
            "                                                                                                  \n",
            " activation (Activation)        (None, 64)           0           ['batch_normalization[0][0]']    \n",
            "                                                                                                  \n",
            " second (KerasLayer)            (None, 512)          256797824   ['input_2[0][0]']                \n",
            "                                                                                                  \n",
            " dropout_1 (Dropout)            (None, 64)           0           ['activation[0][0]']             \n",
            "                                                                                                  \n",
            " dropout_2 (Dropout)            (None, 512)          0           ['second[0][0]']                 \n",
            "                                                                                                  \n",
            " dense_1 (Dense)                (None, 32)           2080        ['dropout_1[0][0]']              \n",
            "                                                                                                  \n",
            " dense_2 (Dense)                (None, 32)           16416       ['dropout_2[0][0]']              \n",
            "                                                                                                  \n",
            " lambda (Lambda)                (None, 32)           0           ['dense_1[0][0]']                \n",
            "                                                                                                  \n",
            " lambda_1 (Lambda)              (None, 32)           0           ['dense_2[0][0]']                \n",
            "                                                                                                  \n",
            " lambda_2 (Lambda)              (None, 1)            0           ['lambda[0][0]',                 \n",
            "                                                                  'lambda_1[0][0]']               \n",
            "                                                                                                  \n",
            "==================================================================================================\n",
            "Total params: 256,849,408\n",
            "Trainable params: 256,849,280\n",
            "Non-trainable params: 128\n",
            "__________________________________________________________________________________________________\n"
          ]
        }
      ],
      "source": [
        "model.summary()"
      ]
    },
    {
      "cell_type": "code",
      "execution_count": 14,
      "id": "e670c2c9",
      "metadata": {
        "id": "e670c2c9"
      },
      "outputs": [],
      "source": [
        "model.compile(optimizer=tf.keras.optimizers.Adam(0.0001), loss = contrastive_loss, metrics = [tf.metrics.BinaryAccuracy()])"
      ]
    },
    {
      "cell_type": "code",
      "source": [
        "eval_df = df_test[df_test['label'] == 1]"
      ],
      "metadata": {
        "id": "3tIxMsnQ9J8q"
      },
      "id": "3tIxMsnQ9J8q",
      "execution_count": 15,
      "outputs": []
    },
    {
      "cell_type": "code",
      "execution_count": 30,
      "id": "ce982823",
      "metadata": {
        "colab": {
          "base_uri": "https://localhost:8080/"
        },
        "id": "ce982823",
        "outputId": "35e9871f-27a4-49f0-f126-59e8b41919b8"
      },
      "outputs": [
        {
          "output_type": "stream",
          "name": "stdout",
          "text": [
            "Epoch 1/30\n",
            "50/50 [==============================] - 15s 303ms/step - loss: 0.3292 - binary_accuracy: 0.3156 - val_loss: 0.3080 - val_binary_accuracy: 0.2969\n",
            "Epoch 2/30\n",
            "50/50 [==============================] - 9s 187ms/step - loss: 0.3251 - binary_accuracy: 0.3097 - val_loss: 0.3086 - val_binary_accuracy: 0.3016\n",
            "Epoch 3/30\n",
            "50/50 [==============================] - 10s 193ms/step - loss: 0.3244 - binary_accuracy: 0.3225 - val_loss: 0.3032 - val_binary_accuracy: 0.2875\n",
            "Epoch 4/30\n",
            "50/50 [==============================] - 10s 190ms/step - loss: 0.3207 - binary_accuracy: 0.3119 - val_loss: 0.3014 - val_binary_accuracy: 0.2937\n",
            "Epoch 5/30\n",
            "50/50 [==============================] - 10s 191ms/step - loss: 0.3206 - binary_accuracy: 0.3184 - val_loss: 0.2996 - val_binary_accuracy: 0.3016\n",
            "Epoch 6/30\n",
            "50/50 [==============================] - 9s 189ms/step - loss: 0.3138 - binary_accuracy: 0.3066 - val_loss: 0.2968 - val_binary_accuracy: 0.2922\n",
            "Epoch 7/30\n",
            "50/50 [==============================] - 10s 196ms/step - loss: 0.3106 - binary_accuracy: 0.2944 - val_loss: 0.2933 - val_binary_accuracy: 0.2859\n",
            "Epoch 8/30\n",
            "50/50 [==============================] - 10s 190ms/step - loss: 0.3089 - binary_accuracy: 0.3025 - val_loss: 0.2927 - val_binary_accuracy: 0.2906\n",
            "Epoch 9/30\n",
            "50/50 [==============================] - 10s 191ms/step - loss: 0.3081 - binary_accuracy: 0.3034 - val_loss: 0.2888 - val_binary_accuracy: 0.2797\n",
            "Epoch 10/30\n",
            "50/50 [==============================] - 9s 188ms/step - loss: 0.3058 - binary_accuracy: 0.3116 - val_loss: 0.2881 - val_binary_accuracy: 0.2875\n",
            "Epoch 11/30\n",
            "50/50 [==============================] - 10s 193ms/step - loss: 0.3004 - binary_accuracy: 0.2872 - val_loss: 0.2868 - val_binary_accuracy: 0.2891\n",
            "Epoch 12/30\n",
            "50/50 [==============================] - 10s 192ms/step - loss: 0.2992 - binary_accuracy: 0.2947 - val_loss: 0.2847 - val_binary_accuracy: 0.2875\n",
            "Epoch 13/30\n",
            "50/50 [==============================] - 11s 218ms/step - loss: 0.2937 - binary_accuracy: 0.2828 - val_loss: 0.2869 - val_binary_accuracy: 0.2953\n",
            "Epoch 14/30\n",
            "50/50 [==============================] - 9s 188ms/step - loss: 0.2968 - binary_accuracy: 0.2925 - val_loss: 0.2842 - val_binary_accuracy: 0.2891\n",
            "Epoch 15/30\n",
            "50/50 [==============================] - 9s 189ms/step - loss: 0.2909 - binary_accuracy: 0.2831 - val_loss: 0.2812 - val_binary_accuracy: 0.2891\n",
            "Epoch 16/30\n",
            "50/50 [==============================] - 10s 193ms/step - loss: 0.2915 - binary_accuracy: 0.2887 - val_loss: 0.2835 - val_binary_accuracy: 0.3078\n",
            "Epoch 17/30\n",
            "50/50 [==============================] - 10s 195ms/step - loss: 0.2882 - binary_accuracy: 0.2878 - val_loss: 0.2781 - val_binary_accuracy: 0.2828\n",
            "Epoch 18/30\n",
            "50/50 [==============================] - 10s 196ms/step - loss: 0.2836 - binary_accuracy: 0.2716 - val_loss: 0.2797 - val_binary_accuracy: 0.3016\n",
            "Epoch 19/30\n",
            "50/50 [==============================] - 10s 190ms/step - loss: 0.2806 - binary_accuracy: 0.2791 - val_loss: 0.2776 - val_binary_accuracy: 0.2891\n",
            "Epoch 20/30\n",
            "50/50 [==============================] - 10s 191ms/step - loss: 0.2794 - binary_accuracy: 0.2716 - val_loss: 0.2751 - val_binary_accuracy: 0.2953\n",
            "Epoch 21/30\n",
            "50/50 [==============================] - 10s 193ms/step - loss: 0.2768 - binary_accuracy: 0.2700 - val_loss: 0.2737 - val_binary_accuracy: 0.2937\n",
            "Epoch 22/30\n",
            "50/50 [==============================] - 10s 191ms/step - loss: 0.2700 - binary_accuracy: 0.2591 - val_loss: 0.2720 - val_binary_accuracy: 0.2906\n",
            "Epoch 23/30\n",
            "50/50 [==============================] - 10s 192ms/step - loss: 0.2732 - binary_accuracy: 0.2725 - val_loss: 0.2706 - val_binary_accuracy: 0.2969\n",
            "Epoch 24/30\n",
            "50/50 [==============================] - 10s 193ms/step - loss: 0.2683 - binary_accuracy: 0.2575 - val_loss: 0.2681 - val_binary_accuracy: 0.2937\n",
            "Epoch 25/30\n",
            "50/50 [==============================] - 11s 214ms/step - loss: 0.2615 - binary_accuracy: 0.2444 - val_loss: 0.2707 - val_binary_accuracy: 0.2969\n",
            "Epoch 26/30\n",
            "50/50 [==============================] - 11s 216ms/step - loss: 0.2650 - binary_accuracy: 0.2528 - val_loss: 0.2664 - val_binary_accuracy: 0.2844\n",
            "Epoch 27/30\n",
            "50/50 [==============================] - 10s 190ms/step - loss: 0.2617 - binary_accuracy: 0.2631 - val_loss: 0.2683 - val_binary_accuracy: 0.3000\n",
            "Epoch 28/30\n",
            "50/50 [==============================] - 9s 188ms/step - loss: 0.2555 - binary_accuracy: 0.2438 - val_loss: 0.2669 - val_binary_accuracy: 0.2937\n",
            "Epoch 29/30\n",
            "50/50 [==============================] - 9s 190ms/step - loss: 0.2587 - binary_accuracy: 0.2594 - val_loss: 0.2634 - val_binary_accuracy: 0.2953\n",
            "Epoch 30/30\n",
            "50/50 [==============================] - 9s 188ms/step - loss: 0.2532 - binary_accuracy: 0.2438 - val_loss: 0.2635 - val_binary_accuracy: 0.2937\n"
          ]
        }
      ],
      "source": [
        "loss_history = model.fit(siam_gen([df[\"clean_text\"], df[\"reason\"]], 64), \n",
        "                         validation_data = siam_gen([eval_df[\"clean_text\"].values, eval_df[\"reason\"].values], 64),\n",
        "                         steps_per_epoch=50, validation_steps=10, epochs = 30, \n",
        "                         verbose = True, use_multiprocessing=True)"
      ]
    },
    {
      "cell_type": "code",
      "execution_count": 42,
      "id": "d045fbf0",
      "metadata": {
        "id": "d045fbf0"
      },
      "outputs": [],
      "source": [
        "y_preds = model.predict([df[\"clean_text\"], df[\"reason\"]])\n",
        "y_preds = y_preds/max(y_preds)\n",
        "y_preds = 1 - y_preds"
      ]
    },
    {
      "cell_type": "code",
      "source": [
        "max(y_preds), min(y_preds)"
      ],
      "metadata": {
        "id": "qll-TnYxe1fu",
        "outputId": "5db198f7-4976-4a13-83d2-2e196e6a3f0d",
        "colab": {
          "base_uri": "https://localhost:8080/"
        }
      },
      "id": "qll-TnYxe1fu",
      "execution_count": 43,
      "outputs": [
        {
          "output_type": "execute_result",
          "data": {
            "text/plain": [
              "(array([0.9169201], dtype=float32), array([0.], dtype=float32))"
            ]
          },
          "metadata": {},
          "execution_count": 43
        }
      ]
    },
    {
      "cell_type": "code",
      "source": [
        "accuracy(df['label'], y_preds)"
      ],
      "metadata": {
        "id": "Y0au-m7t9j5t",
        "outputId": "03f0d81e-4926-4a03-cd69-210dfc9ec59a",
        "colab": {
          "base_uri": "https://localhost:8080/"
        }
      },
      "id": "Y0au-m7t9j5t",
      "execution_count": 44,
      "outputs": [
        {
          "output_type": "execute_result",
          "data": {
            "text/plain": [
              "0.898158311989267"
            ]
          },
          "metadata": {},
          "execution_count": 44
        }
      ]
    },
    {
      "cell_type": "code",
      "source": [
        "from sklearn.metrics import brier_score_loss as brier_loss\n",
        "from sklearn.metrics import precision_score\n",
        "from sklearn.metrics import recall_score\n",
        "from sklearn.metrics import f1_score\n",
        "from sklearn.metrics import roc_auc_score\n",
        "from sklearn.metrics import log_loss"
      ],
      "metadata": {
        "id": "xs3ARSgIctHR"
      },
      "id": "xs3ARSgIctHR",
      "execution_count": 45,
      "outputs": []
    },
    {
      "cell_type": "code",
      "source": [
        "y_hat = (y_preds >= 0.5).astype(int)"
      ],
      "metadata": {
        "id": "c9lb78Asfwwx"
      },
      "id": "c9lb78Asfwwx",
      "execution_count": 46,
      "outputs": []
    },
    {
      "cell_type": "code",
      "source": [
        "print(\"Brier Loss                       : \", brier_loss(df['label'], 1 - y_preds))\n",
        "print(\"Precision Score                  : \", precision_score(df['label'], y_hat))\n",
        "print(\"Recall Score                     : \", recall_score(df['label'], y_hat))\n",
        "print(\"F1 Score                         : \", f1_score(df['label'], y_hat))\n",
        "# print(\"Roc AUC Score                    : \", roc_auc_score(df['label'], y_preds))\n",
        "# print(\"BCE Loss                         : \", log_loss(df['label'], y_preds))"
      ],
      "metadata": {
        "id": "YeZ7S9XDctD4",
        "outputId": "86ff3d31-629d-43cb-952a-aec2c892c734",
        "colab": {
          "base_uri": "https://localhost:8080/"
        }
      },
      "id": "YeZ7S9XDctD4",
      "execution_count": 47,
      "outputs": [
        {
          "output_type": "stream",
          "name": "stdout",
          "text": [
            "Brier Loss                       :  0.4872207287488869\n",
            "Precision Score                  :  1.0\n",
            "Recall Score                     :  0.898158311989267\n",
            "F1 Score                         :  0.9463471053138856\n"
          ]
        }
      ]
    },
    {
      "cell_type": "code",
      "source": [
        ""
      ],
      "metadata": {
        "id": "jAG4H0tJctBI"
      },
      "id": "jAG4H0tJctBI",
      "execution_count": 47,
      "outputs": []
    },
    {
      "cell_type": "code",
      "source": [
        ""
      ],
      "metadata": {
        "id": "awDA94dWcs-m"
      },
      "id": "awDA94dWcs-m",
      "execution_count": 47,
      "outputs": []
    },
    {
      "cell_type": "code",
      "execution_count": 48,
      "id": "f7750ac3",
      "metadata": {
        "id": "f7750ac3"
      },
      "outputs": [],
      "source": [
        "y_preds = model.predict([df_test[\"clean_text\"], df_test[\"reason\"]])\n",
        "y_preds = y_preds/max(y_preds)\n",
        "y_preds = 1 - y_preds"
      ]
    },
    {
      "cell_type": "code",
      "source": [
        "max(y_preds), min(y_preds)"
      ],
      "metadata": {
        "id": "B6MVo7d-e5RU",
        "outputId": "670474dc-6af8-4452-d2b9-c6859e16f0b2",
        "colab": {
          "base_uri": "https://localhost:8080/"
        }
      },
      "id": "B6MVo7d-e5RU",
      "execution_count": 49,
      "outputs": [
        {
          "output_type": "execute_result",
          "data": {
            "text/plain": [
              "(array([0.9352132], dtype=float32), array([0.], dtype=float32))"
            ]
          },
          "metadata": {},
          "execution_count": 49
        }
      ]
    },
    {
      "cell_type": "code",
      "source": [
        "accuracy(df_test['label'], y_preds)"
      ],
      "metadata": {
        "id": "RFx_bd4M91JS",
        "outputId": "a0a4c0a2-2625-4946-a35b-e6a1036c28ae",
        "colab": {
          "base_uri": "https://localhost:8080/"
        }
      },
      "id": "RFx_bd4M91JS",
      "execution_count": 52,
      "outputs": [
        {
          "output_type": "execute_result",
          "data": {
            "text/plain": [
              "0.37855555555555553"
            ]
          },
          "metadata": {},
          "execution_count": 52
        }
      ]
    },
    {
      "cell_type": "code",
      "source": [
        "y_hat = (y_preds >= 0.5).astype(int)"
      ],
      "metadata": {
        "id": "sxQlfmbNgDZY"
      },
      "id": "sxQlfmbNgDZY",
      "execution_count": 53,
      "outputs": []
    },
    {
      "cell_type": "code",
      "source": [
        "print(\"Brier Loss                       : \", brier_loss(df_test['label'], y_preds))\n",
        "print(\"Precision Score                  : \", precision_score(df_test['label'], y_hat))\n",
        "print(\"Recall Score                     : \", recall_score(df_test['label'], y_hat))\n",
        "print(\"F1 Score                         : \", f1_score(df_test['label'], y_hat))\n",
        "print(\"Roc AUC Score                    : \", roc_auc_score(df_test['label'], y_preds))\n",
        "print(\"BCE Loss                         : \", log_loss(df_test['label'], y_preds))"
      ],
      "metadata": {
        "id": "s9QwrCrFe4pL",
        "outputId": "98486241-338e-44e4-89ad-138792dd8aaa",
        "colab": {
          "base_uri": "https://localhost:8080/"
        }
      },
      "id": "s9QwrCrFe4pL",
      "execution_count": 54,
      "outputs": [
        {
          "output_type": "stream",
          "name": "stdout",
          "text": [
            "Brier Loss                       :  0.36695016568645494\n",
            "Precision Score                  :  0.3454567135702361\n",
            "Recall Score                     :  0.9653448850383206\n",
            "F1 Score                         :  0.5088258540440854\n",
            "Roc AUC Score                    :  0.6184023284120607\n",
            "BCE Loss                         :  0.9764636291782889\n"
          ]
        }
      ]
    },
    {
      "cell_type": "code",
      "source": [
        "from sklearn.metrics import roc_curve, auc\n",
        "import matplotlib.pyplot as plt\n",
        "fpr, tpr, _ = roc_curve(df_test['label'], y_preds)\n",
        "roc_auc = auc(fpr, tpr)"
      ],
      "metadata": {
        "id": "VM6J1epce4lr"
      },
      "id": "VM6J1epce4lr",
      "execution_count": 55,
      "outputs": []
    },
    {
      "cell_type": "code",
      "source": [
        "plt.figure()\n",
        "lw = 2\n",
        "plt.plot(\n",
        "    fpr,\n",
        "    tpr,\n",
        "    color=\"darkorange\",\n",
        "    lw=lw,\n",
        "    label=\"ROC curve (area = %0.2f)\" % roc_auc\n",
        ")\n",
        "plt.plot([0, 1], [0, 1], color=\"navy\", lw=lw, linestyle=\"--\")\n",
        "plt.xlim([0.0, 1.0])\n",
        "plt.ylim([0.0, 1.05])\n",
        "plt.xlabel(\"False Positive Rate\")\n",
        "plt.ylabel(\"True Positive Rate\")\n",
        "plt.title(\"Receiver operating characteristic example\")\n",
        "plt.legend(loc=\"lower right\")\n",
        "plt.show()"
      ],
      "metadata": {
        "id": "03wvkuq_e4ja",
        "outputId": "285ac13b-f120-4acb-e104-cc66eea7ef78",
        "colab": {
          "base_uri": "https://localhost:8080/",
          "height": 295
        }
      },
      "id": "03wvkuq_e4ja",
      "execution_count": 56,
      "outputs": [
        {
          "output_type": "display_data",
          "data": {
            "text/plain": [
              "<Figure size 432x288 with 1 Axes>"
            ],
            "image/png": "[encoded data removed]"
          },
          "metadata": {
            "needs_background": "light"
          }
        }
      ]
    },
    {
      "cell_type": "code",
      "source": [
        "from numpy import asarray\n",
        "from numpy import savetxt\n",
        "# define data\n",
        "data1 = asarray([fpr])\n",
        "data2 = asarray([tpr])\n",
        "\n",
        "# save to csv file\n",
        "savetxt('roc/useCONCT/fprdata.csv', data1, delimiter=',')\n",
        "savetxt('roc/useCONCT/tprdata.csv', data2, delimiter=',')\n",
        "\n"
      ],
      "metadata": {
        "id": "Zv3yt6Fwe4g1"
      },
      "id": "Zv3yt6Fwe4g1",
      "execution_count": null,
      "outputs": []
    },
    {
      "cell_type": "code",
      "execution_count": null,
      "id": "75001d57",
      "metadata": {
        "id": "75001d57"
      },
      "outputs": [],
      "source": [
        "model.save(\"models/useEUCL/\")"
      ]
    },
    {
      "cell_type": "code",
      "execution_count": null,
      "id": "affe5802",
      "metadata": {
        "id": "affe5802"
      },
      "outputs": [],
      "source": [
        "Brier Loss                       :  0.31402411891819043\n",
        "Precision Score                  :  0.3515442352651655\n",
        "Recall Score                     :  0.9520159946684439\n",
        "F1 Score                         :  0.5134795111430626\n",
        "Roc AUC Score                    :  0.6291315685792128\n",
        "BCE Loss                         :  0.8344145754683866"
      ]
    },
    {
      "cell_type": "code",
      "execution_count": null,
      "id": "c8141287",
      "metadata": {
        "id": "c8141287"
      },
      "outputs": [],
      "source": [
        ""
      ]
    },
    {
      "cell_type": "code",
      "execution_count": null,
      "id": "932f4ab5",
      "metadata": {
        "id": "932f4ab5"
      },
      "outputs": [],
      "source": [
        ""
      ]
    },
    {
      "cell_type": "code",
      "execution_count": null,
      "id": "c69e979a",
      "metadata": {
        "id": "c69e979a"
      },
      "outputs": [],
      "source": [
        ""
      ]
    }
  ],
  "metadata": {
    "kernelspec": {
      "display_name": "mlAsgmt",
      "language": "python",
      "name": "mlasgmt"
    },
    "language_info": {
      "codemirror_mode": {
        "name": "ipython",
        "version": 3
      },
      "file_extension": ".py",
      "mimetype": "text/x-python",
      "name": "python",
      "nbconvert_exporter": "python",
      "pygments_lexer": "ipython3",
      "version": "3.7.9"
    },
    "colab": {
      "name": "useEUCL-checkpoint.ipynb",
      "provenance": []
    },
    "accelerator": "GPU",
    "gpuClass": "standard"
  },
  "nbformat": 4,
  "nbformat_minor": 5
}