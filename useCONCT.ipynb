{
  "cells": [
    {
      "cell_type": "code",
      "source": [
        "from google.colab import drive\n",
        "drive.mount('/content/drive')"
      ],
      "metadata": {
        "id": "ZS39YrCcAjGD",
        "outputId": "b10f7c8e-4f03-4ae5-f9e0-ec8dfdf183d3",
        "colab": {
          "base_uri": "https://localhost:8080/"
        }
      },
      "id": "ZS39YrCcAjGD",
      "execution_count": 1,
      "outputs": [
        {
          "output_type": "stream",
          "name": "stdout",
          "text": [
            "Mounted at /content/drive\n"
          ]
        }
      ]
    },
    {
      "cell_type": "code",
      "source": [
        "%cd /content/drive/MyDrive/Github/"
      ],
      "metadata": {
        "id": "uwcI-TsBAh_I",
        "outputId": "15032bb1-2224-4b8b-8be4-44e996084a9d",
        "colab": {
          "base_uri": "https://localhost:8080/"
        }
      },
      "id": "uwcI-TsBAh_I",
      "execution_count": 3,
      "outputs": [
        {
          "output_type": "stream",
          "name": "stdout",
          "text": [
            "/content/drive/MyDrive/Github\n"
          ]
        }
      ]
    },
    {
      "cell_type": "code",
      "source": [
        "!git pull https://github.com/rohit-khoiwal-30/msgmt.git"
      ],
      "metadata": {
        "id": "Jbsk8f1DBIY_",
        "outputId": "7d63bdc5-5724-4ff1-8036-b34d1f0c5fec",
        "colab": {
          "base_uri": "https://localhost:8080/"
        }
      },
      "id": "Jbsk8f1DBIY_",
      "execution_count": 6,
      "outputs": [
        {
          "output_type": "stream",
          "name": "stdout",
          "text": [
            "remote: Enumerating objects: 92, done.\u001b[K\n",
            "remote: Counting objects:   1% (1/92)\u001b[K\rremote: Counting objects:   2% (2/92)\u001b[K\rremote: Counting objects:   3% (3/92)\u001b[K\rremote: Counting objects:   4% (4/92)\u001b[K\rremote: Counting objects:   5% (5/92)\u001b[K\rremote: Counting objects:   6% (6/92)\u001b[K\rremote: Counting objects:   7% (7/92)\u001b[K\rremote: Counting objects:   8% (8/92)\u001b[K\rremote: Counting objects:   9% (9/92)\u001b[K\rremote: Counting objects:  10% (10/92)\u001b[K\rremote: Counting objects:  11% (11/92)\u001b[K\rremote: Counting objects:  13% (12/92)\u001b[K\rremote: Counting objects:  14% (13/92)\u001b[K\rremote: Counting objects:  15% (14/92)\u001b[K\rremote: Counting objects:  16% (15/92)\u001b[K\rremote: Counting objects:  17% (16/92)\u001b[K\rremote: Counting objects:  18% (17/92)\u001b[K\rremote: Counting objects:  19% (18/92)\u001b[K\rremote: Counting objects:  20% (19/92)\u001b[K\rremote: Counting objects:  21% (20/92)\u001b[K\rremote: Counting objects:  22% (21/92)\u001b[K\rremote: Counting objects:  23% (22/92)\u001b[K\rremote: Counting objects:  25% (23/92)\u001b[K\rremote: Counting objects:  26% (24/92)\u001b[K\rremote: Counting objects:  27% (25/92)\u001b[K\rremote: Counting objects:  28% (26/92)\u001b[K\rremote: Counting objects:  29% (27/92)\u001b[K\rremote: Counting objects:  30% (28/92)\u001b[K\rremote: Counting objects:  31% (29/92)\u001b[K\rremote: Counting objects:  32% (30/92)\u001b[K\rremote: Counting objects:  33% (31/92)\u001b[K\rremote: Counting objects:  34% (32/92)\u001b[K\rremote: Counting objects:  35% (33/92)\u001b[K\rremote: Counting objects:  36% (34/92)\u001b[K\rremote: Counting objects:  38% (35/92)\u001b[K\rremote: Counting objects:  39% (36/92)\u001b[K\rremote: Counting objects:  40% (37/92)\u001b[K\rremote: Counting objects:  41% (38/92)\u001b[K\rremote: Counting objects:  42% (39/92)\u001b[K\rremote: Counting objects:  43% (40/92)\u001b[K\rremote: Counting objects:  44% (41/92)\u001b[K\rremote: Counting objects:  45% (42/92)\u001b[K\rremote: Counting objects:  46% (43/92)\u001b[K\rremote: Counting objects:  47% (44/92)\u001b[K\rremote: Counting objects:  48% (45/92)\u001b[K\rremote: Counting objects:  50% (46/92)\u001b[K\rremote: Counting objects:  51% (47/92)\u001b[K\rremote: Counting objects:  52% (48/92)\u001b[K\rremote: Counting objects:  53% (49/92)\u001b[K\rremote: Counting objects:  54% (50/92)\u001b[K\rremote: Counting objects:  55% (51/92)\u001b[K\rremote: Counting objects:  56% (52/92)\u001b[K\rremote: Counting objects:  57% (53/92)\u001b[K\rremote: Counting objects:  58% (54/92)\u001b[K\rremote: Counting objects:  59% (55/92)\u001b[K\rremote: Counting objects:  60% (56/92)\u001b[K\rremote: Counting objects:  61% (57/92)\u001b[K\rremote: Counting objects:  63% (58/92)\u001b[K\rremote: Counting objects:  64% (59/92)\u001b[K\rremote: Counting objects:  65% (60/92)\u001b[K\rremote: Counting objects:  66% (61/92)\u001b[K\rremote: Counting objects:  67% (62/92)\u001b[K\rremote: Counting objects:  68% (63/92)\u001b[K\rremote: Counting objects:  69% (64/92)\u001b[K\rremote: Counting objects:  70% (65/92)\u001b[K\rremote: Counting objects:  71% (66/92)\u001b[K\rremote: Counting objects:  72% (67/92)\u001b[K\rremote: Counting objects:  73% (68/92)\u001b[K\rremote: Counting objects:  75% (69/92)\u001b[K\rremote: Counting objects:  76% (70/92)\u001b[K\rremote: Counting objects:  77% (71/92)\u001b[K\rremote: Counting objects:  78% (72/92)\u001b[K\rremote: Counting objects:  79% (73/92)\u001b[K\rremote: Counting objects:  80% (74/92)\u001b[K\rremote: Counting objects:  81% (75/92)\u001b[K\rremote: Counting objects:  82% (76/92)\u001b[K\rremote: Counting objects:  83% (77/92)\u001b[K\rremote: Counting objects:  84% (78/92)\u001b[K\rremote: Counting objects:  85% (79/92)\u001b[K\rremote: Counting objects:  86% (80/92)\u001b[K\rremote: Counting objects:  88% (81/92)\u001b[K\rremote: Counting objects:  89% (82/92)\u001b[K\rremote: Counting objects:  90% (83/92)\u001b[K\rremote: Counting objects:  91% (84/92)\u001b[K\rremote: Counting objects:  92% (85/92)\u001b[K\rremote: Counting objects:  93% (86/92)\u001b[K\rremote: Counting objects:  94% (87/92)\u001b[K\rremote: Counting objects:  95% (88/92)\u001b[K\rremote: Counting objects:  96% (89/92)\u001b[K\rremote: Counting objects:  97% (90/92)\u001b[K\rremote: Counting objects:  98% (91/92)\u001b[K\rremote: Counting objects: 100% (92/92)\u001b[K\rremote: Counting objects: 100% (92/92), done.\u001b[K\n",
            "remote: Compressing objects: 100% (73/73), done.\u001b[K\n",
            "remote: Total 92 (delta 59), reused 36 (delta 16), pack-reused 0\u001b[K\n",
            "Unpacking objects: 100% (92/92), done.\n",
            "From https://github.com/rohit-khoiwal-30/msgmt\n",
            " * branch            HEAD       -> FETCH_HEAD\n"
          ]
        }
      ]
    },
    {
      "cell_type": "code",
      "execution_count": 7,
      "id": "31f1d5b5",
      "metadata": {
        "id": "31f1d5b5"
      },
      "outputs": [],
      "source": [
        "import pandas as pd"
      ]
    },
    {
      "cell_type": "code",
      "execution_count": 8,
      "id": "a32b3efc",
      "metadata": {
        "id": "a32b3efc"
      },
      "outputs": [],
      "source": [
        "df = pd.read_csv(\"augment_train.csv\")\n",
        "df_test = pd.read_csv(\"evaluation.csv\")"
      ]
    },
    {
      "cell_type": "code",
      "execution_count": 9,
      "id": "60970f05",
      "metadata": {
        "id": "60970f05",
        "colab": {
          "base_uri": "https://localhost:8080/"
        },
        "outputId": "675ad817-b0ba-41e6-c74a-60fdf99217f6"
      },
      "outputs": [
        {
          "output_type": "stream",
          "name": "stdout",
          "text": [
            "Looking in indexes: https://pypi.org/simple, https://us-python.pkg.dev/colab-wheels/public/simple/\n",
            "Collecting keras-self-attention\n",
            "  Downloading keras-self-attention-0.51.0.tar.gz (11 kB)\n",
            "Requirement already satisfied: numpy in /usr/local/lib/python3.7/dist-packages (from keras-self-attention) (1.21.6)\n",
            "Building wheels for collected packages: keras-self-attention\n",
            "  Building wheel for keras-self-attention (setup.py) ... \u001b[?25l\u001b[?25hdone\n",
            "  Created wheel for keras-self-attention: filename=keras_self_attention-0.51.0-py3-none-any.whl size=18912 sha256=bceeae9f6a95b72a5ac37d7535bfe252ee79e18f57569baf21fda5010a5f2411\n",
            "  Stored in directory: /root/.cache/pip/wheels/95/b1/a8/5ee00cc137940b2f6fa198212e8f45d813d0e0d9c3a04035a3\n",
            "Successfully built keras-self-attention\n",
            "Installing collected packages: keras-self-attention\n",
            "Successfully installed keras-self-attention-0.51.0\n"
          ]
        }
      ],
      "source": [
        "import tensorflow as tf\n",
        "import tensorflow.keras.backend as K\n",
        "import tensorflow.keras.layers as tfl\n",
        "from tensorflow.keras.models import Model\n",
        "from tensorflow.keras.callbacks import ModelCheckpoint\n",
        "from tensorflow.keras import Input\n",
        "from tensorflow.keras.regularizers import l2\n",
        "from tensorflow.keras.optimizers import Adam\n",
        "\n",
        "try:\n",
        "    import tensorflow_hub as hub\n",
        "except ModuleNotFoundError:\n",
        "    %pip install tensorflow_hub\n",
        "    import tensorflow_hub as hub\n",
        "    \n",
        "try:\n",
        "    from keras_self_attention import SeqSelfAttention\n",
        "except ModuleNotFoundError:\n",
        "    %pip install keras-self-attention\n",
        "    from keras_self_attention import SeqSelfAttention\n",
        "\n",
        "import numpy as np\n",
        "\n",
        "\n",
        "# %pip install -q transformers\n",
        "# %pip install -q -U tensorflow-text\n",
        "# %pip install -q tf-models-official==2.7.0\n",
        "\n",
        "import math as m"
      ]
    },
    {
      "cell_type": "code",
      "execution_count": 10,
      "id": "39e6d422",
      "metadata": {
        "id": "39e6d422"
      },
      "outputs": [],
      "source": [
        "huburl = \"https://tfhub.dev/google/universal-sentence-encoder/4\" \n",
        "fine_tuned_module_object = hub.load(huburl)"
      ]
    },
    {
      "cell_type": "code",
      "execution_count": 11,
      "id": "722fb270",
      "metadata": {
        "id": "722fb270"
      },
      "outputs": [],
      "source": [
        "def gen_random_batch(in_groups, batch_halfsize = 8):\n",
        "    text_batch, reason_batch, y_hat = [], [], []\n",
        "    all_groups = list(range(in_groups[0].shape[0]))\n",
        "    for match_group in [True, False]:\n",
        "        group_idx = np.random.choice(all_groups, size = batch_halfsize)\n",
        "        text_batch += [in_groups[0][c_idx] for c_idx in group_idx]\n",
        "        if match_group:\n",
        "            b_group_idx = group_idx\n",
        "            y_hat += [1]*batch_halfsize\n",
        "        else:\n",
        "            # anything but the same group\n",
        "            non_group_idx = [np.random.choice([i for i in all_groups if i!=c_idx]) for c_idx in group_idx] \n",
        "            b_group_idx = non_group_idx\n",
        "            y_hat += [0]*batch_halfsize\n",
        "            \n",
        "        reason_batch += [in_groups[1][c_idx] for c_idx in b_group_idx]\n",
        "            \n",
        "    return np.stack(text_batch, 0), np.stack(reason_batch, 0), np.stack(y_hat, 0)\n",
        "\n",
        "def siam_gen(in_groups, batch_size = 32):\n",
        "    while True:\n",
        "        text_stack, reason_stack, y_hatstack = gen_random_batch(in_groups, batch_size//2)\n",
        "        yield [text_stack, reason_stack], y_hatstack"
      ]
    },
    {
      "cell_type": "code",
      "execution_count": 12,
      "id": "90747622",
      "metadata": {
        "id": "90747622"
      },
      "outputs": [],
      "source": [
        "def accuracy(y_true, y_pred):\n",
        "    results = (y_pred >= 0.5).astype(int).squeeze()\n",
        "    return np.mean([y_true == results])"
      ]
    },
    {
      "cell_type": "code",
      "execution_count": 14,
      "id": "8010b51c",
      "metadata": {
        "id": "8010b51c"
      },
      "outputs": [],
      "source": [
        "def encoder1(name):\n",
        "    inputs = Input(shape=(), dtype=tf.string)\n",
        "\n",
        "    shared_embedding_layer = hub.KerasLayer(fine_tuned_module_object, trainable=True, name=name)\n",
        "    embedding_output= shared_embedding_layer(inputs)\n",
        "    a = tfl.Dropout(0.3)(embedding_output)\n",
        "    a = tfl.Dense(128, activation=\"linear\", kernel_regularizer=l2(1e-3))(a)\n",
        "    a = tfl.BatchNormalization()(a)\n",
        "    a = tfl.Activation('relu')(a)\n",
        "    a = tfl.Dense(64, activation=\"linear\", kernel_regularizer=l2(1e-3))(a)\n",
        "    a = tfl.BatchNormalization()(a)\n",
        "    a = tfl.Activation('relu')(a)\n",
        "    a = tfl.Dense(32, activation=\"linear\", kernel_regularizer=l2(1e-3))(a)\n",
        "    a = tfl.BatchNormalization()(a)\n",
        "    outputs = tfl.Activation('relu')(a)\n",
        "    \n",
        "    model = Model(inputs, outputs)\n",
        "    return model\n",
        "\n",
        "def encoder2(name):\n",
        "    inputs = Input(shape=(), dtype=tf.string)\n",
        "\n",
        "    shared_embedding_layer = hub.KerasLayer(fine_tuned_module_object, trainable=True, name=name)\n",
        "    embedding_output= shared_embedding_layer(inputs)\n",
        "    a = tfl.Dropout(0.3)(embedding_output)\n",
        "    a = tfl.Dense(64, activation=\"linear\", kernel_regularizer=l2(1e-3))(a)\n",
        "    a = tfl.BatchNormalization()(a)\n",
        "    a = tfl.Activation('relu')(a)\n",
        "    a= tfl.Dense(32, activation=\"linear\", kernel_regularizer=l2(1e-3))(a)\n",
        "    a = tfl.BatchNormalization()(a)\n",
        "    outputs = tfl.Activation('relu')(a)\n",
        "    \n",
        "    model = Model(inputs, outputs)\n",
        "    return model"
      ]
    },
    {
      "cell_type": "code",
      "execution_count": 15,
      "id": "05b1e776",
      "metadata": {
        "id": "05b1e776"
      },
      "outputs": [],
      "source": [
        "def get_model():\n",
        "    #textEncoder\n",
        "    inputText = Input(shape=(), dtype=tf.string)\n",
        "    text_embedd = encoder1(\"textUSEencoder\")(inputText)\n",
        "\n",
        "    #reasonEncoder\n",
        "    inputReason = Input(shape=(), dtype=tf.string)\n",
        "    reason_embedd = encoder2(\"reasonUSEencoder\")(inputReason)\n",
        "\n",
        "    combined_features = tfl.concatenate([text_embedd, reason_embedd], name = 'merge_features')\n",
        "    print(combined_features.shape)\n",
        "    combined_features = tfl.Dropout(0.2)(combined_features)\n",
        "    combined_features = tfl.Dense(16, activation = 'linear', kernel_regularizer=l2(1e-3))(combined_features)\n",
        "    combined_features = tfl.BatchNormalization()(combined_features)\n",
        "    combined_features = tfl.Activation('relu')(combined_features)\n",
        "    combined_features = tfl.Dense(4, activation = 'linear', kernel_regularizer=l2(1e-3))(combined_features)\n",
        "    combined_features = tfl.BatchNormalization()(combined_features)\n",
        "    combined_features = tfl.Activation('relu')(combined_features)\n",
        "    combined_features = tfl.Dense(1, activation = 'sigmoid')(combined_features)\n",
        "    \n",
        "    model = Model(inputs = [inputText, inputReason], outputs = [combined_features], name=\"uceModel\")\n",
        "    return model"
      ]
    },
    {
      "cell_type": "code",
      "execution_count": 16,
      "id": "aa8fbcab",
      "metadata": {
        "id": "aa8fbcab",
        "outputId": "77955a54-9838-4242-d3e8-d60d1461d22e",
        "colab": {
          "base_uri": "https://localhost:8080/"
        }
      },
      "outputs": [
        {
          "output_type": "stream",
          "name": "stdout",
          "text": [
            "(None, 64)\n"
          ]
        }
      ],
      "source": [
        "model = get_model()"
      ]
    },
    {
      "cell_type": "code",
      "execution_count": 17,
      "id": "5f2012db",
      "metadata": {
        "id": "5f2012db",
        "outputId": "d38f2c51-90b5-40f3-ce30-15c7f9c92c64",
        "colab": {
          "base_uri": "https://localhost:8080/"
        }
      },
      "outputs": [
        {
          "output_type": "stream",
          "name": "stdout",
          "text": [
            "Model: \"uceModel\"\n",
            "__________________________________________________________________________________________________\n",
            " Layer (type)                   Output Shape         Param #     Connected to                     \n",
            "==================================================================================================\n",
            " input_1 (InputLayer)           [(None,)]            0           []                               \n",
            "                                                                                                  \n",
            " input_3 (InputLayer)           [(None,)]            0           []                               \n",
            "                                                                                                  \n",
            " model (Functional)             (None, 32)           256874720   ['input_1[0][0]']                \n",
            "                                                                                                  \n",
            " model_1 (Functional)           (None, 32)           256833120   ['input_3[0][0]']                \n",
            "                                                                                                  \n",
            " merge_features (Concatenate)   (None, 64)           0           ['model[0][0]',                  \n",
            "                                                                  'model_1[0][0]']                \n",
            "                                                                                                  \n",
            " dropout_2 (Dropout)            (None, 64)           0           ['merge_features[0][0]']         \n",
            "                                                                                                  \n",
            " dense_5 (Dense)                (None, 16)           1040        ['dropout_2[0][0]']              \n",
            "                                                                                                  \n",
            " batch_normalization_5 (BatchNo  (None, 16)          64          ['dense_5[0][0]']                \n",
            " rmalization)                                                                                     \n",
            "                                                                                                  \n",
            " activation_5 (Activation)      (None, 16)           0           ['batch_normalization_5[0][0]']  \n",
            "                                                                                                  \n",
            " dense_6 (Dense)                (None, 4)            68          ['activation_5[0][0]']           \n",
            "                                                                                                  \n",
            " batch_normalization_6 (BatchNo  (None, 4)           16          ['dense_6[0][0]']                \n",
            " rmalization)                                                                                     \n",
            "                                                                                                  \n",
            " activation_6 (Activation)      (None, 4)            0           ['batch_normalization_6[0][0]']  \n",
            "                                                                                                  \n",
            " dense_7 (Dense)                (None, 1)            5           ['activation_6[0][0]']           \n",
            "                                                                                                  \n",
            "==================================================================================================\n",
            "Total params: 256,911,209\n",
            "Trainable params: 256,910,529\n",
            "Non-trainable params: 680\n",
            "__________________________________________________________________________________________________\n"
          ]
        }
      ],
      "source": [
        "model.summary()"
      ]
    },
    {
      "cell_type": "code",
      "execution_count": 19,
      "id": "1f08cb06",
      "metadata": {
        "id": "1f08cb06"
      },
      "outputs": [],
      "source": [
        "model.compile(optimizer=tf.keras.optimizers.Adam(0.0003), loss = \"binary_crossentropy\", metrics = [tf.metrics.BinaryAccuracy()])"
      ]
    },
    {
      "cell_type": "code",
      "source": [
        "eval_df = df_test[df_test['label'] == 1]"
      ],
      "metadata": {
        "id": "H_RGrDGcaD8g"
      },
      "id": "H_RGrDGcaD8g",
      "execution_count": 20,
      "outputs": []
    },
    {
      "cell_type": "code",
      "execution_count": 37,
      "id": "e31e0c4e",
      "metadata": {
        "id": "e31e0c4e",
        "outputId": "60496e2e-ca82-4707-d752-4f848a24d127",
        "colab": {
          "base_uri": "https://localhost:8080/"
        }
      },
      "outputs": [
        {
          "output_type": "stream",
          "name": "stdout",
          "text": [
            "Epoch 1/10\n",
            "50/50 [==============================] - 14s 284ms/step - loss: 0.4865 - binary_accuracy: 0.8233 - val_loss: 0.7484 - val_binary_accuracy: 0.6695\n",
            "Epoch 2/10\n",
            "50/50 [==============================] - 12s 248ms/step - loss: 0.4781 - binary_accuracy: 0.8292 - val_loss: 0.7631 - val_binary_accuracy: 0.6648\n",
            "Epoch 3/10\n",
            "50/50 [==============================] - 13s 250ms/step - loss: 0.4747 - binary_accuracy: 0.8263 - val_loss: 0.7699 - val_binary_accuracy: 0.6656\n",
            "Epoch 4/10\n",
            "50/50 [==============================] - 13s 250ms/step - loss: 0.4688 - binary_accuracy: 0.8342 - val_loss: 0.7801 - val_binary_accuracy: 0.6516\n",
            "Epoch 5/10\n",
            "50/50 [==============================] - 13s 259ms/step - loss: 0.4662 - binary_accuracy: 0.8309 - val_loss: 0.7797 - val_binary_accuracy: 0.6531\n",
            "Epoch 6/10\n",
            "50/50 [==============================] - 16s 318ms/step - loss: 0.4576 - binary_accuracy: 0.8358 - val_loss: 0.7546 - val_binary_accuracy: 0.6633\n",
            "Epoch 7/10\n",
            "50/50 [==============================] - 13s 253ms/step - loss: 0.4670 - binary_accuracy: 0.8245 - val_loss: 0.7583 - val_binary_accuracy: 0.6656\n",
            "Epoch 8/10\n",
            "50/50 [==============================] - 16s 315ms/step - loss: 0.4512 - binary_accuracy: 0.8380 - val_loss: 0.7774 - val_binary_accuracy: 0.6555\n",
            "Epoch 9/10\n",
            "50/50 [==============================] - 15s 304ms/step - loss: 0.4486 - binary_accuracy: 0.8364 - val_loss: 0.7682 - val_binary_accuracy: 0.6547\n",
            "Epoch 10/10\n",
            "50/50 [==============================] - 15s 293ms/step - loss: 0.4398 - binary_accuracy: 0.8398 - val_loss: 0.7817 - val_binary_accuracy: 0.6523\n"
          ]
        }
      ],
      "source": [
        "loss_history = model.fit(siam_gen([df[\"clean_text\"], df[\"reason\"]], 128), \n",
        "                         validation_data = siam_gen([eval_df[\"clean_text\"].values, eval_df[\"reason\"].values], 128),\n",
        "                         steps_per_epoch=50, validation_steps=10, epochs = 10, \n",
        "                         verbose = True, use_multiprocessing=True)"
      ]
    },
    {
      "cell_type": "code",
      "source": [
        "from sklearn.metrics import brier_score_loss as brier_loss\n",
        "from sklearn.metrics import precision_score\n",
        "from sklearn.metrics import recall_score\n",
        "from sklearn.metrics import f1_score\n",
        "from sklearn.metrics import roc_auc_score\n",
        "from sklearn.metrics import log_loss"
      ],
      "metadata": {
        "id": "KknErpHnsoOK"
      },
      "id": "KknErpHnsoOK",
      "execution_count": 38,
      "outputs": []
    },
    {
      "cell_type": "code",
      "execution_count": 39,
      "id": "4e5cf29b",
      "metadata": {
        "id": "4e5cf29b",
        "outputId": "7961af29-7347-404c-b59a-3f9ec0851eb9",
        "colab": {
          "base_uri": "https://localhost:8080/"
        }
      },
      "outputs": [
        {
          "output_type": "execute_result",
          "data": {
            "text/plain": [
              "0.9747530186608123"
            ]
          },
          "metadata": {},
          "execution_count": 39
        }
      ],
      "source": [
        "y_preds = model.predict([df['clean_text'], df['reason']])\n",
        "accuracy(df['label'], y_preds)"
      ]
    },
    {
      "cell_type": "code",
      "source": [
        "y_hat = (y_preds >= 0.5).astype(int)"
      ],
      "metadata": {
        "id": "75DCUIxLtDaT"
      },
      "id": "75DCUIxLtDaT",
      "execution_count": 40,
      "outputs": []
    },
    {
      "cell_type": "code",
      "source": [
        "print(\"Brier Loss                       : \", brier_loss(df['label'], y_preds))\n",
        "print(\"Precision Score                  : \", precision_score(df['label'], y_hat))\n",
        "print(\"Recall Score                     : \", recall_score(df['label'], y_hat))\n",
        "print(\"F1 Score                         : \", f1_score(df['label'], y_hat))"
      ],
      "metadata": {
        "colab": {
          "base_uri": "https://localhost:8080/"
        },
        "id": "dIukxt3Jsl6s",
        "outputId": "53ae832f-52a7-4274-809e-e2b11f3dfa7f"
      },
      "id": "dIukxt3Jsl6s",
      "execution_count": 41,
      "outputs": [
        {
          "output_type": "stream",
          "name": "stdout",
          "text": [
            "Brier Loss                       :  0.05333907032766392\n",
            "Precision Score                  :  1.0\n",
            "Recall Score                     :  0.9747530186608123\n",
            "F1 Score                         :  0.9872151195108394\n"
          ]
        }
      ]
    },
    {
      "cell_type": "code",
      "execution_count": 42,
      "id": "b0dd41b8",
      "metadata": {
        "id": "b0dd41b8",
        "outputId": "d8652ad9-62fe-47ef-d393-3d64cc1312dd",
        "colab": {
          "base_uri": "https://localhost:8080/"
        }
      },
      "outputs": [
        {
          "output_type": "execute_result",
          "data": {
            "text/plain": [
              "0.5284444444444445"
            ]
          },
          "metadata": {},
          "execution_count": 42
        }
      ],
      "source": [
        "y_preds = model.predict([df_test['clean_text'], df_test['reason']])\n",
        "accuracy(df_test['label'], y_preds)"
      ]
    },
    {
      "cell_type": "code",
      "execution_count": 43,
      "id": "20d2fa6b",
      "metadata": {
        "id": "20d2fa6b"
      },
      "outputs": [],
      "source": [
        "y_hat = (y_preds >= 0.5).astype(int)"
      ]
    },
    {
      "cell_type": "code",
      "source": [
        "df_test['label']"
      ],
      "metadata": {
        "id": "vh18yMaTfh82",
        "outputId": "9b61dad7-8ca5-49ac-c6b7-f44a04b09de5",
        "colab": {
          "base_uri": "https://localhost:8080/"
        }
      },
      "id": "vh18yMaTfh82",
      "execution_count": 50,
      "outputs": [
        {
          "output_type": "execute_result",
          "data": {
            "text/plain": [
              "0       1.0\n",
              "1       0.0\n",
              "2       0.0\n",
              "3       0.0\n",
              "4       0.0\n",
              "       ... \n",
              "8995    1.0\n",
              "8996    0.0\n",
              "8997    0.0\n",
              "8998    0.0\n",
              "8999    0.0\n",
              "Name: label, Length: 9000, dtype: float64"
            ]
          },
          "metadata": {},
          "execution_count": 50
        }
      ]
    },
    {
      "cell_type": "code",
      "execution_count": 44,
      "id": "d1fed3c5",
      "metadata": {
        "id": "d1fed3c5",
        "colab": {
          "base_uri": "https://localhost:8080/"
        },
        "outputId": "0ab03424-65e9-4644-f81c-088fa82019de"
      },
      "outputs": [
        {
          "output_type": "stream",
          "name": "stdout",
          "text": [
            "Brier Loss                       :  0.3131002934482336\n",
            "Precision Score                  :  0.38091588426901707\n",
            "Recall Score                     :  0.6624458513828724\n",
            "F1 Score                         :  0.483698296836983\n",
            "Roc AUC Score                    :  0.578297399227762\n",
            "BCE Loss                         :  0.8875047654457804\n"
          ]
        }
      ],
      "source": [
        "print(\"Brier Loss                       : \", brier_loss(df_test['label'], y_preds))\n",
        "print(\"Precision Score                  : \", precision_score(df_test['label'], y_hat))\n",
        "print(\"Recall Score                     : \", recall_score(df_test['label'], y_hat))\n",
        "print(\"F1 Score                         : \", f1_score(df_test['label'], y_hat))\n",
        "print(\"Roc AUC Score                    : \", roc_auc_score(df_test['label'], y_preds))\n",
        "print(\"BCE Loss                         : \", log_loss(df_test['label'], y_preds))"
      ]
    },
    {
      "cell_type": "code",
      "source": [
        "from sklearn.metrics import roc_curve, auc\n",
        "import matplotlib.pyplot as plt\n",
        "fpr, tpr, _ = roc_curve(df_test['label'], y_preds)\n",
        "roc_auc = auc(fpr, tpr)"
      ],
      "metadata": {
        "id": "pHkP8ex0e2oY"
      },
      "id": "pHkP8ex0e2oY",
      "execution_count": 45,
      "outputs": []
    },
    {
      "cell_type": "code",
      "execution_count": 46,
      "id": "816cf323",
      "metadata": {
        "id": "816cf323",
        "outputId": "f2b5c64d-7fdd-41f8-ffcd-b8dfdda5fa61",
        "colab": {
          "base_uri": "https://localhost:8080/",
          "height": 295
        }
      },
      "outputs": [
        {
          "output_type": "display_data",
          "data": {
            "text/plain": [
              "<Figure size 432x288 with 1 Axes>"
            ],
            "image/png": "[encoded data removed]"
          },
          "metadata": {
            "needs_background": "light"
          }
        }
      ],
      "source": [
        "plt.figure()\n",
        "lw = 2\n",
        "plt.plot(\n",
        "    fpr,\n",
        "    tpr,\n",
        "    color=\"darkorange\",\n",
        "    lw=lw,\n",
        "    label=\"ROC curve (area = %0.2f)\" % roc_auc\n",
        ")\n",
        "plt.plot([0, 1], [0, 1], color=\"navy\", lw=lw, linestyle=\"--\")\n",
        "plt.xlim([0.0, 1.0])\n",
        "plt.ylim([0.0, 1.05])\n",
        "plt.xlabel(\"False Positive Rate\")\n",
        "plt.ylabel(\"True Positive Rate\")\n",
        "plt.title(\"Receiver operating characteristic example\")\n",
        "plt.legend(loc=\"lower right\")\n",
        "plt.show()"
      ]
    },
    {
      "cell_type": "code",
      "execution_count": null,
      "id": "2e3e2d20",
      "metadata": {
        "id": "2e3e2d20"
      },
      "outputs": [],
      "source": [
        "Brier Loss                       :  0.3203359289886762\n",
        "Precision Score                  :  0.39153871283894154\n",
        "Recall Score                     :  0.7987337554148617\n",
        "F1 Score                         :  0.5254850378165077\n",
        "Roc AUC Score                    :  0.6452798225451215\n",
        "BCE Loss                         :  0.9062959283337825\n"
      ]
    },
    {
      "cell_type": "code",
      "execution_count": null,
      "id": "65d02e67",
      "metadata": {
        "id": "65d02e67"
      },
      "outputs": [],
      "source": [
        ""
      ]
    }
  ],
  "metadata": {
    "kernelspec": {
      "display_name": "mlAsgmt",
      "language": "python",
      "name": "mlasgmt"
    },
    "language_info": {
      "codemirror_mode": {
        "name": "ipython",
        "version": 3
      },
      "file_extension": ".py",
      "mimetype": "text/x-python",
      "name": "python",
      "nbconvert_exporter": "python",
      "pygments_lexer": "ipython3",
      "version": "3.7.9"
    },
    "colab": {
      "name": "useCONCT -.ipynb",
      "provenance": []
    },
    "accelerator": "GPU",
    "gpuClass": "standard"
  },
  "nbformat": 4,
  "nbformat_minor": 5
}