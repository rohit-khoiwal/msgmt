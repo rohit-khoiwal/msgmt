{
  "cells": [
    {
      "cell_type": "code",
      "source": [
        "from google.colab import drive\n",
        "drive.mount('/content/drive')"
      ],
      "metadata": {
        "id": "ZS39YrCcAjGD",
        "outputId": "753d014a-fb65-45a0-a1cf-c5254e412e6b",
        "colab": {
          "base_uri": "https://localhost:8080/"
        }
      },
      "id": "ZS39YrCcAjGD",
      "execution_count": 1,
      "outputs": [
        {
          "output_type": "stream",
          "name": "stdout",
          "text": [
            "Mounted at /content/drive\n"
          ]
        }
      ]
    },
    {
      "cell_type": "code",
      "source": [
        "%cd /content/drive/MyDrive/Github/"
      ],
      "metadata": {
        "id": "uwcI-TsBAh_I",
        "outputId": "13555f7f-06b3-4a9f-fbdf-60ee9f2d7cf2",
        "colab": {
          "base_uri": "https://localhost:8080/"
        }
      },
      "id": "uwcI-TsBAh_I",
      "execution_count": 2,
      "outputs": [
        {
          "output_type": "stream",
          "name": "stdout",
          "text": [
            "/content/drive/MyDrive/Github\n"
          ]
        }
      ]
    },
    {
      "cell_type": "code",
      "source": [
        "!git pull https://github.com/rohit-khoiwal-30/msgmt.git"
      ],
      "metadata": {
        "id": "Jbsk8f1DBIY_",
        "outputId": "8667240b-c7f9-43e9-9575-28bc28244653",
        "colab": {
          "base_uri": "https://localhost:8080/"
        }
      },
      "id": "Jbsk8f1DBIY_",
      "execution_count": 3,
      "outputs": [
        {
          "output_type": "stream",
          "name": "stdout",
          "text": [
            "remote: Enumerating objects: 25, done.\u001b[K\n",
            "remote: Counting objects:   4% (1/25)\u001b[K\rremote: Counting objects:   8% (2/25)\u001b[K\rremote: Counting objects:  12% (3/25)\u001b[K\rremote: Counting objects:  16% (4/25)\u001b[K\rremote: Counting objects:  20% (5/25)\u001b[K\rremote: Counting objects:  24% (6/25)\u001b[K\rremote: Counting objects:  28% (7/25)\u001b[K\rremote: Counting objects:  32% (8/25)\u001b[K\rremote: Counting objects:  36% (9/25)\u001b[K\rremote: Counting objects:  40% (10/25)\u001b[K\rremote: Counting objects:  44% (11/25)\u001b[K\rremote: Counting objects:  48% (12/25)\u001b[K\rremote: Counting objects:  52% (13/25)\u001b[K\rremote: Counting objects:  56% (14/25)\u001b[K\rremote: Counting objects:  60% (15/25)\u001b[K\rremote: Counting objects:  64% (16/25)\u001b[K\rremote: Counting objects:  68% (17/25)\u001b[K\rremote: Counting objects:  72% (18/25)\u001b[K\rremote: Counting objects:  76% (19/25)\u001b[K\rremote: Counting objects:  80% (20/25)\u001b[K\rremote: Counting objects:  84% (21/25)\u001b[K\rremote: Counting objects:  88% (22/25)\u001b[K\rremote: Counting objects:  92% (23/25)\u001b[K\rremote: Counting objects:  96% (24/25)\u001b[K\rremote: Counting objects: 100% (25/25)\u001b[K\rremote: Counting objects: 100% (25/25), done.\u001b[K\n",
            "remote: Compressing objects: 100% (17/17), done.\u001b[K\n",
            "remote: Total 20 (delta 9), reused 5 (delta 1), pack-reused 0\u001b[K\n",
            "Unpacking objects: 100% (20/20), done.\n",
            "From https://github.com/rohit-khoiwal-30/msgmt\n",
            " * branch            HEAD       -> FETCH_HEAD\n",
            "Updating d5ca437..2b5677b\n",
            "Fast-forward\n",
            " bertCONCT.ipynb                          | 681 \u001b[32m+\u001b[m\u001b[31m------------------------------\u001b[m\n",
            " bertEUCL.ipynb                           | 344 \u001b[32m+++++++++++\u001b[m\u001b[31m-----\u001b[m\n",
            " bertTripleLoss.ipynb                     | 328 \u001b[32m+++++++++++\u001b[m\u001b[31m----\u001b[m\n",
            " roc/bertCONCT/New Text Document.txt      |   0\n",
            " roc/bertEUCL/New Text Document.txt       |   0\n",
            " roc/bertTripleLoss/New Text Document.txt |   0\n",
            " roc/useCONCT/New Text Document.txt       |   0\n",
            " roc/useEUCL/New Text Document.txt        |   0\n",
            " roc/useTripleLoss/New Text Document.txt  |   0\n",
            " useCONCT.ipynb                           | 393 \u001b[32m+++++++++\u001b[m\u001b[31m---------\u001b[m\n",
            " useTripleLoss .ipynb                     | 517 \u001b[32m+++++++++++++\u001b[m\u001b[31m----------\u001b[m\n",
            " 11 files changed, 992 insertions(+), 1271 deletions(-)\n",
            " create mode 100644 roc/bertCONCT/New Text Document.txt\n",
            " create mode 100644 roc/bertEUCL/New Text Document.txt\n",
            " create mode 100644 roc/bertTripleLoss/New Text Document.txt\n",
            " create mode 100644 roc/useCONCT/New Text Document.txt\n",
            " create mode 100644 roc/useEUCL/New Text Document.txt\n",
            " create mode 100644 roc/useTripleLoss/New Text Document.txt\n"
          ]
        }
      ]
    },
    {
      "cell_type": "code",
      "execution_count": 4,
      "id": "31f1d5b5",
      "metadata": {
        "id": "31f1d5b5"
      },
      "outputs": [],
      "source": [
        "import pandas as pd"
      ]
    },
    {
      "cell_type": "code",
      "execution_count": 5,
      "id": "a32b3efc",
      "metadata": {
        "id": "a32b3efc"
      },
      "outputs": [],
      "source": [
        "df = pd.read_csv(\"augment_train.csv\")\n",
        "df_test = pd.read_csv(\"evaluation.csv\")"
      ]
    },
    {
      "cell_type": "code",
      "execution_count": 6,
      "id": "60970f05",
      "metadata": {
        "id": "60970f05",
        "colab": {
          "base_uri": "https://localhost:8080/"
        },
        "outputId": "3f94de49-0867-4ccf-83a1-6244432a78cc"
      },
      "outputs": [
        {
          "output_type": "stream",
          "name": "stdout",
          "text": [
            "Looking in indexes: https://pypi.org/simple, https://us-python.pkg.dev/colab-wheels/public/simple/\n",
            "Collecting keras-self-attention\n",
            "  Downloading keras-self-attention-0.51.0.tar.gz (11 kB)\n",
            "Requirement already satisfied: numpy in /usr/local/lib/python3.7/dist-packages (from keras-self-attention) (1.21.6)\n",
            "Building wheels for collected packages: keras-self-attention\n",
            "  Building wheel for keras-self-attention (setup.py) ... \u001b[?25l\u001b[?25hdone\n",
            "  Created wheel for keras-self-attention: filename=keras_self_attention-0.51.0-py3-none-any.whl size=18912 sha256=e2694fadc930eec5083140c56e175c42f44228b05cd671decc57dfb0a62eb1c2\n",
            "  Stored in directory: /root/.cache/pip/wheels/95/b1/a8/5ee00cc137940b2f6fa198212e8f45d813d0e0d9c3a04035a3\n",
            "Successfully built keras-self-attention\n",
            "Installing collected packages: keras-self-attention\n",
            "Successfully installed keras-self-attention-0.51.0\n"
          ]
        }
      ],
      "source": [
        "import tensorflow as tf\n",
        "import tensorflow.keras.backend as K\n",
        "import tensorflow.keras.layers as tfl\n",
        "from tensorflow.keras.models import Model\n",
        "from tensorflow.keras.callbacks import ModelCheckpoint\n",
        "from tensorflow.keras import Input\n",
        "from tensorflow.keras.regularizers import l2\n",
        "from tensorflow.keras.optimizers import Adam\n",
        "\n",
        "try:\n",
        "    import tensorflow_hub as hub\n",
        "except ModuleNotFoundError:\n",
        "    %pip install tensorflow_hub\n",
        "    import tensorflow_hub as hub\n",
        "    \n",
        "try:\n",
        "    from keras_self_attention import SeqSelfAttention\n",
        "except ModuleNotFoundError:\n",
        "    %pip install keras-self-attention\n",
        "    from keras_self_attention import SeqSelfAttention\n",
        "\n",
        "import numpy as np\n",
        "import math as m"
      ]
    },
    {
      "cell_type": "code",
      "execution_count": 7,
      "id": "39e6d422",
      "metadata": {
        "id": "39e6d422"
      },
      "outputs": [],
      "source": [
        "huburl = \"https://tfhub.dev/google/universal-sentence-encoder/4\" \n",
        "fine_tuned_module_object = hub.load(huburl)"
      ]
    },
    {
      "cell_type": "code",
      "execution_count": 8,
      "id": "722fb270",
      "metadata": {
        "id": "722fb270"
      },
      "outputs": [],
      "source": [
        "def gen_random_batch(in_groups, batch_halfsize = 8):\n",
        "    text_batch, reason_batch, y_hat = [], [], []\n",
        "    all_groups = list(range(in_groups[0].shape[0]))\n",
        "    for match_group in [True, False]:\n",
        "        group_idx = np.random.choice(all_groups, size = batch_halfsize)\n",
        "        text_batch += [in_groups[0][c_idx] for c_idx in group_idx]\n",
        "        if match_group:\n",
        "            b_group_idx = group_idx\n",
        "            y_hat += [1]*batch_halfsize\n",
        "        else:\n",
        "            # anything but the same group\n",
        "            non_group_idx = [np.random.choice([i for i in all_groups if i!=c_idx]) for c_idx in group_idx] \n",
        "            b_group_idx = non_group_idx\n",
        "            y_hat += [0]*batch_halfsize\n",
        "            \n",
        "        reason_batch += [in_groups[1][c_idx] for c_idx in b_group_idx]\n",
        "            \n",
        "    return np.stack(text_batch, 0), np.stack(reason_batch, 0), np.stack(y_hat, 0)\n",
        "\n",
        "def siam_gen(in_groups, batch_size = 32):\n",
        "    while True:\n",
        "        text_stack, reason_stack, y_hatstack = gen_random_batch(in_groups, batch_size//2)\n",
        "        yield [text_stack, reason_stack], y_hatstack"
      ]
    },
    {
      "cell_type": "code",
      "execution_count": 9,
      "id": "90747622",
      "metadata": {
        "id": "90747622"
      },
      "outputs": [],
      "source": [
        "def accuracy(y_true, y_pred):\n",
        "    results = (y_pred >= 0.5).astype(int).squeeze()\n",
        "    return np.mean([y_true == results])"
      ]
    },
    {
      "cell_type": "code",
      "execution_count": 10,
      "id": "8010b51c",
      "metadata": {
        "id": "8010b51c"
      },
      "outputs": [],
      "source": [
        "def encoder1(name):\n",
        "    inputs = Input(shape=(), dtype=tf.string)\n",
        "\n",
        "    shared_embedding_layer = hub.KerasLayer(fine_tuned_module_object, trainable=True, name=name)\n",
        "    embedding_output= shared_embedding_layer(inputs)\n",
        "    a = tfl.Dropout(0.3)(embedding_output)\n",
        "    a = tfl.Dense(128, activation=\"linear\", kernel_regularizer=l2(1e-3))(a)\n",
        "    a = tfl.BatchNormalization()(a)\n",
        "    a = tfl.Activation('relu')(a)\n",
        "    a = tfl.Dense(64, activation=\"linear\", kernel_regularizer=l2(1e-3))(a)\n",
        "    a = tfl.BatchNormalization()(a)\n",
        "    a = tfl.Activation('relu')(a)\n",
        "    a = tfl.Dense(32, activation=\"linear\", kernel_regularizer=l2(1e-3))(a)\n",
        "    a = tfl.BatchNormalization()(a)\n",
        "    outputs = tfl.Activation('relu')(a)\n",
        "    \n",
        "    model = Model(inputs, outputs)\n",
        "    return model\n",
        "\n",
        "def encoder2(name):\n",
        "    inputs = Input(shape=(), dtype=tf.string)\n",
        "\n",
        "    shared_embedding_layer = hub.KerasLayer(fine_tuned_module_object, trainable=True, name=name)\n",
        "    embedding_output= shared_embedding_layer(inputs)\n",
        "    a = tfl.Dropout(0.3)(embedding_output)\n",
        "    a = tfl.Dense(64, activation=\"linear\", kernel_regularizer=l2(1e-3))(a)\n",
        "    a = tfl.BatchNormalization()(a)\n",
        "    a = tfl.Activation('relu')(a)\n",
        "    a= tfl.Dense(32, activation=\"linear\", kernel_regularizer=l2(1e-3))(a)\n",
        "    a = tfl.BatchNormalization()(a)\n",
        "    outputs = tfl.Activation('relu')(a)\n",
        "    \n",
        "    model = Model(inputs, outputs)\n",
        "    return model"
      ]
    },
    {
      "cell_type": "code",
      "execution_count": 11,
      "id": "05b1e776",
      "metadata": {
        "id": "05b1e776"
      },
      "outputs": [],
      "source": [
        "def get_model():\n",
        "    #textEncoder\n",
        "    inputText = Input(shape=(), dtype=tf.string)\n",
        "    text_embedd = encoder1(\"textUSEencoder\")(inputText)\n",
        "\n",
        "    #reasonEncoder\n",
        "    inputReason = Input(shape=(), dtype=tf.string)\n",
        "    reason_embedd = encoder2(\"reasonUSEencoder\")(inputReason)\n",
        "\n",
        "    combined_features = tfl.concatenate([text_embedd, reason_embedd], name = 'merge_features')\n",
        "    combined_features = tfl.Dense(16, activation = 'linear', kernel_regularizer=l2(1e-3))(combined_features)\n",
        "    combined_features = tfl.BatchNormalization()(combined_features)\n",
        "    combined_features = tfl.Activation('relu')(combined_features)\n",
        "    combined_features = tfl.Dense(4, activation = 'linear', kernel_regularizer=l2(1e-3))(combined_features)\n",
        "    combined_features = tfl.BatchNormalization()(combined_features)\n",
        "    combined_features = tfl.Activation('relu')(combined_features)\n",
        "    combined_features = tfl.Dense(1, activation = 'sigmoid')(combined_features)\n",
        "    \n",
        "    model = Model(inputs = [inputText, inputReason], outputs = [combined_features], name=\"uceModel\")\n",
        "    return model"
      ]
    },
    {
      "cell_type": "code",
      "execution_count": 12,
      "id": "aa8fbcab",
      "metadata": {
        "id": "aa8fbcab"
      },
      "outputs": [],
      "source": [
        "model = get_model()"
      ]
    },
    {
      "cell_type": "code",
      "execution_count": 13,
      "id": "5f2012db",
      "metadata": {
        "id": "5f2012db",
        "outputId": "11dc84fe-4f86-4874-b0a2-a2d9e482e59a",
        "colab": {
          "base_uri": "https://localhost:8080/"
        }
      },
      "outputs": [
        {
          "output_type": "stream",
          "name": "stdout",
          "text": [
            "Model: \"uceModel\"\n",
            "__________________________________________________________________________________________________\n",
            " Layer (type)                   Output Shape         Param #     Connected to                     \n",
            "==================================================================================================\n",
            " input_1 (InputLayer)           [(None,)]            0           []                               \n",
            "                                                                                                  \n",
            " input_3 (InputLayer)           [(None,)]            0           []                               \n",
            "                                                                                                  \n",
            " model (Functional)             (None, 32)           256874720   ['input_1[0][0]']                \n",
            "                                                                                                  \n",
            " model_1 (Functional)           (None, 32)           256833120   ['input_3[0][0]']                \n",
            "                                                                                                  \n",
            " merge_features (Concatenate)   (None, 64)           0           ['model[0][0]',                  \n",
            "                                                                  'model_1[0][0]']                \n",
            "                                                                                                  \n",
            " dense_5 (Dense)                (None, 16)           1040        ['merge_features[0][0]']         \n",
            "                                                                                                  \n",
            " batch_normalization_5 (BatchNo  (None, 16)          64          ['dense_5[0][0]']                \n",
            " rmalization)                                                                                     \n",
            "                                                                                                  \n",
            " activation_5 (Activation)      (None, 16)           0           ['batch_normalization_5[0][0]']  \n",
            "                                                                                                  \n",
            " dense_6 (Dense)                (None, 4)            68          ['activation_5[0][0]']           \n",
            "                                                                                                  \n",
            " batch_normalization_6 (BatchNo  (None, 4)           16          ['dense_6[0][0]']                \n",
            " rmalization)                                                                                     \n",
            "                                                                                                  \n",
            " activation_6 (Activation)      (None, 4)            0           ['batch_normalization_6[0][0]']  \n",
            "                                                                                                  \n",
            " dense_7 (Dense)                (None, 1)            5           ['activation_6[0][0]']           \n",
            "                                                                                                  \n",
            "==================================================================================================\n",
            "Total params: 256,911,209\n",
            "Trainable params: 256,910,529\n",
            "Non-trainable params: 680\n",
            "__________________________________________________________________________________________________\n"
          ]
        }
      ],
      "source": [
        "model.summary()"
      ]
    },
    {
      "cell_type": "code",
      "execution_count": 14,
      "id": "1f08cb06",
      "metadata": {
        "id": "1f08cb06"
      },
      "outputs": [],
      "source": [
        "model.compile(optimizer=tf.keras.optimizers.Adam(0.0005), loss = \"binary_crossentropy\", metrics = [tf.metrics.BinaryAccuracy()])"
      ]
    },
    {
      "cell_type": "code",
      "source": [
        "eval_df = df_test[df_test['label'] == 1]"
      ],
      "metadata": {
        "id": "H_RGrDGcaD8g"
      },
      "id": "H_RGrDGcaD8g",
      "execution_count": 15,
      "outputs": []
    },
    {
      "cell_type": "code",
      "execution_count": 38,
      "id": "e31e0c4e",
      "metadata": {
        "id": "e31e0c4e",
        "outputId": "a1550652-c65f-47da-84cc-5a4de70b5144",
        "colab": {
          "base_uri": "https://localhost:8080/"
        }
      },
      "outputs": [
        {
          "output_type": "stream",
          "name": "stdout",
          "text": [
            "Epoch 1/30\n",
            "50/50 [==============================] - 10s 207ms/step - loss: 0.4480 - binary_accuracy: 0.8525 - val_loss: 0.7241 - val_binary_accuracy: 0.6953\n",
            "Epoch 2/30\n",
            "50/50 [==============================] - 11s 211ms/step - loss: 0.4358 - binary_accuracy: 0.8609 - val_loss: 0.7601 - val_binary_accuracy: 0.6812\n",
            "Epoch 3/30\n",
            "50/50 [==============================] - 10s 193ms/step - loss: 0.4407 - binary_accuracy: 0.8491 - val_loss: 0.7714 - val_binary_accuracy: 0.6953\n",
            "Epoch 4/30\n",
            "50/50 [==============================] - 10s 192ms/step - loss: 0.4166 - binary_accuracy: 0.8700 - val_loss: 0.7954 - val_binary_accuracy: 0.6953\n",
            "Epoch 5/30\n",
            "50/50 [==============================] - 10s 191ms/step - loss: 0.4017 - binary_accuracy: 0.8784 - val_loss: 0.7645 - val_binary_accuracy: 0.7078\n",
            "Epoch 6/30\n",
            "50/50 [==============================] - 10s 192ms/step - loss: 0.4102 - binary_accuracy: 0.8719 - val_loss: 0.7798 - val_binary_accuracy: 0.7016\n",
            "Epoch 7/30\n",
            "50/50 [==============================] - 10s 194ms/step - loss: 0.4117 - binary_accuracy: 0.8716 - val_loss: 0.7805 - val_binary_accuracy: 0.6953\n",
            "Epoch 8/30\n",
            "50/50 [==============================] - 10s 194ms/step - loss: 0.4054 - binary_accuracy: 0.8706 - val_loss: 0.8247 - val_binary_accuracy: 0.6969\n",
            "Epoch 9/30\n",
            "50/50 [==============================] - 10s 195ms/step - loss: 0.3783 - binary_accuracy: 0.8881 - val_loss: 0.7907 - val_binary_accuracy: 0.6781\n",
            "Epoch 10/30\n",
            "50/50 [==============================] - 10s 196ms/step - loss: 0.3903 - binary_accuracy: 0.8781 - val_loss: 0.7840 - val_binary_accuracy: 0.6891\n",
            "Epoch 11/30\n",
            "50/50 [==============================] - 10s 195ms/step - loss: 0.4030 - binary_accuracy: 0.8703 - val_loss: 0.7960 - val_binary_accuracy: 0.6875\n",
            "Epoch 12/30\n",
            "50/50 [==============================] - 10s 196ms/step - loss: 0.3717 - binary_accuracy: 0.8897 - val_loss: 0.8082 - val_binary_accuracy: 0.6844\n",
            "Epoch 13/30\n",
            "50/50 [==============================] - 10s 208ms/step - loss: 0.3810 - binary_accuracy: 0.8766 - val_loss: 0.8009 - val_binary_accuracy: 0.6891\n",
            "Epoch 14/30\n",
            "50/50 [==============================] - 11s 225ms/step - loss: 0.3840 - binary_accuracy: 0.8784 - val_loss: 0.8079 - val_binary_accuracy: 0.6906\n",
            "Epoch 15/30\n",
            "50/50 [==============================] - 10s 198ms/step - loss: 0.3697 - binary_accuracy: 0.8825 - val_loss: 0.8232 - val_binary_accuracy: 0.6781\n",
            "Epoch 16/30\n",
            "50/50 [==============================] - 10s 199ms/step - loss: 0.3653 - binary_accuracy: 0.8872 - val_loss: 0.7776 - val_binary_accuracy: 0.7156\n",
            "Epoch 17/30\n",
            "50/50 [==============================] - 10s 196ms/step - loss: 0.3589 - binary_accuracy: 0.8922 - val_loss: 0.8057 - val_binary_accuracy: 0.6875\n",
            "Epoch 18/30\n",
            "50/50 [==============================] - 10s 198ms/step - loss: 0.3660 - binary_accuracy: 0.8813 - val_loss: 0.7857 - val_binary_accuracy: 0.6984\n",
            "Epoch 19/30\n",
            "50/50 [==============================] - 10s 194ms/step - loss: 0.3528 - binary_accuracy: 0.8928 - val_loss: 0.7779 - val_binary_accuracy: 0.6984\n",
            "Epoch 20/30\n",
            "50/50 [==============================] - 10s 198ms/step - loss: 0.3636 - binary_accuracy: 0.8859 - val_loss: 0.7793 - val_binary_accuracy: 0.7031\n",
            "Epoch 21/30\n",
            "50/50 [==============================] - 10s 199ms/step - loss: 0.3563 - binary_accuracy: 0.8928 - val_loss: 0.7460 - val_binary_accuracy: 0.7203\n",
            "Epoch 22/30\n",
            "50/50 [==============================] - 10s 199ms/step - loss: 0.3403 - binary_accuracy: 0.8944 - val_loss: 0.7638 - val_binary_accuracy: 0.7047\n",
            "Epoch 23/30\n",
            "50/50 [==============================] - 10s 195ms/step - loss: 0.3466 - binary_accuracy: 0.8953 - val_loss: 0.8811 - val_binary_accuracy: 0.6719\n",
            "Epoch 24/30\n",
            "50/50 [==============================] - 10s 200ms/step - loss: 0.3431 - binary_accuracy: 0.8969 - val_loss: 0.8284 - val_binary_accuracy: 0.6906\n",
            "Epoch 25/30\n",
            "50/50 [==============================] - 11s 211ms/step - loss: 0.3200 - binary_accuracy: 0.9081 - val_loss: 0.8740 - val_binary_accuracy: 0.6875\n",
            "Epoch 26/30\n",
            "50/50 [==============================] - 12s 231ms/step - loss: 0.3478 - binary_accuracy: 0.8903 - val_loss: 0.8468 - val_binary_accuracy: 0.6969\n",
            "Epoch 27/30\n",
            "50/50 [==============================] - 10s 200ms/step - loss: 0.3378 - binary_accuracy: 0.8966 - val_loss: 0.8134 - val_binary_accuracy: 0.7000\n",
            "Epoch 28/30\n",
            "50/50 [==============================] - 10s 199ms/step - loss: 0.3491 - binary_accuracy: 0.8897 - val_loss: 0.8323 - val_binary_accuracy: 0.7094\n",
            "Epoch 29/30\n",
            "50/50 [==============================] - 10s 198ms/step - loss: 0.3400 - binary_accuracy: 0.8941 - val_loss: 0.7662 - val_binary_accuracy: 0.7094\n",
            "Epoch 30/30\n",
            "50/50 [==============================] - 10s 199ms/step - loss: 0.3362 - binary_accuracy: 0.8944 - val_loss: 0.8035 - val_binary_accuracy: 0.7063\n"
          ]
        }
      ],
      "source": [
        "loss_history = model.fit(siam_gen([df[\"clean_text\"], df[\"reason\"]], 64), \n",
        "                         validation_data = siam_gen([eval_df[\"clean_text\"].values, eval_df[\"reason\"].values], 64),\n",
        "                         steps_per_epoch=50, validation_steps=10, epochs = 30, \n",
        "                         verbose = True, use_multiprocessing=True)"
      ]
    },
    {
      "cell_type": "code",
      "source": [
        "from sklearn.metrics import brier_score_loss as brier_loss\n",
        "from sklearn.metrics import precision_score\n",
        "from sklearn.metrics import recall_score\n",
        "from sklearn.metrics import f1_score\n",
        "from sklearn.metrics import roc_auc_score\n",
        "from sklearn.metrics import log_loss"
      ],
      "metadata": {
        "id": "KknErpHnsoOK"
      },
      "id": "KknErpHnsoOK",
      "execution_count": 39,
      "outputs": []
    },
    {
      "cell_type": "code",
      "execution_count": 40,
      "id": "4e5cf29b",
      "metadata": {
        "id": "4e5cf29b",
        "outputId": "f0b404d6-74c1-404d-8e0a-8f3586a06dfe",
        "colab": {
          "base_uri": "https://localhost:8080/"
        }
      },
      "outputs": [
        {
          "output_type": "execute_result",
          "data": {
            "text/plain": [
              "0.9660934260275643"
            ]
          },
          "metadata": {},
          "execution_count": 40
        }
      ],
      "source": [
        "y_preds = model.predict([df['clean_text'], df['reason']])\n",
        "accuracy(df['label'], y_preds)"
      ]
    },
    {
      "cell_type": "code",
      "source": [
        "y_hat = (y_preds >= 0.5).astype(int)"
      ],
      "metadata": {
        "id": "75DCUIxLtDaT"
      },
      "id": "75DCUIxLtDaT",
      "execution_count": 41,
      "outputs": []
    },
    {
      "cell_type": "code",
      "source": [
        "print(\"Brier Loss                       : \", brier_loss(df['label'], y_preds))\n",
        "print(\"Precision Score                  : \", precision_score(df['label'], y_hat))\n",
        "print(\"Recall Score                     : \", recall_score(df['label'], y_hat))\n",
        "print(\"F1 Score                         : \", f1_score(df['label'], y_hat))"
      ],
      "metadata": {
        "colab": {
          "base_uri": "https://localhost:8080/"
        },
        "id": "dIukxt3Jsl6s",
        "outputId": "c5b6e612-dea8-4cfe-f721-39c1e5f21d68"
      },
      "id": "dIukxt3Jsl6s",
      "execution_count": 42,
      "outputs": [
        {
          "output_type": "stream",
          "name": "stdout",
          "text": [
            "Brier Loss                       :  0.03407497573880716\n",
            "Precision Score                  :  1.0\n",
            "Recall Score                     :  0.9660934260275643\n",
            "F1 Score                         :  0.9827543424317619\n"
          ]
        }
      ]
    },
    {
      "cell_type": "code",
      "execution_count": 43,
      "id": "b0dd41b8",
      "metadata": {
        "id": "b0dd41b8",
        "outputId": "3ecc59a9-3e72-4ca1-d73d-0dd0aec0e76e",
        "colab": {
          "base_uri": "https://localhost:8080/"
        }
      },
      "outputs": [
        {
          "output_type": "execute_result",
          "data": {
            "text/plain": [
              "0.5881111111111111"
            ]
          },
          "metadata": {},
          "execution_count": 43
        }
      ],
      "source": [
        "y_preds = model.predict([df_test['clean_text'], df_test['reason']])\n",
        "accuracy(df_test['label'], y_preds)"
      ]
    },
    {
      "cell_type": "code",
      "execution_count": 44,
      "id": "20d2fa6b",
      "metadata": {
        "id": "20d2fa6b"
      },
      "outputs": [],
      "source": [
        "y_hat = (y_preds >= 0.5).astype(int)"
      ]
    },
    {
      "cell_type": "code",
      "execution_count": 45,
      "id": "d1fed3c5",
      "metadata": {
        "id": "d1fed3c5",
        "colab": {
          "base_uri": "https://localhost:8080/"
        },
        "outputId": "c7163397-dfc3-4945-c859-1a7d81b4c274"
      },
      "outputs": [
        {
          "output_type": "stream",
          "name": "stdout",
          "text": [
            "Brier Loss                       :  0.2988943832393271\n",
            "Precision Score                  :  0.42155555555555557\n",
            "Recall Score                     :  0.6321226257914029\n",
            "F1 Score                         :  0.5057992267697641\n",
            "Roc AUC Score                    :  0.6393600866166799\n",
            "BCE Loss                         :  0.9187629147683628\n"
          ]
        }
      ],
      "source": [
        "print(\"Brier Loss                       : \", brier_loss(df_test['label'], y_preds))\n",
        "print(\"Precision Score                  : \", precision_score(df_test['label'], y_hat))\n",
        "print(\"Recall Score                     : \", recall_score(df_test['label'], y_hat))\n",
        "print(\"F1 Score                         : \", f1_score(df_test['label'], y_hat))\n",
        "print(\"Roc AUC Score                    : \", roc_auc_score(df_test['label'], y_preds))\n",
        "print(\"BCE Loss                         : \", log_loss(df_test['label'], y_preds))"
      ]
    },
    {
      "cell_type": "code",
      "source": [
        "from sklearn.metrics import roc_curve, auc\n",
        "import matplotlib.pyplot as plt\n",
        "fpr, tpr, _ = roc_curve(df_test['label'], y_preds)\n",
        "roc_auc = auc(fpr, tpr)"
      ],
      "metadata": {
        "id": "pHkP8ex0e2oY"
      },
      "id": "pHkP8ex0e2oY",
      "execution_count": 46,
      "outputs": []
    },
    {
      "cell_type": "code",
      "execution_count": 47,
      "id": "816cf323",
      "metadata": {
        "id": "816cf323",
        "outputId": "65a503c8-4211-4681-9ead-59cafb1538e9",
        "colab": {
          "base_uri": "https://localhost:8080/",
          "height": 295
        }
      },
      "outputs": [
        {
          "output_type": "display_data",
          "data": {
            "text/plain": [
              "<Figure size 432x288 with 1 Axes>"
            ],
            "image/png": "[encoded data removed]"
          },
          "metadata": {
            "needs_background": "light"
          }
        }
      ],
      "source": [
        "plt.figure()\n",
        "lw = 2\n",
        "plt.plot(\n",
        "    fpr,\n",
        "    tpr,\n",
        "    color=\"darkorange\",\n",
        "    lw=lw,\n",
        "    label=\"ROC curve (area = %0.2f)\" % roc_auc\n",
        ")\n",
        "plt.plot([0, 1], [0, 1], color=\"navy\", lw=lw, linestyle=\"--\")\n",
        "plt.xlim([0.0, 1.0])\n",
        "plt.ylim([0.0, 1.05])\n",
        "plt.xlabel(\"False Positive Rate\")\n",
        "plt.ylabel(\"True Positive Rate\")\n",
        "plt.title(\"Receiver operating characteristic example\")\n",
        "plt.legend(loc=\"lower right\")\n",
        "plt.show()"
      ]
    },
    {
      "cell_type": "code",
      "source": [
        "from numpy import asarray\n",
        "from numpy import savetxt\n",
        "# define data\n",
        "data1 = asarray([fpr])\n",
        "data2 = asarray([tpr])\n",
        "\n",
        "# save to csv file\n",
        "savetxt('roc/bertCONCT/fprdata.csv', data1, delimiter=',')\n",
        "savetxt('roc/bertCONCT/tprdata.csv', data2, delimiter=',')"
      ],
      "metadata": {
        "id": "aC5opj912nir"
      },
      "id": "aC5opj912nir",
      "execution_count": 29,
      "outputs": []
    },
    {
      "cell_type": "code",
      "execution_count": null,
      "id": "2e3e2d20",
      "metadata": {
        "id": "2e3e2d20"
      },
      "outputs": [],
      "source": [
        "Brier Loss                       :  0.3203359289886762\n",
        "Precision Score                  :  0.39153871283894154\n",
        "Recall Score                     :  0.7987337554148617\n",
        "F1 Score                         :  0.5254850378165077\n",
        "Roc AUC Score                    :  0.6452798225451215\n",
        "BCE Loss                         :  0.9062959283337825\n"
      ]
    },
    {
      "cell_type": "code",
      "execution_count": null,
      "id": "65d02e67",
      "metadata": {
        "id": "65d02e67"
      },
      "outputs": [],
      "source": [
        ""
      ]
    }
  ],
  "metadata": {
    "kernelspec": {
      "display_name": "mlAsgmt",
      "language": "python",
      "name": "mlasgmt"
    },
    "language_info": {
      "codemirror_mode": {
        "name": "ipython",
        "version": 3
      },
      "file_extension": ".py",
      "mimetype": "text/x-python",
      "name": "python",
      "nbconvert_exporter": "python",
      "pygments_lexer": "ipython3",
      "version": "3.7.9"
    },
    "colab": {
      "name": "useCONCT -.ipynb",
      "provenance": []
    },
    "accelerator": "GPU",
    "gpuClass": "standard"
  },
  "nbformat": 4,
  "nbformat_minor": 5
}