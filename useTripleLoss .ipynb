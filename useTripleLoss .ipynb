{
  "cells": [
    {
      "cell_type": "code",
      "source": [
        "from google.colab import drive\n",
        "drive.mount('/content/drive')"
      ],
      "metadata": {
        "colab": {
          "base_uri": "https://localhost:8080/"
        },
        "id": "BQK-aqenpWDl",
        "outputId": "fe1c188a-ee0c-4b1d-af00-07f4d727bffc"
      },
      "id": "BQK-aqenpWDl",
      "execution_count": 1,
      "outputs": [
        {
          "output_type": "stream",
          "name": "stdout",
          "text": [
            "Mounted at /content/drive\n"
          ]
        }
      ]
    },
    {
      "cell_type": "code",
      "source": [
        "%cd /content/drive/MyDrive/Github/"
      ],
      "metadata": {
        "colab": {
          "base_uri": "https://localhost:8080/"
        },
        "id": "UedDPfaYpV7A",
        "outputId": "2e4888c1-c31e-47d4-b05e-a7f545457a20"
      },
      "id": "UedDPfaYpV7A",
      "execution_count": 2,
      "outputs": [
        {
          "output_type": "stream",
          "name": "stdout",
          "text": [
            "/content/drive/MyDrive/Github\n"
          ]
        }
      ]
    },
    {
      "cell_type": "code",
      "source": [
        "!git pull https://github.com/rohit-khoiwal-30/msgmt.git"
      ],
      "metadata": {
        "colab": {
          "base_uri": "https://localhost:8080/"
        },
        "id": "TwDCH3ZzpV1M",
        "outputId": "25f3109e-b69f-45d5-ba88-572869323213"
      },
      "id": "TwDCH3ZzpV1M",
      "execution_count": 69,
      "outputs": [
        {
          "output_type": "stream",
          "name": "stdout",
          "text": [
            "remote: Enumerating objects: 10, done.\u001b[K\n",
            "remote: Counting objects:  10% (1/10)\u001b[K\rremote: Counting objects:  20% (2/10)\u001b[K\rremote: Counting objects:  30% (3/10)\u001b[K\rremote: Counting objects:  40% (4/10)\u001b[K\rremote: Counting objects:  50% (5/10)\u001b[K\rremote: Counting objects:  60% (6/10)\u001b[K\rremote: Counting objects:  70% (7/10)\u001b[K\rremote: Counting objects:  80% (8/10)\u001b[K\rremote: Counting objects:  90% (9/10)\u001b[K\rremote: Counting objects: 100% (10/10)\u001b[K\rremote: Counting objects: 100% (10/10), done.\u001b[K\n",
            "remote: Compressing objects:  20% (1/5)\u001b[K\rremote: Compressing objects:  40% (2/5)\u001b[K\rremote: Compressing objects:  60% (3/5)\u001b[K\rremote: Compressing objects:  80% (4/5)\u001b[K\rremote: Compressing objects: 100% (5/5)\u001b[K\rremote: Compressing objects: 100% (5/5), done.\u001b[K\n",
            "remote: Total 8 (delta 2), reused 5 (delta 1), pack-reused 0\u001b[K\n",
            "Unpacking objects: 100% (8/8), done.\n",
            "From https://github.com/rohit-khoiwal-30/msgmt\n",
            " * branch            HEAD       -> FETCH_HEAD\n",
            "Updating f426e19..1b35d01\n",
            "Fast-forward\n",
            " bertCONCT.ipynb                          | 681 \u001b[32m+\u001b[m\u001b[31m------------------------------\u001b[m\n",
            " roc/bertCONCT/New Text Document.txt      |   0\n",
            " roc/bertEUCL/New Text Document.txt       |   0\n",
            " roc/bertTripleLoss/New Text Document.txt |   0\n",
            " roc/useCONCT/New Text Document.txt       |   0\n",
            " roc/useEUCL/New Text Document.txt        |   0\n",
            " roc/useTripleLoss/New Text Document.txt  |   0\n",
            " 7 files changed, 1 insertion(+), 680 deletions(-)\n",
            " create mode 100644 roc/bertCONCT/New Text Document.txt\n",
            " create mode 100644 roc/bertEUCL/New Text Document.txt\n",
            " create mode 100644 roc/bertTripleLoss/New Text Document.txt\n",
            " create mode 100644 roc/useCONCT/New Text Document.txt\n",
            " create mode 100644 roc/useEUCL/New Text Document.txt\n",
            " create mode 100644 roc/useTripleLoss/New Text Document.txt\n"
          ]
        }
      ]
    },
    {
      "cell_type": "code",
      "execution_count": 4,
      "id": "c4c1a617",
      "metadata": {
        "id": "c4c1a617"
      },
      "outputs": [],
      "source": [
        "import pandas as pd"
      ]
    },
    {
      "cell_type": "code",
      "execution_count": 5,
      "id": "58f25200",
      "metadata": {
        "id": "58f25200"
      },
      "outputs": [],
      "source": [
        "df = pd.read_csv(\"augment_train.csv\")\n",
        "df_test = pd.read_csv(\"evaluation.csv\")"
      ]
    },
    {
      "cell_type": "code",
      "execution_count": 6,
      "id": "60970f05",
      "metadata": {
        "id": "60970f05",
        "outputId": "89df7b4c-9e7d-4b08-b6d4-2bb912389e4b",
        "colab": {
          "base_uri": "https://localhost:8080/"
        }
      },
      "outputs": [
        {
          "output_type": "stream",
          "name": "stdout",
          "text": [
            "  Building wheel for keras-self-attention (setup.py) ... \u001b[?25l\u001b[?25hdone\n"
          ]
        }
      ],
      "source": [
        "import tensorflow as tf\n",
        "import tensorflow.keras.backend as K\n",
        "import tensorflow.keras.layers as tfl\n",
        "from tensorflow.keras.models import Model\n",
        "from tensorflow.keras.optimizers import Adam\n",
        "from tensorflow.keras.callbacks import ModelCheckpoint\n",
        "from tensorflow.keras import Input\n",
        "from keras.regularizers import l2\n",
        "\n",
        "\n",
        "try:\n",
        "    import tensorflow_hub as hub\n",
        "except ModuleNotFoundError:\n",
        "    %pip install tensorflow_hub\n",
        "    import tensorflow_hub as hub\n",
        "    \n",
        "try:\n",
        "    from keras_self_attention import SeqSelfAttention\n",
        "except ModuleNotFoundError:\n",
        "    %pip install -q keras-self-attention\n",
        "    from keras_self_attention import SeqSelfAttention\n",
        "\n",
        "import numpy as np\n",
        "import math as m"
      ]
    },
    {
      "cell_type": "code",
      "execution_count": 7,
      "id": "722fb270",
      "metadata": {
        "id": "722fb270"
      },
      "outputs": [],
      "source": [
        "def gen_random_batch(in_groups, batch_halfsize = 8):\n",
        "    text_batch, reason_batch, nonreason_batch, y_hat = [], [], [], []\n",
        "    all_groups = list(range(in_groups[0].shape[0]))\n",
        "\n",
        "    group_idx = np.random.choice(all_groups, size = batch_halfsize*2)\n",
        "    text_batch += [in_groups[0][c_idx] for c_idx in group_idx]\n",
        "    \n",
        "    b_group_idx = group_idx\n",
        "    y_hat += [1]*batch_halfsize\n",
        "    reason_batch += [in_groups[1][c_idx] for c_idx in b_group_idx]\n",
        "    \n",
        "\n",
        "    non_group_idx = [np.random.choice([i for i in all_groups if i!=c_idx]) for c_idx in group_idx] \n",
        "    b_group_idx = non_group_idx\n",
        "    y_hat += [0]*batch_halfsize\n",
        "    nonreason_batch += [in_groups[1][c_idx] for c_idx in b_group_idx]\n",
        "            \n",
        "    return np.stack(text_batch, 0), np.stack(reason_batch, 0), np.stack(nonreason_batch, 0), np.stack(y_hat, 0)\n",
        "\n",
        "def siam_gen(in_groups, batch_size = 32):\n",
        "    while True:\n",
        "        text_stack, reason_stack, nonreason_stack, y_hatstack = gen_random_batch(in_groups, batch_size//2)\n",
        "        yield [text_stack, reason_stack, nonreason_stack], y_hatstack\n",
        "\n",
        "\n",
        "def identity_loss(y_true, y_pred):\n",
        "    return K.mean(y_pred)\n",
        "\n",
        "def triplet_loss(x, alpha = 0.2):\n",
        "    # Triplet Loss function.\n",
        "    anchor,positive,negative = x\n",
        "    # distance between the anchor and the positive\n",
        "    pos_dist = K.sum(K.square(anchor-positive),axis=1)\n",
        "    # distance between the anchor and the negative\n",
        "    neg_dist = K.sum(K.square(anchor-negative),axis=1)\n",
        "    # compute loss\n",
        "    basic_loss = pos_dist-neg_dist+alpha\n",
        "    loss = K.maximum(basic_loss,0.0)\n",
        "    return loss"
      ]
    },
    {
      "cell_type": "code",
      "execution_count": 8,
      "id": "90747622",
      "metadata": {
        "id": "90747622"
      },
      "outputs": [],
      "source": [
        "def accuracy(y_true, y_pred):\n",
        "    results = (y_pred >= 0.5).astype(int).squeeze()\n",
        "    return np.mean([y_true == results])"
      ]
    },
    {
      "cell_type": "code",
      "execution_count": 9,
      "id": "0237cee6",
      "metadata": {
        "id": "0237cee6"
      },
      "outputs": [],
      "source": [
        "huburl = \"https://tfhub.dev/google/universal-sentence-encoder/4\" \n",
        "fine_tuned_module_object = hub.load(huburl)"
      ]
    },
    {
      "cell_type": "code",
      "execution_count": 10,
      "id": "8010b51c",
      "metadata": {
        "id": "8010b51c"
      },
      "outputs": [],
      "source": [
        "def encoder1(name):\n",
        "    inputs = Input(shape=(), dtype=tf.string)\n",
        "\n",
        "    shared_embedding_layer = hub.KerasLayer(fine_tuned_module_object, trainable=True, name=name)\n",
        "    embedding_output= shared_embedding_layer(inputs)\n",
        "    a = tfl.Dense(128, activation=\"linear\", kernel_regularizer=l2(1e-3))(embedding_output)\n",
        "    a = tfl.BatchNormalization()(a)\n",
        "    a = tfl.Activation('relu')(a)\n",
        "    a = tfl.Dense(64, activation=\"linear\", kernel_regularizer=l2(1e-3))(a)\n",
        "    a = tfl.BatchNormalization()(a)\n",
        "    a = tfl.Activation('relu')(a)\n",
        "    a = tfl.Dense(32, activation=\"linear\", kernel_regularizer=l2(1e-3))(a)\n",
        "    a = tfl.BatchNormalization()(a)\n",
        "    outputs = tfl.Activation('relu')(a)\n",
        "    # outputs = tfl.Lambda(lambda x: K.l2_normalize(x,axis=-1))(a)\n",
        "    \n",
        "    model = Model(inputs, outputs)\n",
        "    return model\n",
        "\n",
        "def encoder2(name):\n",
        "    inputs = Input(shape=(), dtype=tf.string)\n",
        "\n",
        "    shared_embedding_layer = hub.KerasLayer(fine_tuned_module_object, trainable=True, name=name)\n",
        "    embedding_output= shared_embedding_layer(inputs)\n",
        "    a = tfl.Dense(64, activation=\"linear\", kernel_regularizer=l2(1e-3))(embedding_output)\n",
        "    a = tfl.BatchNormalization()(a)\n",
        "    a = tfl.Activation('relu')(a)\n",
        "    a = tfl.Dense(32, activation=\"linear\", kernel_regularizer=l2(1e-3))(a)\n",
        "    a = tfl.BatchNormalization()(a)\n",
        "    outputs = tfl.Activation('relu')(a)\n",
        "    # outputs = tfl.Lambda(lambda x: K.l2_normalize(x,axis=-1))(a)\n",
        "    \n",
        "    model = Model(inputs, outputs)\n",
        "    return model"
      ]
    },
    {
      "cell_type": "code",
      "execution_count": 11,
      "id": "05b1e776",
      "metadata": {
        "id": "05b1e776"
      },
      "outputs": [],
      "source": [
        "def get_model():\n",
        "    #textEncoder\n",
        "    inputText = Input(shape=(), dtype=tf.string)\n",
        "    textModel = encoder1(\"textBertEncoder\")\n",
        "    text_embedd = textModel(inputText)\n",
        "\n",
        "    #reasonEncoder\n",
        "    reasonModel = encoder2(\"reasonBertEncoder\")\n",
        "\n",
        "    inputReason = Input(shape=(), dtype=tf.string)\n",
        "    reason_embedd = reasonModel(inputReason)\n",
        "\n",
        "    #nonReasonEncoder\n",
        "    inputNotReason = Input(shape=(), dtype=tf.string)\n",
        "    nonreason_embedd = reasonModel(inputNotReason)\n",
        "\n",
        "    loss = tfl.Lambda(triplet_loss)([text_embedd, reason_embedd, nonreason_embedd])\n",
        "\n",
        "    model = Model(inputs = [inputText, inputReason, inputNotReason], outputs = [loss], name=\"bertModel\")\n",
        "    return model, textModel, reasonModel"
      ]
    },
    {
      "cell_type": "code",
      "execution_count": 12,
      "id": "aa8fbcab",
      "metadata": {
        "id": "aa8fbcab"
      },
      "outputs": [],
      "source": [
        "model, textModel, reasonModel = get_model()"
      ]
    },
    {
      "cell_type": "code",
      "execution_count": 13,
      "id": "5f2012db",
      "metadata": {
        "id": "5f2012db",
        "colab": {
          "base_uri": "https://localhost:8080/"
        },
        "outputId": "9300dd27-8543-4772-93b3-7795bf6484fc"
      },
      "outputs": [
        {
          "output_type": "stream",
          "name": "stdout",
          "text": [
            "Model: \"bertModel\"\n",
            "__________________________________________________________________________________________________\n",
            " Layer (type)                   Output Shape         Param #     Connected to                     \n",
            "==================================================================================================\n",
            " input_1 (InputLayer)           [(None,)]            0           []                               \n",
            "                                                                                                  \n",
            " input_4 (InputLayer)           [(None,)]            0           []                               \n",
            "                                                                                                  \n",
            " input_5 (InputLayer)           [(None,)]            0           []                               \n",
            "                                                                                                  \n",
            " model (Functional)             (None, 32)           256874720   ['input_1[0][0]']                \n",
            "                                                                                                  \n",
            " model_1 (Functional)           (None, 32)           256833120   ['input_4[0][0]',                \n",
            "                                                                  'input_5[0][0]']                \n",
            "                                                                                                  \n",
            " lambda (Lambda)                (None,)              0           ['model[0][0]',                  \n",
            "                                                                  'model_1[0][0]',                \n",
            "                                                                  'model_1[1][0]']                \n",
            "                                                                                                  \n",
            "==================================================================================================\n",
            "Total params: 256,910,016\n",
            "Trainable params: 256,909,376\n",
            "Non-trainable params: 640\n",
            "__________________________________________________________________________________________________\n"
          ]
        }
      ],
      "source": [
        "model.summary()"
      ]
    },
    {
      "cell_type": "code",
      "execution_count": 14,
      "id": "1f08cb06",
      "metadata": {
        "id": "1f08cb06"
      },
      "outputs": [],
      "source": [
        "model.compile(optimizer=\"adam\", loss = identity_loss)"
      ]
    },
    {
      "cell_type": "code",
      "source": [
        "eval_df = df_test[df_test['label'] == 1]"
      ],
      "metadata": {
        "id": "tHDpDqPAzb5I"
      },
      "id": "tHDpDqPAzb5I",
      "execution_count": 15,
      "outputs": []
    },
    {
      "cell_type": "code",
      "execution_count": 16,
      "id": "e31e0c4e",
      "metadata": {
        "id": "e31e0c4e",
        "colab": {
          "base_uri": "https://localhost:8080/"
        },
        "outputId": "dcd58ca5-f690-40b0-d82d-8674dbef8007"
      },
      "outputs": [
        {
          "output_type": "stream",
          "name": "stdout",
          "text": [
            "Epoch 1/100\n",
            "50/50 [==============================] - 55s 727ms/step - loss: 2.6675 - val_loss: 0.7484\n",
            "Epoch 2/100\n",
            "50/50 [==============================] - 30s 606ms/step - loss: 1.5717 - val_loss: 0.9383\n",
            "Epoch 3/100\n",
            "50/50 [==============================] - 20s 394ms/step - loss: 1.1925 - val_loss: 1.3418\n",
            "Epoch 4/100\n",
            "50/50 [==============================] - 20s 396ms/step - loss: 1.0359 - val_loss: 1.4302\n",
            "Epoch 5/100\n",
            "50/50 [==============================] - 22s 452ms/step - loss: 0.9112 - val_loss: 1.4385\n",
            "Epoch 6/100\n",
            "50/50 [==============================] - 20s 401ms/step - loss: 0.8254 - val_loss: 1.4047\n",
            "Epoch 7/100\n",
            "50/50 [==============================] - 20s 400ms/step - loss: 0.7495 - val_loss: 1.2482\n",
            "Epoch 8/100\n",
            "50/50 [==============================] - 22s 448ms/step - loss: 0.7061 - val_loss: 1.2023\n",
            "Epoch 9/100\n",
            "50/50 [==============================] - 21s 418ms/step - loss: 0.6644 - val_loss: 1.0277\n",
            "Epoch 10/100\n",
            "50/50 [==============================] - 20s 395ms/step - loss: 0.6165 - val_loss: 0.8809\n",
            "Epoch 11/100\n",
            "50/50 [==============================] - 20s 396ms/step - loss: 0.6113 - val_loss: 0.7896\n",
            "Epoch 12/100\n",
            "50/50 [==============================] - 20s 396ms/step - loss: 0.6019 - val_loss: 0.6890\n",
            "Epoch 13/100\n",
            "50/50 [==============================] - 22s 435ms/step - loss: 0.5690 - val_loss: 0.7358\n",
            "Epoch 14/100\n",
            "50/50 [==============================] - 20s 395ms/step - loss: 0.5621 - val_loss: 0.7232\n",
            "Epoch 15/100\n",
            "50/50 [==============================] - 20s 394ms/step - loss: 0.5305 - val_loss: 0.7578\n",
            "Epoch 16/100\n",
            "50/50 [==============================] - 20s 397ms/step - loss: 0.5364 - val_loss: 0.7008\n",
            "Epoch 17/100\n",
            "50/50 [==============================] - 20s 393ms/step - loss: 0.5237 - val_loss: 0.6929\n",
            "Epoch 18/100\n",
            "50/50 [==============================] - 20s 402ms/step - loss: 0.5136 - val_loss: 0.6985\n",
            "Epoch 19/100\n",
            "50/50 [==============================] - 22s 444ms/step - loss: 0.5008 - val_loss: 0.6764\n",
            "Epoch 20/100\n",
            "50/50 [==============================] - 19s 392ms/step - loss: 0.4853 - val_loss: 0.6839\n",
            "Epoch 21/100\n",
            "50/50 [==============================] - 20s 393ms/step - loss: 0.4773 - val_loss: 0.6650\n",
            "Epoch 22/100\n",
            "50/50 [==============================] - 20s 394ms/step - loss: 0.4632 - val_loss: 0.6683\n",
            "Epoch 23/100\n",
            "50/50 [==============================] - 20s 402ms/step - loss: 0.4560 - val_loss: 0.6480\n",
            "Epoch 24/100\n",
            "50/50 [==============================] - 22s 438ms/step - loss: 0.4439 - val_loss: 0.6476\n",
            "Epoch 25/100\n",
            "50/50 [==============================] - 20s 398ms/step - loss: 0.4416 - val_loss: 0.6760\n",
            "Epoch 26/100\n",
            "50/50 [==============================] - 20s 398ms/step - loss: 0.4337 - val_loss: 0.6139\n",
            "Epoch 27/100\n",
            "50/50 [==============================] - 20s 397ms/step - loss: 0.4246 - val_loss: 0.6182\n",
            "Epoch 28/100\n",
            "50/50 [==============================] - 20s 398ms/step - loss: 0.4129 - val_loss: 0.6548\n",
            "Epoch 29/100\n",
            "50/50 [==============================] - 20s 398ms/step - loss: 0.4080 - val_loss: 0.6517\n",
            "Epoch 30/100\n",
            "50/50 [==============================] - 22s 454ms/step - loss: 0.3954 - val_loss: 0.6214\n",
            "Epoch 31/100\n",
            "50/50 [==============================] - 20s 394ms/step - loss: 0.3918 - val_loss: 0.6385\n",
            "Epoch 32/100\n",
            "50/50 [==============================] - 20s 399ms/step - loss: 0.3835 - val_loss: 0.6501\n",
            "Epoch 33/100\n",
            "50/50 [==============================] - 20s 396ms/step - loss: 0.3753 - val_loss: 0.5976\n",
            "Epoch 34/100\n",
            "50/50 [==============================] - 20s 403ms/step - loss: 0.3681 - val_loss: 0.5560\n",
            "Epoch 35/100\n",
            "50/50 [==============================] - 23s 462ms/step - loss: 0.3656 - val_loss: 0.5511\n",
            "Epoch 36/100\n",
            "50/50 [==============================] - 20s 395ms/step - loss: 0.3522 - val_loss: 0.5326\n",
            "Epoch 37/100\n",
            "50/50 [==============================] - 20s 396ms/step - loss: 0.3462 - val_loss: 0.5187\n",
            "Epoch 38/100\n",
            "50/50 [==============================] - 20s 402ms/step - loss: 0.3351 - val_loss: 0.4948\n",
            "Epoch 39/100\n",
            "50/50 [==============================] - 20s 402ms/step - loss: 0.3331 - val_loss: 0.5233\n",
            "Epoch 40/100\n",
            "50/50 [==============================] - 20s 400ms/step - loss: 0.3179 - val_loss: 0.4995\n",
            "Epoch 41/100\n",
            "50/50 [==============================] - 23s 458ms/step - loss: 0.3145 - val_loss: 0.5158\n",
            "Epoch 42/100\n",
            "50/50 [==============================] - 20s 399ms/step - loss: 0.3015 - val_loss: 0.5165\n",
            "Epoch 43/100\n",
            "50/50 [==============================] - 20s 400ms/step - loss: 0.2943 - val_loss: 0.4797\n",
            "Epoch 44/100\n",
            "50/50 [==============================] - 20s 402ms/step - loss: 0.2946 - val_loss: 0.4608\n",
            "Epoch 45/100\n",
            "50/50 [==============================] - 20s 396ms/step - loss: 0.2859 - val_loss: 0.5516\n",
            "Epoch 46/100\n",
            "50/50 [==============================] - 23s 468ms/step - loss: 0.2785 - val_loss: 0.4425\n",
            "Epoch 47/100\n",
            "50/50 [==============================] - 20s 401ms/step - loss: 0.2728 - val_loss: 0.4651\n",
            "Epoch 48/100\n",
            "50/50 [==============================] - 20s 401ms/step - loss: 0.2697 - val_loss: 0.4553\n",
            "Epoch 49/100\n",
            "50/50 [==============================] - 20s 401ms/step - loss: 0.2587 - val_loss: 0.4417\n",
            "Epoch 50/100\n",
            "50/50 [==============================] - 20s 397ms/step - loss: 0.2588 - val_loss: 0.4728\n",
            "Epoch 51/100\n",
            "50/50 [==============================] - 20s 399ms/step - loss: 0.2543 - val_loss: 0.4749\n",
            "Epoch 52/100\n",
            "50/50 [==============================] - 23s 471ms/step - loss: 0.2493 - val_loss: 0.4213\n",
            "Epoch 53/100\n",
            "50/50 [==============================] - 20s 400ms/step - loss: 0.2435 - val_loss: 0.3886\n",
            "Epoch 54/100\n",
            "50/50 [==============================] - 20s 401ms/step - loss: 0.2347 - val_loss: 0.3897\n",
            "Epoch 55/100\n",
            "50/50 [==============================] - 20s 400ms/step - loss: 0.2305 - val_loss: 0.3963\n",
            "Epoch 56/100\n",
            "50/50 [==============================] - 20s 397ms/step - loss: 0.2282 - val_loss: 0.4230\n",
            "Epoch 57/100\n",
            "50/50 [==============================] - 24s 482ms/step - loss: 0.2249 - val_loss: 0.4146\n",
            "Epoch 58/100\n",
            "50/50 [==============================] - 20s 398ms/step - loss: 0.2224 - val_loss: 0.4489\n",
            "Epoch 59/100\n",
            "50/50 [==============================] - 20s 397ms/step - loss: 0.2113 - val_loss: 0.3531\n",
            "Epoch 60/100\n",
            "50/50 [==============================] - 20s 398ms/step - loss: 0.2110 - val_loss: 0.3455\n",
            "Epoch 61/100\n",
            "50/50 [==============================] - 20s 400ms/step - loss: 0.2015 - val_loss: 0.4251\n",
            "Epoch 62/100\n",
            "50/50 [==============================] - 20s 402ms/step - loss: 0.1990 - val_loss: 0.3670\n",
            "Epoch 63/100\n",
            "50/50 [==============================] - 24s 486ms/step - loss: 0.1879 - val_loss: 0.3289\n",
            "Epoch 64/100\n",
            "50/50 [==============================] - 20s 408ms/step - loss: 0.1902 - val_loss: 0.3118\n",
            "Epoch 65/100\n",
            "50/50 [==============================] - 20s 401ms/step - loss: 0.1815 - val_loss: 0.3144\n",
            "Epoch 66/100\n",
            "50/50 [==============================] - 20s 407ms/step - loss: 0.1830 - val_loss: 0.3299\n",
            "Epoch 67/100\n",
            "50/50 [==============================] - 20s 405ms/step - loss: 0.1758 - val_loss: 0.3566\n",
            "Epoch 68/100\n",
            "50/50 [==============================] - 24s 491ms/step - loss: 0.1749 - val_loss: 0.3647\n",
            "Epoch 69/100\n",
            "50/50 [==============================] - 20s 404ms/step - loss: 0.1671 - val_loss: 0.3412\n",
            "Epoch 70/100\n",
            "50/50 [==============================] - 20s 409ms/step - loss: 0.1645 - val_loss: 0.3421\n",
            "Epoch 71/100\n",
            "50/50 [==============================] - 20s 400ms/step - loss: 0.1582 - val_loss: 0.2847\n",
            "Epoch 72/100\n",
            "50/50 [==============================] - 20s 407ms/step - loss: 0.1561 - val_loss: 0.3153\n",
            "Epoch 73/100\n",
            "50/50 [==============================] - 22s 447ms/step - loss: 0.1477 - val_loss: 0.2750\n",
            "Epoch 74/100\n",
            "50/50 [==============================] - 22s 447ms/step - loss: 0.1517 - val_loss: 0.3230\n",
            "Epoch 75/100\n",
            "50/50 [==============================] - 20s 402ms/step - loss: 0.1436 - val_loss: 0.3025\n",
            "Epoch 76/100\n",
            "50/50 [==============================] - 20s 403ms/step - loss: 0.1433 - val_loss: 0.2665\n",
            "Epoch 77/100\n",
            "50/50 [==============================] - 20s 402ms/step - loss: 0.1387 - val_loss: 0.3102\n",
            "Epoch 78/100\n",
            "50/50 [==============================] - 20s 404ms/step - loss: 0.1357 - val_loss: 0.2776\n",
            "Epoch 79/100\n",
            "50/50 [==============================] - 24s 491ms/step - loss: 0.1376 - val_loss: 0.2892\n",
            "Epoch 80/100\n",
            "50/50 [==============================] - 20s 409ms/step - loss: 0.1335 - val_loss: 0.2529\n",
            "Epoch 81/100\n",
            "50/50 [==============================] - 20s 402ms/step - loss: 0.1272 - val_loss: 0.2623\n",
            "Epoch 82/100\n",
            "50/50 [==============================] - 20s 400ms/step - loss: 0.1270 - val_loss: 0.2587\n",
            "Epoch 83/100\n",
            "50/50 [==============================] - 20s 405ms/step - loss: 0.1254 - val_loss: 0.3098\n",
            "Epoch 84/100\n",
            "50/50 [==============================] - 25s 500ms/step - loss: 0.1226 - val_loss: 0.3041\n",
            "Epoch 85/100\n",
            "50/50 [==============================] - 20s 405ms/step - loss: 0.1226 - val_loss: 0.2427\n",
            "Epoch 86/100\n",
            "50/50 [==============================] - 20s 406ms/step - loss: 0.1188 - val_loss: 0.2510\n",
            "Epoch 87/100\n",
            "50/50 [==============================] - 20s 404ms/step - loss: 0.1206 - val_loss: 0.2718\n",
            "Epoch 88/100\n",
            "50/50 [==============================] - 20s 407ms/step - loss: 0.1137 - val_loss: 0.2609\n",
            "Epoch 89/100\n",
            "50/50 [==============================] - 21s 420ms/step - loss: 0.1165 - val_loss: 0.2996\n",
            "Epoch 90/100\n",
            "50/50 [==============================] - 24s 493ms/step - loss: 0.1080 - val_loss: 0.2541\n",
            "Epoch 91/100\n",
            "50/50 [==============================] - 20s 407ms/step - loss: 0.1059 - val_loss: 0.2363\n",
            "Epoch 92/100\n",
            "50/50 [==============================] - 20s 406ms/step - loss: 0.1021 - val_loss: 0.2427\n",
            "Epoch 93/100\n",
            "50/50 [==============================] - 20s 408ms/step - loss: 0.1029 - val_loss: 0.2539\n",
            "Epoch 94/100\n",
            "50/50 [==============================] - 20s 409ms/step - loss: 0.1009 - val_loss: 0.2420\n",
            "Epoch 95/100\n",
            "50/50 [==============================] - 25s 510ms/step - loss: 0.1002 - val_loss: 0.2454\n",
            "Epoch 96/100\n",
            "50/50 [==============================] - 20s 406ms/step - loss: 0.0982 - val_loss: 0.2666\n",
            "Epoch 97/100\n",
            "50/50 [==============================] - 20s 408ms/step - loss: 0.0965 - val_loss: 0.2273\n",
            "Epoch 98/100\n",
            "50/50 [==============================] - 20s 411ms/step - loss: 0.1004 - val_loss: 0.2049\n",
            "Epoch 99/100\n",
            "50/50 [==============================] - 20s 408ms/step - loss: 0.0921 - val_loss: 0.2235\n",
            "Epoch 100/100\n",
            "50/50 [==============================] - 25s 509ms/step - loss: 0.0942 - val_loss: 0.2163\n"
          ]
        }
      ],
      "source": [
        "loss_history = model.fit(siam_gen([df[\"texts\"], df[\"reason\"]], 128), \n",
        "                         validation_data = siam_gen([eval_df[\"text\"].values, eval_df[\"reason\"].values], 128),\n",
        "                         steps_per_epoch=50, validation_steps=10, epochs = 100, \n",
        "                         verbose = True, use_multiprocessing=True)"
      ]
    },
    {
      "cell_type": "code",
      "source": [
        "def euclidean_distance(vectors):\n",
        "    (featsA, featsB) = vectors\n",
        "    sumSquared = K.sum(K.square(featsA - featsB), axis=1, keepdims=True)\n",
        "    return K.sqrt(K.maximum(sumSquared, K.epsilon()))"
      ],
      "metadata": {
        "id": "m7NLO_HSI36x"
      },
      "id": "m7NLO_HSI36x",
      "execution_count": 17,
      "outputs": []
    },
    {
      "cell_type": "code",
      "execution_count": 56,
      "id": "4e5cf29b",
      "metadata": {
        "id": "4e5cf29b"
      },
      "outputs": [],
      "source": [
        "left_input = tf.keras.Input(shape=(), dtype=tf.string)\n",
        "right_input = tf.keras.Input(shape=(), dtype=tf.string)\n",
        "\n",
        "textEmbedding = textModel(left_input)\n",
        "reasonEmbedding = reasonModel(right_input)\n",
        "\n",
        "# distance = euclidean_distance([textEmbedding, reasonEmbedding])\n",
        "cosine_similiarity=tf.keras.layers.Dot(axes=-1)([textEmbedding, reasonEmbedding])\n",
        "output = tfl.Activation('sigmoid')(cosine_similiarity)\n",
        "\n",
        "classifier_model = Model(inputs = [left_input, right_input], outputs = [output], name=\"classifier_model\")"
      ]
    },
    {
      "cell_type": "code",
      "execution_count": 57,
      "id": "d3245393",
      "metadata": {
        "id": "d3245393",
        "colab": {
          "base_uri": "https://localhost:8080/"
        },
        "outputId": "154c85a3-d8ef-473d-9a03-2d1c8f361c63"
      },
      "outputs": [
        {
          "output_type": "stream",
          "name": "stdout",
          "text": [
            "Model: \"classifier_model\"\n",
            "__________________________________________________________________________________________________\n",
            " Layer (type)                   Output Shape         Param #     Connected to                     \n",
            "==================================================================================================\n",
            " input_16 (InputLayer)          [(None,)]            0           []                               \n",
            "                                                                                                  \n",
            " input_17 (InputLayer)          [(None,)]            0           []                               \n",
            "                                                                                                  \n",
            " model (Functional)             (None, 32)           256874720   ['input_16[0][0]']               \n",
            "                                                                                                  \n",
            " model_1 (Functional)           (None, 32)           256833120   ['input_17[0][0]']               \n",
            "                                                                                                  \n",
            " dot_1 (Dot)                    (None, 1)            0           ['model[6][0]',                  \n",
            "                                                                  'model_1[7][0]']                \n",
            "                                                                                                  \n",
            " activation_9 (Activation)      (None, 1)            0           ['dot_1[0][0]']                  \n",
            "                                                                                                  \n",
            "==================================================================================================\n",
            "Total params: 256,910,016\n",
            "Trainable params: 256,909,376\n",
            "Non-trainable params: 640\n",
            "__________________________________________________________________________________________________\n"
          ]
        }
      ],
      "source": [
        "classifier_model.summary()"
      ]
    },
    {
      "cell_type": "code",
      "source": [
        "from sklearn.metrics import brier_score_loss as brier_loss\n",
        "from sklearn.metrics import precision_score\n",
        "from sklearn.metrics import recall_score\n",
        "from sklearn.metrics import f1_score\n",
        "from sklearn.metrics import roc_auc_score\n",
        "from sklearn.metrics import log_loss"
      ],
      "metadata": {
        "id": "Is39pOC0cw9e"
      },
      "id": "Is39pOC0cw9e",
      "execution_count": 58,
      "outputs": []
    },
    {
      "cell_type": "code",
      "source": [
        "y_preds = classifier_model.predict([df['texts'], df['reason']])\n",
        "accuracy(df[\"label\"], y_preds)"
      ],
      "metadata": {
        "id": "ixIrp7tk37el",
        "outputId": "a0f7b41d-b4fc-4b00-f9c6-03215ee86886",
        "colab": {
          "base_uri": "https://localhost:8080/"
        }
      },
      "id": "ixIrp7tk37el",
      "execution_count": 59,
      "outputs": [
        {
          "output_type": "execute_result",
          "data": {
            "text/plain": [
              "1.0"
            ]
          },
          "metadata": {},
          "execution_count": 59
        }
      ]
    },
    {
      "cell_type": "code",
      "source": [
        "max(y_preds), min(y_preds)"
      ],
      "metadata": {
        "id": "2nKf73RY66kP",
        "outputId": "ff2f953d-0459-44a7-8c1e-8e0593dc0341",
        "colab": {
          "base_uri": "https://localhost:8080/"
        }
      },
      "id": "2nKf73RY66kP",
      "execution_count": 60,
      "outputs": [
        {
          "output_type": "execute_result",
          "data": {
            "text/plain": [
              "(array([0.99922776], dtype=float32), array([0.5], dtype=float32))"
            ]
          },
          "metadata": {},
          "execution_count": 60
        }
      ]
    },
    {
      "cell_type": "code",
      "source": [
        "y_hat = (y_preds >= 0.5).astype(int)"
      ],
      "metadata": {
        "id": "LmgDWhKPgNdy"
      },
      "id": "LmgDWhKPgNdy",
      "execution_count": 61,
      "outputs": []
    },
    {
      "cell_type": "code",
      "source": [
        "print(\"Brier Loss                       : \", brier_loss(df['label'], y_preds))\n",
        "print(\"Precision Score                  : \", precision_score(df['label'], y_hat))\n",
        "print(\"Recall Score                     : \", recall_score(df['label'], y_hat))\n",
        "print(\"F1 Score                         : \", f1_score(df['label'], y_hat))\n",
        "# print(\"Roc AUC Score                    : \", roc_auc_score(df['label'], y_preds))\n",
        "# print(\"BCE Loss                         : \", log_loss(df['label'], y_preds))"
      ],
      "metadata": {
        "id": "FolU8Zbacw6W",
        "outputId": "d42b231d-015b-4f4d-ff20-dce550813715",
        "colab": {
          "base_uri": "https://localhost:8080/"
        }
      },
      "id": "FolU8Zbacw6W",
      "execution_count": 62,
      "outputs": [
        {
          "output_type": "stream",
          "name": "stdout",
          "text": [
            "Brier Loss                       :  0.055018774267168544\n",
            "Precision Score                  :  1.0\n",
            "Recall Score                     :  1.0\n",
            "F1 Score                         :  1.0\n"
          ]
        }
      ]
    },
    {
      "cell_type": "code",
      "source": [
        ""
      ],
      "metadata": {
        "id": "tjLi4-JGcwzB"
      },
      "id": "tjLi4-JGcwzB",
      "execution_count": 62,
      "outputs": []
    },
    {
      "cell_type": "code",
      "execution_count": 63,
      "id": "d1fed3c5",
      "metadata": {
        "id": "d1fed3c5",
        "colab": {
          "base_uri": "https://localhost:8080/"
        },
        "outputId": "d0108cd9-85ee-4a59-b284-60fa81941902"
      },
      "outputs": [
        {
          "output_type": "execute_result",
          "data": {
            "text/plain": [
              "0.33344444444444443"
            ]
          },
          "metadata": {},
          "execution_count": 63
        }
      ],
      "source": [
        "y_preds = classifier_model.predict([df_test['text'], df_test['reason']])\n",
        "accuracy(df_test[\"label\"], y_preds)"
      ]
    },
    {
      "cell_type": "code",
      "source": [
        "max(y_preds), min(y_preds)"
      ],
      "metadata": {
        "id": "8bD3kcFRedYU",
        "outputId": "80523797-6c7d-42a0-ad23-bad56e8645d0",
        "colab": {
          "base_uri": "https://localhost:8080/"
        }
      },
      "id": "8bD3kcFRedYU",
      "execution_count": 64,
      "outputs": [
        {
          "output_type": "execute_result",
          "data": {
            "text/plain": [
              "(array([0.9971597], dtype=float32), array([0.5], dtype=float32))"
            ]
          },
          "metadata": {},
          "execution_count": 64
        }
      ]
    },
    {
      "cell_type": "code",
      "source": [
        "y_hat = (y_preds >= 0.5).astype(int)"
      ],
      "metadata": {
        "id": "VwJlKztCgW5a"
      },
      "id": "VwJlKztCgW5a",
      "execution_count": 65,
      "outputs": []
    },
    {
      "cell_type": "code",
      "source": [
        "print(\"Brier Loss                       : \", brier_loss(df_test['label'], y_preds))\n",
        "print(\"Precision Score                  : \", precision_score(df_test['label'], y_hat))\n",
        "print(\"Recall Score                     : \", recall_score(df_test['label'], y_hat))\n",
        "print(\"F1 Score                         : \", f1_score(df_test['label'], y_hat))\n",
        "print(\"Roc AUC Score                    : \", roc_auc_score(df_test['label'], y_preds))\n",
        "print(\"BCE Loss                         : \", log_loss(df_test['label'], y_preds))"
      ],
      "metadata": {
        "id": "gOPYm5nVeYrj",
        "outputId": "d132f7b6-e76b-4df0-935f-461362c625a7",
        "colab": {
          "base_uri": "https://localhost:8080/"
        }
      },
      "id": "gOPYm5nVeYrj",
      "execution_count": 66,
      "outputs": [
        {
          "output_type": "stream",
          "name": "stdout",
          "text": [
            "Brier Loss                       :  0.40560934003640103\n",
            "Precision Score                  :  0.33344444444444443\n",
            "Recall Score                     :  1.0\n",
            "F1 Score                         :  0.5001249895842013\n",
            "Roc AUC Score                    :  0.6322971800420587\n",
            "BCE Loss                         :  1.11353713406149\n"
          ]
        }
      ]
    },
    {
      "cell_type": "code",
      "source": [
        "from sklearn.metrics import roc_curve, auc\n",
        "import matplotlib.pyplot as plt\n",
        "fpr, tpr, _ = roc_curve(df_test['label'], y_preds)\n",
        "roc_auc = auc(fpr, tpr)"
      ],
      "metadata": {
        "id": "_w6U29rDeis-"
      },
      "id": "_w6U29rDeis-",
      "execution_count": 67,
      "outputs": []
    },
    {
      "cell_type": "code",
      "source": [
        "plt.figure()\n",
        "lw = 2\n",
        "plt.plot(\n",
        "    fpr,\n",
        "    tpr,\n",
        "    color=\"darkorange\",\n",
        "    lw=lw,\n",
        "    label=\"ROC curve (area = %0.2f)\" % roc_auc\n",
        ")\n",
        "plt.plot([0, 1], [0, 1], color=\"navy\", lw=lw, linestyle=\"--\")\n",
        "plt.xlim([0.0, 1.0])\n",
        "plt.ylim([0.0, 1.05])\n",
        "plt.xlabel(\"False Positive Rate\")\n",
        "plt.ylabel(\"True Positive Rate\")\n",
        "plt.title(\"Receiver operating characteristic example\")\n",
        "plt.legend(loc=\"lower right\")\n",
        "plt.show()"
      ],
      "metadata": {
        "id": "1iQHCEsSeipZ",
        "outputId": "60d76f98-f904-4609-f9d1-c50e548cb767",
        "colab": {
          "base_uri": "https://localhost:8080/",
          "height": 295
        }
      },
      "id": "1iQHCEsSeipZ",
      "execution_count": 68,
      "outputs": [
        {
          "output_type": "display_data",
          "data": {
            "text/plain": [
              "<Figure size 432x288 with 1 Axes>"
            ],
            "image/png": "[encoded data removed]"
          },
          "metadata": {
            "needs_background": "light"
          }
        }
      ]
    },
    {
      "cell_type": "code",
      "source": [
        "from numpy import asarray\n",
        "from numpy import savetxt\n",
        "# define data\n",
        "data1 = asarray([fpr])\n",
        "data2 = asarray([tpr])\n",
        "\n",
        "# save to csv file\n",
        "savetxt('roc/useTripleLoss/fprdata.csv', data1, delimiter=',')\n",
        "savetxt('roc/useTripleLoss/tprdata.csv', data2, delimiter=',')"
      ],
      "metadata": {
        "id": "9GZXjkpjeim_"
      },
      "id": "9GZXjkpjeim_",
      "execution_count": 72,
      "outputs": []
    },
    {
      "cell_type": "code",
      "execution_count": 70,
      "id": "816cf323",
      "metadata": {
        "id": "816cf323",
        "colab": {
          "base_uri": "https://localhost:8080/"
        },
        "outputId": "0a2cbc6f-e726-42b6-a9d7-e5273d024e07"
      },
      "outputs": [
        {
          "output_type": "stream",
          "name": "stderr",
          "text": [
            "WARNING:tensorflow:Compiled the loaded model, but the compiled metrics have yet to be built. `model.compile_metrics` will be empty until you train or evaluate the model.\n"
          ]
        }
      ],
      "source": [
        "classifier_model.save(\"augment_models/useTripletLoss/\")"
      ]
    },
    {
      "cell_type": "code",
      "execution_count": 31,
      "id": "2e3e2d20",
      "metadata": {
        "id": "2e3e2d20"
      },
      "outputs": [],
      "source": [
        ""
      ]
    },
    {
      "cell_type": "code",
      "execution_count": 31,
      "id": "65d02e67",
      "metadata": {
        "id": "65d02e67"
      },
      "outputs": [],
      "source": [
        ""
      ]
    },
    {
      "cell_type": "code",
      "execution_count": 31,
      "id": "2e26d4c5",
      "metadata": {
        "id": "2e26d4c5"
      },
      "outputs": [],
      "source": [
        ""
      ]
    }
  ],
  "metadata": {
    "kernelspec": {
      "display_name": "mlAsgmt",
      "language": "python",
      "name": "mlasgmt"
    },
    "language_info": {
      "codemirror_mode": {
        "name": "ipython",
        "version": 3
      },
      "file_extension": ".py",
      "mimetype": "text/x-python",
      "name": "python",
      "nbconvert_exporter": "python",
      "pygments_lexer": "ipython3",
      "version": "3.7.9"
    },
    "colab": {
      "name": "useTripleLoss .ipynb",
      "provenance": []
    },
    "accelerator": "GPU",
    "gpuClass": "standard"
  },
  "nbformat": 4,
  "nbformat_minor": 5
}