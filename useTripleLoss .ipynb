{
  "cells": [
    {
      "cell_type": "code",
      "source": [
        "from google.colab import drive\n",
        "drive.mount('/content/drive')"
      ],
      "metadata": {
        "id": "BQK-aqenpWDl",
        "outputId": "2aa7f1e1-1ae2-4aa7-9e2a-056aa3bfab68",
        "colab": {
          "base_uri": "https://localhost:8080/"
        }
      },
      "id": "BQK-aqenpWDl",
      "execution_count": 1,
      "outputs": [
        {
          "output_type": "stream",
          "name": "stdout",
          "text": [
            "Mounted at /content/drive\n"
          ]
        }
      ]
    },
    {
      "cell_type": "code",
      "source": [
        "%cd /content/drive/MyDrive/Github/"
      ],
      "metadata": {
        "id": "UedDPfaYpV7A",
        "outputId": "740e4b0a-99c0-4954-f9f5-e2ae76069be8",
        "colab": {
          "base_uri": "https://localhost:8080/"
        }
      },
      "id": "UedDPfaYpV7A",
      "execution_count": 2,
      "outputs": [
        {
          "output_type": "stream",
          "name": "stdout",
          "text": [
            "/content/drive/MyDrive/Github\n"
          ]
        }
      ]
    },
    {
      "cell_type": "code",
      "source": [
        "!git pull https://github.com/rohit-khoiwal-30/msgmt.git"
      ],
      "metadata": {
        "id": "TwDCH3ZzpV1M",
        "outputId": "bc7c798c-4cbe-471b-b1e3-47c59f583799",
        "colab": {
          "base_uri": "https://localhost:8080/"
        }
      },
      "id": "TwDCH3ZzpV1M",
      "execution_count": 4,
      "outputs": [
        {
          "output_type": "stream",
          "name": "stdout",
          "text": [
            "remote: Enumerating objects: 9, done.\u001b[K\n",
            "remote: Counting objects:  11% (1/9)\u001b[K\rremote: Counting objects:  22% (2/9)\u001b[K\rremote: Counting objects:  33% (3/9)\u001b[K\rremote: Counting objects:  44% (4/9)\u001b[K\rremote: Counting objects:  55% (5/9)\u001b[K\rremote: Counting objects:  66% (6/9)\u001b[K\rremote: Counting objects:  77% (7/9)\u001b[K\rremote: Counting objects:  88% (8/9)\u001b[K\rremote: Counting objects: 100% (9/9)\u001b[K\rremote: Counting objects: 100% (9/9), done.\u001b[K\n",
            "remote: Compressing objects:  14% (1/7)\u001b[K\rremote: Compressing objects:  28% (2/7)\u001b[K\rremote: Compressing objects:  42% (3/7)\u001b[K\rremote: Compressing objects:  57% (4/7)\u001b[K\rremote: Compressing objects:  71% (5/7)\u001b[K\rremote: Compressing objects:  85% (6/7)\u001b[K\rremote: Compressing objects: 100% (7/7)\u001b[K\rremote: Compressing objects: 100% (7/7), done.\u001b[K\n",
            "remote: Total 8 (delta 4), reused 2 (delta 1), pack-reused 0\u001b[K\n",
            "Unpacking objects: 100% (8/8), done.\n",
            "From https://github.com/rohit-khoiwal-30/msgmt\n",
            " * branch            HEAD       -> FETCH_HEAD\n",
            "Updating dd3fde0..a5224bf\n",
            "Checking out files: 100% (5/5), done.\n",
            "Fast-forward\n",
            " bertTripleLoss.ipynb     | 366 \u001b[32m+++++++++++++++++++++++++++++++++\u001b[m\n",
            " sentence-t5EUCL.ipynb    |  33 \u001b[31m---\u001b[m\n",
            " useCONCT -.ipynb         | 366 \u001b[32m+++++++++++++++++++++++++++++++++\u001b[m\n",
            " useEUCL-checkpoint.ipynb | 518 \u001b[32m+++++++++++++++++++++++++++++++++++++++++++++++\u001b[m\n",
            " useTripleLoss .ipynb     | 472 \u001b[32m++++++++++++++++++++++++++++++++++++++++++\u001b[m\n",
            " 5 files changed, 1722 insertions(+), 33 deletions(-)\n",
            " create mode 100644 bertTripleLoss.ipynb\n",
            " delete mode 100644 sentence-t5EUCL.ipynb\n",
            " create mode 100644 useCONCT -.ipynb\n",
            " create mode 100644 useEUCL-checkpoint.ipynb\n",
            " create mode 100644 useTripleLoss .ipynb\n"
          ]
        }
      ]
    },
    {
      "cell_type": "code",
      "execution_count": 3,
      "id": "c4c1a617",
      "metadata": {
        "id": "c4c1a617"
      },
      "outputs": [],
      "source": [
        "import pandas as pd"
      ]
    },
    {
      "cell_type": "code",
      "execution_count": 4,
      "id": "58f25200",
      "metadata": {
        "id": "58f25200"
      },
      "outputs": [],
      "source": [
        "df = pd.read_csv(\"train.csv\")\n",
        "df_test = pd.read_csv(\"evaluation.csv\")"
      ]
    },
    {
      "cell_type": "code",
      "execution_count": 13,
      "id": "60970f05",
      "metadata": {
        "id": "60970f05"
      },
      "outputs": [],
      "source": [
        "import tensorflow as tf\n",
        "import tensorflow.keras.backend as K\n",
        "import tensorflow.keras.layers as tfl\n",
        "from tensorflow.keras.models import Model\n",
        "from tensorflow.keras.callbacks import ModelCheckpoint\n",
        "from tensorflow.keras import Input\n",
        "from keras.regularizers import l2\n",
        "\n",
        "try:\n",
        "    import tensorflow_hub as hub\n",
        "except ModuleNotFoundError:\n",
        "    %pip install tensorflow_hub\n",
        "    import tensorflow_hub as hub\n",
        "    \n",
        "try:\n",
        "    from keras_self_attention import SeqSelfAttention\n",
        "except ModuleNotFoundError:\n",
        "    %pip install -q keras-self-attention\n",
        "    from keras_self_attention import SeqSelfAttention\n",
        "\n",
        "import numpy as np\n",
        "\n",
        "\n",
        "# %pip install -q transformers\n",
        "# %pip install -q -U tensorflow-text\n",
        "# %pip install -q tf-models-official==2.7.0\n",
        "\n",
        "import math as m"
      ]
    },
    {
      "cell_type": "code",
      "execution_count": 6,
      "id": "39e6d422",
      "metadata": {
        "id": "39e6d422"
      },
      "outputs": [],
      "source": [
        "huburl = \"https://tfhub.dev/google/universal-sentence-encoder/4\" \n",
        "fine_tuned_module_object = hub.load(huburl)"
      ]
    },
    {
      "cell_type": "code",
      "execution_count": 7,
      "id": "722fb270",
      "metadata": {
        "id": "722fb270"
      },
      "outputs": [],
      "source": [
        "def gen_random_batch(in_groups, batch_halfsize = 8):\n",
        "    text_batch, reason_batch, nonreason_batch, y_hat = [], [], [], []\n",
        "    all_groups = list(range(in_groups[0].shape[0]))\n",
        "\n",
        "    group_idx = np.random.choice(all_groups, size = batch_halfsize*2)\n",
        "    text_batch += [in_groups[0][c_idx] for c_idx in group_idx]\n",
        "    \n",
        "    b_group_idx = group_idx\n",
        "    y_hat += [1]*batch_halfsize\n",
        "    reason_batch += [in_groups[1][c_idx] for c_idx in b_group_idx]\n",
        "    \n",
        "\n",
        "    non_group_idx = [np.random.choice([i for i in all_groups if i!=c_idx]) for c_idx in group_idx] \n",
        "    b_group_idx = non_group_idx\n",
        "    y_hat += [0]*batch_halfsize\n",
        "    nonreason_batch += [in_groups[1][c_idx] for c_idx in b_group_idx]\n",
        "            \n",
        "    return np.stack(text_batch, 0), np.stack(reason_batch, 0), np.stack(nonreason_batch, 0), np.stack(y_hat, 0)\n",
        "\n",
        "def siam_gen(in_groups, batch_size = 32):\n",
        "    while True:\n",
        "        text_stack, reason_stack, nonreason_stack, y_hatstack = gen_random_batch(in_groups, batch_size//2)\n",
        "        yield [text_stack, reason_stack, nonreason_stack], y_hatstack\n",
        "\n",
        "\n",
        "def identity_loss(y_true, y_pred):\n",
        "    return K.mean(y_pred)\n",
        "\n",
        "def triplet_loss(x, alpha = 0.2):\n",
        "    # Triplet Loss function.\n",
        "    anchor,positive,negative = x\n",
        "    # distance between the anchor and the positive\n",
        "    pos_dist = K.sum(K.square(anchor-positive),axis=1)\n",
        "    # distance between the anchor and the negative\n",
        "    neg_dist = K.sum(K.square(anchor-negative),axis=1)\n",
        "    # compute loss\n",
        "    basic_loss = pos_dist-neg_dist+alpha\n",
        "    loss = K.maximum(basic_loss,0.0)\n",
        "    return loss"
      ]
    },
    {
      "cell_type": "code",
      "execution_count": 8,
      "id": "90747622",
      "metadata": {
        "id": "90747622"
      },
      "outputs": [],
      "source": [
        "def accuracy(y_true, y_pred):\n",
        "    results = (y_pred >= 0.5).astype(int).squeeze()\n",
        "    return np.mean([y_true == results])"
      ]
    },
    {
      "cell_type": "code",
      "execution_count": 9,
      "id": "0237cee6",
      "metadata": {
        "id": "0237cee6"
      },
      "outputs": [],
      "source": [
        "huburl = \"https://tfhub.dev/google/universal-sentence-encoder/4\" \n",
        "fine_tuned_module_object = hub.load(huburl)"
      ]
    },
    {
      "cell_type": "code",
      "execution_count": 43,
      "id": "8010b51c",
      "metadata": {
        "id": "8010b51c"
      },
      "outputs": [],
      "source": [
        "def encoder(name):\n",
        "    inputs = Input(shape=(), dtype=tf.string)\n",
        "\n",
        "    shared_embedding_layer = hub.KerasLayer(fine_tuned_module_object, trainable=True, name=name)\n",
        "    embedding_output= shared_embedding_layer(inputs)\n",
        "\n",
        "    a = tfl.Dense(256, activation=\"linear\", kernel_regularizer=l2(1e-3))(embedding_output)\n",
        "    a = tfl.BatchNormalization()(a)\n",
        "    a = tfl.Activation('relu')(a)\n",
        "    a = tfl.Dense(128, activation=\"linear\", kernel_regularizer=l2(1e-3))(a)\n",
        "    a = tfl.BatchNormalization()(a)\n",
        "    a = tfl.Activation('relu')(a)\n",
        "    a = tfl.Dense(64, activation=\"linear\", kernel_regularizer=l2(1e-3))(a)\n",
        "    a = tfl.BatchNormalization()(a)\n",
        "    a = tfl.Activation('relu')(a)\n",
        "    a = tfl.Dense(32, activation=\"linear\", kernel_regularizer=l2(1e-3))(a)\n",
        "    outputs = tfl.Lambda(lambda x: K.l2_normalize(x,axis=-1))(a)\n",
        "    # a = tfl.BatchNormalization()(a)\n",
        "    # outputs = tfl.Activation('relu')(a)\n",
        "    \n",
        "    model = Model(inputs, outputs)\n",
        "    return model"
      ]
    },
    {
      "cell_type": "code",
      "execution_count": 33,
      "id": "05b1e776",
      "metadata": {
        "id": "05b1e776"
      },
      "outputs": [],
      "source": [
        "def get_model():\n",
        "    #textEncoder\n",
        "    inputText = Input(shape=(), dtype=tf.string)\n",
        "    textModel = encoder(\"textBertEncoder\")\n",
        "    text_embedd = textModel(inputText)\n",
        "\n",
        "    #reasonEncoder\n",
        "    reasonModel = encoder(\"reasonBertEncoder\")\n",
        "\n",
        "    inputReason = Input(shape=(), dtype=tf.string)\n",
        "    reason_embedd = reasonModel(inputReason)\n",
        "\n",
        "    #nonReasonEncoder\n",
        "    inputNotReason = Input(shape=(), dtype=tf.string)\n",
        "    nonreason_embedd = reasonModel(inputNotReason)\n",
        "\n",
        "    loss = tfl.Lambda(triplet_loss)([text_embedd, reason_embedd, nonreason_embedd])\n",
        "\n",
        "    model = Model(inputs = [inputText, inputReason, inputNotReason], outputs = [loss], name=\"bertModel\")\n",
        "    return model, textModel, reasonModel"
      ]
    },
    {
      "cell_type": "code",
      "execution_count": 34,
      "id": "aa8fbcab",
      "metadata": {
        "id": "aa8fbcab"
      },
      "outputs": [],
      "source": [
        "model, textModel, reasonModel = get_model()"
      ]
    },
    {
      "cell_type": "code",
      "execution_count": 35,
      "id": "5f2012db",
      "metadata": {
        "id": "5f2012db",
        "outputId": "f51ac20d-6188-4ba0-a5eb-94234b8a90a1",
        "colab": {
          "base_uri": "https://localhost:8080/"
        }
      },
      "outputs": [
        {
          "output_type": "stream",
          "name": "stdout",
          "text": [
            "Model: \"bertModel\"\n",
            "__________________________________________________________________________________________________\n",
            " Layer (type)                   Output Shape         Param #     Connected to                     \n",
            "==================================================================================================\n",
            " input_10 (InputLayer)          [(None,)]            0           []                               \n",
            "                                                                                                  \n",
            " input_13 (InputLayer)          [(None,)]            0           []                               \n",
            "                                                                                                  \n",
            " input_14 (InputLayer)          [(None,)]            0           []                               \n",
            "                                                                                                  \n",
            " model_2 (Functional)           (None, 32)           256832992   ['input_10[0][0]']               \n",
            "                                                                                                  \n",
            " model_3 (Functional)           (None, 32)           256832992   ['input_13[0][0]',               \n",
            "                                                                  'input_14[0][0]']               \n",
            "                                                                                                  \n",
            " lambda_5 (Lambda)              (None,)              0           ['model_2[0][0]',                \n",
            "                                                                  'model_3[0][0]',                \n",
            "                                                                  'model_3[1][0]']                \n",
            "                                                                                                  \n",
            "==================================================================================================\n",
            "Total params: 256,868,160\n",
            "Trainable params: 256,867,904\n",
            "Non-trainable params: 256\n",
            "__________________________________________________________________________________________________\n"
          ]
        }
      ],
      "source": [
        "model.summary()"
      ]
    },
    {
      "cell_type": "code",
      "execution_count": 36,
      "id": "1f08cb06",
      "metadata": {
        "id": "1f08cb06"
      },
      "outputs": [],
      "source": [
        "model.compile(optimizer=\"adam\", loss = identity_loss)"
      ]
    },
    {
      "cell_type": "code",
      "source": [
        "eval_df = df_test[df_test['label'] == 1]"
      ],
      "metadata": {
        "id": "tHDpDqPAzb5I"
      },
      "id": "tHDpDqPAzb5I",
      "execution_count": 37,
      "outputs": []
    },
    {
      "cell_type": "code",
      "execution_count": 38,
      "id": "e31e0c4e",
      "metadata": {
        "id": "e31e0c4e",
        "outputId": "1ea8c7a6-530e-46ce-d1cf-e3fe3ecbea77",
        "colab": {
          "base_uri": "https://localhost:8080/"
        }
      },
      "outputs": [
        {
          "output_type": "stream",
          "name": "stdout",
          "text": [
            "Epoch 1/50\n",
            "50/50 [==============================] - 19s 220ms/step - loss: 0.4078 - val_loss: 0.4015\n",
            "Epoch 2/50\n",
            "50/50 [==============================] - 10s 197ms/step - loss: 0.3243 - val_loss: 0.3538\n",
            "Epoch 3/50\n",
            "50/50 [==============================] - 10s 198ms/step - loss: 0.2730 - val_loss: 0.3103\n",
            "Epoch 4/50\n",
            "50/50 [==============================] - 10s 198ms/step - loss: 0.2306 - val_loss: 0.2729\n",
            "Epoch 5/50\n",
            "50/50 [==============================] - 10s 196ms/step - loss: 0.1950 - val_loss: 0.2355\n",
            "Epoch 6/50\n",
            "50/50 [==============================] - 10s 196ms/step - loss: 0.1666 - val_loss: 0.2012\n",
            "Epoch 7/50\n",
            "50/50 [==============================] - 10s 195ms/step - loss: 0.1411 - val_loss: 0.1888\n",
            "Epoch 8/50\n",
            "50/50 [==============================] - 10s 196ms/step - loss: 0.1199 - val_loss: 0.1845\n",
            "Epoch 9/50\n",
            "50/50 [==============================] - 10s 196ms/step - loss: 0.1041 - val_loss: 0.1708\n",
            "Epoch 10/50\n",
            "50/50 [==============================] - 11s 217ms/step - loss: 0.0882 - val_loss: 0.1387\n",
            "Epoch 11/50\n",
            "50/50 [==============================] - 10s 197ms/step - loss: 0.0761 - val_loss: 0.1259\n",
            "Epoch 12/50\n",
            "50/50 [==============================] - 10s 197ms/step - loss: 0.0659 - val_loss: 0.1157\n",
            "Epoch 13/50\n",
            "50/50 [==============================] - 10s 196ms/step - loss: 0.0595 - val_loss: 0.1730\n",
            "Epoch 14/50\n",
            "50/50 [==============================] - 10s 197ms/step - loss: 0.0517 - val_loss: 0.1288\n",
            "Epoch 15/50\n",
            "50/50 [==============================] - 10s 195ms/step - loss: 0.0464 - val_loss: 0.1365\n",
            "Epoch 16/50\n",
            "50/50 [==============================] - 10s 194ms/step - loss: 0.0417 - val_loss: 0.1251\n",
            "Epoch 17/50\n",
            "50/50 [==============================] - 10s 194ms/step - loss: 0.0383 - val_loss: 0.1902\n",
            "Epoch 18/50\n",
            "50/50 [==============================] - 10s 193ms/step - loss: 0.0360 - val_loss: 0.1042\n",
            "Epoch 19/50\n",
            "50/50 [==============================] - 10s 194ms/step - loss: 0.0329 - val_loss: 0.0819\n",
            "Epoch 20/50\n",
            "50/50 [==============================] - 10s 197ms/step - loss: 0.0323 - val_loss: 0.0998\n",
            "Epoch 21/50\n",
            "50/50 [==============================] - 10s 198ms/step - loss: 0.0283 - val_loss: 0.1208\n",
            "Epoch 22/50\n",
            "50/50 [==============================] - 11s 213ms/step - loss: 0.0281 - val_loss: 0.0932\n",
            "Epoch 23/50\n",
            "50/50 [==============================] - 11s 211ms/step - loss: 0.0256 - val_loss: 0.1043\n",
            "Epoch 24/50\n",
            "50/50 [==============================] - 10s 198ms/step - loss: 0.0243 - val_loss: 0.1022\n",
            "Epoch 25/50\n",
            "50/50 [==============================] - 10s 197ms/step - loss: 0.0219 - val_loss: 0.1103\n",
            "Epoch 26/50\n",
            "50/50 [==============================] - 10s 198ms/step - loss: 0.0214 - val_loss: 0.1104\n",
            "Epoch 27/50\n",
            "50/50 [==============================] - 10s 199ms/step - loss: 0.0213 - val_loss: 0.0887\n",
            "Epoch 28/50\n",
            "50/50 [==============================] - 10s 199ms/step - loss: 0.0199 - val_loss: 0.1127\n",
            "Epoch 29/50\n",
            "50/50 [==============================] - 10s 198ms/step - loss: 0.0208 - val_loss: 0.0821\n",
            "Epoch 30/50\n",
            "50/50 [==============================] - 10s 200ms/step - loss: 0.0205 - val_loss: 0.0864\n",
            "Epoch 31/50\n",
            "50/50 [==============================] - 10s 199ms/step - loss: 0.0182 - val_loss: 0.0902\n",
            "Epoch 32/50\n",
            "50/50 [==============================] - 10s 199ms/step - loss: 0.0194 - val_loss: 0.0614\n",
            "Epoch 33/50\n",
            "50/50 [==============================] - 10s 200ms/step - loss: 0.0185 - val_loss: 0.0928\n",
            "Epoch 34/50\n",
            "50/50 [==============================] - 10s 201ms/step - loss: 0.0179 - val_loss: 0.1088\n",
            "Epoch 35/50\n",
            "50/50 [==============================] - 11s 225ms/step - loss: 0.0178 - val_loss: 0.1277\n",
            "Epoch 36/50\n",
            "50/50 [==============================] - 10s 199ms/step - loss: 0.0180 - val_loss: 0.0915\n",
            "Epoch 37/50\n",
            "50/50 [==============================] - 10s 199ms/step - loss: 0.0184 - val_loss: 0.0687\n",
            "Epoch 38/50\n",
            "50/50 [==============================] - 10s 200ms/step - loss: 0.0173 - val_loss: 0.0892\n",
            "Epoch 39/50\n",
            "50/50 [==============================] - 10s 199ms/step - loss: 0.0159 - val_loss: 0.0759\n",
            "Epoch 40/50\n",
            "50/50 [==============================] - 10s 199ms/step - loss: 0.0151 - val_loss: 0.1832\n",
            "Epoch 41/50\n",
            "50/50 [==============================] - 10s 200ms/step - loss: 0.0164 - val_loss: 0.0801\n",
            "Epoch 42/50\n",
            "50/50 [==============================] - 10s 203ms/step - loss: 0.0156 - val_loss: 0.0888\n",
            "Epoch 43/50\n",
            "50/50 [==============================] - 10s 199ms/step - loss: 0.0153 - val_loss: 0.1416\n",
            "Epoch 44/50\n",
            "50/50 [==============================] - 10s 200ms/step - loss: 0.0149 - val_loss: 0.1244\n",
            "Epoch 45/50\n",
            "50/50 [==============================] - 10s 202ms/step - loss: 0.0156 - val_loss: 0.1905\n",
            "Epoch 46/50\n",
            "50/50 [==============================] - 10s 201ms/step - loss: 0.0174 - val_loss: 0.1141\n",
            "Epoch 47/50\n",
            "50/50 [==============================] - 11s 225ms/step - loss: 0.0157 - val_loss: 0.0738\n",
            "Epoch 48/50\n",
            "50/50 [==============================] - 10s 208ms/step - loss: 0.0145 - val_loss: 0.1337\n",
            "Epoch 49/50\n",
            "50/50 [==============================] - 10s 200ms/step - loss: 0.0155 - val_loss: 0.1206\n",
            "Epoch 50/50\n",
            "50/50 [==============================] - 10s 200ms/step - loss: 0.0136 - val_loss: 0.0863\n"
          ]
        }
      ],
      "source": [
        "loss_history = model.fit(siam_gen([df[\"text\"], df[\"reason\"]], 64), \n",
        "                         validation_data = siam_gen([eval_df[\"text\"].values, eval_df[\"reason\"].values], 32),\n",
        "                         steps_per_epoch=50, validation_steps=10, epochs = 50, \n",
        "                         verbose = True, use_multiprocessing=True)"
      ]
    },
    {
      "cell_type": "code",
      "execution_count": 39,
      "id": "4e5cf29b",
      "metadata": {
        "id": "4e5cf29b"
      },
      "outputs": [],
      "source": [
        "left_input = tf.keras.Input(shape=(), dtype=tf.string)\n",
        "right_input = tf.keras.Input(shape=(), dtype=tf.string)\n",
        "\n",
        "textEmbedding = textModel(left_input)\n",
        "reasonEmbedding = reasonModel(right_input)\n",
        "\n",
        "cosine_similiarity=tf.keras.layers.Dot(axes=-1,normalize=True)([textEmbedding, reasonEmbedding])\n",
        "\n",
        "\n",
        "classifier_model = Model(inputs = [left_input, right_input], outputs = [cosine_similiarity], name=\"classifier_model\")"
      ]
    },
    {
      "cell_type": "code",
      "execution_count": 40,
      "id": "d3245393",
      "metadata": {
        "id": "d3245393",
        "outputId": "9d69f263-0446-428f-e77f-8394b917b088",
        "colab": {
          "base_uri": "https://localhost:8080/"
        }
      },
      "outputs": [
        {
          "output_type": "stream",
          "name": "stdout",
          "text": [
            "Model: \"classifier_model\"\n",
            "__________________________________________________________________________________________________\n",
            " Layer (type)                   Output Shape         Param #     Connected to                     \n",
            "==================================================================================================\n",
            " input_15 (InputLayer)          [(None,)]            0           []                               \n",
            "                                                                                                  \n",
            " input_16 (InputLayer)          [(None,)]            0           []                               \n",
            "                                                                                                  \n",
            " model_2 (Functional)           (None, 32)           256832992   ['input_15[0][0]']               \n",
            "                                                                                                  \n",
            " model_3 (Functional)           (None, 32)           256832992   ['input_16[0][0]']               \n",
            "                                                                                                  \n",
            " dot_1 (Dot)                    (None, 1)            0           ['model_2[1][0]',                \n",
            "                                                                  'model_3[2][0]']                \n",
            "                                                                                                  \n",
            "==================================================================================================\n",
            "Total params: 256,868,160\n",
            "Trainable params: 256,867,904\n",
            "Non-trainable params: 256\n",
            "__________________________________________________________________________________________________\n"
          ]
        }
      ],
      "source": [
        "classifier_model.summary()"
      ]
    },
    {
      "cell_type": "code",
      "execution_count": 41,
      "id": "b0dd41b8",
      "metadata": {
        "id": "b0dd41b8",
        "outputId": "1f417dfd-1753-4fdc-ff8d-bb9f7689aa11",
        "colab": {
          "base_uri": "https://localhost:8080/"
        }
      },
      "outputs": [
        {
          "output_type": "execute_result",
          "data": {
            "text/plain": [
              "0.7942746239689471"
            ]
          },
          "metadata": {},
          "execution_count": 41
        }
      ],
      "source": [
        "y_preds = classifier_model.predict([df['text'], df['reason']])\n",
        "accuracy(df[\"label\"], y_preds)"
      ]
    },
    {
      "cell_type": "code",
      "execution_count": 42,
      "id": "d1fed3c5",
      "metadata": {
        "id": "d1fed3c5",
        "outputId": "ef4ac4f7-4a70-479f-99a5-1aa234015d2b",
        "colab": {
          "base_uri": "https://localhost:8080/"
        }
      },
      "outputs": [
        {
          "output_type": "execute_result",
          "data": {
            "text/plain": [
              "0.6054444444444445"
            ]
          },
          "metadata": {},
          "execution_count": 42
        }
      ],
      "source": [
        "y_preds = classifier_model.predict([df_test['text'], df_test['reason']])\n",
        "accuracy(df_test[\"label\"], y_preds)"
      ]
    },
    {
      "cell_type": "code",
      "execution_count": null,
      "id": "816cf323",
      "metadata": {
        "id": "816cf323"
      },
      "outputs": [],
      "source": [
        ""
      ]
    },
    {
      "cell_type": "code",
      "execution_count": null,
      "id": "2e3e2d20",
      "metadata": {
        "id": "2e3e2d20"
      },
      "outputs": [],
      "source": [
        ""
      ]
    },
    {
      "cell_type": "code",
      "execution_count": null,
      "id": "65d02e67",
      "metadata": {
        "id": "65d02e67"
      },
      "outputs": [],
      "source": [
        ""
      ]
    },
    {
      "cell_type": "code",
      "execution_count": null,
      "id": "2e26d4c5",
      "metadata": {
        "id": "2e26d4c5"
      },
      "outputs": [],
      "source": [
        ""
      ]
    }
  ],
  "metadata": {
    "kernelspec": {
      "display_name": "mlAsgmt",
      "language": "python",
      "name": "mlasgmt"
    },
    "language_info": {
      "codemirror_mode": {
        "name": "ipython",
        "version": 3
      },
      "file_extension": ".py",
      "mimetype": "text/x-python",
      "name": "python",
      "nbconvert_exporter": "python",
      "pygments_lexer": "ipython3",
      "version": "3.7.9"
    },
    "colab": {
      "name": "useTripleLoss .ipynb",
      "provenance": []
    },
    "accelerator": "GPU",
    "gpuClass": "standard"
  },
  "nbformat": 4,
  "nbformat_minor": 5
}