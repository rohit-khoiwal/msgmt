{
  "cells": [
    {
      "cell_type": "code",
      "source": [
        "from google.colab import drive\n",
        "drive.mount('/content/drive')"
      ],
      "metadata": {
        "colab": {
          "base_uri": "https://localhost:8080/"
        },
        "id": "BQK-aqenpWDl",
        "outputId": "b49dd8e3-bf53-4f14-ae2f-50a89c3c962e"
      },
      "id": "BQK-aqenpWDl",
      "execution_count": 1,
      "outputs": [
        {
          "output_type": "stream",
          "name": "stdout",
          "text": [
            "Mounted at /content/drive\n"
          ]
        }
      ]
    },
    {
      "cell_type": "code",
      "source": [
        "%cd /content/drive/MyDrive/Github/"
      ],
      "metadata": {
        "colab": {
          "base_uri": "https://localhost:8080/"
        },
        "id": "UedDPfaYpV7A",
        "outputId": "6f271ac0-7695-4101-bd3c-b002f95a9cdf"
      },
      "id": "UedDPfaYpV7A",
      "execution_count": 2,
      "outputs": [
        {
          "output_type": "stream",
          "name": "stdout",
          "text": [
            "/content/drive/MyDrive/Github\n"
          ]
        }
      ]
    },
    {
      "cell_type": "code",
      "source": [
        "!git pull https://github.com/rohit-khoiwal-30/msgmt.git"
      ],
      "metadata": {
        "colab": {
          "base_uri": "https://localhost:8080/"
        },
        "id": "TwDCH3ZzpV1M",
        "outputId": "f01672e5-7a22-4c3b-8959-725633b9ff3b"
      },
      "id": "TwDCH3ZzpV1M",
      "execution_count": 3,
      "outputs": [
        {
          "output_type": "stream",
          "name": "stdout",
          "text": [
            "From https://github.com/rohit-khoiwal-30/msgmt\n",
            " * branch            HEAD       -> FETCH_HEAD\n",
            "Already up to date.\n"
          ]
        }
      ]
    },
    {
      "cell_type": "code",
      "execution_count": 4,
      "id": "c4c1a617",
      "metadata": {
        "id": "c4c1a617"
      },
      "outputs": [],
      "source": [
        "import pandas as pd"
      ]
    },
    {
      "cell_type": "code",
      "execution_count": 5,
      "id": "58f25200",
      "metadata": {
        "id": "58f25200"
      },
      "outputs": [],
      "source": [
        "df = pd.read_csv(\"augment_train.csv\")\n",
        "df_test = pd.read_csv(\"evaluation.csv\")"
      ]
    },
    {
      "cell_type": "code",
      "execution_count": 6,
      "id": "60970f05",
      "metadata": {
        "id": "60970f05",
        "outputId": "56eeab04-1d9a-4452-91e3-33916a3f75a2",
        "colab": {
          "base_uri": "https://localhost:8080/"
        }
      },
      "outputs": [
        {
          "output_type": "stream",
          "name": "stdout",
          "text": [
            "  Building wheel for keras-self-attention (setup.py) ... \u001b[?25l\u001b[?25hdone\n"
          ]
        }
      ],
      "source": [
        "import tensorflow as tf\n",
        "import tensorflow.keras.backend as K\n",
        "import tensorflow.keras.layers as tfl\n",
        "from tensorflow.keras.models import Model\n",
        "from tensorflow.keras.callbacks import ModelCheckpoint\n",
        "from tensorflow.keras import Input\n",
        "from keras.regularizers import l2\n",
        "\n",
        "try:\n",
        "    import tensorflow_hub as hub\n",
        "except ModuleNotFoundError:\n",
        "    %pip install tensorflow_hub\n",
        "    import tensorflow_hub as hub\n",
        "    \n",
        "try:\n",
        "    from keras_self_attention import SeqSelfAttention\n",
        "except ModuleNotFoundError:\n",
        "    %pip install -q keras-self-attention\n",
        "    from keras_self_attention import SeqSelfAttention\n",
        "\n",
        "import numpy as np\n",
        "\n",
        "\n",
        "# %pip install -q transformers\n",
        "# %pip install -q -U tensorflow-text\n",
        "# %pip install -q tf-models-official==2.7.0\n",
        "\n",
        "import math as m"
      ]
    },
    {
      "cell_type": "code",
      "execution_count": 7,
      "id": "722fb270",
      "metadata": {
        "id": "722fb270"
      },
      "outputs": [],
      "source": [
        "def gen_random_batch(in_groups, batch_halfsize = 8):\n",
        "    text_batch, reason_batch, nonreason_batch, y_hat = [], [], [], []\n",
        "    all_groups = list(range(in_groups[0].shape[0]))\n",
        "\n",
        "    group_idx = np.random.choice(all_groups, size = batch_halfsize*2)\n",
        "    text_batch += [in_groups[0][c_idx] for c_idx in group_idx]\n",
        "    \n",
        "    b_group_idx = group_idx\n",
        "    y_hat += [1]*batch_halfsize\n",
        "    reason_batch += [in_groups[1][c_idx] for c_idx in b_group_idx]\n",
        "    \n",
        "\n",
        "    non_group_idx = [np.random.choice([i for i in all_groups if i!=c_idx]) for c_idx in group_idx] \n",
        "    b_group_idx = non_group_idx\n",
        "    y_hat += [0]*batch_halfsize\n",
        "    nonreason_batch += [in_groups[1][c_idx] for c_idx in b_group_idx]\n",
        "            \n",
        "    return np.stack(text_batch, 0), np.stack(reason_batch, 0), np.stack(nonreason_batch, 0), np.stack(y_hat, 0)\n",
        "\n",
        "def siam_gen(in_groups, batch_size = 32):\n",
        "    while True:\n",
        "        text_stack, reason_stack, nonreason_stack, y_hatstack = gen_random_batch(in_groups, batch_size//2)\n",
        "        yield [text_stack, reason_stack, nonreason_stack], y_hatstack\n",
        "\n",
        "\n",
        "def identity_loss(y_true, y_pred):\n",
        "    return K.mean(y_pred)\n",
        "\n",
        "def triplet_loss(x, alpha = 0.2):\n",
        "    # Triplet Loss function.\n",
        "    anchor,positive,negative = x\n",
        "    # distance between the anchor and the positive\n",
        "    pos_dist = K.sum(K.square(anchor-positive),axis=1)\n",
        "    # distance between the anchor and the negative\n",
        "    neg_dist = K.sum(K.square(anchor-negative),axis=1)\n",
        "    # compute loss\n",
        "    basic_loss = pos_dist-neg_dist+alpha\n",
        "    loss = K.maximum(basic_loss,0.0)\n",
        "    return loss"
      ]
    },
    {
      "cell_type": "code",
      "execution_count": 8,
      "id": "90747622",
      "metadata": {
        "id": "90747622"
      },
      "outputs": [],
      "source": [
        "def accuracy(y_true, y_pred):\n",
        "    results = (y_pred >= 0.5).astype(int).squeeze()\n",
        "    return np.mean([y_true == results])"
      ]
    },
    {
      "cell_type": "code",
      "execution_count": 9,
      "id": "0237cee6",
      "metadata": {
        "id": "0237cee6"
      },
      "outputs": [],
      "source": [
        "huburl = \"https://tfhub.dev/google/universal-sentence-encoder/4\" \n",
        "fine_tuned_module_object = hub.load(huburl)"
      ]
    },
    {
      "cell_type": "code",
      "execution_count": 10,
      "id": "8010b51c",
      "metadata": {
        "id": "8010b51c"
      },
      "outputs": [],
      "source": [
        "def encoder1(name):\n",
        "    inputs = Input(shape=(), dtype=tf.string)\n",
        "\n",
        "    shared_embedding_layer = hub.KerasLayer(fine_tuned_module_object, trainable=True, name=name)\n",
        "    embedding_output= shared_embedding_layer(inputs)\n",
        "    a = tfl.Dense(128, activation=\"linear\", kernel_regularizer=l2(1e-3))(embedding_output)\n",
        "    a = tfl.BatchNormalization()(a)\n",
        "    a = tfl.Activation('relu')(a)\n",
        "    a = tfl.Dense(64, activation=\"linear\", kernel_regularizer=l2(1e-3))(a)\n",
        "    a = tfl.BatchNormalization()(a)\n",
        "    a = tfl.Activation('relu')(a)\n",
        "    a = tfl.Dense(32, activation=\"linear\", kernel_regularizer=l2(1e-3))(a)\n",
        "    a = tfl.BatchNormalization()(a)\n",
        "    outputs = tfl.Activation('relu')(a)\n",
        "    # outputs = tfl.Lambda(lambda x: K.l2_normalize(x,axis=-1))(a)\n",
        "    \n",
        "    model = Model(inputs, outputs)\n",
        "    return model\n",
        "\n",
        "def encoder2(name):\n",
        "    inputs = Input(shape=(), dtype=tf.string)\n",
        "\n",
        "    shared_embedding_layer = hub.KerasLayer(fine_tuned_module_object, trainable=True, name=name)\n",
        "    embedding_output= shared_embedding_layer(inputs)\n",
        "    a = tfl.Dense(64, activation=\"linear\", kernel_regularizer=l2(1e-3))(embedding_output)\n",
        "    a = tfl.BatchNormalization()(a)\n",
        "    a = tfl.Activation('relu')(a)\n",
        "    a = tfl.Dense(32, activation=\"linear\", kernel_regularizer=l2(1e-3))(a)\n",
        "    a = tfl.BatchNormalization()(a)\n",
        "    outputs = tfl.Activation('relu')(a)\n",
        "    # outputs = tfl.Lambda(lambda x: K.l2_normalize(x,axis=-1))(a)\n",
        "    \n",
        "    model = Model(inputs, outputs)\n",
        "    return model"
      ]
    },
    {
      "cell_type": "code",
      "execution_count": 11,
      "id": "05b1e776",
      "metadata": {
        "id": "05b1e776"
      },
      "outputs": [],
      "source": [
        "def get_model():\n",
        "    #textEncoder\n",
        "    inputText = Input(shape=(), dtype=tf.string)\n",
        "    textModel = encoder1(\"textBertEncoder\")\n",
        "    text_embedd = textModel(inputText)\n",
        "\n",
        "    #reasonEncoder\n",
        "    reasonModel = encoder2(\"reasonBertEncoder\")\n",
        "\n",
        "    inputReason = Input(shape=(), dtype=tf.string)\n",
        "    reason_embedd = reasonModel(inputReason)\n",
        "\n",
        "    #nonReasonEncoder\n",
        "    inputNotReason = Input(shape=(), dtype=tf.string)\n",
        "    nonreason_embedd = reasonModel(inputNotReason)\n",
        "\n",
        "    loss = tfl.Lambda(triplet_loss)([text_embedd, reason_embedd, nonreason_embedd])\n",
        "\n",
        "    model = Model(inputs = [inputText, inputReason, inputNotReason], outputs = [loss], name=\"bertModel\")\n",
        "    return model, textModel, reasonModel"
      ]
    },
    {
      "cell_type": "code",
      "execution_count": 12,
      "id": "aa8fbcab",
      "metadata": {
        "id": "aa8fbcab"
      },
      "outputs": [],
      "source": [
        "model, textModel, reasonModel = get_model()"
      ]
    },
    {
      "cell_type": "code",
      "execution_count": 13,
      "id": "5f2012db",
      "metadata": {
        "id": "5f2012db",
        "colab": {
          "base_uri": "https://localhost:8080/"
        },
        "outputId": "86fe7f2c-d625-4bf4-e52e-37b137a7ffda"
      },
      "outputs": [
        {
          "output_type": "stream",
          "name": "stdout",
          "text": [
            "Model: \"bertModel\"\n",
            "__________________________________________________________________________________________________\n",
            " Layer (type)                   Output Shape         Param #     Connected to                     \n",
            "==================================================================================================\n",
            " input_1 (InputLayer)           [(None,)]            0           []                               \n",
            "                                                                                                  \n",
            " input_4 (InputLayer)           [(None,)]            0           []                               \n",
            "                                                                                                  \n",
            " input_5 (InputLayer)           [(None,)]            0           []                               \n",
            "                                                                                                  \n",
            " model (Functional)             (None, 32)           256874720   ['input_1[0][0]']                \n",
            "                                                                                                  \n",
            " model_1 (Functional)           (None, 32)           256833120   ['input_4[0][0]',                \n",
            "                                                                  'input_5[0][0]']                \n",
            "                                                                                                  \n",
            " lambda (Lambda)                (None,)              0           ['model[0][0]',                  \n",
            "                                                                  'model_1[0][0]',                \n",
            "                                                                  'model_1[1][0]']                \n",
            "                                                                                                  \n",
            "==================================================================================================\n",
            "Total params: 256,910,016\n",
            "Trainable params: 256,909,376\n",
            "Non-trainable params: 640\n",
            "__________________________________________________________________________________________________\n"
          ]
        }
      ],
      "source": [
        "model.summary()"
      ]
    },
    {
      "cell_type": "code",
      "execution_count": 14,
      "id": "1f08cb06",
      "metadata": {
        "id": "1f08cb06"
      },
      "outputs": [],
      "source": [
        "model.compile(optimizer=\"adam\", loss = identity_loss)"
      ]
    },
    {
      "cell_type": "code",
      "source": [
        "eval_df = df_test[df_test['label'] == 1]"
      ],
      "metadata": {
        "id": "tHDpDqPAzb5I"
      },
      "id": "tHDpDqPAzb5I",
      "execution_count": 15,
      "outputs": []
    },
    {
      "cell_type": "code",
      "execution_count": 16,
      "id": "e31e0c4e",
      "metadata": {
        "id": "e31e0c4e",
        "colab": {
          "base_uri": "https://localhost:8080/"
        },
        "outputId": "0fb8c289-8fc7-4e20-870c-0dbd3822915e"
      },
      "outputs": [
        {
          "output_type": "stream",
          "name": "stdout",
          "text": [
            "Epoch 1/100\n",
            "50/50 [==============================] - 28s 282ms/step - loss: 2.9999 - val_loss: 0.6920\n",
            "Epoch 2/100\n",
            "50/50 [==============================] - 12s 236ms/step - loss: 1.9503 - val_loss: 0.7358\n",
            "Epoch 3/100\n",
            "50/50 [==============================] - 14s 273ms/step - loss: 1.5585 - val_loss: 0.7578\n",
            "Epoch 4/100\n",
            "50/50 [==============================] - 13s 254ms/step - loss: 1.4395 - val_loss: 0.9416\n",
            "Epoch 5/100\n",
            "50/50 [==============================] - 12s 247ms/step - loss: 1.2036 - val_loss: 1.0293\n",
            "Epoch 6/100\n",
            "50/50 [==============================] - 14s 276ms/step - loss: 1.1055 - val_loss: 1.0692\n",
            "Epoch 7/100\n",
            "50/50 [==============================] - 12s 249ms/step - loss: 1.0404 - val_loss: 1.0766\n",
            "Epoch 8/100\n",
            "50/50 [==============================] - 12s 248ms/step - loss: 0.9227 - val_loss: 1.0125\n",
            "Epoch 9/100\n",
            "50/50 [==============================] - 12s 250ms/step - loss: 0.9335 - val_loss: 0.8822\n",
            "Epoch 10/100\n",
            "50/50 [==============================] - 12s 248ms/step - loss: 0.8085 - val_loss: 0.8480\n",
            "Epoch 11/100\n",
            "50/50 [==============================] - 14s 277ms/step - loss: 0.8009 - val_loss: 0.8838\n",
            "Epoch 12/100\n",
            "50/50 [==============================] - 13s 251ms/step - loss: 0.7623 - val_loss: 0.8229\n",
            "Epoch 13/100\n",
            "50/50 [==============================] - 12s 249ms/step - loss: 0.7279 - val_loss: 0.7983\n",
            "Epoch 14/100\n",
            "50/50 [==============================] - 13s 251ms/step - loss: 0.7237 - val_loss: 0.8078\n",
            "Epoch 15/100\n",
            "50/50 [==============================] - 12s 248ms/step - loss: 0.7164 - val_loss: 0.8505\n",
            "Epoch 16/100\n",
            "50/50 [==============================] - 14s 281ms/step - loss: 0.6628 - val_loss: 0.8024\n",
            "Epoch 17/100\n",
            "50/50 [==============================] - 12s 249ms/step - loss: 0.6564 - val_loss: 0.7907\n",
            "Epoch 18/100\n",
            "50/50 [==============================] - 13s 252ms/step - loss: 0.6215 - val_loss: 0.7651\n",
            "Epoch 19/100\n",
            "50/50 [==============================] - 13s 252ms/step - loss: 0.6043 - val_loss: 0.7772\n",
            "Epoch 20/100\n",
            "50/50 [==============================] - 13s 254ms/step - loss: 0.6094 - val_loss: 0.8020\n",
            "Epoch 21/100\n",
            "50/50 [==============================] - 14s 288ms/step - loss: 0.5823 - val_loss: 0.7512\n",
            "Epoch 22/100\n",
            "50/50 [==============================] - 12s 249ms/step - loss: 0.5642 - val_loss: 0.7380\n",
            "Epoch 23/100\n",
            "50/50 [==============================] - 12s 249ms/step - loss: 0.5686 - val_loss: 0.7308\n",
            "Epoch 24/100\n",
            "50/50 [==============================] - 13s 256ms/step - loss: 0.5566 - val_loss: 0.7537\n",
            "Epoch 25/100\n",
            "50/50 [==============================] - 12s 248ms/step - loss: 0.5448 - val_loss: 0.7307\n",
            "Epoch 26/100\n",
            "50/50 [==============================] - 16s 329ms/step - loss: 0.5345 - val_loss: 0.7200\n",
            "Epoch 27/100\n",
            "50/50 [==============================] - 12s 248ms/step - loss: 0.5231 - val_loss: 0.6892\n",
            "Epoch 28/100\n",
            "50/50 [==============================] - 12s 248ms/step - loss: 0.5070 - val_loss: 0.6941\n",
            "Epoch 29/100\n",
            "50/50 [==============================] - 12s 246ms/step - loss: 0.5023 - val_loss: 0.6664\n",
            "Epoch 30/100\n",
            "50/50 [==============================] - 12s 244ms/step - loss: 0.5035 - val_loss: 0.5984\n",
            "Epoch 31/100\n",
            "50/50 [==============================] - 14s 287ms/step - loss: 0.4973 - val_loss: 0.5948\n",
            "Epoch 32/100\n",
            "50/50 [==============================] - 13s 250ms/step - loss: 0.4836 - val_loss: 0.6063\n",
            "Epoch 33/100\n",
            "50/50 [==============================] - 12s 247ms/step - loss: 0.4746 - val_loss: 0.5845\n",
            "Epoch 34/100\n",
            "50/50 [==============================] - 12s 246ms/step - loss: 0.4683 - val_loss: 0.5929\n",
            "Epoch 35/100\n",
            "50/50 [==============================] - 13s 250ms/step - loss: 0.4603 - val_loss: 0.5810\n",
            "Epoch 36/100\n",
            "50/50 [==============================] - 14s 285ms/step - loss: 0.4542 - val_loss: 0.5483\n",
            "Epoch 37/100\n",
            "50/50 [==============================] - 12s 245ms/step - loss: 0.4436 - val_loss: 0.5606\n",
            "Epoch 38/100\n",
            "50/50 [==============================] - 12s 244ms/step - loss: 0.4405 - val_loss: 0.5517\n",
            "Epoch 39/100\n",
            "50/50 [==============================] - 12s 244ms/step - loss: 0.4216 - val_loss: 0.5469\n",
            "Epoch 40/100\n",
            "50/50 [==============================] - 12s 249ms/step - loss: 0.4155 - val_loss: 0.5515\n",
            "Epoch 41/100\n",
            "50/50 [==============================] - 15s 292ms/step - loss: 0.4146 - val_loss: 0.5366\n",
            "Epoch 42/100\n",
            "50/50 [==============================] - 12s 247ms/step - loss: 0.4088 - val_loss: 0.5511\n",
            "Epoch 43/100\n",
            "50/50 [==============================] - 12s 250ms/step - loss: 0.3974 - val_loss: 0.5573\n",
            "Epoch 44/100\n",
            "50/50 [==============================] - 12s 245ms/step - loss: 0.3908 - val_loss: 0.5591\n",
            "Epoch 45/100\n",
            "50/50 [==============================] - 12s 249ms/step - loss: 0.3809 - val_loss: 0.5666\n",
            "Epoch 46/100\n",
            "50/50 [==============================] - 15s 298ms/step - loss: 0.3840 - val_loss: 0.5257\n",
            "Epoch 47/100\n",
            "50/50 [==============================] - 12s 246ms/step - loss: 0.3824 - val_loss: 0.5196\n",
            "Epoch 48/100\n",
            "50/50 [==============================] - 14s 284ms/step - loss: 0.3687 - val_loss: 0.4605\n",
            "Epoch 49/100\n",
            "50/50 [==============================] - 14s 271ms/step - loss: 0.3515 - val_loss: 0.4701\n",
            "Epoch 50/100\n",
            "50/50 [==============================] - 12s 247ms/step - loss: 0.3548 - val_loss: 0.4701\n",
            "Epoch 51/100\n",
            "50/50 [==============================] - 15s 305ms/step - loss: 0.3544 - val_loss: 0.4782\n",
            "Epoch 52/100\n",
            "50/50 [==============================] - 12s 251ms/step - loss: 0.3483 - val_loss: 0.4473\n",
            "Epoch 53/100\n",
            "50/50 [==============================] - 12s 246ms/step - loss: 0.3355 - val_loss: 0.4276\n",
            "Epoch 54/100\n",
            "50/50 [==============================] - 12s 246ms/step - loss: 0.3310 - val_loss: 0.4210\n",
            "Epoch 55/100\n",
            "50/50 [==============================] - 12s 248ms/step - loss: 0.3213 - val_loss: 0.4098\n",
            "Epoch 56/100\n",
            "50/50 [==============================] - 15s 309ms/step - loss: 0.3087 - val_loss: 0.4290\n",
            "Epoch 57/100\n",
            "50/50 [==============================] - 12s 246ms/step - loss: 0.3160 - val_loss: 0.4602\n",
            "Epoch 58/100\n",
            "50/50 [==============================] - 12s 243ms/step - loss: 0.3100 - val_loss: 0.4705\n",
            "Epoch 59/100\n",
            "50/50 [==============================] - 13s 253ms/step - loss: 0.2994 - val_loss: 0.4254\n",
            "Epoch 60/100\n",
            "50/50 [==============================] - 12s 247ms/step - loss: 0.2917 - val_loss: 0.4042\n",
            "Epoch 61/100\n",
            "50/50 [==============================] - 15s 307ms/step - loss: 0.2956 - val_loss: 0.4241\n",
            "Epoch 62/100\n",
            "50/50 [==============================] - 12s 243ms/step - loss: 0.2870 - val_loss: 0.3977\n",
            "Epoch 63/100\n",
            "50/50 [==============================] - 12s 249ms/step - loss: 0.2798 - val_loss: 0.3923\n",
            "Epoch 64/100\n",
            "50/50 [==============================] - 13s 251ms/step - loss: 0.2701 - val_loss: 0.3852\n",
            "Epoch 65/100\n",
            "50/50 [==============================] - 12s 250ms/step - loss: 0.2621 - val_loss: 0.4116\n",
            "Epoch 66/100\n",
            "50/50 [==============================] - 16s 315ms/step - loss: 0.2639 - val_loss: 0.3934\n",
            "Epoch 67/100\n",
            "50/50 [==============================] - 12s 250ms/step - loss: 0.2586 - val_loss: 0.3561\n",
            "Epoch 68/100\n",
            "50/50 [==============================] - 12s 248ms/step - loss: 0.2527 - val_loss: 0.3367\n",
            "Epoch 69/100\n",
            "50/50 [==============================] - 12s 248ms/step - loss: 0.2489 - val_loss: 0.3528\n",
            "Epoch 70/100\n",
            "50/50 [==============================] - 13s 256ms/step - loss: 0.2469 - val_loss: 0.3449\n",
            "Epoch 71/100\n",
            "50/50 [==============================] - 19s 386ms/step - loss: 0.2447 - val_loss: 0.3593\n",
            "Epoch 72/100\n",
            "50/50 [==============================] - 12s 244ms/step - loss: 0.2323 - val_loss: 0.3382\n",
            "Epoch 73/100\n",
            "50/50 [==============================] - 13s 251ms/step - loss: 0.2327 - val_loss: 0.3283\n",
            "Epoch 74/100\n",
            "50/50 [==============================] - 12s 246ms/step - loss: 0.2242 - val_loss: 0.3331\n",
            "Epoch 75/100\n",
            "50/50 [==============================] - 14s 282ms/step - loss: 0.2276 - val_loss: 0.2935\n",
            "Epoch 76/100\n",
            "50/50 [==============================] - 15s 290ms/step - loss: 0.2069 - val_loss: 0.2946\n",
            "Epoch 77/100\n",
            "50/50 [==============================] - 13s 253ms/step - loss: 0.2178 - val_loss: 0.3032\n",
            "Epoch 78/100\n",
            "50/50 [==============================] - 12s 249ms/step - loss: 0.2085 - val_loss: 0.3210\n",
            "Epoch 79/100\n",
            "50/50 [==============================] - 12s 249ms/step - loss: 0.2027 - val_loss: 0.3070\n",
            "Epoch 80/100\n",
            "50/50 [==============================] - 16s 322ms/step - loss: 0.2055 - val_loss: 0.2988\n",
            "Epoch 81/100\n",
            "50/50 [==============================] - 13s 250ms/step - loss: 0.1986 - val_loss: 0.2879\n",
            "Epoch 82/100\n",
            "50/50 [==============================] - 12s 248ms/step - loss: 0.1872 - val_loss: 0.2698\n",
            "Epoch 83/100\n",
            "50/50 [==============================] - 13s 251ms/step - loss: 0.1865 - val_loss: 0.2519\n",
            "Epoch 84/100\n",
            "50/50 [==============================] - 13s 251ms/step - loss: 0.1878 - val_loss: 0.2953\n",
            "Epoch 85/100\n",
            "50/50 [==============================] - 15s 293ms/step - loss: 0.1792 - val_loss: 0.2920\n",
            "Epoch 86/100\n",
            "50/50 [==============================] - 15s 293ms/step - loss: 0.1757 - val_loss: 0.2786\n",
            "Epoch 87/100\n",
            "50/50 [==============================] - 13s 252ms/step - loss: 0.1711 - val_loss: 0.2677\n",
            "Epoch 88/100\n",
            "50/50 [==============================] - 13s 254ms/step - loss: 0.1656 - val_loss: 0.2566\n",
            "Epoch 89/100\n",
            "50/50 [==============================] - 13s 255ms/step - loss: 0.1677 - val_loss: 0.2505\n",
            "Epoch 90/100\n",
            "50/50 [==============================] - 16s 331ms/step - loss: 0.1647 - val_loss: 0.2611\n",
            "Epoch 91/100\n",
            "50/50 [==============================] - 13s 254ms/step - loss: 0.1656 - val_loss: 0.2954\n",
            "Epoch 92/100\n",
            "50/50 [==============================] - 16s 330ms/step - loss: 0.1602 - val_loss: 0.2576\n",
            "Epoch 93/100\n",
            "50/50 [==============================] - 13s 251ms/step - loss: 0.1569 - val_loss: 0.2455\n",
            "Epoch 94/100\n",
            "50/50 [==============================] - 15s 308ms/step - loss: 0.1510 - val_loss: 0.2386\n",
            "Epoch 95/100\n",
            "50/50 [==============================] - 14s 285ms/step - loss: 0.1487 - val_loss: 0.2454\n",
            "Epoch 96/100\n",
            "50/50 [==============================] - 12s 243ms/step - loss: 0.1490 - val_loss: 0.2366\n",
            "Epoch 97/100\n",
            "50/50 [==============================] - 13s 254ms/step - loss: 0.1461 - val_loss: 0.2267\n",
            "Epoch 98/100\n",
            "50/50 [==============================] - 13s 252ms/step - loss: 0.1369 - val_loss: 0.2099\n",
            "Epoch 99/100\n",
            "50/50 [==============================] - 17s 336ms/step - loss: 0.1457 - val_loss: 0.2334\n",
            "Epoch 100/100\n",
            "50/50 [==============================] - 13s 265ms/step - loss: 0.1403 - val_loss: 0.2465\n"
          ]
        }
      ],
      "source": [
        "loss_history = model.fit(siam_gen([df[\"texts\"], df[\"reason\"]], 64), \n",
        "                         validation_data = siam_gen([eval_df[\"text\"].values, eval_df[\"reason\"].values], 64),\n",
        "                         steps_per_epoch=50, validation_steps=10, epochs = 100, \n",
        "                         verbose = True, use_multiprocessing=True)"
      ]
    },
    {
      "cell_type": "code",
      "execution_count": 17,
      "id": "4e5cf29b",
      "metadata": {
        "id": "4e5cf29b"
      },
      "outputs": [],
      "source": [
        "left_input = tf.keras.Input(shape=(), dtype=tf.string)\n",
        "right_input = tf.keras.Input(shape=(), dtype=tf.string)\n",
        "\n",
        "textEmbedding = textModel(left_input)\n",
        "reasonEmbedding = reasonModel(right_input)\n",
        "\n",
        "cosine_similiarity=tf.keras.layers.Dot(axes=-1,normalize=True)([textEmbedding, reasonEmbedding])\n",
        "\n",
        "\n",
        "classifier_model = Model(inputs = [left_input, right_input], outputs = [cosine_similiarity], name=\"classifier_model\")"
      ]
    },
    {
      "cell_type": "code",
      "execution_count": 18,
      "id": "d3245393",
      "metadata": {
        "id": "d3245393",
        "colab": {
          "base_uri": "https://localhost:8080/"
        },
        "outputId": "09616c1a-2614-4e68-8f04-f3d3db3ded9c"
      },
      "outputs": [
        {
          "output_type": "stream",
          "name": "stdout",
          "text": [
            "Model: \"classifier_model\"\n",
            "__________________________________________________________________________________________________\n",
            " Layer (type)                   Output Shape         Param #     Connected to                     \n",
            "==================================================================================================\n",
            " input_6 (InputLayer)           [(None,)]            0           []                               \n",
            "                                                                                                  \n",
            " input_7 (InputLayer)           [(None,)]            0           []                               \n",
            "                                                                                                  \n",
            " model (Functional)             (None, 32)           256874720   ['input_6[0][0]']                \n",
            "                                                                                                  \n",
            " model_1 (Functional)           (None, 32)           256833120   ['input_7[0][0]']                \n",
            "                                                                                                  \n",
            " dot (Dot)                      (None, 1)            0           ['model[1][0]',                  \n",
            "                                                                  'model_1[2][0]']                \n",
            "                                                                                                  \n",
            "==================================================================================================\n",
            "Total params: 256,910,016\n",
            "Trainable params: 256,909,376\n",
            "Non-trainable params: 640\n",
            "__________________________________________________________________________________________________\n"
          ]
        }
      ],
      "source": [
        "classifier_model.summary()"
      ]
    },
    {
      "cell_type": "code",
      "execution_count": 19,
      "id": "b0dd41b8",
      "metadata": {
        "id": "b0dd41b8",
        "colab": {
          "base_uri": "https://localhost:8080/"
        },
        "outputId": "bb2e0a07-c6bd-4bee-fc96-7d1107fc2b47"
      },
      "outputs": [
        {
          "output_type": "execute_result",
          "data": {
            "text/plain": [
              "0.7417977802170996"
            ]
          },
          "metadata": {},
          "execution_count": 19
        }
      ],
      "source": [
        "y_preds = classifier_model.predict([df['texts'], df['reason']])\n",
        "accuracy(df[\"label\"], y_preds)"
      ]
    },
    {
      "cell_type": "code",
      "source": [
        "from sklearn.metrics import brier_score_loss as brier_loss\n",
        "from sklearn.metrics import precision_score\n",
        "from sklearn.metrics import recall_score\n",
        "from sklearn.metrics import f1_score\n",
        "from sklearn.metrics import roc_auc_score\n",
        "from sklearn.metrics import log_loss"
      ],
      "metadata": {
        "id": "Is39pOC0cw9e"
      },
      "id": "Is39pOC0cw9e",
      "execution_count": 20,
      "outputs": []
    },
    {
      "cell_type": "code",
      "source": [
        "y_hat = (y_preds >= 0.5).astype(int)"
      ],
      "metadata": {
        "id": "LmgDWhKPgNdy"
      },
      "id": "LmgDWhKPgNdy",
      "execution_count": 21,
      "outputs": []
    },
    {
      "cell_type": "code",
      "source": [
        "print(\"Brier Loss                       : \", brier_loss(df['label'], y_preds))\n",
        "print(\"Precision Score                  : \", precision_score(df['label'], y_hat))\n",
        "print(\"Recall Score                     : \", recall_score(df['label'], y_hat))\n",
        "print(\"F1 Score                         : \", f1_score(df['label'], y_hat))\n",
        "# print(\"Roc AUC Score                    : \", roc_auc_score(df['label'], y_preds))\n",
        "# print(\"BCE Loss                         : \", log_loss(df['label'], y_preds))"
      ],
      "metadata": {
        "id": "FolU8Zbacw6W",
        "outputId": "74ba821a-aee6-465d-95d1-74642b7bbcfe",
        "colab": {
          "base_uri": "https://localhost:8080/"
        }
      },
      "id": "FolU8Zbacw6W",
      "execution_count": 22,
      "outputs": [
        {
          "output_type": "stream",
          "name": "stdout",
          "text": [
            "Brier Loss                       :  0.1991645213755615\n",
            "Precision Score                  :  1.0\n",
            "Recall Score                     :  0.7417977802170996\n",
            "F1 Score                         :  0.8517610811567817\n"
          ]
        }
      ]
    },
    {
      "cell_type": "code",
      "source": [
        "max(y_preds), min(y_preds)"
      ],
      "metadata": {
        "id": "pHcDIJBycw4E",
        "outputId": "b4ac039f-49d7-43dc-d1ce-6d2683206996",
        "colab": {
          "base_uri": "https://localhost:8080/"
        }
      },
      "id": "pHcDIJBycw4E",
      "execution_count": 23,
      "outputs": [
        {
          "output_type": "execute_result",
          "data": {
            "text/plain": [
              "(array([0.91730636], dtype=float32), array([0.], dtype=float32))"
            ]
          },
          "metadata": {},
          "execution_count": 23
        }
      ]
    },
    {
      "cell_type": "code",
      "source": [
        ""
      ],
      "metadata": {
        "id": "WvMtO3yycw1i"
      },
      "id": "WvMtO3yycw1i",
      "execution_count": 23,
      "outputs": []
    },
    {
      "cell_type": "code",
      "source": [
        ""
      ],
      "metadata": {
        "id": "tjLi4-JGcwzB"
      },
      "id": "tjLi4-JGcwzB",
      "execution_count": 23,
      "outputs": []
    },
    {
      "cell_type": "code",
      "execution_count": 24,
      "id": "d1fed3c5",
      "metadata": {
        "id": "d1fed3c5",
        "colab": {
          "base_uri": "https://localhost:8080/"
        },
        "outputId": "c8ceb2b8-591a-404b-d222-b5ca852298fd"
      },
      "outputs": [
        {
          "output_type": "execute_result",
          "data": {
            "text/plain": [
              "0.5538888888888889"
            ]
          },
          "metadata": {},
          "execution_count": 24
        }
      ],
      "source": [
        "y_preds = classifier_model.predict([df_test['text'], df_test['reason']])\n",
        "accuracy(df_test[\"label\"], y_preds)"
      ]
    },
    {
      "cell_type": "code",
      "source": [
        "max(y_preds), min(y_preds)"
      ],
      "metadata": {
        "id": "8bD3kcFRedYU",
        "outputId": "c6fd1eb3-abfa-458d-e267-bb8f3acf961d",
        "colab": {
          "base_uri": "https://localhost:8080/"
        }
      },
      "id": "8bD3kcFRedYU",
      "execution_count": 25,
      "outputs": [
        {
          "output_type": "execute_result",
          "data": {
            "text/plain": [
              "(array([0.9213097], dtype=float32), array([0.], dtype=float32))"
            ]
          },
          "metadata": {},
          "execution_count": 25
        }
      ]
    },
    {
      "cell_type": "code",
      "source": [
        "y_hat = (y_preds >= 0.5).astype(int)"
      ],
      "metadata": {
        "id": "VwJlKztCgW5a"
      },
      "id": "VwJlKztCgW5a",
      "execution_count": 26,
      "outputs": []
    },
    {
      "cell_type": "code",
      "source": [
        "print(\"Brier Loss                       : \", brier_loss(df_test['label'], y_preds))\n",
        "print(\"Precision Score                  : \", precision_score(df_test['label'], y_hat))\n",
        "print(\"Recall Score                     : \", recall_score(df_test['label'], y_hat))\n",
        "print(\"F1 Score                         : \", f1_score(df_test['label'], y_hat))\n",
        "print(\"Roc AUC Score                    : \", roc_auc_score(df_test['label'], y_preds))\n",
        "print(\"BCE Loss                         : \", log_loss(df_test['label'], y_preds))"
      ],
      "metadata": {
        "id": "gOPYm5nVeYrj",
        "outputId": "31844158-6ea7-425f-f868-287906c80a16",
        "colab": {
          "base_uri": "https://localhost:8080/"
        }
      },
      "id": "gOPYm5nVeYrj",
      "execution_count": 27,
      "outputs": [
        {
          "output_type": "stream",
          "name": "stdout",
          "text": [
            "Brier Loss                       :  0.2478094855944127\n",
            "Precision Score                  :  0.40835140997830804\n",
            "Recall Score                     :  0.7527490836387871\n",
            "F1 Score                         :  0.5294738075706082\n",
            "Roc AUC Score                    :  0.655696281491767\n",
            "BCE Loss                         :  0.7203542785120921\n"
          ]
        }
      ]
    },
    {
      "cell_type": "code",
      "source": [
        ""
      ],
      "metadata": {
        "id": "_w6U29rDeis-"
      },
      "id": "_w6U29rDeis-",
      "execution_count": null,
      "outputs": []
    },
    {
      "cell_type": "code",
      "source": [
        ""
      ],
      "metadata": {
        "id": "1iQHCEsSeipZ"
      },
      "id": "1iQHCEsSeipZ",
      "execution_count": null,
      "outputs": []
    },
    {
      "cell_type": "code",
      "source": [
        ""
      ],
      "metadata": {
        "id": "9GZXjkpjeim_"
      },
      "id": "9GZXjkpjeim_",
      "execution_count": null,
      "outputs": []
    },
    {
      "cell_type": "code",
      "execution_count": null,
      "id": "816cf323",
      "metadata": {
        "id": "816cf323",
        "colab": {
          "base_uri": "https://localhost:8080/"
        },
        "outputId": "238687ea-cd65-4598-ee50-2972c4e8ee76"
      },
      "outputs": [
        {
          "output_type": "stream",
          "name": "stderr",
          "text": [
            "WARNING:tensorflow:Compiled the loaded model, but the compiled metrics have yet to be built. `model.compile_metrics` will be empty until you train or evaluate the model.\n"
          ]
        }
      ],
      "source": [
        "classifier_model.save(\"models/useTripletLoss/\")"
      ]
    },
    {
      "cell_type": "code",
      "execution_count": null,
      "id": "2e3e2d20",
      "metadata": {
        "id": "2e3e2d20"
      },
      "outputs": [],
      "source": [
        ""
      ]
    },
    {
      "cell_type": "code",
      "execution_count": null,
      "id": "65d02e67",
      "metadata": {
        "id": "65d02e67"
      },
      "outputs": [],
      "source": [
        ""
      ]
    },
    {
      "cell_type": "code",
      "execution_count": null,
      "id": "2e26d4c5",
      "metadata": {
        "id": "2e26d4c5"
      },
      "outputs": [],
      "source": [
        ""
      ]
    }
  ],
  "metadata": {
    "kernelspec": {
      "display_name": "mlAsgmt",
      "language": "python",
      "name": "mlasgmt"
    },
    "language_info": {
      "codemirror_mode": {
        "name": "ipython",
        "version": 3
      },
      "file_extension": ".py",
      "mimetype": "text/x-python",
      "name": "python",
      "nbconvert_exporter": "python",
      "pygments_lexer": "ipython3",
      "version": "3.7.9"
    },
    "colab": {
      "name": "useTripleLoss .ipynb",
      "provenance": []
    },
    "accelerator": "GPU",
    "gpuClass": "standard"
  },
  "nbformat": 4,
  "nbformat_minor": 5
}