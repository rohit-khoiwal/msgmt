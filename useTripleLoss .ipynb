{
  "cells": [
    {
      "cell_type": "code",
      "source": [
        "from google.colab import drive\n",
        "drive.mount('/content/drive')"
      ],
      "metadata": {
        "colab": {
          "base_uri": "https://localhost:8080/"
        },
        "id": "BQK-aqenpWDl",
        "outputId": "7f9c920d-ca4e-4205-f3e8-220907f55ad9"
      },
      "id": "BQK-aqenpWDl",
      "execution_count": 1,
      "outputs": [
        {
          "output_type": "stream",
          "name": "stdout",
          "text": [
            "Mounted at /content/drive\n"
          ]
        }
      ]
    },
    {
      "cell_type": "code",
      "source": [
        "%cd /content/drive/MyDrive/Github/"
      ],
      "metadata": {
        "colab": {
          "base_uri": "https://localhost:8080/"
        },
        "id": "UedDPfaYpV7A",
        "outputId": "b74624ea-023e-41e0-82b6-a14664b7b2f6"
      },
      "id": "UedDPfaYpV7A",
      "execution_count": 2,
      "outputs": [
        {
          "output_type": "stream",
          "name": "stdout",
          "text": [
            "/content/drive/MyDrive/Github\n"
          ]
        }
      ]
    },
    {
      "cell_type": "code",
      "source": [
        "!git pull https://github.com/rohit-khoiwal-30/msgmt.git"
      ],
      "metadata": {
        "colab": {
          "base_uri": "https://localhost:8080/"
        },
        "id": "TwDCH3ZzpV1M",
        "outputId": "d61d0e41-cbe9-402b-d79d-7f4da336094a"
      },
      "id": "TwDCH3ZzpV1M",
      "execution_count": 3,
      "outputs": [
        {
          "output_type": "stream",
          "name": "stdout",
          "text": [
            "remote: Enumerating objects: 12, done.\u001b[K\n",
            "remote: Counting objects:   8% (1/12)\u001b[K\rremote: Counting objects:  16% (2/12)\u001b[K\rremote: Counting objects:  25% (3/12)\u001b[K\rremote: Counting objects:  33% (4/12)\u001b[K\rremote: Counting objects:  41% (5/12)\u001b[K\rremote: Counting objects:  50% (6/12)\u001b[K\rremote: Counting objects:  58% (7/12)\u001b[K\rremote: Counting objects:  66% (8/12)\u001b[K\rremote: Counting objects:  75% (9/12)\u001b[K\rremote: Counting objects:  83% (10/12)\u001b[K\rremote: Counting objects:  91% (11/12)\u001b[K\rremote: Counting objects: 100% (12/12)\u001b[K\rremote: Counting objects: 100% (12/12), done.\u001b[K\n",
            "remote: Compressing objects:  11% (1/9)\u001b[K\rremote: Compressing objects:  22% (2/9)\u001b[K\rremote: Compressing objects:  33% (3/9)\u001b[K\rremote: Compressing objects:  44% (4/9)\u001b[K\rremote: Compressing objects:  55% (5/9)\u001b[K\rremote: Compressing objects:  66% (6/9)\u001b[K\rremote: Compressing objects:  77% (7/9)\u001b[K\rremote: Compressing objects:  88% (8/9)\u001b[K\rremote: Compressing objects: 100% (9/9)\u001b[K\rremote: Compressing objects: 100% (9/9), done.\u001b[K\n",
            "remote: Total 9 (delta 5), reused 0 (delta 0), pack-reused 0\u001b[K\n",
            "Unpacking objects: 100% (9/9), done.\n",
            "From https://github.com/rohit-khoiwal-30/msgmt\n",
            " * branch            HEAD       -> FETCH_HEAD\n",
            "Updating a5224bf..293f5ec\n",
            "Fast-forward\n",
            " useEUCL-checkpoint.ipynb | 234 \u001b[32m+++++++++\u001b[m\u001b[31m----------\u001b[m\n",
            " useTripleLoss .ipynb     | 567 \u001b[32m++++++++++++++++++++++++++++++++++\u001b[m\u001b[31m-------------\u001b[m\n",
            " 2 files changed, 524 insertions(+), 277 deletions(-)\n"
          ]
        }
      ]
    },
    {
      "cell_type": "code",
      "execution_count": 4,
      "id": "c4c1a617",
      "metadata": {
        "id": "c4c1a617"
      },
      "outputs": [],
      "source": [
        "import pandas as pd"
      ]
    },
    {
      "cell_type": "code",
      "execution_count": 5,
      "id": "58f25200",
      "metadata": {
        "id": "58f25200"
      },
      "outputs": [],
      "source": [
        "df = pd.read_csv(\"train.csv\")\n",
        "df_test = pd.read_csv(\"evaluation.csv\")"
      ]
    },
    {
      "cell_type": "code",
      "execution_count": 6,
      "id": "60970f05",
      "metadata": {
        "id": "60970f05",
        "outputId": "4607155f-177c-4c70-ecd1-da3ca157d638",
        "colab": {
          "base_uri": "https://localhost:8080/"
        }
      },
      "outputs": [
        {
          "output_type": "stream",
          "name": "stdout",
          "text": [
            "  Building wheel for keras-self-attention (setup.py) ... \u001b[?25l\u001b[?25hdone\n"
          ]
        }
      ],
      "source": [
        "import tensorflow as tf\n",
        "import tensorflow.keras.backend as K\n",
        "import tensorflow.keras.layers as tfl\n",
        "from tensorflow.keras.models import Model\n",
        "from tensorflow.keras.callbacks import ModelCheckpoint\n",
        "from tensorflow.keras import Input\n",
        "from keras.regularizers import l2\n",
        "\n",
        "try:\n",
        "    import tensorflow_hub as hub\n",
        "except ModuleNotFoundError:\n",
        "    %pip install tensorflow_hub\n",
        "    import tensorflow_hub as hub\n",
        "    \n",
        "try:\n",
        "    from keras_self_attention import SeqSelfAttention\n",
        "except ModuleNotFoundError:\n",
        "    %pip install -q keras-self-attention\n",
        "    from keras_self_attention import SeqSelfAttention\n",
        "\n",
        "import numpy as np\n",
        "\n",
        "\n",
        "# %pip install -q transformers\n",
        "# %pip install -q -U tensorflow-text\n",
        "# %pip install -q tf-models-official==2.7.0\n",
        "\n",
        "import math as m"
      ]
    },
    {
      "cell_type": "code",
      "execution_count": 7,
      "id": "39e6d422",
      "metadata": {
        "id": "39e6d422"
      },
      "outputs": [],
      "source": [
        "huburl = \"https://tfhub.dev/google/universal-sentence-encoder/4\" \n",
        "fine_tuned_module_object = hub.load(huburl)"
      ]
    },
    {
      "cell_type": "code",
      "execution_count": 8,
      "id": "722fb270",
      "metadata": {
        "id": "722fb270"
      },
      "outputs": [],
      "source": [
        "def gen_random_batch(in_groups, batch_halfsize = 8):\n",
        "    text_batch, reason_batch, nonreason_batch, y_hat = [], [], [], []\n",
        "    all_groups = list(range(in_groups[0].shape[0]))\n",
        "\n",
        "    group_idx = np.random.choice(all_groups, size = batch_halfsize*2)\n",
        "    text_batch += [in_groups[0][c_idx] for c_idx in group_idx]\n",
        "    \n",
        "    b_group_idx = group_idx\n",
        "    y_hat += [1]*batch_halfsize\n",
        "    reason_batch += [in_groups[1][c_idx] for c_idx in b_group_idx]\n",
        "    \n",
        "\n",
        "    non_group_idx = [np.random.choice([i for i in all_groups if i!=c_idx]) for c_idx in group_idx] \n",
        "    b_group_idx = non_group_idx\n",
        "    y_hat += [0]*batch_halfsize\n",
        "    nonreason_batch += [in_groups[1][c_idx] for c_idx in b_group_idx]\n",
        "            \n",
        "    return np.stack(text_batch, 0), np.stack(reason_batch, 0), np.stack(nonreason_batch, 0), np.stack(y_hat, 0)\n",
        "\n",
        "def siam_gen(in_groups, batch_size = 32):\n",
        "    while True:\n",
        "        text_stack, reason_stack, nonreason_stack, y_hatstack = gen_random_batch(in_groups, batch_size//2)\n",
        "        yield [text_stack, reason_stack, nonreason_stack], y_hatstack\n",
        "\n",
        "\n",
        "def identity_loss(y_true, y_pred):\n",
        "    return K.mean(y_pred)\n",
        "\n",
        "def triplet_loss(x, alpha = 0.2):\n",
        "    # Triplet Loss function.\n",
        "    anchor,positive,negative = x\n",
        "    # distance between the anchor and the positive\n",
        "    pos_dist = K.sum(K.square(anchor-positive),axis=1)\n",
        "    # distance between the anchor and the negative\n",
        "    neg_dist = K.sum(K.square(anchor-negative),axis=1)\n",
        "    # compute loss\n",
        "    basic_loss = pos_dist-neg_dist+alpha\n",
        "    loss = K.maximum(basic_loss,0.0)\n",
        "    return loss"
      ]
    },
    {
      "cell_type": "code",
      "execution_count": 9,
      "id": "90747622",
      "metadata": {
        "id": "90747622"
      },
      "outputs": [],
      "source": [
        "def accuracy(y_true, y_pred):\n",
        "    results = (y_pred >= 0.5).astype(int).squeeze()\n",
        "    return np.mean([y_true == results])"
      ]
    },
    {
      "cell_type": "code",
      "execution_count": 10,
      "id": "0237cee6",
      "metadata": {
        "id": "0237cee6"
      },
      "outputs": [],
      "source": [
        "huburl = \"https://tfhub.dev/google/universal-sentence-encoder/4\" \n",
        "fine_tuned_module_object = hub.load(huburl)"
      ]
    },
    {
      "cell_type": "code",
      "execution_count": 47,
      "id": "8010b51c",
      "metadata": {
        "id": "8010b51c"
      },
      "outputs": [],
      "source": [
        "def encoder1(name):\n",
        "    inputs = Input(shape=(), dtype=tf.string)\n",
        "\n",
        "    shared_embedding_layer = hub.KerasLayer(fine_tuned_module_object, trainable=True, name=name)\n",
        "    embedding_output= shared_embedding_layer(inputs)\n",
        "    a = tfl.Dense(128, activation=\"linear\", kernel_regularizer=l2(1e-3))(embedding_output)\n",
        "    a = tfl.BatchNormalization()(a)\n",
        "    a = tfl.Activation('relu')(a)\n",
        "    a = tfl.Dense(64, activation=\"linear\", kernel_regularizer=l2(1e-3))(a)\n",
        "    a = tfl.BatchNormalization()(a)\n",
        "    a = tfl.Activation('relu')(a)\n",
        "    outputs = tfl.Dense(32, activation=\"linear\", kernel_regularizer=l2(1e-3))(a)\n",
        "    # outputs = tfl.Lambda(lambda x: K.l2_normalize(x,axis=-1))(a)\n",
        "    # a = tfl.BatchNormalization()(a)\n",
        "    # outputs = tfl.Activation('relu')(a)\n",
        "    \n",
        "    model = Model(inputs, outputs)\n",
        "    return model\n",
        "\n",
        "def encoder2(name):\n",
        "    inputs = Input(shape=(), dtype=tf.string)\n",
        "\n",
        "    shared_embedding_layer = hub.KerasLayer(fine_tuned_module_object, trainable=True, name=name)\n",
        "    embedding_output= shared_embedding_layer(inputs)\n",
        "    a = tfl.Dense(64, activation=\"linear\", kernel_regularizer=l2(1e-3))(embedding_output)\n",
        "    a = tfl.BatchNormalization()(a)\n",
        "    a = tfl.Activation('relu')(a)\n",
        "    outputs = tfl.Dense(32, activation=\"linear\", kernel_regularizer=l2(1e-3))(a)\n",
        "    # outputs = tfl.Lambda(lambda x: K.l2_normalize(x,axis=-1))(a)\n",
        "    # a = tfl.BatchNormalization()(a)\n",
        "    # outputs = tfl.Activation('relu')(a)\n",
        "    \n",
        "    model = Model(inputs, outputs)\n",
        "    return model"
      ]
    },
    {
      "cell_type": "code",
      "execution_count": 48,
      "id": "05b1e776",
      "metadata": {
        "id": "05b1e776"
      },
      "outputs": [],
      "source": [
        "def get_model():\n",
        "    #textEncoder\n",
        "    inputText = Input(shape=(), dtype=tf.string)\n",
        "    textModel = encoder1(\"textBertEncoder\")\n",
        "    text_embedd = textModel(inputText)\n",
        "\n",
        "    #reasonEncoder\n",
        "    reasonModel = encoder2(\"reasonBertEncoder\")\n",
        "\n",
        "    inputReason = Input(shape=(), dtype=tf.string)\n",
        "    reason_embedd = reasonModel(inputReason)\n",
        "\n",
        "    #nonReasonEncoder\n",
        "    inputNotReason = Input(shape=(), dtype=tf.string)\n",
        "    nonreason_embedd = reasonModel(inputNotReason)\n",
        "\n",
        "    loss = tfl.Lambda(triplet_loss)([text_embedd, reason_embedd, nonreason_embedd])\n",
        "\n",
        "    model = Model(inputs = [inputText, inputReason, inputNotReason], outputs = [loss], name=\"bertModel\")\n",
        "    return model, textModel, reasonModel"
      ]
    },
    {
      "cell_type": "code",
      "execution_count": 49,
      "id": "aa8fbcab",
      "metadata": {
        "id": "aa8fbcab"
      },
      "outputs": [],
      "source": [
        "model, textModel, reasonModel = get_model()"
      ]
    },
    {
      "cell_type": "code",
      "execution_count": 50,
      "id": "5f2012db",
      "metadata": {
        "id": "5f2012db",
        "colab": {
          "base_uri": "https://localhost:8080/"
        },
        "outputId": "feadc305-cb19-4dad-87d1-c66cbe4e9d03"
      },
      "outputs": [
        {
          "output_type": "stream",
          "name": "stdout",
          "text": [
            "Model: \"bertModel\"\n",
            "__________________________________________________________________________________________________\n",
            " Layer (type)                   Output Shape         Param #     Connected to                     \n",
            "==================================================================================================\n",
            " input_24 (InputLayer)          [(None,)]            0           []                               \n",
            "                                                                                                  \n",
            " input_27 (InputLayer)          [(None,)]            0           []                               \n",
            "                                                                                                  \n",
            " input_28 (InputLayer)          [(None,)]            0           []                               \n",
            "                                                                                                  \n",
            " model_6 (Functional)           (None, 32)           256874592   ['input_24[0][0]']               \n",
            "                                                                                                  \n",
            " model_7 (Functional)           (None, 32)           256832992   ['input_27[0][0]',               \n",
            "                                                                  'input_28[0][0]']               \n",
            "                                                                                                  \n",
            " lambda_5 (Lambda)              (None,)              0           ['model_6[0][0]',                \n",
            "                                                                  'model_7[0][0]',                \n",
            "                                                                  'model_7[1][0]']                \n",
            "                                                                                                  \n",
            "==================================================================================================\n",
            "Total params: 256,909,760\n",
            "Trainable params: 256,909,248\n",
            "Non-trainable params: 512\n",
            "__________________________________________________________________________________________________\n"
          ]
        }
      ],
      "source": [
        "model.summary()"
      ]
    },
    {
      "cell_type": "code",
      "execution_count": 51,
      "id": "1f08cb06",
      "metadata": {
        "id": "1f08cb06"
      },
      "outputs": [],
      "source": [
        "model.compile(optimizer=\"adam\", loss = identity_loss)"
      ]
    },
    {
      "cell_type": "code",
      "source": [
        "eval_df = df_test[df_test['label'] == 1]"
      ],
      "metadata": {
        "id": "tHDpDqPAzb5I"
      },
      "id": "tHDpDqPAzb5I",
      "execution_count": 52,
      "outputs": []
    },
    {
      "cell_type": "code",
      "execution_count": 53,
      "id": "e31e0c4e",
      "metadata": {
        "id": "e31e0c4e",
        "colab": {
          "base_uri": "https://localhost:8080/"
        },
        "outputId": "df34626b-ec2a-4cf5-b09a-52811d5d0343"
      },
      "outputs": [
        {
          "output_type": "stream",
          "name": "stdout",
          "text": [
            "Epoch 1/30\n",
            "50/50 [==============================] - 18s 224ms/step - loss: 0.8133 - val_loss: 0.6659\n",
            "Epoch 2/30\n",
            "50/50 [==============================] - 10s 194ms/step - loss: 0.5302 - val_loss: 0.6287\n",
            "Epoch 3/30\n",
            "50/50 [==============================] - 10s 195ms/step - loss: 0.5044 - val_loss: 0.5885\n",
            "Epoch 4/30\n",
            "50/50 [==============================] - 11s 220ms/step - loss: 0.4747 - val_loss: 0.6375\n",
            "Epoch 5/30\n",
            "50/50 [==============================] - 10s 202ms/step - loss: 0.4581 - val_loss: 0.8255\n",
            "Epoch 6/30\n",
            "50/50 [==============================] - 10s 194ms/step - loss: 0.4291 - val_loss: 1.0405\n",
            "Epoch 7/30\n",
            "50/50 [==============================] - 10s 195ms/step - loss: 0.4154 - val_loss: 1.3647\n",
            "Epoch 8/30\n",
            "50/50 [==============================] - 10s 196ms/step - loss: 0.4029 - val_loss: 1.1746\n",
            "Epoch 9/30\n",
            "50/50 [==============================] - 10s 195ms/step - loss: 0.3902 - val_loss: 1.1221\n",
            "Epoch 10/30\n",
            "50/50 [==============================] - 10s 204ms/step - loss: 0.3784 - val_loss: 0.8561\n",
            "Epoch 11/30\n",
            "50/50 [==============================] - 10s 192ms/step - loss: 0.3510 - val_loss: 0.8155\n",
            "Epoch 12/30\n",
            "50/50 [==============================] - 10s 196ms/step - loss: 0.3477 - val_loss: 0.9201\n",
            "Epoch 13/30\n",
            "50/50 [==============================] - 10s 195ms/step - loss: 0.3296 - val_loss: 0.7508\n",
            "Epoch 14/30\n",
            "50/50 [==============================] - 10s 195ms/step - loss: 0.3215 - val_loss: 0.5558\n",
            "Epoch 15/30\n",
            "50/50 [==============================] - 10s 195ms/step - loss: 0.3150 - val_loss: 0.7445\n",
            "Epoch 16/30\n",
            "50/50 [==============================] - 10s 196ms/step - loss: 0.3028 - val_loss: 0.9366\n",
            "Epoch 17/30\n",
            "50/50 [==============================] - 11s 225ms/step - loss: 0.2907 - val_loss: 0.6436\n",
            "Epoch 18/30\n",
            "50/50 [==============================] - 10s 208ms/step - loss: 0.2837 - val_loss: 0.5194\n",
            "Epoch 19/30\n",
            "50/50 [==============================] - 10s 193ms/step - loss: 0.2689 - val_loss: 0.8473\n",
            "Epoch 20/30\n",
            "50/50 [==============================] - 10s 195ms/step - loss: 0.2723 - val_loss: 0.8197\n",
            "Epoch 21/30\n",
            "50/50 [==============================] - 10s 196ms/step - loss: 0.2594 - val_loss: 0.6017\n",
            "Epoch 22/30\n",
            "50/50 [==============================] - 10s 194ms/step - loss: 0.2493 - val_loss: 0.4709\n",
            "Epoch 23/30\n",
            "50/50 [==============================] - 10s 194ms/step - loss: 0.2403 - val_loss: 0.4378\n",
            "Epoch 24/30\n",
            "50/50 [==============================] - 10s 195ms/step - loss: 0.2284 - val_loss: 0.4733\n",
            "Epoch 25/30\n",
            "50/50 [==============================] - 10s 194ms/step - loss: 0.2224 - val_loss: 0.4633\n",
            "Epoch 26/30\n",
            "50/50 [==============================] - 10s 195ms/step - loss: 0.2152 - val_loss: 0.5133\n",
            "Epoch 27/30\n",
            "50/50 [==============================] - 10s 197ms/step - loss: 0.2093 - val_loss: 0.4311\n",
            "Epoch 28/30\n",
            "50/50 [==============================] - 10s 198ms/step - loss: 0.2002 - val_loss: 0.4101\n",
            "Epoch 29/30\n",
            "50/50 [==============================] - 10s 196ms/step - loss: 0.1900 - val_loss: 0.3683\n",
            "Epoch 30/30\n",
            "50/50 [==============================] - 11s 222ms/step - loss: 0.1849 - val_loss: 0.4014\n"
          ]
        }
      ],
      "source": [
        "loss_history = model.fit(siam_gen([df[\"text\"], df[\"reason\"]], 64), \n",
        "                         validation_data = siam_gen([eval_df[\"text\"].values, eval_df[\"reason\"].values], 64),\n",
        "                         steps_per_epoch=50, validation_steps=10, epochs = 30, \n",
        "                         verbose = True, use_multiprocessing=True)"
      ]
    },
    {
      "cell_type": "code",
      "execution_count": 54,
      "id": "4e5cf29b",
      "metadata": {
        "id": "4e5cf29b"
      },
      "outputs": [],
      "source": [
        "left_input = tf.keras.Input(shape=(), dtype=tf.string)\n",
        "right_input = tf.keras.Input(shape=(), dtype=tf.string)\n",
        "\n",
        "textEmbedding = textModel(left_input)\n",
        "reasonEmbedding = reasonModel(right_input)\n",
        "\n",
        "cosine_similiarity=tf.keras.layers.Dot(axes=-1,normalize=True)([textEmbedding, reasonEmbedding])\n",
        "\n",
        "\n",
        "classifier_model = Model(inputs = [left_input, right_input], outputs = [cosine_similiarity], name=\"classifier_model\")"
      ]
    },
    {
      "cell_type": "code",
      "execution_count": 55,
      "id": "d3245393",
      "metadata": {
        "id": "d3245393",
        "colab": {
          "base_uri": "https://localhost:8080/"
        },
        "outputId": "ddd534cd-ddc2-4381-8552-b4eee2e9b8a1"
      },
      "outputs": [
        {
          "output_type": "stream",
          "name": "stdout",
          "text": [
            "Model: \"classifier_model\"\n",
            "__________________________________________________________________________________________________\n",
            " Layer (type)                   Output Shape         Param #     Connected to                     \n",
            "==================================================================================================\n",
            " input_29 (InputLayer)          [(None,)]            0           []                               \n",
            "                                                                                                  \n",
            " input_30 (InputLayer)          [(None,)]            0           []                               \n",
            "                                                                                                  \n",
            " model_6 (Functional)           (None, 32)           256874592   ['input_29[0][0]']               \n",
            "                                                                                                  \n",
            " model_7 (Functional)           (None, 32)           256832992   ['input_30[0][0]']               \n",
            "                                                                                                  \n",
            " dot_2 (Dot)                    (None, 1)            0           ['model_6[1][0]',                \n",
            "                                                                  'model_7[2][0]']                \n",
            "                                                                                                  \n",
            "==================================================================================================\n",
            "Total params: 256,909,760\n",
            "Trainable params: 256,909,248\n",
            "Non-trainable params: 512\n",
            "__________________________________________________________________________________________________\n"
          ]
        }
      ],
      "source": [
        "classifier_model.summary()"
      ]
    },
    {
      "cell_type": "code",
      "execution_count": 56,
      "id": "b0dd41b8",
      "metadata": {
        "id": "b0dd41b8",
        "colab": {
          "base_uri": "https://localhost:8080/"
        },
        "outputId": "c02eb064-28da-4b08-91e4-14514ef6a0cd"
      },
      "outputs": [
        {
          "output_type": "execute_result",
          "data": {
            "text/plain": [
              "0.9044153323629306"
            ]
          },
          "metadata": {},
          "execution_count": 56
        }
      ],
      "source": [
        "y_preds = classifier_model.predict([df['text'], df['reason']])\n",
        "accuracy(df[\"label\"], y_preds)"
      ]
    },
    {
      "cell_type": "code",
      "execution_count": 57,
      "id": "d1fed3c5",
      "metadata": {
        "id": "d1fed3c5",
        "colab": {
          "base_uri": "https://localhost:8080/"
        },
        "outputId": "60a2923a-8d46-4cbd-b074-7cecfdd2fd6f"
      },
      "outputs": [
        {
          "output_type": "execute_result",
          "data": {
            "text/plain": [
              "0.5528888888888889"
            ]
          },
          "metadata": {},
          "execution_count": 57
        }
      ],
      "source": [
        "y_preds = classifier_model.predict([df_test['text'], df_test['reason']])\n",
        "accuracy(df_test[\"label\"], y_preds)"
      ]
    },
    {
      "cell_type": "code",
      "execution_count": null,
      "id": "816cf323",
      "metadata": {
        "id": "816cf323"
      },
      "outputs": [],
      "source": [
        ""
      ]
    },
    {
      "cell_type": "code",
      "execution_count": null,
      "id": "2e3e2d20",
      "metadata": {
        "id": "2e3e2d20"
      },
      "outputs": [],
      "source": [
        ""
      ]
    },
    {
      "cell_type": "code",
      "execution_count": null,
      "id": "65d02e67",
      "metadata": {
        "id": "65d02e67"
      },
      "outputs": [],
      "source": [
        ""
      ]
    },
    {
      "cell_type": "code",
      "execution_count": null,
      "id": "2e26d4c5",
      "metadata": {
        "id": "2e26d4c5"
      },
      "outputs": [],
      "source": [
        ""
      ]
    }
  ],
  "metadata": {
    "kernelspec": {
      "display_name": "mlAsgmt",
      "language": "python",
      "name": "mlasgmt"
    },
    "language_info": {
      "codemirror_mode": {
        "name": "ipython",
        "version": 3
      },
      "file_extension": ".py",
      "mimetype": "text/x-python",
      "name": "python",
      "nbconvert_exporter": "python",
      "pygments_lexer": "ipython3",
      "version": "3.7.9"
    },
    "colab": {
      "name": "useTripleLoss .ipynb",
      "provenance": []
    },
    "accelerator": "GPU",
    "gpuClass": "standard"
  },
  "nbformat": 4,
  "nbformat_minor": 5
}